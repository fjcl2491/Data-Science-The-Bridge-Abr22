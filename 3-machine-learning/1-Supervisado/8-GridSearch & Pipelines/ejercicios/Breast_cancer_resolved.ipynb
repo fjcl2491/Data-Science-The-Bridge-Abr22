{
 "cells": [
  {
   "cell_type": "code",
   "execution_count": 14,
   "metadata": {},
   "outputs": [],
   "source": [
    "#! pip install plotly"
   ]
  },
  {
   "cell_type": "markdown",
   "metadata": {
    "colab_type": "text",
    "id": "mHn7-mEg__Op"
   },
   "source": [
    "## Ejercicio breast cancer de sklearn\n",
    "1. Carga el dataset [breast_cancer de `sklearn`](https://scikit-learn.org/stable/modules/generated/sklearn.datasets.load_breast_cancer.html)\n",
    "2. Limpia los datos si es necesario\n",
    "3. Dibuja con plotly los gráficos que creas necesarios para entender los datos.\n",
    "4. Utiliza los métodos de clasificación vistos hasta ahora para clasificar el target de los datos, ¿cuál da mejores resultados? \n",
    "5. Intenta superarte en el score cambiando las features de los algoritmos."
   ]
  },
  {
   "cell_type": "code",
   "execution_count": 24,
   "metadata": {
    "colab": {
     "base_uri": "https://localhost:8080/",
     "height": 72
    },
    "colab_type": "code",
    "executionInfo": {
     "elapsed": 2942,
     "status": "ok",
     "timestamp": 1600160561693,
     "user": {
      "displayName": "Clara Piniella",
      "photoUrl": "https://lh3.googleusercontent.com/a-/AOh14GjZPvtfXzLnQ9Q1a_2oR-Aa6UCX0_HyTfsCraMd=s64",
      "userId": "06217688725952462825"
     },
     "user_tz": -120
    },
    "id": "trrbrcXx__Ov",
    "outputId": "b19676c4-6a3a-49ac-d22f-7ea24747b6ba"
   },
   "outputs": [],
   "source": [
    "import pandas as pd\n",
    "import numpy as np\n",
    "import seaborn as sns\n",
    "import pickle\n",
    "\n",
    "import plotly.offline as py\n",
    "import plotly.graph_objs as go\n",
    "import matplotlib.pyplot as plt\n",
    "\n",
    "from sklearn.model_selection import train_test_split\n",
    "from sklearn import datasets\n",
    "from sklearn.metrics import classification_report\n",
    "from sklearn.svm import SVC\n",
    "from sklearn.linear_model import LogisticRegression\n",
    "from sklearn.neighbors import KNeighborsClassifier\n",
    "\n",
    "from sklearn.model_selection import GridSearchCV\n",
    "from sklearn.preprocessing import StandardScaler\n",
    "from sklearn.pipeline import Pipeline\n",
    "from sklearn.model_selection import RepeatedKFold"
   ]
  },
  {
   "cell_type": "code",
   "execution_count": 16,
   "metadata": {
    "colab": {},
    "colab_type": "code",
    "executionInfo": {
     "elapsed": 2936,
     "status": "ok",
     "timestamp": 1600160561697,
     "user": {
      "displayName": "Clara Piniella",
      "photoUrl": "https://lh3.googleusercontent.com/a-/AOh14GjZPvtfXzLnQ9Q1a_2oR-Aa6UCX0_HyTfsCraMd=s64",
      "userId": "06217688725952462825"
     },
     "user_tz": -120
    },
    "id": "kcHxrbvP__Oy"
   },
   "outputs": [],
   "source": [
    "cancer = datasets.load_breast_cancer()"
   ]
  },
  {
   "cell_type": "code",
   "execution_count": 17,
   "metadata": {
    "colab": {
     "base_uri": "https://localhost:8080/",
     "height": 191
    },
    "colab_type": "code",
    "executionInfo": {
     "elapsed": 2928,
     "status": "ok",
     "timestamp": 1600160561700,
     "user": {
      "displayName": "Clara Piniella",
      "photoUrl": "https://lh3.googleusercontent.com/a-/AOh14GjZPvtfXzLnQ9Q1a_2oR-Aa6UCX0_HyTfsCraMd=s64",
      "userId": "06217688725952462825"
     },
     "user_tz": -120
    },
    "id": "7xkWEWX9__O1",
    "outputId": "639420c5-383a-4b59-fa42-d4640f72c394"
   },
   "outputs": [
    {
     "name": "stdout",
     "output_type": "stream",
     "text": [
      "Features:  ['mean radius' 'mean texture' 'mean perimeter' 'mean area'\n",
      " 'mean smoothness' 'mean compactness' 'mean concavity'\n",
      " 'mean concave points' 'mean symmetry' 'mean fractal dimension'\n",
      " 'radius error' 'texture error' 'perimeter error' 'area error'\n",
      " 'smoothness error' 'compactness error' 'concavity error'\n",
      " 'concave points error' 'symmetry error' 'fractal dimension error'\n",
      " 'worst radius' 'worst texture' 'worst perimeter' 'worst area'\n",
      " 'worst smoothness' 'worst compactness' 'worst concavity'\n",
      " 'worst concave points' 'worst symmetry' 'worst fractal dimension']\n",
      "Labels:  ['malignant' 'benign']\n"
     ]
    }
   ],
   "source": [
    "print(\"Features: \", cancer.feature_names)\n",
    "\n",
    "print(\"Labels: \", cancer.target_names)"
   ]
  },
  {
   "cell_type": "code",
   "execution_count": 18,
   "metadata": {
    "colab": {},
    "colab_type": "code",
    "executionInfo": {
     "elapsed": 2926,
     "status": "ok",
     "timestamp": 1600160561702,
     "user": {
      "displayName": "Clara Piniella",
      "photoUrl": "https://lh3.googleusercontent.com/a-/AOh14GjZPvtfXzLnQ9Q1a_2oR-Aa6UCX0_HyTfsCraMd=s64",
      "userId": "06217688725952462825"
     },
     "user_tz": -120
    },
    "id": "XGsqb_-m__O4"
   },
   "outputs": [],
   "source": [
    "# print the cancer labels (0:malignant, 1:benign)\n",
    "# print(cancer.target)"
   ]
  },
  {
   "cell_type": "code",
   "execution_count": 19,
   "metadata": {
    "colab": {
     "base_uri": "https://localhost:8080/",
     "height": 1000
    },
    "colab_type": "code",
    "executionInfo": {
     "elapsed": 2921,
     "status": "ok",
     "timestamp": 1600160561704,
     "user": {
      "displayName": "Clara Piniella",
      "photoUrl": "https://lh3.googleusercontent.com/a-/AOh14GjZPvtfXzLnQ9Q1a_2oR-Aa6UCX0_HyTfsCraMd=s64",
      "userId": "06217688725952462825"
     },
     "user_tz": -120
    },
    "id": "OZuFqv9R__O8",
    "outputId": "48dcb35d-a3b1-4003-eb51-5b7040d7c5d0"
   },
   "outputs": [
    {
     "name": "stdout",
     "output_type": "stream",
     "text": [
      ".. _breast_cancer_dataset:\n",
      "\n",
      "Breast cancer wisconsin (diagnostic) dataset\n",
      "--------------------------------------------\n",
      "\n",
      "**Data Set Characteristics:**\n",
      "\n",
      "    :Number of Instances: 569\n",
      "\n",
      "    :Number of Attributes: 30 numeric, predictive attributes and the class\n",
      "\n",
      "    :Attribute Information:\n",
      "        - radius (mean of distances from center to points on the perimeter)\n",
      "        - texture (standard deviation of gray-scale values)\n",
      "        - perimeter\n",
      "        - area\n",
      "        - smoothness (local variation in radius lengths)\n",
      "        - compactness (perimeter^2 / area - 1.0)\n",
      "        - concavity (severity of concave portions of the contour)\n",
      "        - concave points (number of concave portions of the contour)\n",
      "        - symmetry\n",
      "        - fractal dimension (\"coastline approximation\" - 1)\n",
      "\n",
      "        The mean, standard error, and \"worst\" or largest (mean of the three\n",
      "        worst/largest values) of these features were computed for each image,\n",
      "        resulting in 30 features.  For instance, field 0 is Mean Radius, field\n",
      "        10 is Radius SE, field 20 is Worst Radius.\n",
      "\n",
      "        - class:\n",
      "                - WDBC-Malignant\n",
      "                - WDBC-Benign\n",
      "\n",
      "    :Summary Statistics:\n",
      "\n",
      "    ===================================== ====== ======\n",
      "                                           Min    Max\n",
      "    ===================================== ====== ======\n",
      "    radius (mean):                        6.981  28.11\n",
      "    texture (mean):                       9.71   39.28\n",
      "    perimeter (mean):                     43.79  188.5\n",
      "    area (mean):                          143.5  2501.0\n",
      "    smoothness (mean):                    0.053  0.163\n",
      "    compactness (mean):                   0.019  0.345\n",
      "    concavity (mean):                     0.0    0.427\n",
      "    concave points (mean):                0.0    0.201\n",
      "    symmetry (mean):                      0.106  0.304\n",
      "    fractal dimension (mean):             0.05   0.097\n",
      "    radius (standard error):              0.112  2.873\n",
      "    texture (standard error):             0.36   4.885\n",
      "    perimeter (standard error):           0.757  21.98\n",
      "    area (standard error):                6.802  542.2\n",
      "    smoothness (standard error):          0.002  0.031\n",
      "    compactness (standard error):         0.002  0.135\n",
      "    concavity (standard error):           0.0    0.396\n",
      "    concave points (standard error):      0.0    0.053\n",
      "    symmetry (standard error):            0.008  0.079\n",
      "    fractal dimension (standard error):   0.001  0.03\n",
      "    radius (worst):                       7.93   36.04\n",
      "    texture (worst):                      12.02  49.54\n",
      "    perimeter (worst):                    50.41  251.2\n",
      "    area (worst):                         185.2  4254.0\n",
      "    smoothness (worst):                   0.071  0.223\n",
      "    compactness (worst):                  0.027  1.058\n",
      "    concavity (worst):                    0.0    1.252\n",
      "    concave points (worst):               0.0    0.291\n",
      "    symmetry (worst):                     0.156  0.664\n",
      "    fractal dimension (worst):            0.055  0.208\n",
      "    ===================================== ====== ======\n",
      "\n",
      "    :Missing Attribute Values: None\n",
      "\n",
      "    :Class Distribution: 212 - Malignant, 357 - Benign\n",
      "\n",
      "    :Creator:  Dr. William H. Wolberg, W. Nick Street, Olvi L. Mangasarian\n",
      "\n",
      "    :Donor: Nick Street\n",
      "\n",
      "    :Date: November, 1995\n",
      "\n",
      "This is a copy of UCI ML Breast Cancer Wisconsin (Diagnostic) datasets.\n",
      "https://goo.gl/U2Uwz2\n",
      "\n",
      "Features are computed from a digitized image of a fine needle\n",
      "aspirate (FNA) of a breast mass.  They describe\n",
      "characteristics of the cell nuclei present in the image.\n",
      "\n",
      "Separating plane described above was obtained using\n",
      "Multisurface Method-Tree (MSM-T) [K. P. Bennett, \"Decision Tree\n",
      "Construction Via Linear Programming.\" Proceedings of the 4th\n",
      "Midwest Artificial Intelligence and Cognitive Science Society,\n",
      "pp. 97-101, 1992], a classification method which uses linear\n",
      "programming to construct a decision tree.  Relevant features\n",
      "were selected using an exhaustive search in the space of 1-4\n",
      "features and 1-3 separating planes.\n",
      "\n",
      "The actual linear program used to obtain the separating plane\n",
      "in the 3-dimensional space is that described in:\n",
      "[K. P. Bennett and O. L. Mangasarian: \"Robust Linear\n",
      "Programming Discrimination of Two Linearly Inseparable Sets\",\n",
      "Optimization Methods and Software 1, 1992, 23-34].\n",
      "\n",
      "This database is also available through the UW CS ftp server:\n",
      "\n",
      "ftp ftp.cs.wisc.edu\n",
      "cd math-prog/cpo-dataset/machine-learn/WDBC/\n",
      "\n",
      ".. topic:: References\n",
      "\n",
      "   - W.N. Street, W.H. Wolberg and O.L. Mangasarian. Nuclear feature extraction \n",
      "     for breast tumor diagnosis. IS&T/SPIE 1993 International Symposium on \n",
      "     Electronic Imaging: Science and Technology, volume 1905, pages 861-870,\n",
      "     San Jose, CA, 1993.\n",
      "   - O.L. Mangasarian, W.N. Street and W.H. Wolberg. Breast cancer diagnosis and \n",
      "     prognosis via linear programming. Operations Research, 43(4), pages 570-577, \n",
      "     July-August 1995.\n",
      "   - W.H. Wolberg, W.N. Street, and O.L. Mangasarian. Machine learning techniques\n",
      "     to diagnose breast cancer from fine-needle aspirates. Cancer Letters 77 (1994) \n",
      "     163-171.\n"
     ]
    }
   ],
   "source": [
    "print(cancer['DESCR'])"
   ]
  },
  {
   "cell_type": "code",
   "execution_count": 20,
   "metadata": {
    "colab": {
     "base_uri": "https://localhost:8080/",
     "height": 35
    },
    "colab_type": "code",
    "executionInfo": {
     "elapsed": 2917,
     "status": "ok",
     "timestamp": 1600160561709,
     "user": {
      "displayName": "Clara Piniella",
      "photoUrl": "https://lh3.googleusercontent.com/a-/AOh14GjZPvtfXzLnQ9Q1a_2oR-Aa6UCX0_HyTfsCraMd=s64",
      "userId": "06217688725952462825"
     },
     "user_tz": -120
    },
    "id": "uNLjOEvz__O_",
    "outputId": "7b42a7eb-388d-44cb-c737-61250ad9235f"
   },
   "outputs": [
    {
     "data": {
      "text/plain": [
       "dict_keys(['data', 'target', 'frame', 'target_names', 'DESCR', 'feature_names', 'filename', 'data_module'])"
      ]
     },
     "execution_count": 20,
     "metadata": {},
     "output_type": "execute_result"
    }
   ],
   "source": [
    "cancer.keys()"
   ]
  },
  {
   "cell_type": "code",
   "execution_count": 21,
   "metadata": {
    "colab": {},
    "colab_type": "code",
    "executionInfo": {
     "elapsed": 2917,
     "status": "ok",
     "timestamp": 1600160561712,
     "user": {
      "displayName": "Clara Piniella",
      "photoUrl": "https://lh3.googleusercontent.com/a-/AOh14GjZPvtfXzLnQ9Q1a_2oR-Aa6UCX0_HyTfsCraMd=s64",
      "userId": "06217688725952462825"
     },
     "user_tz": -120
    },
    "id": "zru_BDKs__PD"
   },
   "outputs": [],
   "source": [
    "cancer_df = pd.DataFrame(data= np.c_[cancer.data, cancer.target],\n",
    "                     columns= list(cancer.feature_names) + ['target'] )"
   ]
  },
  {
   "cell_type": "code",
   "execution_count": 22,
   "metadata": {
    "colab": {
     "base_uri": "https://localhost:8080/",
     "height": 676
    },
    "colab_type": "code",
    "executionInfo": {
     "elapsed": 2911,
     "status": "ok",
     "timestamp": 1600160561714,
     "user": {
      "displayName": "Clara Piniella",
      "photoUrl": "https://lh3.googleusercontent.com/a-/AOh14GjZPvtfXzLnQ9Q1a_2oR-Aa6UCX0_HyTfsCraMd=s64",
      "userId": "06217688725952462825"
     },
     "user_tz": -120
    },
    "id": "Vqq25BI9__PF",
    "outputId": "b96a2721-8d85-4ac9-e544-3044f2995958"
   },
   "outputs": [
    {
     "name": "stdout",
     "output_type": "stream",
     "text": [
      "<class 'pandas.core.frame.DataFrame'>\n",
      "RangeIndex: 569 entries, 0 to 568\n",
      "Data columns (total 31 columns):\n",
      " #   Column                   Non-Null Count  Dtype  \n",
      "---  ------                   --------------  -----  \n",
      " 0   mean radius              569 non-null    float64\n",
      " 1   mean texture             569 non-null    float64\n",
      " 2   mean perimeter           569 non-null    float64\n",
      " 3   mean area                569 non-null    float64\n",
      " 4   mean smoothness          569 non-null    float64\n",
      " 5   mean compactness         569 non-null    float64\n",
      " 6   mean concavity           569 non-null    float64\n",
      " 7   mean concave points      569 non-null    float64\n",
      " 8   mean symmetry            569 non-null    float64\n",
      " 9   mean fractal dimension   569 non-null    float64\n",
      " 10  radius error             569 non-null    float64\n",
      " 11  texture error            569 non-null    float64\n",
      " 12  perimeter error          569 non-null    float64\n",
      " 13  area error               569 non-null    float64\n",
      " 14  smoothness error         569 non-null    float64\n",
      " 15  compactness error        569 non-null    float64\n",
      " 16  concavity error          569 non-null    float64\n",
      " 17  concave points error     569 non-null    float64\n",
      " 18  symmetry error           569 non-null    float64\n",
      " 19  fractal dimension error  569 non-null    float64\n",
      " 20  worst radius             569 non-null    float64\n",
      " 21  worst texture            569 non-null    float64\n",
      " 22  worst perimeter          569 non-null    float64\n",
      " 23  worst area               569 non-null    float64\n",
      " 24  worst smoothness         569 non-null    float64\n",
      " 25  worst compactness        569 non-null    float64\n",
      " 26  worst concavity          569 non-null    float64\n",
      " 27  worst concave points     569 non-null    float64\n",
      " 28  worst symmetry           569 non-null    float64\n",
      " 29  worst fractal dimension  569 non-null    float64\n",
      " 30  target                   569 non-null    float64\n",
      "dtypes: float64(31)\n",
      "memory usage: 137.9 KB\n"
     ]
    }
   ],
   "source": [
    "cancer_df.info()"
   ]
  },
  {
   "cell_type": "markdown",
   "metadata": {
    "colab_type": "text",
    "id": "_dgt8aWP__PI"
   },
   "source": [
    "**2. Limpia los datos si es necesario**"
   ]
  },
  {
   "cell_type": "markdown",
   "metadata": {
    "colab_type": "text",
    "id": "nfB3Dg9-__PJ"
   },
   "source": [
    "Estos datos ya han sido tratados y preparados por `sklearn`, no se observan datos nulos, ni duplicados, todos los datos son numéricos y están bien nombrados. No creo que sea necesaria más limpieza.\n",
    "\n",
    "- https://scikit-learn.org/stable/modules/generated/sklearn.datasets.load_breast_cancer.html\n",
    "- https://scikit-learn.org/stable/datasets/index.html#breast-cancer-dataset"
   ]
  },
  {
   "cell_type": "code",
   "execution_count": 29,
   "metadata": {},
   "outputs": [
    {
     "data": {
      "image/png": "[encoded data removed]",
      "text/plain": [
       "<Figure size 1500x2000 with 30 Axes>"
      ]
     },
     "metadata": {},
     "output_type": "display_data"
    }
   ],
   "source": [
    "numerical_features = cancer_df.columns[1:]\n",
    "fig,axes = plt.subplots(5, 6, figsize = (15, 20))\n",
    "fig.subplots_adjust(wspace = 0.1, hspace = 0.3)\n",
    "fig.suptitle('Outlier Analysis using Boxplot', fontsize = 14)\n",
    "axes = axes.ravel()\n",
    "font = {\n",
    "    'family': 'serif',\n",
    "    'color':  'darkred',\n",
    "    'weight': 'normal',\n",
    "    'size': 10, }\n",
    "for i,col in enumerate(numerical_features):\n",
    "    sns.boxplot(cancer_df[col], ax = axes[i])\n",
    "    axes[i].set_title(col, fontdict = font, fontsize = 10)  "
   ]
  },
  {
   "cell_type": "code",
   "execution_count": 31,
   "metadata": {},
   "outputs": [
    {
     "name": "stdout",
     "output_type": "stream",
     "text": [
      "--------------------------- mean texture --------------------------\n",
      "     mean radius  mean texture  mean perimeter  mean area  mean smoothness  \\\n",
      "239        17.46         39.28           113.4      920.6          0.09812   \n",
      "\n",
      "     mean compactness  mean concavity  mean concave points  mean symmetry  \\\n",
      "239            0.1298          0.1417              0.08811         0.1809   \n",
      "\n",
      "     mean fractal dimension  ...  worst texture  worst perimeter  worst area  \\\n",
      "239                 0.05966  ...          44.87            141.2      1408.0   \n",
      "\n",
      "     worst smoothness  worst compactness  worst concavity  \\\n",
      "239            0.1365             0.3735           0.3241   \n",
      "\n",
      "     worst concave points  worst symmetry  worst fractal dimension  target  \n",
      "239                0.2066          0.2853                  0.08496     0.0  \n",
      "\n",
      "[1 rows x 31 columns]\n",
      "\n",
      "\n",
      "--------------------------- mean perimeter --------------------------\n",
      "No Outliers Present\n",
      "\n",
      "\n",
      "--------------------------- mean area --------------------------\n",
      "     mean radius  mean texture  mean perimeter  mean area  mean smoothness  \\\n",
      "82         25.22         24.91           171.5     1878.0           0.1063   \n",
      "180        27.22         21.87           182.1     2250.0           0.1094   \n",
      "212        28.11         18.47           188.5     2499.0           0.1142   \n",
      "352        25.73         17.46           174.2     2010.0           0.1149   \n",
      "461        27.42         26.27           186.9     2501.0           0.1084   \n",
      "\n",
      "     mean compactness  mean concavity  mean concave points  mean symmetry  \\\n",
      "82             0.2665          0.3339               0.1845         0.1829   \n",
      "180            0.1914          0.2871               0.1878         0.1800   \n",
      "212            0.1516          0.3201               0.1595         0.1648   \n",
      "352            0.2363          0.3368               0.1913         0.1956   \n",
      "461            0.1988          0.3635               0.1689         0.2061   \n",
      "\n",
      "     mean fractal dimension  ...  worst texture  worst perimeter  worst area  \\\n",
      "82                  0.06782  ...          33.62            211.7      2562.0   \n",
      "180                 0.05770  ...          32.85            220.8      3216.0   \n",
      "212                 0.05525  ...          18.47            188.5      2499.0   \n",
      "352                 0.06121  ...          23.58            229.3      3234.0   \n",
      "461                 0.05623  ...          31.37            251.2      4254.0   \n",
      "\n",
      "     worst smoothness  worst compactness  worst concavity  \\\n",
      "82             0.1573             0.6076           0.6476   \n",
      "180            0.1472             0.4034           0.5340   \n",
      "212            0.1142             0.1516           0.3201   \n",
      "352            0.1530             0.5937           0.6451   \n",
      "461            0.1357             0.4256           0.6833   \n",
      "\n",
      "     worst concave points  worst symmetry  worst fractal dimension  target  \n",
      "82                 0.2867          0.2355                  0.10510     0.0  \n",
      "180                0.2688          0.2856                  0.08082     0.0  \n",
      "212                0.1595          0.1648                  0.05525     0.0  \n",
      "352                0.2756          0.3690                  0.08815     0.0  \n",
      "461                0.2625          0.2641                  0.07427     0.0  \n",
      "\n",
      "[5 rows x 31 columns]\n",
      "\n",
      "\n",
      "--------------------------- mean smoothness --------------------------\n",
      "     mean radius  mean texture  mean perimeter  mean area  mean smoothness  \\\n",
      "504        9.268         12.87           61.49      248.7           0.1634   \n",
      "\n",
      "     mean compactness  mean concavity  mean concave points  mean symmetry  \\\n",
      "504            0.2239          0.0973              0.05252         0.2378   \n",
      "\n",
      "     mean fractal dimension  ...  worst texture  worst perimeter  worst area  \\\n",
      "504                 0.09502  ...          16.38            69.05       300.2   \n",
      "\n",
      "     worst smoothness  worst compactness  worst concavity  \\\n",
      "504            0.1902             0.3441           0.2099   \n",
      "\n",
      "     worst concave points  worst symmetry  worst fractal dimension  target  \n",
      "504                0.1025          0.3038                   0.1252     1.0  \n",
      "\n",
      "[1 rows x 31 columns]\n",
      "\n",
      "\n",
      "--------------------------- mean compactness --------------------------\n",
      "    mean radius  mean texture  mean perimeter  mean area  mean smoothness  \\\n",
      "78        20.18         23.97           143.7     1245.0           0.1286   \n",
      "\n",
      "    mean compactness  mean concavity  mean concave points  mean symmetry  \\\n",
      "78            0.3454          0.3754               0.1604         0.2906   \n",
      "\n",
      "    mean fractal dimension  ...  worst texture  worst perimeter  worst area  \\\n",
      "78                 0.08142  ...          31.72            170.3      1623.0   \n",
      "\n",
      "    worst smoothness  worst compactness  worst concavity  \\\n",
      "78            0.1639             0.6164           0.7681   \n",
      "\n",
      "    worst concave points  worst symmetry  worst fractal dimension  target  \n",
      "78                0.2508           0.544                  0.09964     0.0  \n",
      "\n",
      "[1 rows x 31 columns]\n",
      "\n",
      "\n",
      "--------------------------- mean concavity --------------------------\n",
      "No Outliers Present\n",
      "\n",
      "\n",
      "--------------------------- mean concave points --------------------------\n",
      "No Outliers Present\n",
      "\n",
      "\n",
      "--------------------------- mean symmetry --------------------------\n",
      "    mean radius  mean texture  mean perimeter  mean area  mean smoothness  \\\n",
      "25        17.14          16.4           116.0      912.7           0.1186   \n",
      "\n",
      "    mean compactness  mean concavity  mean concave points  mean symmetry  \\\n",
      "25            0.2276          0.2229               0.1401          0.304   \n",
      "\n",
      "    mean fractal dimension  ...  worst texture  worst perimeter  worst area  \\\n",
      "25                 0.07413  ...           21.4            152.4      1461.0   \n",
      "\n",
      "    worst smoothness  worst compactness  worst concavity  \\\n",
      "25            0.1545             0.3949           0.3853   \n",
      "\n",
      "    worst concave points  worst symmetry  worst fractal dimension  target  \n",
      "25                 0.255          0.4066                   0.1059     0.0  \n",
      "\n",
      "[1 rows x 31 columns]\n",
      "\n",
      "\n",
      "--------------------------- mean fractal dimension --------------------------\n",
      "     mean radius  mean texture  mean perimeter  mean area  mean smoothness  \\\n",
      "3         11.420         20.38           77.58      386.1           0.1425   \n",
      "152        9.731         15.34           63.78      300.2           0.1072   \n",
      "504        9.268         12.87           61.49      248.7           0.1634   \n",
      "505        9.676         13.14           64.12      272.5           0.1255   \n",
      "\n",
      "     mean compactness  mean concavity  mean concave points  mean symmetry  \\\n",
      "3              0.2839          0.2414              0.10520         0.2597   \n",
      "152            0.1599          0.4108              0.07857         0.2548   \n",
      "504            0.2239          0.0973              0.05252         0.2378   \n",
      "505            0.2204          0.1188              0.07038         0.2057   \n",
      "\n",
      "     mean fractal dimension  ...  worst texture  worst perimeter  worst area  \\\n",
      "3                   0.09744  ...          26.50            98.87       567.7   \n",
      "152                 0.09296  ...          19.49            71.04       380.5   \n",
      "504                 0.09502  ...          16.38            69.05       300.2   \n",
      "505                 0.09575  ...          18.04            69.47       328.1   \n",
      "\n",
      "     worst smoothness  worst compactness  worst concavity  \\\n",
      "3              0.2098             0.8663           0.6869   \n",
      "152            0.1292             0.2772           0.8216   \n",
      "504            0.1902             0.3441           0.2099   \n",
      "505            0.2006             0.3663           0.2913   \n",
      "\n",
      "     worst concave points  worst symmetry  worst fractal dimension  target  \n",
      "3                  0.2575          0.6638                   0.1730     0.0  \n",
      "152                0.1571          0.3108                   0.1259     1.0  \n",
      "504                0.1025          0.3038                   0.1252     1.0  \n",
      "505                0.1075          0.2848                   0.1364     1.0  \n",
      "\n",
      "[4 rows x 31 columns]\n",
      "\n",
      "\n",
      "--------------------------- radius error --------------------------\n",
      "     mean radius  mean texture  mean perimeter  mean area  mean smoothness  \\\n",
      "122        24.25         20.20          166.20     1761.0          0.14470   \n",
      "138        14.95         17.57           96.85      678.1          0.11670   \n",
      "212        28.11         18.47          188.50     2499.0          0.11420   \n",
      "258        15.66         23.20          110.20      773.5          0.11090   \n",
      "417        15.50         21.08          102.90      803.1          0.11200   \n",
      "461        27.42         26.27          186.90     2501.0          0.10840   \n",
      "503        23.09         19.83          152.10     1682.0          0.09342   \n",
      "\n",
      "     mean compactness  mean concavity  mean concave points  mean symmetry  \\\n",
      "122            0.2867          0.4268              0.20120         0.2655   \n",
      "138            0.1305          0.1539              0.08624         0.1957   \n",
      "212            0.1516          0.3201              0.15950         0.1648   \n",
      "258            0.3114          0.3176              0.13770         0.2495   \n",
      "417            0.1571          0.1522              0.08481         0.2085   \n",
      "461            0.1988          0.3635              0.16890         0.2061   \n",
      "503            0.1275          0.1676              0.10030         0.1505   \n",
      "\n",
      "     mean fractal dimension  ...  worst texture  worst perimeter  worst area  \\\n",
      "122                 0.06877  ...          23.99            180.9      2073.0   \n",
      "138                 0.06216  ...          21.43            121.4       971.4   \n",
      "212                 0.05525  ...          18.47            188.5      2499.0   \n",
      "258                 0.08104  ...          31.64            143.7      1226.0   \n",
      "417                 0.06864  ...          27.65            157.1      1748.0   \n",
      "461                 0.05623  ...          31.37            251.2      4254.0   \n",
      "503                 0.05484  ...          23.87            211.5      2782.0   \n",
      "\n",
      "     worst smoothness  worst compactness  worst concavity  \\\n",
      "122            0.1696             0.4244           0.5803   \n",
      "138            0.1411             0.2164           0.3355   \n",
      "212            0.1142             0.1516           0.3201   \n",
      "258            0.1504             0.5172           0.6181   \n",
      "417            0.1517             0.4002           0.4211   \n",
      "461            0.1357             0.4256           0.6833   \n",
      "503            0.1199             0.3625           0.3794   \n",
      "\n",
      "     worst concave points  worst symmetry  worst fractal dimension  target  \n",
      "122                0.2248          0.3222                  0.08009     0.0  \n",
      "138                0.1667          0.3414                  0.07147     0.0  \n",
      "212                0.1595          0.1648                  0.05525     0.0  \n",
      "258                0.2462          0.3277                  0.10190     0.0  \n",
      "417                0.2134          0.3003                  0.10480     0.0  \n",
      "461                0.2625          0.2641                  0.07427     0.0  \n",
      "503                0.2264          0.2908                  0.07277     0.0  \n",
      "\n",
      "[7 rows x 31 columns]\n",
      "\n",
      "\n",
      "--------------------------- texture error --------------------------\n",
      "     mean radius  mean texture  mean perimeter  mean area  mean smoothness  \\\n",
      "12         19.17         24.80          132.40     1123.0          0.09740   \n",
      "192         9.72         18.22           60.73      288.1          0.06950   \n",
      "473        12.27         29.97           77.42      465.4          0.07699   \n",
      "561        11.20         29.37           70.67      386.0          0.07449   \n",
      "\n",
      "     mean compactness  mean concavity  mean concave points  mean symmetry  \\\n",
      "12            0.24580          0.2065               0.1118         0.2397   \n",
      "192           0.02344          0.0000               0.0000         0.1653   \n",
      "473           0.03398          0.0000               0.0000         0.1701   \n",
      "561           0.03558          0.0000               0.0000         0.1060   \n",
      "\n",
      "     mean fractal dimension  ...  worst texture  worst perimeter  worst area  \\\n",
      "12                  0.07800  ...          29.94           151.70      1332.0   \n",
      "192                 0.06447  ...          20.83            62.25       303.8   \n",
      "473                 0.05960  ...          38.05            85.08       558.9   \n",
      "561                 0.05502  ...          38.30            75.19       439.6   \n",
      "\n",
      "     worst smoothness  worst compactness  worst concavity  \\\n",
      "12            0.10370            0.39030           0.3639   \n",
      "192           0.07117            0.02729           0.0000   \n",
      "473           0.09422            0.05213           0.0000   \n",
      "561           0.09267            0.05494           0.0000   \n",
      "\n",
      "     worst concave points  worst symmetry  worst fractal dimension  target  \n",
      "12                 0.1767          0.3176                  0.10230     0.0  \n",
      "192                0.0000          0.1909                  0.06559     1.0  \n",
      "473                0.0000          0.2409                  0.06743     1.0  \n",
      "561                0.0000          0.1566                  0.05905     1.0  \n",
      "\n",
      "[4 rows x 31 columns]\n",
      "\n",
      "\n",
      "--------------------------- perimeter error --------------------------\n",
      "     mean radius  mean texture  mean perimeter  mean area  mean smoothness  \\\n",
      "12         19.17         24.80           132.4     1123.0          0.09740   \n",
      "42         19.07         24.81           128.3     1104.0          0.09081   \n",
      "78         20.18         23.97           143.7     1245.0          0.12860   \n",
      "108        22.27         19.67           152.8     1509.0          0.13260   \n",
      "122        24.25         20.20           166.2     1761.0          0.14470   \n",
      "212        28.11         18.47           188.5     2499.0          0.11420   \n",
      "258        15.66         23.20           110.2      773.5          0.11090   \n",
      "272        21.75         20.99           147.3     1491.0          0.09401   \n",
      "417        15.50         21.08           102.9      803.1          0.11200   \n",
      "461        27.42         26.27           186.9     2501.0          0.10840   \n",
      "503        23.09         19.83           152.1     1682.0          0.09342   \n",
      "563        20.92         25.09           143.0     1347.0          0.10990   \n",
      "\n",
      "     mean compactness  mean concavity  mean concave points  mean symmetry  \\\n",
      "12             0.2458          0.2065              0.11180         0.2397   \n",
      "42             0.2190          0.2107              0.09961         0.2310   \n",
      "78             0.3454          0.3754              0.16040         0.2906   \n",
      "108            0.2768          0.4264              0.18230         0.2556   \n",
      "122            0.2867          0.4268              0.20120         0.2655   \n",
      "212            0.1516          0.3201              0.15950         0.1648   \n",
      "258            0.3114          0.3176              0.13770         0.2495   \n",
      "272            0.1961          0.2195              0.10880         0.1721   \n",
      "417            0.1571          0.1522              0.08481         0.2085   \n",
      "461            0.1988          0.3635              0.16890         0.2061   \n",
      "503            0.1275          0.1676              0.10030         0.1505   \n",
      "563            0.2236          0.3174              0.14740         0.2149   \n",
      "\n",
      "     mean fractal dimension  ...  worst texture  worst perimeter  worst area  \\\n",
      "12                  0.07800  ...          29.94            151.7      1332.0   \n",
      "42                  0.06343  ...          33.17            177.4      1651.0   \n",
      "78                  0.08142  ...          31.72            170.3      1623.0   \n",
      "108                 0.07039  ...          28.01            206.8      2360.0   \n",
      "122                 0.06877  ...          23.99            180.9      2073.0   \n",
      "212                 0.05525  ...          18.47            188.5      2499.0   \n",
      "258                 0.08104  ...          31.64            143.7      1226.0   \n",
      "272                 0.06194  ...          28.18            195.9      2384.0   \n",
      "417                 0.06864  ...          27.65            157.1      1748.0   \n",
      "461                 0.05623  ...          31.37            251.2      4254.0   \n",
      "503                 0.05484  ...          23.87            211.5      2782.0   \n",
      "563                 0.06879  ...          29.41            179.1      1819.0   \n",
      "\n",
      "     worst smoothness  worst compactness  worst concavity  \\\n",
      "12             0.1037             0.3903           0.3639   \n",
      "42             0.1247             0.7444           0.7242   \n",
      "78             0.1639             0.6164           0.7681   \n",
      "108            0.1701             0.6997           0.9608   \n",
      "122            0.1696             0.4244           0.5803   \n",
      "212            0.1142             0.1516           0.3201   \n",
      "258            0.1504             0.5172           0.6181   \n",
      "272            0.1272             0.4725           0.5807   \n",
      "417            0.1517             0.4002           0.4211   \n",
      "461            0.1357             0.4256           0.6833   \n",
      "503            0.1199             0.3625           0.3794   \n",
      "563            0.1407             0.4186           0.6599   \n",
      "\n",
      "     worst concave points  worst symmetry  worst fractal dimension  target  \n",
      "12                 0.1767          0.3176                  0.10230     0.0  \n",
      "42                 0.2493          0.4670                  0.10380     0.0  \n",
      "78                 0.2508          0.5440                  0.09964     0.0  \n",
      "108                0.2910          0.4055                  0.09789     0.0  \n",
      "122                0.2248          0.3222                  0.08009     0.0  \n",
      "212                0.1595          0.1648                  0.05525     0.0  \n",
      "258                0.2462          0.3277                  0.10190     0.0  \n",
      "272                0.1841          0.2833                  0.08858     0.0  \n",
      "417                0.2134          0.3003                  0.10480     0.0  \n",
      "461                0.2625          0.2641                  0.07427     0.0  \n",
      "503                0.2264          0.2908                  0.07277     0.0  \n",
      "563                0.2542          0.2929                  0.09873     0.0  \n",
      "\n",
      "[12 rows x 31 columns]\n",
      "\n",
      "\n",
      "--------------------------- area error --------------------------\n",
      "     mean radius  mean texture  mean perimeter  mean area  mean smoothness  \\\n",
      "0          17.99         10.38           122.8     1001.0          0.11840   \n",
      "77         18.05         16.15           120.2     1006.0          0.10650   \n",
      "108        22.27         19.67           152.8     1509.0          0.13260   \n",
      "122        24.25         20.20           166.2     1761.0          0.14470   \n",
      "180        27.22         21.87           182.1     2250.0          0.10940   \n",
      "212        28.11         18.47           188.5     2499.0          0.11420   \n",
      "236        23.21         26.97           153.5     1670.0          0.09509   \n",
      "250        20.94         23.56           138.9     1364.0          0.10070   \n",
      "258        15.66         23.20           110.2      773.5          0.11090   \n",
      "265        20.73         31.12           135.7     1419.0          0.09469   \n",
      "272        21.75         20.99           147.3     1491.0          0.09401   \n",
      "300        19.53         18.90           129.5     1217.0          0.11500   \n",
      "302        20.09         23.86           134.7     1247.0          0.10800   \n",
      "339        23.51         24.27           155.1     1747.0          0.10690   \n",
      "352        25.73         17.46           174.2     2010.0          0.11490   \n",
      "368        21.71         17.25           140.9     1546.0          0.09384   \n",
      "369        22.01         21.90           147.2     1482.0          0.10630   \n",
      "417        15.50         21.08           102.9      803.1          0.11200   \n",
      "461        27.42         26.27           186.9     2501.0          0.10840   \n",
      "503        23.09         19.83           152.1     1682.0          0.09342   \n",
      "521        24.63         21.60           165.5     1841.0          0.10300   \n",
      "564        21.56         22.39           142.0     1479.0          0.11100   \n",
      "\n",
      "     mean compactness  mean concavity  mean concave points  mean symmetry  \\\n",
      "0             0.27760          0.3001              0.14710         0.2419   \n",
      "77            0.21460          0.1684              0.10800         0.2152   \n",
      "108           0.27680          0.4264              0.18230         0.2556   \n",
      "122           0.28670          0.4268              0.20120         0.2655   \n",
      "180           0.19140          0.2871              0.18780         0.1800   \n",
      "212           0.15160          0.3201              0.15950         0.1648   \n",
      "236           0.16820          0.1950              0.12370         0.1909   \n",
      "250           0.16060          0.2712              0.13100         0.2205   \n",
      "258           0.31140          0.3176              0.13770         0.2495   \n",
      "265           0.11430          0.1367              0.08646         0.1769   \n",
      "272           0.19610          0.2195              0.10880         0.1721   \n",
      "300           0.16420          0.2197              0.10620         0.1792   \n",
      "302           0.18380          0.2283              0.12800         0.2249   \n",
      "339           0.12830          0.2308              0.14100         0.1797   \n",
      "352           0.23630          0.3368              0.19130         0.1956   \n",
      "368           0.08562          0.1168              0.08465         0.1717   \n",
      "369           0.19540          0.2448              0.15010         0.1824   \n",
      "417           0.15710          0.1522              0.08481         0.2085   \n",
      "461           0.19880          0.3635              0.16890         0.2061   \n",
      "503           0.12750          0.1676              0.10030         0.1505   \n",
      "521           0.21060          0.2310              0.14710         0.1991   \n",
      "564           0.11590          0.2439              0.13890         0.1726   \n",
      "\n",
      "     mean fractal dimension  ...  worst texture  worst perimeter  worst area  \\\n",
      "0                   0.07871  ...          17.33            184.6      2019.0   \n",
      "77                  0.06673  ...          18.91            150.1      1610.0   \n",
      "108                 0.07039  ...          28.01            206.8      2360.0   \n",
      "122                 0.06877  ...          23.99            180.9      2073.0   \n",
      "180                 0.05770  ...          32.85            220.8      3216.0   \n",
      "212                 0.05525  ...          18.47            188.5      2499.0   \n",
      "236                 0.06309  ...          34.51            206.0      2944.0   \n",
      "250                 0.05898  ...          27.00            165.3      2010.0   \n",
      "258                 0.08104  ...          31.64            143.7      1226.0   \n",
      "265                 0.05674  ...          47.16            214.0      3432.0   \n",
      "272                 0.06194  ...          28.18            195.9      2384.0   \n",
      "300                 0.06552  ...          26.24            171.1      2053.0   \n",
      "302                 0.07469  ...          29.43            158.8      1696.0   \n",
      "339                 0.05506  ...          30.73            202.4      2906.0   \n",
      "352                 0.06121  ...          23.58            229.3      3234.0   \n",
      "368                 0.05054  ...          26.44            199.5      3143.0   \n",
      "369                 0.06140  ...          25.80            195.0      2227.0   \n",
      "417                 0.06864  ...          27.65            157.1      1748.0   \n",
      "461                 0.05623  ...          31.37            251.2      4254.0   \n",
      "503                 0.05484  ...          23.87            211.5      2782.0   \n",
      "521                 0.06739  ...          26.93            205.7      2642.0   \n",
      "564                 0.05623  ...          26.40            166.1      2027.0   \n",
      "\n",
      "     worst smoothness  worst compactness  worst concavity  \\\n",
      "0              0.1622             0.6656           0.7119   \n",
      "77             0.1478             0.5634           0.3786   \n",
      "108            0.1701             0.6997           0.9608   \n",
      "122            0.1696             0.4244           0.5803   \n",
      "180            0.1472             0.4034           0.5340   \n",
      "212            0.1142             0.1516           0.3201   \n",
      "236            0.1481             0.4126           0.5820   \n",
      "250            0.1211             0.3172           0.6991   \n",
      "258            0.1504             0.5172           0.6181   \n",
      "265            0.1401             0.2644           0.3442   \n",
      "272            0.1272             0.4725           0.5807   \n",
      "300            0.1495             0.4116           0.6121   \n",
      "302            0.1347             0.3391           0.4932   \n",
      "339            0.1515             0.2678           0.4819   \n",
      "352            0.1530             0.5937           0.6451   \n",
      "368            0.1363             0.1628           0.2861   \n",
      "369            0.1294             0.3885           0.4756   \n",
      "417            0.1517             0.4002           0.4211   \n",
      "461            0.1357             0.4256           0.6833   \n",
      "503            0.1199             0.3625           0.3794   \n",
      "521            0.1342             0.4188           0.4658   \n",
      "564            0.1410             0.2113           0.4107   \n",
      "\n",
      "     worst concave points  worst symmetry  worst fractal dimension  target  \n",
      "0                  0.2654          0.4601                  0.11890     0.0  \n",
      "77                 0.2102          0.3751                  0.11080     0.0  \n",
      "108                0.2910          0.4055                  0.09789     0.0  \n",
      "122                0.2248          0.3222                  0.08009     0.0  \n",
      "180                0.2688          0.2856                  0.08082     0.0  \n",
      "212                0.1595          0.1648                  0.05525     0.0  \n",
      "236                0.2593          0.3103                  0.08677     0.0  \n",
      "250                0.2105          0.3126                  0.07849     0.0  \n",
      "258                0.2462          0.3277                  0.10190     0.0  \n",
      "265                0.1659          0.2868                  0.08218     0.0  \n",
      "272                0.1841          0.2833                  0.08858     0.0  \n",
      "300                0.1980          0.2968                  0.09929     0.0  \n",
      "302                0.1923          0.3294                  0.09469     0.0  \n",
      "339                0.2089          0.2593                  0.07738     0.0  \n",
      "352                0.2756          0.3690                  0.08815     0.0  \n",
      "368                0.1820          0.2510                  0.06494     0.0  \n",
      "369                0.2432          0.2741                  0.08574     0.0  \n",
      "417                0.2134          0.3003                  0.10480     0.0  \n",
      "461                0.2625          0.2641                  0.07427     0.0  \n",
      "503                0.2264          0.2908                  0.07277     0.0  \n",
      "521                0.2475          0.3157                  0.09671     0.0  \n",
      "564                0.2216          0.2060                  0.07115     0.0  \n",
      "\n",
      "[22 rows x 31 columns]\n",
      "\n",
      "\n",
      "--------------------------- smoothness error --------------------------\n",
      "     mean radius  mean texture  mean perimeter  mean area  mean smoothness  \\\n",
      "71         8.888         14.64           58.79      244.0          0.09783   \n",
      "116        8.950         15.76           58.74      245.2          0.09462   \n",
      "122       24.250         20.20          166.20     1761.0          0.14470   \n",
      "213       17.420         25.56          114.50      948.0          0.10060   \n",
      "314        8.597         18.60           54.09      221.2          0.10740   \n",
      "345       10.260         14.71           66.20      321.6          0.09882   \n",
      "505        9.676         13.14           64.12      272.5          0.12550   \n",
      "\n",
      "     mean compactness  mean concavity  mean concave points  mean symmetry  \\\n",
      "71            0.15310         0.08606              0.02872         0.1902   \n",
      "116           0.12430         0.09263              0.02308         0.1305   \n",
      "122           0.28670         0.42680              0.20120         0.2655   \n",
      "213           0.11460         0.16820              0.06597         0.1308   \n",
      "314           0.05847         0.00000              0.00000         0.2163   \n",
      "345           0.09159         0.03581              0.02037         0.1633   \n",
      "505           0.22040         0.11880              0.07038         0.2057   \n",
      "\n",
      "     mean fractal dimension  ...  worst texture  worst perimeter  worst area  \\\n",
      "71                  0.08980  ...          15.67            62.56       284.4   \n",
      "116                 0.07163  ...          17.07            63.34       270.0   \n",
      "122                 0.06877  ...          23.99           180.90      2073.0   \n",
      "213                 0.05866  ...          28.07           120.40      1021.0   \n",
      "314                 0.07359  ...          22.44            56.65       240.1   \n",
      "345                 0.07005  ...          19.48            70.89       357.1   \n",
      "505                 0.09575  ...          18.04            69.47       328.1   \n",
      "\n",
      "     worst smoothness  worst compactness  worst concavity  \\\n",
      "71             0.1207            0.24360          0.14340   \n",
      "116            0.1179            0.18790          0.15440   \n",
      "122            0.1696            0.42440          0.58030   \n",
      "213            0.1243            0.17930          0.28030   \n",
      "314            0.1347            0.07767          0.00000   \n",
      "345            0.1360            0.16360          0.07162   \n",
      "505            0.2006            0.36630          0.29130   \n",
      "\n",
      "     worst concave points  worst symmetry  worst fractal dimension  target  \n",
      "71                0.04786          0.2254                  0.10840     1.0  \n",
      "116               0.03846          0.1652                  0.07722     1.0  \n",
      "122               0.22480          0.3222                  0.08009     0.0  \n",
      "213               0.10990          0.1603                  0.06818     0.0  \n",
      "314               0.00000          0.3142                  0.08116     1.0  \n",
      "345               0.04074          0.2434                  0.08488     1.0  \n",
      "505               0.10750          0.2848                  0.13640     1.0  \n",
      "\n",
      "[7 rows x 31 columns]\n",
      "\n",
      "\n",
      "--------------------------- compactness error --------------------------\n",
      "     mean radius  mean texture  mean perimeter  mean area  mean smoothness  \\\n",
      "42        19.070         24.81          128.30     1104.0          0.09081   \n",
      "71         8.888         14.64           58.79      244.0          0.09783   \n",
      "122       24.250         20.20          166.20     1761.0          0.14470   \n",
      "152        9.731         15.34           63.78      300.2          0.10720   \n",
      "190       14.220         23.12           94.37      609.9          0.10750   \n",
      "290       14.410         19.73           96.03      651.0          0.08757   \n",
      "\n",
      "     mean compactness  mean concavity  mean concave points  mean symmetry  \\\n",
      "42             0.2190         0.21070              0.09961         0.2310   \n",
      "71             0.1531         0.08606              0.02872         0.1902   \n",
      "122            0.2867         0.42680              0.20120         0.2655   \n",
      "152            0.1599         0.41080              0.07857         0.2548   \n",
      "190            0.2413         0.19810              0.06618         0.2384   \n",
      "290            0.1676         0.13620              0.06602         0.1714   \n",
      "\n",
      "     mean fractal dimension  ...  worst texture  worst perimeter  worst area  \\\n",
      "42                  0.06343  ...          33.17           177.40      1651.0   \n",
      "71                  0.08980  ...          15.67            62.56       284.4   \n",
      "122                 0.06877  ...          23.99           180.90      2073.0   \n",
      "152                 0.09296  ...          19.49            71.04       380.5   \n",
      "190                 0.07542  ...          37.18           106.40       762.4   \n",
      "290                 0.07192  ...          22.13           101.70       767.3   \n",
      "\n",
      "     worst smoothness  worst compactness  worst concavity  \\\n",
      "42            0.12470             0.7444           0.7242   \n",
      "71            0.12070             0.2436           0.1434   \n",
      "122           0.16960             0.4244           0.5803   \n",
      "152           0.12920             0.2772           0.8216   \n",
      "190           0.15330             0.9327           0.8488   \n",
      "290           0.09983             0.2472           0.2220   \n",
      "\n",
      "     worst concave points  worst symmetry  worst fractal dimension  target  \n",
      "42                0.24930          0.4670                  0.10380     0.0  \n",
      "71                0.04786          0.2254                  0.10840     1.0  \n",
      "122               0.22480          0.3222                  0.08009     0.0  \n",
      "152               0.15710          0.3108                  0.12590     1.0  \n",
      "190               0.17720          0.5166                  0.14460     0.0  \n",
      "290               0.10210          0.2272                  0.08799     1.0  \n",
      "\n",
      "[6 rows x 31 columns]\n",
      "\n",
      "\n",
      "--------------------------- concavity error --------------------------\n",
      "     mean radius  mean texture  mean perimeter  mean area  mean smoothness  \\\n",
      "68         9.029         17.33           58.79      250.5          0.10660   \n",
      "112       14.260         19.65           97.83      629.9          0.07837   \n",
      "122       24.250         20.20          166.20     1761.0          0.14470   \n",
      "152        9.731         15.34           63.78      300.2          0.10720   \n",
      "213       17.420         25.56          114.50      948.0          0.10060   \n",
      "376       10.570         20.22           70.15      338.3          0.09073   \n",
      "\n",
      "     mean compactness  mean concavity  mean concave points  mean symmetry  \\\n",
      "68             0.1413          0.3130              0.04375         0.2111   \n",
      "112            0.2233          0.3003              0.07798         0.1704   \n",
      "122            0.2867          0.4268              0.20120         0.2655   \n",
      "152            0.1599          0.4108              0.07857         0.2548   \n",
      "213            0.1146          0.1682              0.06597         0.1308   \n",
      "376            0.1660          0.2280              0.05941         0.2188   \n",
      "\n",
      "     mean fractal dimension  ...  worst texture  worst perimeter  worst area  \\\n",
      "68                  0.08046  ...          22.65            65.50       324.7   \n",
      "112                 0.07769  ...          23.73           107.00       709.0   \n",
      "122                 0.06877  ...          23.99           180.90      2073.0   \n",
      "152                 0.09296  ...          19.49            71.04       380.5   \n",
      "213                 0.05866  ...          28.07           120.40      1021.0   \n",
      "376                 0.08450  ...          22.82            76.51       351.9   \n",
      "\n",
      "     worst smoothness  worst compactness  worst concavity  \\\n",
      "68            0.14820             0.4365           1.2520   \n",
      "112           0.08949             0.4193           0.6783   \n",
      "122           0.16960             0.4244           0.5803   \n",
      "152           0.12920             0.2772           0.8216   \n",
      "213           0.12430             0.1793           0.2803   \n",
      "376           0.11430             0.3619           0.6030   \n",
      "\n",
      "     worst concave points  worst symmetry  worst fractal dimension  target  \n",
      "68                 0.1750          0.4228                  0.11750     1.0  \n",
      "112                0.1505          0.2398                  0.10820     1.0  \n",
      "122                0.2248          0.3222                  0.08009     0.0  \n",
      "152                0.1571          0.3108                  0.12590     1.0  \n",
      "213                0.1099          0.1603                  0.06818     0.0  \n",
      "376                0.1465          0.2597                  0.12000     1.0  \n",
      "\n",
      "[6 rows x 31 columns]\n",
      "\n",
      "\n",
      "--------------------------- concave points error --------------------------\n",
      "     mean radius  mean texture  mean perimeter  mean area  mean smoothness  \\\n",
      "12        19.170         24.80          132.40     1123.0           0.0974   \n",
      "152        9.731         15.34           63.78      300.2           0.1072   \n",
      "213       17.420         25.56          114.50      948.0           0.1006   \n",
      "\n",
      "     mean compactness  mean concavity  mean concave points  mean symmetry  \\\n",
      "12             0.2458          0.2065              0.11180         0.2397   \n",
      "152            0.1599          0.4108              0.07857         0.2548   \n",
      "213            0.1146          0.1682              0.06597         0.1308   \n",
      "\n",
      "     mean fractal dimension  ...  worst texture  worst perimeter  worst area  \\\n",
      "12                  0.07800  ...          29.94           151.70      1332.0   \n",
      "152                 0.09296  ...          19.49            71.04       380.5   \n",
      "213                 0.05866  ...          28.07           120.40      1021.0   \n",
      "\n",
      "     worst smoothness  worst compactness  worst concavity  \\\n",
      "12             0.1037             0.3903           0.3639   \n",
      "152            0.1292             0.2772           0.8216   \n",
      "213            0.1243             0.1793           0.2803   \n",
      "\n",
      "     worst concave points  worst symmetry  worst fractal dimension  target  \n",
      "12                 0.1767          0.3176                  0.10230     0.0  \n",
      "152                0.1571          0.3108                  0.12590     1.0  \n",
      "213                0.1099          0.1603                  0.06818     0.0  \n",
      "\n",
      "[3 rows x 31 columns]\n",
      "\n",
      "\n",
      "--------------------------- symmetry error --------------------------\n",
      "     mean radius  mean texture  mean perimeter  mean area  mean smoothness  \\\n",
      "3         11.420         20.38           77.58      386.1          0.14250   \n",
      "42        19.070         24.81          128.30     1104.0          0.09081   \n",
      "78        20.180         23.97          143.70     1245.0          0.12860   \n",
      "119       17.950         20.01          114.20      982.0          0.08402   \n",
      "138       14.950         17.57           96.85      678.1          0.11670   \n",
      "146       11.800         16.58           78.99      432.0          0.10910   \n",
      "190       14.220         23.12           94.37      609.9          0.10750   \n",
      "314        8.597         18.60           54.09      221.2          0.10740   \n",
      "351       15.750         19.22          107.10      758.6          0.12430   \n",
      "\n",
      "     mean compactness  mean concavity  mean concave points  mean symmetry  \\\n",
      "3             0.28390         0.24140              0.10520         0.2597   \n",
      "42            0.21900         0.21070              0.09961         0.2310   \n",
      "78            0.34540         0.37540              0.16040         0.2906   \n",
      "119           0.06722         0.07293              0.05596         0.2129   \n",
      "138           0.13050         0.15390              0.08624         0.1957   \n",
      "146           0.17000         0.16590              0.07415         0.2678   \n",
      "190           0.24130         0.19810              0.06618         0.2384   \n",
      "314           0.05847         0.00000              0.00000         0.2163   \n",
      "351           0.23640         0.29140              0.12420         0.2375   \n",
      "\n",
      "     mean fractal dimension  ...  worst texture  worst perimeter  worst area  \\\n",
      "3                   0.09744  ...          26.50            98.87       567.7   \n",
      "42                  0.06343  ...          33.17           177.40      1651.0   \n",
      "78                  0.08142  ...          31.72           170.30      1623.0   \n",
      "119                 0.05025  ...          27.83           129.20      1261.0   \n",
      "138                 0.06216  ...          21.43           121.40       971.4   \n",
      "146                 0.07371  ...          26.38            91.93       591.7   \n",
      "190                 0.07542  ...          37.18           106.40       762.4   \n",
      "314                 0.07359  ...          22.44            56.65       240.1   \n",
      "351                 0.07603  ...          24.17           119.40       915.3   \n",
      "\n",
      "     worst smoothness  worst compactness  worst concavity  \\\n",
      "3              0.2098            0.86630           0.6869   \n",
      "42             0.1247            0.74440           0.7242   \n",
      "78             0.1639            0.61640           0.7681   \n",
      "119            0.1072            0.12020           0.2249   \n",
      "138            0.1411            0.21640           0.3355   \n",
      "146            0.1385            0.40920           0.4504   \n",
      "190            0.1533            0.93270           0.8488   \n",
      "314            0.1347            0.07767           0.0000   \n",
      "351            0.1550            0.50460           0.6872   \n",
      "\n",
      "     worst concave points  worst symmetry  worst fractal dimension  target  \n",
      "3                  0.2575          0.6638                  0.17300     0.0  \n",
      "42                 0.2493          0.4670                  0.10380     0.0  \n",
      "78                 0.2508          0.5440                  0.09964     0.0  \n",
      "119                0.1185          0.4882                  0.06111     0.0  \n",
      "138                0.1667          0.3414                  0.07147     0.0  \n",
      "146                0.1865          0.5774                  0.10300     0.0  \n",
      "190                0.1772          0.5166                  0.14460     0.0  \n",
      "314                0.0000          0.3142                  0.08116     1.0  \n",
      "351                0.2135          0.4245                  0.10500     0.0  \n",
      "\n",
      "[9 rows x 31 columns]\n",
      "\n",
      "\n",
      "--------------------------- fractal dimension error --------------------------\n",
      "     mean radius  mean texture  mean perimeter  mean area  mean smoothness  \\\n",
      "12        19.170         24.80          132.40     1123.0          0.09740   \n",
      "71         8.888         14.64           58.79      244.0          0.09783   \n",
      "112       14.260         19.65           97.83      629.9          0.07837   \n",
      "151        8.219         20.70           53.27      203.9          0.09405   \n",
      "152        9.731         15.34           63.78      300.2          0.10720   \n",
      "176        9.904         18.06           64.60      302.4          0.09699   \n",
      "190       14.220         23.12           94.37      609.9          0.10750   \n",
      "213       17.420         25.56          114.50      948.0          0.10060   \n",
      "290       14.410         19.73           96.03      651.0          0.08757   \n",
      "376       10.570         20.22           70.15      338.3          0.09073   \n",
      "388       11.270         15.50           73.38      392.0          0.08365   \n",
      "\n",
      "     mean compactness  mean concavity  mean concave points  mean symmetry  \\\n",
      "12             0.2458         0.20650              0.11180         0.2397   \n",
      "71             0.1531         0.08606              0.02872         0.1902   \n",
      "112            0.2233         0.30030              0.07798         0.1704   \n",
      "151            0.1305         0.13210              0.02168         0.2222   \n",
      "152            0.1599         0.41080              0.07857         0.2548   \n",
      "176            0.1294         0.13070              0.03716         0.1669   \n",
      "190            0.2413         0.19810              0.06618         0.2384   \n",
      "213            0.1146         0.16820              0.06597         0.1308   \n",
      "290            0.1676         0.13620              0.06602         0.1714   \n",
      "376            0.1660         0.22800              0.05941         0.2188   \n",
      "388            0.1114         0.10070              0.02757         0.1810   \n",
      "\n",
      "     mean fractal dimension  ...  worst texture  worst perimeter  worst area  \\\n",
      "12                  0.07800  ...          29.94           151.70      1332.0   \n",
      "71                  0.08980  ...          15.67            62.56       284.4   \n",
      "112                 0.07769  ...          23.73           107.00       709.0   \n",
      "151                 0.08261  ...          29.72            58.08       249.8   \n",
      "152                 0.09296  ...          19.49            71.04       380.5   \n",
      "176                 0.08116  ...          24.39            73.07       390.2   \n",
      "190                 0.07542  ...          37.18           106.40       762.4   \n",
      "213                 0.05866  ...          28.07           120.40      1021.0   \n",
      "290                 0.07192  ...          22.13           101.70       767.3   \n",
      "376                 0.08450  ...          22.82            76.51       351.9   \n",
      "388                 0.07252  ...          18.93            79.73       450.0   \n",
      "\n",
      "     worst smoothness  worst compactness  worst concavity  \\\n",
      "12            0.10370             0.3903           0.3639   \n",
      "71            0.12070             0.2436           0.1434   \n",
      "112           0.08949             0.4193           0.6783   \n",
      "151           0.16300             0.4310           0.5381   \n",
      "152           0.12920             0.2772           0.8216   \n",
      "176           0.13010             0.2950           0.3486   \n",
      "190           0.15330             0.9327           0.8488   \n",
      "213           0.12430             0.1793           0.2803   \n",
      "290           0.09983             0.2472           0.2220   \n",
      "376           0.11430             0.3619           0.6030   \n",
      "388           0.11020             0.2809           0.3021   \n",
      "\n",
      "     worst concave points  worst symmetry  worst fractal dimension  target  \n",
      "12                0.17670          0.3176                  0.10230     0.0  \n",
      "71                0.04786          0.2254                  0.10840     1.0  \n",
      "112               0.15050          0.2398                  0.10820     1.0  \n",
      "151               0.07879          0.3322                  0.14860     1.0  \n",
      "152               0.15710          0.3108                  0.12590     1.0  \n",
      "176               0.09910          0.2614                  0.11620     1.0  \n",
      "190               0.17720          0.5166                  0.14460     0.0  \n",
      "213               0.10990          0.1603                  0.06818     0.0  \n",
      "290               0.10210          0.2272                  0.08799     1.0  \n",
      "376               0.14650          0.2597                  0.12000     1.0  \n",
      "388               0.08272          0.2157                  0.10430     1.0  \n",
      "\n",
      "[11 rows x 31 columns]\n",
      "\n",
      "\n",
      "--------------------------- worst radius --------------------------\n",
      "No Outliers Present\n",
      "\n",
      "\n",
      "--------------------------- worst texture --------------------------\n",
      "No Outliers Present\n",
      "\n",
      "\n",
      "--------------------------- worst perimeter --------------------------\n",
      "     mean radius  mean texture  mean perimeter  mean area  mean smoothness  \\\n",
      "461        27.42         26.27           186.9     2501.0           0.1084   \n",
      "\n",
      "     mean compactness  mean concavity  mean concave points  mean symmetry  \\\n",
      "461            0.1988          0.3635               0.1689         0.2061   \n",
      "\n",
      "     mean fractal dimension  ...  worst texture  worst perimeter  worst area  \\\n",
      "461                 0.05623  ...          31.37            251.2      4254.0   \n",
      "\n",
      "     worst smoothness  worst compactness  worst concavity  \\\n",
      "461            0.1357             0.4256           0.6833   \n",
      "\n",
      "     worst concave points  worst symmetry  worst fractal dimension  target  \n",
      "461                0.2625          0.2641                  0.07427     0.0  \n",
      "\n",
      "[1 rows x 31 columns]\n",
      "\n",
      "\n",
      "--------------------------- worst area --------------------------\n",
      "     mean radius  mean texture  mean perimeter  mean area  mean smoothness  \\\n",
      "180        27.22         21.87           182.1     2250.0          0.10940   \n",
      "236        23.21         26.97           153.5     1670.0          0.09509   \n",
      "265        20.73         31.12           135.7     1419.0          0.09469   \n",
      "339        23.51         24.27           155.1     1747.0          0.10690   \n",
      "352        25.73         17.46           174.2     2010.0          0.11490   \n",
      "368        21.71         17.25           140.9     1546.0          0.09384   \n",
      "461        27.42         26.27           186.9     2501.0          0.10840   \n",
      "\n",
      "     mean compactness  mean concavity  mean concave points  mean symmetry  \\\n",
      "180           0.19140          0.2871              0.18780         0.1800   \n",
      "236           0.16820          0.1950              0.12370         0.1909   \n",
      "265           0.11430          0.1367              0.08646         0.1769   \n",
      "339           0.12830          0.2308              0.14100         0.1797   \n",
      "352           0.23630          0.3368              0.19130         0.1956   \n",
      "368           0.08562          0.1168              0.08465         0.1717   \n",
      "461           0.19880          0.3635              0.16890         0.2061   \n",
      "\n",
      "     mean fractal dimension  ...  worst texture  worst perimeter  worst area  \\\n",
      "180                 0.05770  ...          32.85            220.8      3216.0   \n",
      "236                 0.06309  ...          34.51            206.0      2944.0   \n",
      "265                 0.05674  ...          47.16            214.0      3432.0   \n",
      "339                 0.05506  ...          30.73            202.4      2906.0   \n",
      "352                 0.06121  ...          23.58            229.3      3234.0   \n",
      "368                 0.05054  ...          26.44            199.5      3143.0   \n",
      "461                 0.05623  ...          31.37            251.2      4254.0   \n",
      "\n",
      "     worst smoothness  worst compactness  worst concavity  \\\n",
      "180            0.1472             0.4034           0.5340   \n",
      "236            0.1481             0.4126           0.5820   \n",
      "265            0.1401             0.2644           0.3442   \n",
      "339            0.1515             0.2678           0.4819   \n",
      "352            0.1530             0.5937           0.6451   \n",
      "368            0.1363             0.1628           0.2861   \n",
      "461            0.1357             0.4256           0.6833   \n",
      "\n",
      "     worst concave points  worst symmetry  worst fractal dimension  target  \n",
      "180                0.2688          0.2856                  0.08082     0.0  \n",
      "236                0.2593          0.3103                  0.08677     0.0  \n",
      "265                0.1659          0.2868                  0.08218     0.0  \n",
      "339                0.2089          0.2593                  0.07738     0.0  \n",
      "352                0.2756          0.3690                  0.08815     0.0  \n",
      "368                0.1820          0.2510                  0.06494     0.0  \n",
      "461                0.2625          0.2641                  0.07427     0.0  \n",
      "\n",
      "[7 rows x 31 columns]\n",
      "\n",
      "\n",
      "--------------------------- worst smoothness --------------------------\n",
      "No Outliers Present\n",
      "\n",
      "\n",
      "--------------------------- worst compactness --------------------------\n",
      "     mean radius  mean texture  mean perimeter  mean area  mean smoothness  \\\n",
      "9          12.46         24.04           83.97      475.9           0.1186   \n",
      "190        14.22         23.12           94.37      609.9           0.1075   \n",
      "379        11.08         18.83           73.30      361.6           0.1216   \n",
      "\n",
      "     mean compactness  mean concavity  mean concave points  mean symmetry  \\\n",
      "9              0.2396          0.2273              0.08543         0.2030   \n",
      "190            0.2413          0.1981              0.06618         0.2384   \n",
      "379            0.2154          0.1689              0.06367         0.2196   \n",
      "\n",
      "     mean fractal dimension  ...  worst texture  worst perimeter  worst area  \\\n",
      "9                   0.08243  ...          40.68            97.65       711.4   \n",
      "190                 0.07542  ...          37.18           106.40       762.4   \n",
      "379                 0.07950  ...          32.82            91.76       508.1   \n",
      "\n",
      "     worst smoothness  worst compactness  worst concavity  \\\n",
      "9              0.1853             1.0580           1.1050   \n",
      "190            0.1533             0.9327           0.8488   \n",
      "379            0.2184             0.9379           0.8402   \n",
      "\n",
      "     worst concave points  worst symmetry  worst fractal dimension  target  \n",
      "9                  0.2210          0.4366                   0.2075     0.0  \n",
      "190                0.1772          0.5166                   0.1446     0.0  \n",
      "379                0.2524          0.4154                   0.1403     0.0  \n",
      "\n",
      "[3 rows x 31 columns]\n",
      "\n",
      "\n",
      "--------------------------- worst concavity --------------------------\n",
      "    mean radius  mean texture  mean perimeter  mean area  mean smoothness  \\\n",
      "68        9.029         17.33           58.79      250.5           0.1066   \n",
      "\n",
      "    mean compactness  mean concavity  mean concave points  mean symmetry  \\\n",
      "68            0.1413           0.313              0.04375         0.2111   \n",
      "\n",
      "    mean fractal dimension  ...  worst texture  worst perimeter  worst area  \\\n",
      "68                 0.08046  ...          22.65             65.5       324.7   \n",
      "\n",
      "    worst smoothness  worst compactness  worst concavity  \\\n",
      "68            0.1482             0.4365            1.252   \n",
      "\n",
      "    worst concave points  worst symmetry  worst fractal dimension  target  \n",
      "68                 0.175          0.4228                   0.1175     1.0  \n",
      "\n",
      "[1 rows x 31 columns]\n",
      "\n",
      "\n",
      "--------------------------- worst concave points --------------------------\n",
      "No Outliers Present\n",
      "\n",
      "\n",
      "--------------------------- worst symmetry --------------------------\n",
      "     mean radius  mean texture  mean perimeter  mean area  mean smoothness  \\\n",
      "3          11.42         20.38           77.58      386.1           0.1425   \n",
      "78         20.18         23.97          143.70     1245.0           0.1286   \n",
      "146        11.80         16.58           78.99      432.0           0.1091   \n",
      "323        20.34         21.51          135.90     1264.0           0.1170   \n",
      "\n",
      "     mean compactness  mean concavity  mean concave points  mean symmetry  \\\n",
      "3              0.2839          0.2414              0.10520         0.2597   \n",
      "78             0.3454          0.3754              0.16040         0.2906   \n",
      "146            0.1700          0.1659              0.07415         0.2678   \n",
      "323            0.1875          0.2565              0.15040         0.2569   \n",
      "\n",
      "     mean fractal dimension  ...  worst texture  worst perimeter  worst area  \\\n",
      "3                   0.09744  ...          26.50            98.87       567.7   \n",
      "78                  0.08142  ...          31.72           170.30      1623.0   \n",
      "146                 0.07371  ...          26.38            91.93       591.7   \n",
      "323                 0.06670  ...          31.86           171.10      1938.0   \n",
      "\n",
      "     worst smoothness  worst compactness  worst concavity  \\\n",
      "3              0.2098             0.8663           0.6869   \n",
      "78             0.1639             0.6164           0.7681   \n",
      "146            0.1385             0.4092           0.4504   \n",
      "323            0.1592             0.4492           0.5344   \n",
      "\n",
      "     worst concave points  worst symmetry  worst fractal dimension  target  \n",
      "3                  0.2575          0.6638                  0.17300     0.0  \n",
      "78                 0.2508          0.5440                  0.09964     0.0  \n",
      "146                0.1865          0.5774                  0.10300     0.0  \n",
      "323                0.2685          0.5558                  0.10240     0.0  \n",
      "\n",
      "[4 rows x 31 columns]\n",
      "\n",
      "\n",
      "--------------------------- worst fractal dimension --------------------------\n",
      "   mean radius  mean texture  mean perimeter  mean area  mean smoothness  \\\n",
      "3        11.42         20.38           77.58      386.1           0.1425   \n",
      "9        12.46         24.04           83.97      475.9           0.1186   \n",
      "\n",
      "   mean compactness  mean concavity  mean concave points  mean symmetry  \\\n",
      "3            0.2839          0.2414              0.10520         0.2597   \n",
      "9            0.2396          0.2273              0.08543         0.2030   \n",
      "\n",
      "   mean fractal dimension  ...  worst texture  worst perimeter  worst area  \\\n",
      "3                 0.09744  ...          26.50            98.87       567.7   \n",
      "9                 0.08243  ...          40.68            97.65       711.4   \n",
      "\n",
      "   worst smoothness  worst compactness  worst concavity  worst concave points  \\\n",
      "3            0.2098             0.8663           0.6869                0.2575   \n",
      "9            0.1853             1.0580           1.1050                0.2210   \n",
      "\n",
      "   worst symmetry  worst fractal dimension  target  \n",
      "3          0.6638                   0.1730     0.0  \n",
      "9          0.4366                   0.2075     0.0  \n",
      "\n",
      "[2 rows x 31 columns]\n",
      "\n",
      "\n",
      "--------------------------- target --------------------------\n",
      "No Outliers Present\n",
      "\n",
      "\n"
     ]
    }
   ],
   "source": [
    "# Calculate the outlier values for each feature.\n",
    "def detect_outliers(df, col):\n",
    "    Q1 = df[col].quantile(0.25)\n",
    "    Q3 = df[col].quantile(0.75)\n",
    "    IQR = Q3 - Q1\n",
    "    lower_limit = Q1 - (1.5 * IQR)\n",
    "    upper_limit = Q3 + (1.5 * IQR)\n",
    "    outliers = df[(df[col] < lower_limit) | (df[col] > upper_limit)]\n",
    "    \n",
    "    if len(outliers) == 0:\n",
    "        return 'No Outliers Present'\n",
    "    else:\n",
    "        return outliers\n",
    "\n",
    "# Outliers values are --\n",
    "for col in numerical_features:\n",
    "    print('-' * 27, col,'-' * 26)\n",
    "    print(detect_outliers(cancer_df, col))\n",
    "    print('\\n')    "
   ]
  },
  {
   "cell_type": "markdown",
   "metadata": {
    "colab_type": "text",
    "id": "bi_Sh8EP__PJ"
   },
   "source": [
    "**3. Dibuja con plotly los gráficos que creas necesarios para entender los datos.**"
   ]
  },
  {
   "cell_type": "code",
   "execution_count": 32,
   "metadata": {
    "colab": {},
    "colab_type": "code",
    "executionInfo": {
     "elapsed": 2910,
     "status": "ok",
     "timestamp": 1600160561716,
     "user": {
      "displayName": "Clara Piniella",
      "photoUrl": "https://lh3.googleusercontent.com/a-/AOh14GjZPvtfXzLnQ9Q1a_2oR-Aa6UCX0_HyTfsCraMd=s64",
      "userId": "06217688725952462825"
     },
     "user_tz": -120
    },
    "id": "ypMt5wbF__PK"
   },
   "outputs": [],
   "source": [
    "mean_col = []\n",
    "error_col = []\n",
    "worst_col = []\n",
    "area_col = []\n",
    "\n",
    "for col in cancer_df.columns.tolist():\n",
    "    if \"area\" in col:\n",
    "        area_col.append(col)\n",
    "    else:\n",
    "        if col[:4] == \"mean\":\n",
    "            mean_col.append(col)\n",
    "        elif col[-5:] == \"error\":\n",
    "            error_col.append(col)\n",
    "        elif col[:5] == \"worst\":\n",
    "            worst_col.append(col)"
   ]
  },
  {
   "cell_type": "code",
   "execution_count": 33,
   "metadata": {
    "colab": {
     "base_uri": "https://localhost:8080/",
     "height": 263
    },
    "colab_type": "code",
    "executionInfo": {
     "elapsed": 2905,
     "status": "ok",
     "timestamp": 1600160561719,
     "user": {
      "displayName": "Clara Piniella",
      "photoUrl": "https://lh3.googleusercontent.com/a-/AOh14GjZPvtfXzLnQ9Q1a_2oR-Aa6UCX0_HyTfsCraMd=s64",
      "userId": "06217688725952462825"
     },
     "user_tz": -120
    },
    "id": "hdE1LMee__PM",
    "outputId": "adc04003-78cd-44cc-dcbe-d4544eaf20ef"
   },
   "outputs": [
    {
     "name": "stdout",
     "output_type": "stream",
     "text": [
      "Divido las features en diferentes listas para hacer más fácil el estudio de estas:\n",
      "\n",
      "mean_col:\n",
      "['mean radius', 'mean texture', 'mean perimeter', 'mean smoothness', 'mean compactness', 'mean concavity', 'mean concave points', 'mean symmetry', 'mean fractal dimension']\n",
      "\n",
      "error_col:\n",
      "['radius error', 'texture error', 'perimeter error', 'smoothness error', 'compactness error', 'concavity error', 'concave points error', 'symmetry error', 'fractal dimension error']\n",
      "\n",
      "worst_col:\n",
      "['worst radius', 'worst texture', 'worst perimeter', 'worst smoothness', 'worst compactness', 'worst concavity', 'worst concave points', 'worst symmetry', 'worst fractal dimension']\n",
      "\n",
      "area_col:\n",
      "['mean area', 'area error', 'worst area']\n"
     ]
    }
   ],
   "source": [
    "print(f\"Divido las features en diferentes listas para hacer más fácil el estudio de estas:\\n\\n\\\n",
    "mean_col:\\n{mean_col}\\n\\nerror_col:\\n{error_col}\\n\\nworst_col:\\n{worst_col}\\n\\narea_col:\\n{area_col}\")"
   ]
  },
  {
   "cell_type": "code",
   "execution_count": 34,
   "metadata": {
    "colab": {},
    "colab_type": "code",
    "executionInfo": {
     "elapsed": 2904,
     "status": "ok",
     "timestamp": 1600160561721,
     "user": {
      "displayName": "Clara Piniella",
      "photoUrl": "https://lh3.googleusercontent.com/a-/AOh14GjZPvtfXzLnQ9Q1a_2oR-Aa6UCX0_HyTfsCraMd=s64",
      "userId": "06217688725952462825"
     },
     "user_tz": -120
    },
    "id": "j0mDYYOB__PP"
   },
   "outputs": [
    {
     "name": "stderr",
     "output_type": "stream",
     "text": [
      "/tmp/ipykernel_7802/3997756480.py:2: FutureWarning:\n",
      "\n",
      "In a future version of pandas all arguments of DataFrame.drop except for the argument 'labels' will be keyword-only.\n",
      "\n"
     ]
    }
   ],
   "source": [
    "y = cancer_df[\"target\"]\n",
    "X = cancer_df.drop(\"target\", 1)"
   ]
  },
  {
   "cell_type": "code",
   "execution_count": 41,
   "metadata": {
    "colab": {
     "base_uri": "https://localhost:8080/",
     "height": 35
    },
    "colab_type": "code",
    "executionInfo": {
     "elapsed": 2900,
     "status": "ok",
     "timestamp": 1600160561724,
     "user": {
      "displayName": "Clara Piniella",
      "photoUrl": "https://lh3.googleusercontent.com/a-/AOh14GjZPvtfXzLnQ9Q1a_2oR-Aa6UCX0_HyTfsCraMd=s64",
      "userId": "06217688725952462825"
     },
     "user_tz": -120
    },
    "id": "domRayOO__PS",
    "outputId": "30919ade-2158-4ac1-b07d-6b6bd56bc3a4"
   },
   "outputs": [
    {
     "name": "stdout",
     "output_type": "stream",
     "text": [
      "There are 212 entries for malignant cancer and 357 for benign\n"
     ]
    }
   ],
   "source": [
    "print(f\"There are {len(y[y == 0])} entries for malignant cancer and {len(y[y == 1])} for benign\")"
   ]
  },
  {
   "cell_type": "code",
   "execution_count": 42,
   "metadata": {},
   "outputs": [
    {
     "data": {
      "text/plain": [
       "0    0.0\n",
       "1    0.0\n",
       "2    0.0\n",
       "3    0.0\n",
       "4    0.0\n",
       "Name: target, dtype: float64"
      ]
     },
     "execution_count": 42,
     "metadata": {},
     "output_type": "execute_result"
    }
   ],
   "source": [
    "cancer_df['target'].head()"
   ]
  },
  {
   "cell_type": "code",
   "execution_count": 47,
   "metadata": {
    "colab": {
     "base_uri": "https://localhost:8080/",
     "height": 542
    },
    "colab_type": "code",
    "executionInfo": {
     "elapsed": 4519,
     "status": "ok",
     "timestamp": 1600160563351,
     "user": {
      "displayName": "Clara Piniella",
      "photoUrl": "https://lh3.googleusercontent.com/a-/AOh14GjZPvtfXzLnQ9Q1a_2oR-Aa6UCX0_HyTfsCraMd=s64",
      "userId": "06217688725952462825"
     },
     "user_tz": -120
    },
    "id": "tPJhd7CO__PU",
    "outputId": "d68de632-c264-4d56-c9a0-5d24c02c6c85"
   },
   "outputs": [
    {
     "data": {
      "application/vnd.plotly.v1+json": {
       "config": {
        "linkText": "Export to plot.ly",
        "plotlyServerURL": "https://plot.ly",
        "showLink": false
       },
       "data": [
        {
         "hole": 0.3,
         "labels": [
          "Benign",
          "Malignant"
         ],
         "marker": {
          "colors": [
           "lightgreen",
           "lavender"
          ]
         },
         "name": "Breast Cancer",
         "type": "pie",
         "values": [
          357,
          212
         ]
        }
       ],
       "layout": {
        "template": {
         "data": {
          "bar": [
           {
            "error_x": {
             "color": "#2a3f5f"
            },
            "error_y": {
             "color": "#2a3f5f"
            },
            "marker": {
             "line": {
              "color": "#E5ECF6",
              "width": 0.5
             },
             "pattern": {
              "fillmode": "overlay",
              "size": 10,
              "solidity": 0.2
             }
            },
            "type": "bar"
           }
          ],
          "barpolar": [
           {
            "marker": {
             "line": {
              "color": "#E5ECF6",
              "width": 0.5
             },
             "pattern": {
              "fillmode": "overlay",
              "size": 10,
              "solidity": 0.2
             }
            },
            "type": "barpolar"
           }
          ],
          "carpet": [
           {
            "aaxis": {
             "endlinecolor": "#2a3f5f",
             "gridcolor": "white",
             "linecolor": "white",
             "minorgridcolor": "white",
             "startlinecolor": "#2a3f5f"
            },
            "baxis": {
             "endlinecolor": "#2a3f5f",
             "gridcolor": "white",
             "linecolor": "white",
             "minorgridcolor": "white",
             "startlinecolor": "#2a3f5f"
            },
            "type": "carpet"
           }
          ],
          "choropleth": [
           {
            "colorbar": {
             "outlinewidth": 0,
             "ticks": ""
            },
            "type": "choropleth"
           }
          ],
          "contour": [
           {
            "colorbar": {
             "outlinewidth": 0,
             "ticks": ""
            },
            "colorscale": [
             [
              0,
              "#0d0887"
             ],
             [
              0.1111111111111111,
              "#46039f"
             ],
             [
              0.2222222222222222,
              "#7201a8"
             ],
             [
              0.3333333333333333,
              "#9c179e"
             ],
             [
              0.4444444444444444,
              "#bd3786"
             ],
             [
              0.5555555555555556,
              "#d8576b"
             ],
             [
              0.6666666666666666,
              "#ed7953"
             ],
             [
              0.7777777777777778,
              "#fb9f3a"
             ],
             [
              0.8888888888888888,
              "#fdca26"
             ],
             [
              1,
              "#f0f921"
             ]
            ],
            "type": "contour"
           }
          ],
          "contourcarpet": [
           {
            "colorbar": {
             "outlinewidth": 0,
             "ticks": ""
            },
            "type": "contourcarpet"
           }
          ],
          "heatmap": [
           {
            "colorbar": {
             "outlinewidth": 0,
             "ticks": ""
            },
            "colorscale": [
             [
              0,
              "#0d0887"
             ],
             [
              0.1111111111111111,
              "#46039f"
             ],
             [
              0.2222222222222222,
              "#7201a8"
             ],
             [
              0.3333333333333333,
              "#9c179e"
             ],
             [
              0.4444444444444444,
              "#bd3786"
             ],
             [
              0.5555555555555556,
              "#d8576b"
             ],
             [
              0.6666666666666666,
              "#ed7953"
             ],
             [
              0.7777777777777778,
              "#fb9f3a"
             ],
             [
              0.8888888888888888,
              "#fdca26"
             ],
             [
              1,
              "#f0f921"
             ]
            ],
            "type": "heatmap"
           }
          ],
          "heatmapgl": [
           {
            "colorbar": {
             "outlinewidth": 0,
             "ticks": ""
            },
            "colorscale": [
             [
              0,
              "#0d0887"
             ],
             [
              0.1111111111111111,
              "#46039f"
             ],
             [
              0.2222222222222222,
              "#7201a8"
             ],
             [
              0.3333333333333333,
              "#9c179e"
             ],
             [
              0.4444444444444444,
              "#bd3786"
             ],
             [
              0.5555555555555556,
              "#d8576b"
             ],
             [
              0.6666666666666666,
              "#ed7953"
             ],
             [
              0.7777777777777778,
              "#fb9f3a"
             ],
             [
              0.8888888888888888,
              "#fdca26"
             ],
             [
              1,
              "#f0f921"
             ]
            ],
            "type": "heatmapgl"
           }
          ],
          "histogram": [
           {
            "marker": {
             "pattern": {
              "fillmode": "overlay",
              "size": 10,
              "solidity": 0.2
             }
            },
            "type": "histogram"
           }
          ],
          "histogram2d": [
           {
            "colorbar": {
             "outlinewidth": 0,
             "ticks": ""
            },
            "colorscale": [
             [
              0,
              "#0d0887"
             ],
             [
              0.1111111111111111,
              "#46039f"
             ],
             [
              0.2222222222222222,
              "#7201a8"
             ],
             [
              0.3333333333333333,
              "#9c179e"
             ],
             [
              0.4444444444444444,
              "#bd3786"
             ],
             [
              0.5555555555555556,
              "#d8576b"
             ],
             [
              0.6666666666666666,
              "#ed7953"
             ],
             [
              0.7777777777777778,
              "#fb9f3a"
             ],
             [
              0.8888888888888888,
              "#fdca26"
             ],
             [
              1,
              "#f0f921"
             ]
            ],
            "type": "histogram2d"
           }
          ],
          "histogram2dcontour": [
           {
            "colorbar": {
             "outlinewidth": 0,
             "ticks": ""
            },
            "colorscale": [
             [
              0,
              "#0d0887"
             ],
             [
              0.1111111111111111,
              "#46039f"
             ],
             [
              0.2222222222222222,
              "#7201a8"
             ],
             [
              0.3333333333333333,
              "#9c179e"
             ],
             [
              0.4444444444444444,
              "#bd3786"
             ],
             [
              0.5555555555555556,
              "#d8576b"
             ],
             [
              0.6666666666666666,
              "#ed7953"
             ],
             [
              0.7777777777777778,
              "#fb9f3a"
             ],
             [
              0.8888888888888888,
              "#fdca26"
             ],
             [
              1,
              "#f0f921"
             ]
            ],
            "type": "histogram2dcontour"
           }
          ],
          "mesh3d": [
           {
            "colorbar": {
             "outlinewidth": 0,
             "ticks": ""
            },
            "type": "mesh3d"
           }
          ],
          "parcoords": [
           {
            "line": {
             "colorbar": {
              "outlinewidth": 0,
              "ticks": ""
             }
            },
            "type": "parcoords"
           }
          ],
          "pie": [
           {
            "automargin": true,
            "type": "pie"
           }
          ],
          "scatter": [
           {
            "fillpattern": {
             "fillmode": "overlay",
             "size": 10,
             "solidity": 0.2
            },
            "type": "scatter"
           }
          ],
          "scatter3d": [
           {
            "line": {
             "colorbar": {
              "outlinewidth": 0,
              "ticks": ""
             }
            },
            "marker": {
             "colorbar": {
              "outlinewidth": 0,
              "ticks": ""
             }
            },
            "type": "scatter3d"
           }
          ],
          "scattercarpet": [
           {
            "marker": {
             "colorbar": {
              "outlinewidth": 0,
              "ticks": ""
             }
            },
            "type": "scattercarpet"
           }
          ],
          "scattergeo": [
           {
            "marker": {
             "colorbar": {
              "outlinewidth": 0,
              "ticks": ""
             }
            },
            "type": "scattergeo"
           }
          ],
          "scattergl": [
           {
            "marker": {
             "colorbar": {
              "outlinewidth": 0,
              "ticks": ""
             }
            },
            "type": "scattergl"
           }
          ],
          "scattermapbox": [
           {
            "marker": {
             "colorbar": {
              "outlinewidth": 0,
              "ticks": ""
             }
            },
            "type": "scattermapbox"
           }
          ],
          "scatterpolar": [
           {
            "marker": {
             "colorbar": {
              "outlinewidth": 0,
              "ticks": ""
             }
            },
            "type": "scatterpolar"
           }
          ],
          "scatterpolargl": [
           {
            "marker": {
             "colorbar": {
              "outlinewidth": 0,
              "ticks": ""
             }
            },
            "type": "scatterpolargl"
           }
          ],
          "scatterternary": [
           {
            "marker": {
             "colorbar": {
              "outlinewidth": 0,
              "ticks": ""
             }
            },
            "type": "scatterternary"
           }
          ],
          "surface": [
           {
            "colorbar": {
             "outlinewidth": 0,
             "ticks": ""
            },
            "colorscale": [
             [
              0,
              "#0d0887"
             ],
             [
              0.1111111111111111,
              "#46039f"
             ],
             [
              0.2222222222222222,
              "#7201a8"
             ],
             [
              0.3333333333333333,
              "#9c179e"
             ],
             [
              0.4444444444444444,
              "#bd3786"
             ],
             [
              0.5555555555555556,
              "#d8576b"
             ],
             [
              0.6666666666666666,
              "#ed7953"
             ],
             [
              0.7777777777777778,
              "#fb9f3a"
             ],
             [
              0.8888888888888888,
              "#fdca26"
             ],
             [
              1,
              "#f0f921"
             ]
            ],
            "type": "surface"
           }
          ],
          "table": [
           {
            "cells": {
             "fill": {
              "color": "#EBF0F8"
             },
             "line": {
              "color": "white"
             }
            },
            "header": {
             "fill": {
              "color": "#C8D4E3"
             },
             "line": {
              "color": "white"
             }
            },
            "type": "table"
           }
          ]
         },
         "layout": {
          "annotationdefaults": {
           "arrowcolor": "#2a3f5f",
           "arrowhead": 0,
           "arrowwidth": 1
          },
          "autotypenumbers": "strict",
          "coloraxis": {
           "colorbar": {
            "outlinewidth": 0,
            "ticks": ""
           }
          },
          "colorscale": {
           "diverging": [
            [
             0,
             "#8e0152"
            ],
            [
             0.1,
             "#c51b7d"
            ],
            [
             0.2,
             "#de77ae"
            ],
            [
             0.3,
             "#f1b6da"
            ],
            [
             0.4,
             "#fde0ef"
            ],
            [
             0.5,
             "#f7f7f7"
            ],
            [
             0.6,
             "#e6f5d0"
            ],
            [
             0.7,
             "#b8e186"
            ],
            [
             0.8,
             "#7fbc41"
            ],
            [
             0.9,
             "#4d9221"
            ],
            [
             1,
             "#276419"
            ]
           ],
           "sequential": [
            [
             0,
             "#0d0887"
            ],
            [
             0.1111111111111111,
             "#46039f"
            ],
            [
             0.2222222222222222,
             "#7201a8"
            ],
            [
             0.3333333333333333,
             "#9c179e"
            ],
            [
             0.4444444444444444,
             "#bd3786"
            ],
            [
             0.5555555555555556,
             "#d8576b"
            ],
            [
             0.6666666666666666,
             "#ed7953"
            ],
            [
             0.7777777777777778,
             "#fb9f3a"
            ],
            [
             0.8888888888888888,
             "#fdca26"
            ],
            [
             1,
             "#f0f921"
            ]
           ],
           "sequentialminus": [
            [
             0,
             "#0d0887"
            ],
            [
             0.1111111111111111,
             "#46039f"
            ],
            [
             0.2222222222222222,
             "#7201a8"
            ],
            [
             0.3333333333333333,
             "#9c179e"
            ],
            [
             0.4444444444444444,
             "#bd3786"
            ],
            [
             0.5555555555555556,
             "#d8576b"
            ],
            [
             0.6666666666666666,
             "#ed7953"
            ],
            [
             0.7777777777777778,
             "#fb9f3a"
            ],
            [
             0.8888888888888888,
             "#fdca26"
            ],
            [
             1,
             "#f0f921"
            ]
           ]
          },
          "colorway": [
           "#636efa",
           "#EF553B",
           "#00cc96",
           "#ab63fa",
           "#FFA15A",
           "#19d3f3",
           "#FF6692",
           "#B6E880",
           "#FF97FF",
           "#FECB52"
          ],
          "font": {
           "color": "#2a3f5f"
          },
          "geo": {
           "bgcolor": "white",
           "lakecolor": "white",
           "landcolor": "#E5ECF6",
           "showlakes": true,
           "showland": true,
           "subunitcolor": "white"
          },
          "hoverlabel": {
           "align": "left"
          },
          "hovermode": "closest",
          "mapbox": {
           "style": "light"
          },
          "paper_bgcolor": "white",
          "plot_bgcolor": "#E5ECF6",
          "polar": {
           "angularaxis": {
            "gridcolor": "white",
            "linecolor": "white",
            "ticks": ""
           },
           "bgcolor": "#E5ECF6",
           "radialaxis": {
            "gridcolor": "white",
            "linecolor": "white",
            "ticks": ""
           }
          },
          "scene": {
           "xaxis": {
            "backgroundcolor": "#E5ECF6",
            "gridcolor": "white",
            "gridwidth": 2,
            "linecolor": "white",
            "showbackground": true,
            "ticks": "",
            "zerolinecolor": "white"
           },
           "yaxis": {
            "backgroundcolor": "#E5ECF6",
            "gridcolor": "white",
            "gridwidth": 2,
            "linecolor": "white",
            "showbackground": true,
            "ticks": "",
            "zerolinecolor": "white"
           },
           "zaxis": {
            "backgroundcolor": "#E5ECF6",
            "gridcolor": "white",
            "gridwidth": 2,
            "linecolor": "white",
            "showbackground": true,
            "ticks": "",
            "zerolinecolor": "white"
           }
          },
          "shapedefaults": {
           "line": {
            "color": "#2a3f5f"
           }
          },
          "ternary": {
           "aaxis": {
            "gridcolor": "white",
            "linecolor": "white",
            "ticks": ""
           },
           "baxis": {
            "gridcolor": "white",
            "linecolor": "white",
            "ticks": ""
           },
           "bgcolor": "#E5ECF6",
           "caxis": {
            "gridcolor": "white",
            "linecolor": "white",
            "ticks": ""
           }
          },
          "title": {
           "x": 0.05
          },
          "xaxis": {
           "automargin": true,
           "gridcolor": "white",
           "linecolor": "white",
           "ticks": "",
           "title": {
            "standoff": 15
           },
           "zerolinecolor": "white",
           "zerolinewidth": 2
          },
          "yaxis": {
           "automargin": true,
           "gridcolor": "white",
           "linecolor": "white",
           "ticks": "",
           "title": {
            "standoff": 15
           },
           "zerolinecolor": "white",
           "zerolinewidth": 2
          }
         }
        },
        "title": {
         "text": "Distribution of Patients"
        }
       }
      }
     },
     "metadata": {},
     "output_type": "display_data"
    }
   ],
   "source": [
    "diagnosis = cancer_df['target'].value_counts()\n",
    "diagnosis_size = diagnosis.values\n",
    "\n",
    "colors = ['lightgreen', 'lavender']\n",
    "\n",
    "trace = go.Pie(\n",
    "    labels = [\"Benign\", \"Malignant\"],\n",
    "    values = diagnosis_size,\n",
    "    marker = dict(colors = colors),\n",
    "    name = 'Breast Cancer',\n",
    "               hole = 0.3\n",
    "              )\n",
    "df = [trace]\n",
    "layout = go.Layout(title = 'Distribution of Patients')\n",
    "\n",
    "\n",
    "fig = go.Figure(data = df, layout = layout)\n",
    "fig.write_html(\"pie.html\")\n",
    "\n",
    "py.iplot(fig)"
   ]
  },
  {
   "cell_type": "code",
   "execution_count": 51,
   "metadata": {
    "colab": {
     "base_uri": "https://localhost:8080/",
     "height": 542
    },
    "colab_type": "code",
    "executionInfo": {
     "elapsed": 4512,
     "status": "ok",
     "timestamp": 1600160563352,
     "user": {
      "displayName": "Clara Piniella",
      "photoUrl": "https://lh3.googleusercontent.com/a-/AOh14GjZPvtfXzLnQ9Q1a_2oR-Aa6UCX0_HyTfsCraMd=s64",
      "userId": "06217688725952462825"
     },
     "user_tz": -120
    },
    "id": "vrgV3X9T__PX",
    "outputId": "624497ad-1f2e-4fd4-a726-745c37930292",
    "scrolled": false
   },
   "outputs": [
    {
     "data": {
      "application/vnd.plotly.v1+json": {
       "config": {
        "plotlyServerURL": "https://plot.ly"
       },
       "data": [
        {
         "name": "mean area",
         "type": "box",
         "y": [
          1001,
          1326,
          1203,
          386.1,
          1297,
          477.1,
          1040,
          577.9,
          519.8,
          475.9,
          797.8,
          781,
          1123,
          782.7,
          578.3,
          658.8,
          684.5,
          798.8,
          1260,
          566.3,
          520,
          273.9,
          704.4,
          1404,
          904.6,
          912.7,
          644.8,
          1094,
          732.4,
          955.1,
          1088,
          440.6,
          899.3,
          1162,
          807.2,
          869.5,
          633,
          523.8,
          698.8,
          559.2,
          563,
          371.1,
          1104,
          545.2,
          531.5,
          1076,
          201.9,
          534.6,
          449.3,
          561,
          427.9,
          571.8,
          437.6,
          1033,
          712.8,
          409,
          1152,
          656.9,
          527.2,
          224.5,
          311.9,
          221.8,
          645.7,
          260.9,
          499,
          668.3,
          269.4,
          394.1,
          250.5,
          502.5,
          1130,
          244,
          929.4,
          584.1,
          470.9,
          817.7,
          559.2,
          1006,
          1245,
          506.3,
          401.5,
          520,
          1878,
          1132,
          443.3,
          1075,
          648.2,
          1076,
          466.1,
          651.9,
          662.7,
          728.2,
          551.7,
          555.1,
          705.6,
          1264,
          451.1,
          294.5,
          412.6,
          642.5,
          582.7,
          143.5,
          458.7,
          298.3,
          336.1,
          530.2,
          412.5,
          466.7,
          1509,
          396.5,
          290.2,
          480.4,
          629.9,
          334.2,
          230.9,
          438.6,
          245.2,
          682.5,
          782.6,
          982,
          403.3,
          1077,
          1761,
          640.7,
          553.5,
          588.7,
          572.6,
          1138,
          674.5,
          1192,
          455.8,
          748.9,
          809.8,
          761.7,
          1075,
          506.3,
          423.6,
          399.8,
          678.1,
          384.8,
          288.5,
          813,
          398,
          512.2,
          355.3,
          432.8,
          432,
          689.5,
          640.1,
          585,
          519.4,
          203.9,
          300.2,
          381.9,
          538.9,
          460.3,
          963.7,
          880.2,
          448.6,
          366.8,
          419.8,
          1157,
          1214,
          464.5,
          1686,
          690.2,
          357.6,
          886.3,
          984.6,
          685.9,
          464.1,
          565.4,
          736.9,
          372.7,
          349.6,
          227.2,
          302.4,
          832.9,
          526.4,
          508.8,
          2250,
          1311,
          766.6,
          402,
          710.6,
          317.5,
          1041,
          420.3,
          428.9,
          463.7,
          609.9,
          507.4,
          288.1,
          477.4,
          671.4,
          516.4,
          588.9,
          1024,
          1148,
          642.7,
          461,
          951.6,
          1685,
          597.8,
          481.9,
          716.6,
          295.4,
          904.3,
          529.4,
          725.5,
          1290,
          428,
          2499,
          948,
          610.7,
          578.9,
          432.2,
          321.2,
          1230,
          1223,
          568.9,
          561.3,
          313.1,
          761.3,
          546.4,
          641.2,
          329.6,
          684.5,
          496.4,
          503.2,
          895,
          395.7,
          386.8,
          1319,
          279.6,
          603.4,
          1670,
          1306,
          623.9,
          920.6,
          575.3,
          476.5,
          389.4,
          590,
          1155,
          337.7,
          541.6,
          512.2,
          347,
          406.3,
          1364,
          407.4,
          1206,
          928.2,
          1169,
          602.4,
          1207,
          713.3,
          773.5,
          744.9,
          1288,
          933.1,
          947.8,
          758.6,
          928.3,
          1419,
          346.4,
          561,
          512.2,
          344.9,
          632.6,
          388,
          1491,
          289.9,
          998.9,
          435.6,
          396.6,
          1102,
          572.3,
          587.4,
          1138,
          427.3,
          1145,
          805.1,
          516.6,
          489,
          441,
          515.9,
          394.1,
          396,
          651,
          687.3,
          513.7,
          432.7,
          492.1,
          582.7,
          363.7,
          431.1,
          633.1,
          334.2,
          1217,
          471.3,
          1247,
          334.3,
          403.1,
          417.2,
          537.3,
          246.3,
          566.2,
          530.6,
          418.7,
          664.9,
          504.1,
          409.1,
          221.2,
          481.6,
          461.4,
          1027,
          244.5,
          477.3,
          324.2,
          1274,
          504.8,
          1264,
          457.9,
          489.9,
          616.5,
          446,
          813.7,
          826.8,
          793.2,
          514,
          387.3,
          390,
          464.4,
          918.6,
          514.3,
          1092,
          310.8,
          1747,
          641.2,
          280.5,
          373.9,
          1194,
          420.3,
          321.6,
          445.3,
          668.7,
          402.7,
          426.7,
          421,
          758.6,
          2010,
          716.6,
          384.6,
          485.8,
          512,
          593.7,
          241,
          278.6,
          491.9,
          546.1,
          496.6,
          838.1,
          552.4,
          1293,
          1234,
          458.4,
          1546,
          1482,
          840.4,
          711.8,
          1386,
          1335,
          579.1,
          788.5,
          338.3,
          562.1,
          580.6,
          361.6,
          386.3,
          372.7,
          447.8,
          462.9,
          541.8,
          664.7,
          462,
          596.6,
          392,
          1174,
          321.6,
          234.3,
          744.7,
          1407,
          446.2,
          609.1,
          558.1,
          508.3,
          378.2,
          431.9,
          994,
          442.7,
          525.2,
          507.6,
          469.1,
          370,
          800,
          514.5,
          991.7,
          466.1,
          399.8,
          373.2,
          268.8,
          693.7,
          719.5,
          433.8,
          271.2,
          803.1,
          495,
          380.3,
          409.7,
          656.1,
          408.2,
          575.3,
          289.7,
          307.3,
          333.6,
          359.9,
          381.1,
          501.3,
          685,
          467.8,
          1250,
          1110,
          673.7,
          599.5,
          509.2,
          611.2,
          592.6,
          606.5,
          371.5,
          928.8,
          585.9,
          340.9,
          990,
          441.3,
          981.6,
          674.8,
          659.7,
          1384,
          432,
          1191,
          442.5,
          644.2,
          492.9,
          557.2,
          415.1,
          537.9,
          520.2,
          290.9,
          930.9,
          2501,
          646.1,
          412.7,
          537.3,
          542.9,
          536.9,
          286.3,
          980.5,
          408.8,
          289.1,
          449.9,
          686.9,
          465.4,
          358.9,
          506.9,
          618.4,
          599.4,
          404.9,
          815.8,
          455.3,
          602.9,
          546.3,
          571.1,
          747.2,
          476.7,
          666,
          1167,
          420.5,
          857.6,
          466.5,
          992.1,
          1007,
          477.3,
          538.7,
          680.9,
          485.6,
          480.1,
          1068,
          1320,
          689.4,
          595.9,
          476.3,
          1682,
          248.7,
          272.5,
          453.1,
          366.5,
          819.8,
          731.3,
          426,
          680.7,
          556.7,
          658.8,
          701.9,
          391.2,
          1052,
          1214,
          493.1,
          493.8,
          257.8,
          1841,
          388.1,
          571,
          293.2,
          221.3,
          551.1,
          468.5,
          594.2,
          445.2,
          422.9,
          416.2,
          575.5,
          1299,
          365.6,
          1308,
          629.8,
          406.4,
          178.8,
          170.4,
          402.9,
          656.4,
          668.6,
          538.4,
          584.8,
          573.2,
          324.9,
          320.8,
          285.7,
          361.6,
          360.5,
          378.4,
          507.9,
          264,
          514.3,
          321.4,
          311.7,
          271.3,
          657.1,
          403.5,
          600.4,
          386,
          716.9,
          1347,
          1479,
          1261,
          858.1,
          1265,
          181
         ]
        },
        {
         "name": "area error",
         "type": "box",
         "y": [
          153.4,
          74.08,
          94.03,
          27.23,
          94.44,
          27.19,
          53.91,
          50.96,
          24.32,
          23.94,
          40.51,
          54.16,
          116.2,
          36.58,
          19.21,
          32.55,
          45.4,
          54.18,
          112.4,
          23.56,
          14.67,
          15.7,
          44.91,
          93.99,
          102.6,
          111.4,
          21.05,
          93.54,
          43.5,
          61.1,
          105,
          41,
          67.78,
          68.17,
          35.03,
          45.19,
          24.91,
          14.16,
          106,
          18.52,
          20.53,
          16.97,
          104.9,
          31.33,
          14.49,
          71.56,
          8.205,
          24.25,
          19.87,
          20.2,
          28.47,
          14.55,
          17.47,
          98.81,
          29.91,
          23.47,
          102.5,
          40.09,
          32.96,
          8.322,
          34.62,
          18.39,
          60.78,
          23.52,
          36.46,
          35.24,
          14.2,
          18.15,
          17.67,
          18.33,
          96.05,
          25.44,
          69.47,
          23.35,
          19.68,
          79.25,
          32.65,
          134.8,
          116.4,
          20.35,
          24.62,
          12.96,
          120,
          67.1,
          16.16,
          80.6,
          38.87,
          57.65,
          20.95,
          42.76,
          33.76,
          29.44,
          36.35,
          25.22,
          47.14,
          87.87,
          24.44,
          20.05,
          15.75,
          26.85,
          43.14,
          9.833,
          14.68,
          11.77,
          23.13,
          34.66,
          20.62,
          9.227,
          170,
          16.41,
          22.87,
          20.48,
          29.25,
          19.91,
          8.966,
          24.79,
          16.94,
          41.18,
          58.63,
          54.04,
          10.5,
          90.47,
          233,
          24.19,
          14.66,
          17.91,
          19.83,
          81.23,
          39.84,
          63.33,
          15.24,
          48.31,
          43.68,
          27.94,
          68.35,
          19.87,
          34.37,
          12.67,
          101.9,
          26.33,
          12.26,
          74.08,
          21.38,
          16.64,
          17.74,
          25.03,
          24.72,
          39.43,
          21.2,
          21.47,
          34.78,
          10.21,
          49.85,
          15.48,
          22.79,
          16.51,
          93.91,
          46.61,
          13.25,
          18.54,
          38.34,
          119.3,
          97.07,
          21.55,
          97.85,
          16.64,
          11.48,
          67.34,
          122.3,
          24.28,
          17.43,
          43.4,
          44.64,
          19.08,
          21.98,
          11.36,
          27.48,
          31.59,
          14.34,
          21.79,
          128.7,
          81.46,
          40.98,
          22.77,
          19.53,
          26.43,
          28.92,
          17.86,
          14.47,
          18.32,
          31.72,
          53.65,
          21.69,
          34.44,
          25.2,
          15.75,
          49.7,
          76.36,
          54.22,
          19.42,
          27.24,
          40.73,
          83.16,
          52.72,
          30.29,
          26.44,
          12.33,
          68.46,
          15.09,
          20,
          111.7,
          17.12,
          525.6,
          58.53,
          31,
          22.69,
          21.46,
          22.79,
          124.4,
          109.9,
          17.4,
          21.03,
          15.05,
          32.19,
          24.68,
          48.29,
          11.86,
          19.88,
          18.51,
          25.13,
          31.98,
          8.605,
          15.46,
          70.01,
          12.64,
          22.07,
          155.8,
          83.5,
          29.96,
          49,
          27.19,
          9.006,
          16.39,
          39.93,
          60.41,
          23.22,
          13.56,
          16.35,
          16.64,
          18.62,
          137.9,
          26.99,
          92.81,
          33.63,
          71,
          35.74,
          106.4,
          59.46,
          138.5,
          23.02,
          52.34,
          44.41,
          90.94,
          22.18,
          45.42,
          199.7,
          27.1,
          26.76,
          18.24,
          20.74,
          10.77,
          13.17,
          156.8,
          16.39,
          45.81,
          48.84,
          17.09,
          36.74,
          22.22,
          19.41,
          69.65,
          37.83,
          53.16,
          28.09,
          23.29,
          22.45,
          21.91,
          12.68,
          34.68,
          17.49,
          77.11,
          24.87,
          17.67,
          13.88,
          13.38,
          17.74,
          11.09,
          49.11,
          20.56,
          20.56,
          133,
          28.32,
          130.8,
          10.08,
          22.93,
          18.21,
          15.5,
          9.789,
          20.39,
          33.01,
          11.28,
          28.9,
          25.18,
          9.438,
          17.81,
          12.69,
          15.82,
          48.9,
          24.2,
          31.16,
          22.68,
          74.85,
          16.57,
          69.06,
          19.01,
          17.61,
          23.92,
          16.97,
          44.41,
          57.72,
          33.27,
          20.65,
          19.62,
          15.07,
          13.24,
          87.17,
          14.41,
          88.25,
          16.85,
          164.1,
          32.14,
          12.07,
          10.8,
          67.66,
          24.53,
          19.33,
          18.02,
          29.06,
          12.25,
          26.65,
          26.03,
          51.22,
          153.1,
          63.37,
          28.84,
          27.49,
          21.57,
          20.74,
          30.18,
          30.48,
          28.3,
          20.98,
          17.26,
          33.58,
          13.22,
          72.44,
          103.6,
          18.57,
          224.1,
          130.2,
          45.5,
          17.72,
          39.06,
          77.02,
          14,
          14.91,
          7.228,
          14.91,
          11.35,
          13.99,
          16.04,
          11.68,
          9.549,
          19.2,
          15.26,
          33.01,
          19.96,
          23.12,
          22.97,
          70.1,
          11.88,
          28.85,
          66.91,
          80.99,
          22.22,
          12.67,
          19.29,
          30.57,
          12.98,
          25.06,
          41.51,
          18.95,
          20.21,
          11.36,
          30.15,
          25.78,
          21.83,
          41.24,
          49.81,
          25.79,
          13.66,
          13.54,
          6.802,
          28.51,
          45.38,
          19.53,
          25.17,
          176.5,
          17.37,
          18.99,
          20.3,
          49.45,
          15.89,
          19.36,
          43.52,
          11.6,
          20.77,
          20.2,
          9.704,
          23.24,
          24.19,
          15.43,
          52.49,
          103.9,
          23.92,
          18.85,
          26.5,
          32.74,
          29.63,
          19.25,
          18.15,
          58.38,
          29.34,
          13.12,
          35.77,
          19.39,
          43.95,
          19.75,
          23.04,
          81.89,
          20.24,
          56.18,
          13.86,
          25.7,
          13.32,
          28.93,
          23.13,
          17.58,
          21.19,
          11.28,
          115.2,
          542.2,
          20.52,
          12.89,
          16.89,
          23.81,
          27.4,
          20.98,
          104.9,
          27.85,
          22.73,
          44.96,
          23.31,
          35.13,
          9.597,
          11.64,
          31.01,
          14.03,
          14.34,
          33.12,
          16.26,
          28.41,
          12.84,
          20.64,
          13.87,
          30.19,
          19.98,
          67.74,
          27.57,
          22.95,
          18.04,
          50.95,
          89.74,
          24.6,
          26.07,
          21.84,
          18.4,
          11.91,
          95.77,
          75.09,
          34.84,
          39.05,
          18.49,
          180.2,
          20.04,
          17.67,
          12.58,
          12.3,
          20.67,
          32.52,
          13.04,
          20.72,
          33.67,
          37.11,
          38.49,
          18.19,
          67.36,
          59.7,
          34.37,
          28.62,
          19.63,
          139.9,
          9.332,
          26.45,
          15.24,
          7.254,
          16.07,
          8.955,
          44.74,
          18.54,
          30.66,
          15.34,
          17.25,
          100.4,
          10.09,
          87.78,
          18.54,
          20.95,
          19.14,
          11.73,
          20.86,
          23.11,
          27.41,
          17.85,
          23.12,
          31.24,
          12.97,
          7.326,
          18.24,
          33,
          20.67,
          17.85,
          18.76,
          17.86,
          16.83,
          14.46,
          16.8,
          29.11,
          19.54,
          16.97,
          29.84,
          22.81,
          22.65,
          118.8,
          158.7,
          99.04,
          48.55,
          86.22,
          19.15
         ]
        },
        {
         "name": "worst area",
         "type": "box",
         "y": [
          2019,
          1956,
          1709,
          567.7,
          1575,
          741.6,
          1606,
          897,
          739.3,
          711.4,
          1150,
          1299,
          1332,
          876.5,
          697.7,
          943.2,
          1138,
          1315,
          2398,
          711.2,
          630.5,
          314.9,
          980.9,
          2615,
          2215,
          1461,
          896.9,
          1403,
          1269,
          1227,
          1670,
          888.7,
          1344,
          1813,
          1261,
          1229,
          799.6,
          545.9,
          698.8,
          740.4,
          787.9,
          514,
          1651,
          907.2,
          740.7,
          1567,
          242.2,
          759.4,
          582.6,
          698.8,
          516.5,
          656.7,
          527.2,
          1321,
          1030,
          506.2,
          2145,
          985.5,
          624.1,
          274.9,
          368.6,
          273.9,
          959.5,
          310.1,
          888.3,
          925.1,
          330.7,
          466.7,
          324.7,
          554.9,
          1866,
          284.4,
          1681,
          812.4,
          611.1,
          1223,
          605.5,
          1610,
          1623,
          622.1,
          525.1,
          614.9,
          2562,
          1298,
          567.9,
          1603,
          808.9,
          1623,
          574.7,
          803.6,
          803.7,
          830.9,
          830.6,
          699.4,
          1025,
          1750,
          495.2,
          366.1,
          512.5,
          826.4,
          906.5,
          185.2,
          547.8,
          361.2,
          402.8,
          827.2,
          521.7,
          544.1,
          2360,
          518.1,
          367,
          527.4,
          709,
          374.4,
          284.4,
          583,
          270,
          1095,
          1272,
          1261,
          510.5,
          1549,
          2073,
          745.5,
          632.1,
          725.9,
          848.7,
          1538,
          762.6,
          1589,
          545.2,
          1156,
          1175,
          922.8,
          1590,
          653.6,
          546.7,
          462,
          971.4,
          434,
          342.9,
          1233,
          503,
          643.8,
          441.2,
          509.6,
          591.7,
          809.7,
          766.9,
          725.9,
          616.7,
          249.8,
          380.5,
          440.8,
          677.3,
          564.2,
          1302,
          1032,
          532.8,
          470,
          543.9,
          1495,
          2232,
          553,
          2403,
          782.1,
          414,
          1260,
          1660,
          793.7,
          549.1,
          993.6,
          1102,
          396.5,
          408.3,
          259.2,
          390.2,
          981.2,
          608.8,
          570.7,
          3216,
          2089,
          1269,
          467.2,
          973.1,
          437,
          1410,
          521.5,
          489.5,
          546.7,
          762.4,
          579.5,
          303.8,
          768.9,
          784.7,
          600.6,
          806.9,
          1228,
          1688,
          1044,
          638.4,
          1239,
          1986,
          1153,
          677.9,
          989.5,
          331.6,
          1210,
          639.3,
          932.7,
          1656,
          546.3,
          2499,
          1021,
          811.3,
          750.1,
          531.2,
          403.7,
          2009,
          2477,
          706.2,
          686.6,
          375.6,
          1088,
          708.8,
          873.2,
          395.4,
          808.2,
          624,
          706,
          1189,
          452.3,
          470.9,
          1872,
          335.9,
          715.5,
          2944,
          1750,
          764,
          1408,
          683.4,
          543.4,
          472.9,
          706,
          1417,
          402.8,
          602,
          639.1,
          455.7,
          491.8,
          2010,
          508.9,
          1933,
          1222,
          1972,
          826,
          1926,
          928.8,
          1226,
          1035,
          1844,
          1218,
          1295,
          988.6,
          1436,
          3432,
          424.8,
          661.5,
          597.5,
          410.4,
          684.6,
          457.5,
          2384,
          355.2,
          1320,
          472.4,
          458,
          1236,
          739.1,
          670,
          1724,
          533.7,
          1628,
          1031,
          595.6,
          564.1,
          546.1,
          577,
          437.6,
          459.3,
          767.3,
          809.8,
          585.4,
          517.8,
          553.7,
          661.1,
          392.2,
          553.6,
          819.7,
          362.7,
          2053,
          551.3,
          1696,
          375.4,
          489.8,
          476.5,
          636.9,
          285.5,
          698.7,
          672.4,
          483.1,
          840.8,
          618.8,
          467.8,
          240.1,
          544.2,
          513.1,
          1485,
          297.1,
          515.9,
          390.4,
          1657,
          599.5,
          1938,
          583.1,
          574.4,
          749.9,
          523.4,
          1121,
          975.2,
          1070,
          634.3,
          436.1,
          492.7,
          544.3,
          1362,
          576,
          1873,
          384,
          2906,
          862.1,
          353.6,
          440,
          1540,
          516.4,
          357.1,
          562.6,
          880.8,
          475.8,
          496.2,
          542.5,
          915.3,
          3234,
          1050,
          453.5,
          547.4,
          591.2,
          694.4,
          302,
          439.6,
          585.7,
          621.2,
          579.7,
          1009,
          663.5,
          1780,
          1671,
          624.6,
          3143,
          2227,
          1165,
          819.1,
          1535,
          1946,
          670.6,
          861.5,
          351.9,
          680.6,
          657,
          508.1,
          476.1,
          447.1,
          488.4,
          600.5,
          623.7,
          758.2,
          529.9,
          745.3,
          450,
          1313,
          394.5,
          317,
          1359,
          2081,
          559.5,
          684.5,
          675.2,
          591,
          496.7,
          562,
          1304,
          589.5,
          621.9,
          580.9,
          533.1,
          472.4,
          947.9,
          645.8,
          1349,
          610.2,
          521.3,
          471.4,
          301,
          867.1,
          931.4,
          522.9,
          359.4,
          1748,
          566.9,
          458,
          520.5,
          809.2,
          475.7,
          708.8,
          380.9,
          376.3,
          440.4,
          489.5,
          421.1,
          586.8,
          832.7,
          515.8,
          1479,
          1603,
          777.5,
          869.3,
          626.9,
          750,
          749.1,
          688.9,
          476.4,
          1284,
          706.6,
          366.3,
          1292,
          513.9,
          1437,
          829.5,
          830.5,
          2022,
          507.2,
          1421,
          523.7,
          749.9,
          633.5,
          705.6,
          527.8,
          632.9,
          628.5,
          349.9,
          1648,
          4254,
          734.6,
          495.1,
          687.6,
          733.5,
          689.1,
          380.2,
          1437,
          528.1,
          385.2,
          567.6,
          906.6,
          558.9,
          433.1,
          605.8,
          828.5,
          718.9,
          467.6,
          939.7,
          547.4,
          830.5,
          660.2,
          686.5,
          854.3,
          580.6,
          831,
          1740,
          549.8,
          1084,
          622.9,
          1210,
          1426,
          534,
          648.3,
          783.6,
          633.7,
          607.3,
          1600,
          1760,
          856.9,
          788,
          552,
          2782,
          300.2,
          328.1,
          515.3,
          411.1,
          928.2,
          909.4,
          473.8,
          760.2,
          844.4,
          862,
          967,
          478.6,
          1493,
          1646,
          674.7,
          624.1,
          326.6,
          2642,
          435.9,
          701.9,
          376.5,
          275.6,
          719.8,
          564.9,
          653.3,
          549.9,
          552.3,
          550.6,
          773.4,
          1645,
          407.5,
          1809,
          728.3,
          487.7,
          248,
          223.6,
          457.8,
          808.9,
          826.4,
          629.6,
          688.6,
          729.8,
          384.9,
          357.4,
          364.2,
          505.6,
          412.3,
          436.6,
          594.7,
          295.8,
          595.7,
          357.6,
          347.3,
          330.6,
          733.5,
          474.2,
          706.7,
          439.6,
          915,
          1819,
          2027,
          1731,
          1124,
          1821,
          268.6
         ]
        }
       ],
       "layout": {
        "template": {
         "data": {
          "bar": [
           {
            "error_x": {
             "color": "#2a3f5f"
            },
            "error_y": {
             "color": "#2a3f5f"
            },
            "marker": {
             "line": {
              "color": "#E5ECF6",
              "width": 0.5
             },
             "pattern": {
              "fillmode": "overlay",
              "size": 10,
              "solidity": 0.2
             }
            },
            "type": "bar"
           }
          ],
          "barpolar": [
           {
            "marker": {
             "line": {
              "color": "#E5ECF6",
              "width": 0.5
             },
             "pattern": {
              "fillmode": "overlay",
              "size": 10,
              "solidity": 0.2
             }
            },
            "type": "barpolar"
           }
          ],
          "carpet": [
           {
            "aaxis": {
             "endlinecolor": "#2a3f5f",
             "gridcolor": "white",
             "linecolor": "white",
             "minorgridcolor": "white",
             "startlinecolor": "#2a3f5f"
            },
            "baxis": {
             "endlinecolor": "#2a3f5f",
             "gridcolor": "white",
             "linecolor": "white",
             "minorgridcolor": "white",
             "startlinecolor": "#2a3f5f"
            },
            "type": "carpet"
           }
          ],
          "choropleth": [
           {
            "colorbar": {
             "outlinewidth": 0,
             "ticks": ""
            },
            "type": "choropleth"
           }
          ],
          "contour": [
           {
            "colorbar": {
             "outlinewidth": 0,
             "ticks": ""
            },
            "colorscale": [
             [
              0,
              "#0d0887"
             ],
             [
              0.1111111111111111,
              "#46039f"
             ],
             [
              0.2222222222222222,
              "#7201a8"
             ],
             [
              0.3333333333333333,
              "#9c179e"
             ],
             [
              0.4444444444444444,
              "#bd3786"
             ],
             [
              0.5555555555555556,
              "#d8576b"
             ],
             [
              0.6666666666666666,
              "#ed7953"
             ],
             [
              0.7777777777777778,
              "#fb9f3a"
             ],
             [
              0.8888888888888888,
              "#fdca26"
             ],
             [
              1,
              "#f0f921"
             ]
            ],
            "type": "contour"
           }
          ],
          "contourcarpet": [
           {
            "colorbar": {
             "outlinewidth": 0,
             "ticks": ""
            },
            "type": "contourcarpet"
           }
          ],
          "heatmap": [
           {
            "colorbar": {
             "outlinewidth": 0,
             "ticks": ""
            },
            "colorscale": [
             [
              0,
              "#0d0887"
             ],
             [
              0.1111111111111111,
              "#46039f"
             ],
             [
              0.2222222222222222,
              "#7201a8"
             ],
             [
              0.3333333333333333,
              "#9c179e"
             ],
             [
              0.4444444444444444,
              "#bd3786"
             ],
             [
              0.5555555555555556,
              "#d8576b"
             ],
             [
              0.6666666666666666,
              "#ed7953"
             ],
             [
              0.7777777777777778,
              "#fb9f3a"
             ],
             [
              0.8888888888888888,
              "#fdca26"
             ],
             [
              1,
              "#f0f921"
             ]
            ],
            "type": "heatmap"
           }
          ],
          "heatmapgl": [
           {
            "colorbar": {
             "outlinewidth": 0,
             "ticks": ""
            },
            "colorscale": [
             [
              0,
              "#0d0887"
             ],
             [
              0.1111111111111111,
              "#46039f"
             ],
             [
              0.2222222222222222,
              "#7201a8"
             ],
             [
              0.3333333333333333,
              "#9c179e"
             ],
             [
              0.4444444444444444,
              "#bd3786"
             ],
             [
              0.5555555555555556,
              "#d8576b"
             ],
             [
              0.6666666666666666,
              "#ed7953"
             ],
             [
              0.7777777777777778,
              "#fb9f3a"
             ],
             [
              0.8888888888888888,
              "#fdca26"
             ],
             [
              1,
              "#f0f921"
             ]
            ],
            "type": "heatmapgl"
           }
          ],
          "histogram": [
           {
            "marker": {
             "pattern": {
              "fillmode": "overlay",
              "size": 10,
              "solidity": 0.2
             }
            },
            "type": "histogram"
           }
          ],
          "histogram2d": [
           {
            "colorbar": {
             "outlinewidth": 0,
             "ticks": ""
            },
            "colorscale": [
             [
              0,
              "#0d0887"
             ],
             [
              0.1111111111111111,
              "#46039f"
             ],
             [
              0.2222222222222222,
              "#7201a8"
             ],
             [
              0.3333333333333333,
              "#9c179e"
             ],
             [
              0.4444444444444444,
              "#bd3786"
             ],
             [
              0.5555555555555556,
              "#d8576b"
             ],
             [
              0.6666666666666666,
              "#ed7953"
             ],
             [
              0.7777777777777778,
              "#fb9f3a"
             ],
             [
              0.8888888888888888,
              "#fdca26"
             ],
             [
              1,
              "#f0f921"
             ]
            ],
            "type": "histogram2d"
           }
          ],
          "histogram2dcontour": [
           {
            "colorbar": {
             "outlinewidth": 0,
             "ticks": ""
            },
            "colorscale": [
             [
              0,
              "#0d0887"
             ],
             [
              0.1111111111111111,
              "#46039f"
             ],
             [
              0.2222222222222222,
              "#7201a8"
             ],
             [
              0.3333333333333333,
              "#9c179e"
             ],
             [
              0.4444444444444444,
              "#bd3786"
             ],
             [
              0.5555555555555556,
              "#d8576b"
             ],
             [
              0.6666666666666666,
              "#ed7953"
             ],
             [
              0.7777777777777778,
              "#fb9f3a"
             ],
             [
              0.8888888888888888,
              "#fdca26"
             ],
             [
              1,
              "#f0f921"
             ]
            ],
            "type": "histogram2dcontour"
           }
          ],
          "mesh3d": [
           {
            "colorbar": {
             "outlinewidth": 0,
             "ticks": ""
            },
            "type": "mesh3d"
           }
          ],
          "parcoords": [
           {
            "line": {
             "colorbar": {
              "outlinewidth": 0,
              "ticks": ""
             }
            },
            "type": "parcoords"
           }
          ],
          "pie": [
           {
            "automargin": true,
            "type": "pie"
           }
          ],
          "scatter": [
           {
            "fillpattern": {
             "fillmode": "overlay",
             "size": 10,
             "solidity": 0.2
            },
            "type": "scatter"
           }
          ],
          "scatter3d": [
           {
            "line": {
             "colorbar": {
              "outlinewidth": 0,
              "ticks": ""
             }
            },
            "marker": {
             "colorbar": {
              "outlinewidth": 0,
              "ticks": ""
             }
            },
            "type": "scatter3d"
           }
          ],
          "scattercarpet": [
           {
            "marker": {
             "colorbar": {
              "outlinewidth": 0,
              "ticks": ""
             }
            },
            "type": "scattercarpet"
           }
          ],
          "scattergeo": [
           {
            "marker": {
             "colorbar": {
              "outlinewidth": 0,
              "ticks": ""
             }
            },
            "type": "scattergeo"
           }
          ],
          "scattergl": [
           {
            "marker": {
             "colorbar": {
              "outlinewidth": 0,
              "ticks": ""
             }
            },
            "type": "scattergl"
           }
          ],
          "scattermapbox": [
           {
            "marker": {
             "colorbar": {
              "outlinewidth": 0,
              "ticks": ""
             }
            },
            "type": "scattermapbox"
           }
          ],
          "scatterpolar": [
           {
            "marker": {
             "colorbar": {
              "outlinewidth": 0,
              "ticks": ""
             }
            },
            "type": "scatterpolar"
           }
          ],
          "scatterpolargl": [
           {
            "marker": {
             "colorbar": {
              "outlinewidth": 0,
              "ticks": ""
             }
            },
            "type": "scatterpolargl"
           }
          ],
          "scatterternary": [
           {
            "marker": {
             "colorbar": {
              "outlinewidth": 0,
              "ticks": ""
             }
            },
            "type": "scatterternary"
           }
          ],
          "surface": [
           {
            "colorbar": {
             "outlinewidth": 0,
             "ticks": ""
            },
            "colorscale": [
             [
              0,
              "#0d0887"
             ],
             [
              0.1111111111111111,
              "#46039f"
             ],
             [
              0.2222222222222222,
              "#7201a8"
             ],
             [
              0.3333333333333333,
              "#9c179e"
             ],
             [
              0.4444444444444444,
              "#bd3786"
             ],
             [
              0.5555555555555556,
              "#d8576b"
             ],
             [
              0.6666666666666666,
              "#ed7953"
             ],
             [
              0.7777777777777778,
              "#fb9f3a"
             ],
             [
              0.8888888888888888,
              "#fdca26"
             ],
             [
              1,
              "#f0f921"
             ]
            ],
            "type": "surface"
           }
          ],
          "table": [
           {
            "cells": {
             "fill": {
              "color": "#EBF0F8"
             },
             "line": {
              "color": "white"
             }
            },
            "header": {
             "fill": {
              "color": "#C8D4E3"
             },
             "line": {
              "color": "white"
             }
            },
            "type": "table"
           }
          ]
         },
         "layout": {
          "annotationdefaults": {
           "arrowcolor": "#2a3f5f",
           "arrowhead": 0,
           "arrowwidth": 1
          },
          "autotypenumbers": "strict",
          "coloraxis": {
           "colorbar": {
            "outlinewidth": 0,
            "ticks": ""
           }
          },
          "colorscale": {
           "diverging": [
            [
             0,
             "#8e0152"
            ],
            [
             0.1,
             "#c51b7d"
            ],
            [
             0.2,
             "#de77ae"
            ],
            [
             0.3,
             "#f1b6da"
            ],
            [
             0.4,
             "#fde0ef"
            ],
            [
             0.5,
             "#f7f7f7"
            ],
            [
             0.6,
             "#e6f5d0"
            ],
            [
             0.7,
             "#b8e186"
            ],
            [
             0.8,
             "#7fbc41"
            ],
            [
             0.9,
             "#4d9221"
            ],
            [
             1,
             "#276419"
            ]
           ],
           "sequential": [
            [
             0,
             "#0d0887"
            ],
            [
             0.1111111111111111,
             "#46039f"
            ],
            [
             0.2222222222222222,
             "#7201a8"
            ],
            [
             0.3333333333333333,
             "#9c179e"
            ],
            [
             0.4444444444444444,
             "#bd3786"
            ],
            [
             0.5555555555555556,
             "#d8576b"
            ],
            [
             0.6666666666666666,
             "#ed7953"
            ],
            [
             0.7777777777777778,
             "#fb9f3a"
            ],
            [
             0.8888888888888888,
             "#fdca26"
            ],
            [
             1,
             "#f0f921"
            ]
           ],
           "sequentialminus": [
            [
             0,
             "#0d0887"
            ],
            [
             0.1111111111111111,
             "#46039f"
            ],
            [
             0.2222222222222222,
             "#7201a8"
            ],
            [
             0.3333333333333333,
             "#9c179e"
            ],
            [
             0.4444444444444444,
             "#bd3786"
            ],
            [
             0.5555555555555556,
             "#d8576b"
            ],
            [
             0.6666666666666666,
             "#ed7953"
            ],
            [
             0.7777777777777778,
             "#fb9f3a"
            ],
            [
             0.8888888888888888,
             "#fdca26"
            ],
            [
             1,
             "#f0f921"
            ]
           ]
          },
          "colorway": [
           "#636efa",
           "#EF553B",
           "#00cc96",
           "#ab63fa",
           "#FFA15A",
           "#19d3f3",
           "#FF6692",
           "#B6E880",
           "#FF97FF",
           "#FECB52"
          ],
          "font": {
           "color": "#2a3f5f"
          },
          "geo": {
           "bgcolor": "white",
           "lakecolor": "white",
           "landcolor": "#E5ECF6",
           "showlakes": true,
           "showland": true,
           "subunitcolor": "white"
          },
          "hoverlabel": {
           "align": "left"
          },
          "hovermode": "closest",
          "mapbox": {
           "style": "light"
          },
          "paper_bgcolor": "white",
          "plot_bgcolor": "#E5ECF6",
          "polar": {
           "angularaxis": {
            "gridcolor": "white",
            "linecolor": "white",
            "ticks": ""
           },
           "bgcolor": "#E5ECF6",
           "radialaxis": {
            "gridcolor": "white",
            "linecolor": "white",
            "ticks": ""
           }
          },
          "scene": {
           "xaxis": {
            "backgroundcolor": "#E5ECF6",
            "gridcolor": "white",
            "gridwidth": 2,
            "linecolor": "white",
            "showbackground": true,
            "ticks": "",
            "zerolinecolor": "white"
           },
           "yaxis": {
            "backgroundcolor": "#E5ECF6",
            "gridcolor": "white",
            "gridwidth": 2,
            "linecolor": "white",
            "showbackground": true,
            "ticks": "",
            "zerolinecolor": "white"
           },
           "zaxis": {
            "backgroundcolor": "#E5ECF6",
            "gridcolor": "white",
            "gridwidth": 2,
            "linecolor": "white",
            "showbackground": true,
            "ticks": "",
            "zerolinecolor": "white"
           }
          },
          "shapedefaults": {
           "line": {
            "color": "#2a3f5f"
           }
          },
          "ternary": {
           "aaxis": {
            "gridcolor": "white",
            "linecolor": "white",
            "ticks": ""
           },
           "baxis": {
            "gridcolor": "white",
            "linecolor": "white",
            "ticks": ""
           },
           "bgcolor": "#E5ECF6",
           "caxis": {
            "gridcolor": "white",
            "linecolor": "white",
            "ticks": ""
           }
          },
          "title": {
           "x": 0.05
          },
          "xaxis": {
           "automargin": true,
           "gridcolor": "white",
           "linecolor": "white",
           "ticks": "",
           "title": {
            "standoff": 15
           },
           "zerolinecolor": "white",
           "zerolinewidth": 2
          },
          "yaxis": {
           "automargin": true,
           "gridcolor": "white",
           "linecolor": "white",
           "ticks": "",
           "title": {
            "standoff": 15
           },
           "zerolinecolor": "white",
           "zerolinewidth": 2
          }
         }
        },
        "title": {
         "text": "Statistics for the area features"
        }
       }
      }
     },
     "metadata": {},
     "output_type": "display_data"
    }
   ],
   "source": [
    "layout = go.Layout(title = 'Statistics for the area features')\n",
    "fig = go.Figure(layout = layout)\n",
    "\n",
    "#colors = [\"lightseagreen\", \"goldenrod\",  'aqua']\n",
    "\n",
    "for i, elem in enumerate(area_col): \n",
    "    fig.add_trace(go.Box(y=cancer_df[elem], name=elem,))\n",
    "            #    marker_color = colors[i]))\n",
    "\n",
    "fig.write_html(\"box.html\")\n",
    "fig.show()"
   ]
  },
  {
   "cell_type": "code",
   "execution_count": 52,
   "metadata": {
    "colab": {
     "base_uri": "https://localhost:8080/",
     "height": 542
    },
    "colab_type": "code",
    "executionInfo": {
     "elapsed": 4505,
     "status": "ok",
     "timestamp": 1600160563353,
     "user": {
      "displayName": "Clara Piniella",
      "photoUrl": "https://lh3.googleusercontent.com/a-/AOh14GjZPvtfXzLnQ9Q1a_2oR-Aa6UCX0_HyTfsCraMd=s64",
      "userId": "06217688725952462825"
     },
     "user_tz": -120
    },
    "id": "Oj8N-Zbz__PZ",
    "outputId": "a3352ea6-e70a-40ed-9962-f9b10574d542"
   },
   "outputs": [
    {
     "data": {
      "application/vnd.plotly.v1+json": {
       "config": {
        "plotlyServerURL": "https://plot.ly"
       },
       "data": [
        {
         "colorscale": [
          [
           0,
           "#440154"
          ],
          [
           0.1111111111111111,
           "#482878"
          ],
          [
           0.2222222222222222,
           "#3e4989"
          ],
          [
           0.3333333333333333,
           "#31688e"
          ],
          [
           0.4444444444444444,
           "#26828e"
          ],
          [
           0.5555555555555556,
           "#1f9e89"
          ],
          [
           0.6666666666666666,
           "#35b779"
          ],
          [
           0.7777777777777778,
           "#6ece58"
          ],
          [
           0.8888888888888888,
           "#b5de2b"
          ],
          [
           1,
           "#fde725"
          ]
         ],
         "type": "heatmap",
         "x": [
          "mean radius",
          "mean texture",
          "mean perimeter",
          "mean area",
          "mean smoothness",
          "mean compactness",
          "mean concavity",
          "mean concave points",
          "mean symmetry",
          "mean fractal dimension",
          "radius error",
          "texture error",
          "perimeter error",
          "area error",
          "smoothness error",
          "compactness error",
          "concavity error",
          "concave points error",
          "symmetry error",
          "fractal dimension error",
          "worst radius",
          "worst texture",
          "worst perimeter",
          "worst area",
          "worst smoothness",
          "worst compactness",
          "worst concavity",
          "worst concave points",
          "worst symmetry",
          "worst fractal dimension",
          "target"
         ],
         "y": [
          "mean radius",
          "mean texture",
          "mean perimeter",
          "mean area",
          "mean smoothness",
          "mean compactness",
          "mean concavity",
          "mean concave points",
          "mean symmetry",
          "mean fractal dimension",
          "radius error",
          "texture error",
          "perimeter error",
          "area error",
          "smoothness error",
          "compactness error",
          "concavity error",
          "concave points error",
          "symmetry error",
          "fractal dimension error",
          "worst radius",
          "worst texture",
          "worst perimeter",
          "worst area",
          "worst smoothness",
          "worst compactness",
          "worst concavity",
          "worst concave points",
          "worst symmetry",
          "worst fractal dimension",
          "target"
         ],
         "z": [
          [
           1,
           0.32378189092773324,
           0.9978552814938109,
           0.9873571700566127,
           0.17058118749299467,
           0.5061235775263634,
           0.6767635503908104,
           0.8225285223871786,
           0.14774124199260202,
           -0.3116308263092899,
           0.6790903880020743,
           -0.09731744314481319,
           0.6741716157641048,
           0.7358636632128178,
           -0.2226001245821115,
           0.2059999804076988,
           0.19420362276150882,
           0.3761689559399253,
           -0.10432088141786551,
           -0.042641269114456294,
           0.9695389726112055,
           0.29700764398637336,
           0.9651365139559871,
           0.9410824595860461,
           0.11961613992160802,
           0.4134628230608015,
           0.5269114618385448,
           0.7442141978674661,
           0.1639533349363072,
           0.007065885692182479,
           -0.7300285113754563
          ],
          [
           0.32378189092773324,
           1,
           0.3295330586865707,
           0.32108569608020704,
           -0.023388515998423325,
           0.236702222074372,
           0.30241782794389144,
           0.29346405131394276,
           0.07140098048331764,
           -0.07643718344813423,
           0.27586867617376243,
           0.3863576227244906,
           0.28167311478720275,
           0.2598449866100985,
           0.006613777353585514,
           0.19197461132396684,
           0.14329307656049867,
           0.16385102528521822,
           0.009127167755035895,
           0.054457519568933854,
           0.35257294715029586,
           0.912044588840421,
           0.35803957505322415,
           0.3435459471864696,
           0.077503358822129,
           0.2778295924789794,
           0.30102522381649116,
           0.2953158433377364,
           0.10500791031597205,
           0.11920535139708567,
           -0.4151852998452051
          ],
          [
           0.9978552814938109,
           0.3295330586865707,
           1,
           0.9865068039913907,
           0.2072781636910072,
           0.556936210879562,
           0.7161356501174047,
           0.8509770412528191,
           0.18302721211685316,
           -0.26147690806633256,
           0.6917650135334819,
           -0.08676107831179455,
           0.6931348895408653,
           0.7449826941190683,
           -0.20269402629832212,
           0.25074368074058806,
           0.22808234539365832,
           0.407216915998619,
           -0.08162932702839931,
           -0.005523391057003881,
           0.9694763634663146,
           0.30303837155715024,
           0.9703868870426394,
           0.9415498080023068,
           0.1505494043170374,
           0.45577422803832723,
           0.5638792634736619,
           0.7712407893605497,
           0.18911504046245775,
           0.05101852972340705,
           -0.7426355297258337
          ],
          [
           0.9873571700566127,
           0.32108569608020704,
           0.9865068039913907,
           1,
           0.1770283772540016,
           0.49850168215241186,
           0.6859828285519112,
           0.8232688686524342,
           0.15129307903511224,
           -0.2831098116914261,
           0.7325622269972968,
           -0.06628021360457731,
           0.7266283277906844,
           0.8000859212343201,
           -0.1667766666011128,
           0.21258255077923266,
           0.20766006048256927,
           0.3723202823307104,
           -0.07249658821176244,
           -0.019886963235068042,
           0.9627460860470841,
           0.287488627121397,
           0.9591195743552645,
           0.9592133256498998,
           0.12352293875557084,
           0.39041030924249864,
           0.5126059204433239,
           0.7220166262603579,
           0.1435699138890717,
           0.003737597351571729,
           -0.7089838365853907
          ],
          [
           0.17058118749299467,
           -0.023388515998423325,
           0.2072781636910072,
           0.1770283772540016,
           1,
           0.6591232152159234,
           0.52198376771426,
           0.5536951727437609,
           0.5577747880728878,
           0.5847920019499775,
           0.30146709825316975,
           0.06840644817118251,
           0.29609193289351476,
           0.24655243166573562,
           0.3323754426475922,
           0.31894329670537874,
           0.24839567988255598,
           0.38067569098328613,
           0.20077437592048314,
           0.2836066985468851,
           0.21312014189594916,
           0.03607179878564654,
           0.23885262620915101,
           0.20671836342857688,
           0.8053241954943627,
           0.4724684437304436,
           0.4349257147250878,
           0.503053353298951,
           0.39430948181175646,
           0.4993163685937669,
           -0.35855996508593285
          ],
          [
           0.5061235775263634,
           0.236702222074372,
           0.556936210879562,
           0.49850168215241186,
           0.6591232152159234,
           1,
           0.8831206701772507,
           0.831135043133698,
           0.6026410484055158,
           0.565368663414522,
           0.49747344608506183,
           0.04620483071640705,
           0.5489052645888235,
           0.45565285198788846,
           0.13529926770047143,
           0.7387217896603929,
           0.5705168714898889,
           0.642261850971647,
           0.22997659080143223,
           0.5073181269004216,
           0.5353153982176662,
           0.2481328332774173,
           0.590210427731298,
           0.50960380555792,
           0.5655411663750888,
           0.8658090398022629,
           0.8162752498000281,
           0.8155732235690644,
           0.5102234299218061,
           0.6873823227538974,
           -0.5965336775082528
          ],
          [
           0.6767635503908104,
           0.30241782794389144,
           0.7161356501174047,
           0.6859828285519112,
           0.52198376771426,
           0.8831206701772507,
           1,
           0.9213910263788588,
           0.5006666171419609,
           0.33678335942118504,
           0.6319248221414899,
           0.07621834813534026,
           0.6603907872419604,
           0.6174268058452413,
           0.09856374579911734,
           0.6702788246430194,
           0.6912702075448502,
           0.6832599165123261,
           0.17800920792087752,
           0.4493007490503378,
           0.6882364076436722,
           0.2998788887096908,
           0.7295649165132018,
           0.6759872313060872,
           0.44882203840476004,
           0.7549680159063962,
           0.8841026390943817,
           0.861323033637951,
           0.4094641265399853,
           0.5149298906363856,
           -0.6963597071719053
          ],
          [
           0.8225285223871786,
           0.29346405131394276,
           0.8509770412528191,
           0.8232688686524342,
           0.5536951727437609,
           0.831135043133698,
           0.9213910263788588,
           1,
           0.4624973883673585,
           0.1669173832269923,
           0.6980498335607404,
           0.021479581923401776,
           0.710649871613898,
           0.6902985397595536,
           0.027653308387136005,
           0.49042424959357145,
           0.43916706847426173,
           0.6156341308969191,
           0.09535078688667675,
           0.2575837462430327,
           0.8303176311186159,
           0.2927517130015173,
           0.8559231281343119,
           0.809629619909618,
           0.4527530541790488,
           0.6674536768257124,
           0.7523994975749643,
           0.9101553142985918,
           0.3757441454236111,
           0.36866113371677106,
           -0.7766138400204369
          ],
          [
           0.14774124199260202,
           0.07140098048331764,
           0.18302721211685316,
           0.15129307903511224,
           0.5577747880728878,
           0.6026410484055158,
           0.5006666171419609,
           0.4624973883673585,
           1,
           0.47992133005096926,
           0.30337926320726244,
           0.1280529263402561,
           0.3138927607965131,
           0.22397021941762965,
           0.18732116526139078,
           0.4216591470050108,
           0.3426270230777206,
           0.39329787208901684,
           0.44913654239342854,
           0.3317861462731239,
           0.18572775349568738,
           0.0906506881166432,
           0.21916855911105818,
           0.1771933773740968,
           0.4266750263849464,
           0.4732000132446185,
           0.433721007590172,
           0.4302966114579543,
           0.6998257976437302,
           0.4384134984446025,
           -0.3304985542625469
          ],
          [
           -0.3116308263092899,
           -0.07643718344813423,
           -0.26147690806633256,
           -0.2831098116914261,
           0.5847920019499775,
           0.565368663414522,
           0.33678335942118504,
           0.1669173832269923,
           0.47992133005096926,
           1,
           0.0001109950726296278,
           0.16417396587172883,
           0.03982993157204734,
           -0.09017024752042703,
           0.4019644254484126,
           0.5598366906211326,
           0.44663032169957156,
           0.34119804439711815,
           0.34500739714372797,
           0.6881315774585519,
           -0.25369149487660986,
           -0.05126920203676535,
           -0.20515121126277344,
           -0.2318544511675603,
           0.5049420753517612,
           0.4587981566678596,
           0.3462338763480676,
           0.17532544924324475,
           0.3340186838510839,
           0.7672967792384361,
           0.0128376026984319
          ],
          [
           0.6790903880020743,
           0.27586867617376243,
           0.6917650135334819,
           0.7325622269972968,
           0.30146709825316975,
           0.49747344608506183,
           0.6319248221414899,
           0.6980498335607404,
           0.30337926320726244,
           0.0001109950726296278,
           1,
           0.21324733725115802,
           0.9727936770160764,
           0.951830112110991,
           0.16451421981281164,
           0.35606457553220283,
           0.3323575376076105,
           0.5133464414367649,
           0.24056736245007102,
           0.22775353267198026,
           0.715065195135185,
           0.19479855683425132,
           0.7196838036650044,
           0.7515484761266196,
           0.14191855291860658,
           0.28710316560074034,
           0.38058463462872194,
           0.5310623278216046,
           0.09454283035438187,
           0.049559432464573124,
           -0.5671338208247177
          ],
          [
           -0.09731744314481319,
           0.3863576227244906,
           -0.08676107831179455,
           -0.06628021360457731,
           0.06840644817118251,
           0.04620483071640705,
           0.07621834813534026,
           0.021479581923401776,
           0.1280529263402561,
           0.16417396587172883,
           0.21324733725115802,
           1,
           0.223170728630714,
           0.11156724721803947,
           0.3972428526412099,
           0.2316996989762371,
           0.19499846445881905,
           0.2302833995570338,
           0.41162068019753933,
           0.2797227477191938,
           -0.11169031312493002,
           0.4090027663153059,
           -0.10224192188743278,
           -0.08319498858504636,
           -0.07365765910118513,
           -0.09243935361819372,
           -0.06895622054645592,
           -0.11963752313984607,
           -0.12821475779252947,
           -0.045654568593207025,
           0.008303332973877023
          ],
          [
           0.6741716157641048,
           0.28167311478720275,
           0.6931348895408653,
           0.7266283277906844,
           0.29609193289351476,
           0.5489052645888235,
           0.6603907872419604,
           0.710649871613898,
           0.3138927607965131,
           0.03982993157204734,
           0.9727936770160764,
           0.223170728630714,
           1,
           0.9376554069544157,
           0.15107533120841296,
           0.41632236799246164,
           0.3624815822704489,
           0.5562640836543961,
           0.2664870918640224,
           0.24414277341628535,
           0.6972005927206456,
           0.2003708539594511,
           0.7210313099890175,
           0.7307129731302829,
           0.1300543919910096,
           0.3419194453712055,
           0.4188988157305714,
           0.5548972306282103,
           0.1099304342313503,
           0.0854325720566574,
           -0.5561407034314834
          ],
          [
           0.7358636632128178,
           0.2598449866100985,
           0.7449826941190683,
           0.8000859212343201,
           0.24655243166573562,
           0.45565285198788846,
           0.6174268058452413,
           0.6902985397595536,
           0.22397021941762965,
           -0.09017024752042703,
           0.951830112110991,
           0.11156724721803947,
           0.9376554069544157,
           1,
           0.07515033812199375,
           0.28484005654116107,
           0.270894726190632,
           0.4157295683714005,
           0.1341089796924749,
           0.12707090297801246,
           0.7573731889240164,
           0.19649664907281025,
           0.7612126360687592,
           0.8114079609317274,
           0.12538943051609117,
           0.28325653753745555,
           0.38510013559852924,
           0.5381663138957359,
           0.07412629159952816,
           0.017539295132385505,
           -0.5482359402780242
          ],
          [
           -0.2226001245821115,
           0.006613777353585514,
           -0.20269402629832212,
           -0.1667766666011128,
           0.3323754426475922,
           0.13529926770047143,
           0.09856374579911734,
           0.027653308387136005,
           0.18732116526139078,
           0.4019644254484126,
           0.16451421981281164,
           0.3972428526412099,
           0.15107533120841296,
           0.07515033812199375,
           1,
           0.33669608050544514,
           0.2686847598722627,
           0.3284294991096789,
           0.4135061252078973,
           0.4273742067231582,
           -0.2306907098451477,
           -0.07474296487675623,
           -0.21730375458186166,
           -0.182195478059099,
           0.31445745598082797,
           -0.05555813871505085,
           -0.05829838674344549,
           -0.10200679633746537,
           -0.10734209778914477,
           0.10148031504252508,
           0.06701601057948756
          ],
          [
           0.2059999804076988,
           0.19197461132396684,
           0.25074368074058806,
           0.21258255077923266,
           0.31894329670537874,
           0.7387217896603929,
           0.6702788246430194,
           0.49042424959357145,
           0.4216591470050108,
           0.5598366906211326,
           0.35606457553220283,
           0.2316996989762371,
           0.41632236799246164,
           0.28484005654116107,
           0.33669608050544514,
           1,
           0.8012683427383291,
           0.7440826676953253,
           0.3947128347620316,
           0.8032688176617679,
           0.20460716594748168,
           0.1430025832957166,
           0.26051583964720865,
           0.19937132909101393,
           0.22739423230542308,
           0.6787803543724954,
           0.6391466977559193,
           0.48320832682561315,
           0.277878430714635,
           0.5909727625047895,
           -0.29299924424885865
          ],
          [
           0.19420362276150882,
           0.14329307656049867,
           0.22808234539365832,
           0.20766006048256927,
           0.24839567988255598,
           0.5705168714898889,
           0.6912702075448502,
           0.43916706847426173,
           0.3426270230777206,
           0.44663032169957156,
           0.3323575376076105,
           0.19499846445881905,
           0.3624815822704489,
           0.270894726190632,
           0.2686847598722627,
           0.8012683427383291,
           1,
           0.7718039949238469,
           0.30942857798445156,
           0.727372183881192,
           0.1869035156858978,
           0.10024098374834615,
           0.22668042559090154,
           0.18835265208953067,
           0.16848132079136754,
           0.4848578006864688,
           0.6625641337427411,
           0.44047226304622294,
           0.19778782186141097,
           0.43932926857579074,
           -0.2537297659808306
          ],
          [
           0.3761689559399253,
           0.16385102528521822,
           0.407216915998619,
           0.3723202823307104,
           0.38067569098328613,
           0.642261850971647,
           0.6832599165123261,
           0.6156341308969191,
           0.39329787208901684,
           0.34119804439711815,
           0.5133464414367649,
           0.2302833995570338,
           0.5562640836543961,
           0.4157295683714005,
           0.3284294991096789,
           0.7440826676953253,
           0.7718039949238469,
           1,
           0.3127802232097334,
           0.611044139380723,
           0.3581266692410426,
           0.08674120994286846,
           0.3949992517741845,
           0.3422711620926815,
           0.21535059681593355,
           0.4528883773698806,
           0.5495923752351922,
           0.6024496059209876,
           0.14311566863305003,
           0.31065455149383064,
           -0.4080423327165051
          ],
          [
           -0.10432088141786551,
           0.009127167755035895,
           -0.08162932702839931,
           -0.07249658821176244,
           0.20077437592048314,
           0.22997659080143223,
           0.17800920792087752,
           0.09535078688667675,
           0.44913654239342854,
           0.34500739714372797,
           0.24056736245007102,
           0.41162068019753933,
           0.2664870918640224,
           0.1341089796924749,
           0.4135061252078973,
           0.3947128347620316,
           0.30942857798445156,
           0.3127802232097334,
           1,
           0.3690780833657291,
           -0.1281207690727424,
           -0.0774734201840788,
           -0.10375304384332498,
           -0.11034274289549834,
           -0.012661799565908998,
           0.06025487946536686,
           0.03711904859992839,
           -0.03041339642360094,
           0.38940248488464646,
           0.07807947627266758,
           0.0065217558706478955
          ],
          [
           -0.042641269114456294,
           0.054457519568933854,
           -0.005523391057003881,
           -0.019886963235068042,
           0.2836066985468851,
           0.5073181269004216,
           0.4493007490503378,
           0.2575837462430327,
           0.3317861462731239,
           0.6881315774585519,
           0.22775353267198026,
           0.2797227477191938,
           0.24414277341628535,
           0.12707090297801246,
           0.4273742067231582,
           0.8032688176617679,
           0.727372183881192,
           0.611044139380723,
           0.3690780833657291,
           1,
           -0.037487617862673565,
           -0.0031950288680895906,
           -0.0010003976259669379,
           -0.022736147308900636,
           0.17056831595314176,
           0.39015884208667484,
           0.3799746614570792,
           0.21520401331002892,
           0.11109395575572399,
           0.5913280656608751,
           -0.07797241739025575
          ],
          [
           0.9695389726112055,
           0.35257294715029586,
           0.9694763634663146,
           0.9627460860470841,
           0.21312014189594916,
           0.5353153982176662,
           0.6882364076436722,
           0.8303176311186159,
           0.18572775349568738,
           -0.25369149487660986,
           0.715065195135185,
           -0.11169031312493002,
           0.6972005927206456,
           0.7573731889240164,
           -0.2306907098451477,
           0.20460716594748168,
           0.1869035156858978,
           0.3581266692410426,
           -0.1281207690727424,
           -0.037487617862673565,
           1,
           0.3599207542210483,
           0.993707916102949,
           0.9840145644590742,
           0.21657443125969564,
           0.47582003746014645,
           0.5739747080993033,
           0.7874238517122407,
           0.2435292042913138,
           0.09349197867930178,
           -0.77645377859504
          ],
          [
           0.29700764398637336,
           0.912044588840421,
           0.30303837155715024,
           0.287488627121397,
           0.03607179878564654,
           0.2481328332774173,
           0.2998788887096908,
           0.2927517130015173,
           0.0906506881166432,
           -0.05126920203676535,
           0.19479855683425132,
           0.4090027663153059,
           0.2003708539594511,
           0.19649664907281025,
           -0.07474296487675623,
           0.1430025832957166,
           0.10024098374834615,
           0.08674120994286846,
           -0.0774734201840788,
           -0.0031950288680895906,
           0.3599207542210483,
           1,
           0.3650982454086192,
           0.3458422825267967,
           0.22542941490948662,
           0.36083233859797315,
           0.3683656074599454,
           0.3597546095250358,
           0.23302746144531727,
           0.21912242546315883,
           -0.4569028213967986
          ],
          [
           0.9651365139559871,
           0.35803957505322415,
           0.9703868870426394,
           0.9591195743552645,
           0.23885262620915101,
           0.590210427731298,
           0.7295649165132018,
           0.8559231281343119,
           0.21916855911105818,
           -0.20515121126277344,
           0.7196838036650044,
           -0.10224192188743278,
           0.7210313099890175,
           0.7612126360687592,
           -0.21730375458186166,
           0.26051583964720865,
           0.22668042559090154,
           0.3949992517741845,
           -0.10375304384332498,
           -0.0010003976259669379,
           0.993707916102949,
           0.3650982454086192,
           1,
           0.9775780914063871,
           0.23677460388606966,
           0.5294076901641023,
           0.6183440795335158,
           0.8163221016875439,
           0.26949276908381714,
           0.13895686184575767,
           -0.7829141371737594
          ],
          [
           0.9410824595860461,
           0.3435459471864696,
           0.9415498080023068,
           0.9592133256498998,
           0.20671836342857688,
           0.50960380555792,
           0.6759872313060872,
           0.809629619909618,
           0.1771933773740968,
           -0.2318544511675603,
           0.7515484761266196,
           -0.08319498858504636,
           0.7307129731302829,
           0.8114079609317274,
           -0.182195478059099,
           0.19937132909101393,
           0.18835265208953067,
           0.3422711620926815,
           -0.11034274289549834,
           -0.022736147308900636,
           0.9840145644590742,
           0.3458422825267967,
           0.9775780914063871,
           1,
           0.20914533376028963,
           0.4382962837796741,
           0.5433305254110798,
           0.7474188023228167,
           0.2091455083870789,
           0.07964703402467602,
           -0.7338250349210507
          ],
          [
           0.11961613992160802,
           0.077503358822129,
           0.1505494043170374,
           0.12352293875557084,
           0.8053241954943627,
           0.5655411663750888,
           0.44882203840476004,
           0.4527530541790488,
           0.4266750263849464,
           0.5049420753517612,
           0.14191855291860658,
           -0.07365765910118513,
           0.1300543919910096,
           0.12538943051609117,
           0.31445745598082797,
           0.22739423230542308,
           0.16848132079136754,
           0.21535059681593355,
           -0.012661799565908998,
           0.17056831595314176,
           0.21657443125969564,
           0.22542941490948662,
           0.23677460388606966,
           0.20914533376028963,
           1,
           0.5681865166856064,
           0.5185232928640015,
           0.5476909029497875,
           0.4938383302357591,
           0.6176241916554379,
           -0.4214648610664026
          ],
          [
           0.4134628230608015,
           0.2778295924789794,
           0.45577422803832723,
           0.39041030924249864,
           0.4724684437304436,
           0.8658090398022629,
           0.7549680159063962,
           0.6674536768257124,
           0.4732000132446185,
           0.4587981566678596,
           0.28710316560074034,
           -0.09243935361819372,
           0.3419194453712055,
           0.28325653753745555,
           -0.05555813871505085,
           0.6787803543724954,
           0.4848578006864688,
           0.4528883773698806,
           0.06025487946536686,
           0.39015884208667484,
           0.47582003746014645,
           0.36083233859797315,
           0.5294076901641023,
           0.4382962837796741,
           0.5681865166856064,
           1,
           0.8922608987764685,
           0.8010803646352528,
           0.6144405011493067,
           0.8104548563116117,
           -0.590998237841792
          ],
          [
           0.5269114618385448,
           0.30102522381649116,
           0.5638792634736619,
           0.5126059204433239,
           0.4349257147250878,
           0.8162752498000281,
           0.8841026390943817,
           0.7523994975749643,
           0.433721007590172,
           0.3462338763480676,
           0.38058463462872194,
           -0.06895622054645592,
           0.4188988157305714,
           0.38510013559852924,
           -0.05829838674344549,
           0.6391466977559193,
           0.6625641337427411,
           0.5495923752351922,
           0.03711904859992839,
           0.3799746614570792,
           0.5739747080993033,
           0.3683656074599454,
           0.6183440795335158,
           0.5433305254110798,
           0.5185232928640015,
           0.8922608987764685,
           1,
           0.8554338603439982,
           0.5325197291183627,
           0.6865109212448633,
           -0.6596102103692335
          ],
          [
           0.7442141978674661,
           0.2953158433377364,
           0.7712407893605497,
           0.7220166262603579,
           0.503053353298951,
           0.8155732235690644,
           0.861323033637951,
           0.9101553142985918,
           0.4302966114579543,
           0.17532544924324475,
           0.5310623278216046,
           -0.11963752313984607,
           0.5548972306282103,
           0.5381663138957359,
           -0.10200679633746537,
           0.48320832682561315,
           0.44047226304622294,
           0.6024496059209876,
           -0.03041339642360094,
           0.21520401331002892,
           0.7874238517122407,
           0.3597546095250358,
           0.8163221016875439,
           0.7474188023228167,
           0.5476909029497875,
           0.8010803646352528,
           0.8554338603439982,
           1,
           0.5025284938306981,
           0.5111141458863395,
           -0.79356601714127
          ],
          [
           0.1639533349363072,
           0.10500791031597205,
           0.18911504046245775,
           0.1435699138890717,
           0.39430948181175646,
           0.5102234299218061,
           0.4094641265399853,
           0.3757441454236111,
           0.6998257976437302,
           0.3340186838510839,
           0.09454283035438187,
           -0.12821475779252947,
           0.1099304342313503,
           0.07412629159952816,
           -0.10734209778914477,
           0.277878430714635,
           0.19778782186141097,
           0.14311566863305003,
           0.38940248488464646,
           0.11109395575572399,
           0.2435292042913138,
           0.23302746144531727,
           0.26949276908381714,
           0.2091455083870789,
           0.4938383302357591,
           0.6144405011493067,
           0.5325197291183627,
           0.5025284938306981,
           1,
           0.537848206253609,
           -0.41629431104861947
          ],
          [
           0.007065885692182479,
           0.11920535139708567,
           0.05101852972340705,
           0.003737597351571729,
           0.4993163685937669,
           0.6873823227538974,
           0.5149298906363856,
           0.36866113371677106,
           0.4384134984446025,
           0.7672967792384361,
           0.049559432464573124,
           -0.045654568593207025,
           0.0854325720566574,
           0.017539295132385505,
           0.10148031504252508,
           0.5909727625047895,
           0.43932926857579074,
           0.31065455149383064,
           0.07807947627266758,
           0.5913280656608751,
           0.09349197867930178,
           0.21912242546315883,
           0.13895686184575767,
           0.07964703402467602,
           0.6176241916554379,
           0.8104548563116117,
           0.6865109212448633,
           0.5111141458863395,
           0.537848206253609,
           1,
           -0.32387218872082485
          ],
          [
           -0.7300285113754563,
           -0.4151852998452051,
           -0.7426355297258337,
           -0.7089838365853907,
           -0.35855996508593285,
           -0.5965336775082528,
           -0.6963597071719053,
           -0.7766138400204369,
           -0.3304985542625469,
           0.0128376026984319,
           -0.5671338208247177,
           0.008303332973877023,
           -0.5561407034314834,
           -0.5482359402780242,
           0.06701601057948756,
           -0.29299924424885865,
           -0.2537297659808306,
           -0.4080423327165051,
           0.0065217558706478955,
           -0.07797241739025575,
           -0.77645377859504,
           -0.4569028213967986,
           -0.7829141371737594,
           -0.7338250349210507,
           -0.4214648610664026,
           -0.590998237841792,
           -0.6596102103692335,
           -0.79356601714127,
           -0.41629431104861947,
           -0.32387218872082485,
           1
          ]
         ]
        }
       ],
       "layout": {
        "template": {
         "data": {
          "bar": [
           {
            "error_x": {
             "color": "#2a3f5f"
            },
            "error_y": {
             "color": "#2a3f5f"
            },
            "marker": {
             "line": {
              "color": "#E5ECF6",
              "width": 0.5
             },
             "pattern": {
              "fillmode": "overlay",
              "size": 10,
              "solidity": 0.2
             }
            },
            "type": "bar"
           }
          ],
          "barpolar": [
           {
            "marker": {
             "line": {
              "color": "#E5ECF6",
              "width": 0.5
             },
             "pattern": {
              "fillmode": "overlay",
              "size": 10,
              "solidity": 0.2
             }
            },
            "type": "barpolar"
           }
          ],
          "carpet": [
           {
            "aaxis": {
             "endlinecolor": "#2a3f5f",
             "gridcolor": "white",
             "linecolor": "white",
             "minorgridcolor": "white",
             "startlinecolor": "#2a3f5f"
            },
            "baxis": {
             "endlinecolor": "#2a3f5f",
             "gridcolor": "white",
             "linecolor": "white",
             "minorgridcolor": "white",
             "startlinecolor": "#2a3f5f"
            },
            "type": "carpet"
           }
          ],
          "choropleth": [
           {
            "colorbar": {
             "outlinewidth": 0,
             "ticks": ""
            },
            "type": "choropleth"
           }
          ],
          "contour": [
           {
            "colorbar": {
             "outlinewidth": 0,
             "ticks": ""
            },
            "colorscale": [
             [
              0,
              "#0d0887"
             ],
             [
              0.1111111111111111,
              "#46039f"
             ],
             [
              0.2222222222222222,
              "#7201a8"
             ],
             [
              0.3333333333333333,
              "#9c179e"
             ],
             [
              0.4444444444444444,
              "#bd3786"
             ],
             [
              0.5555555555555556,
              "#d8576b"
             ],
             [
              0.6666666666666666,
              "#ed7953"
             ],
             [
              0.7777777777777778,
              "#fb9f3a"
             ],
             [
              0.8888888888888888,
              "#fdca26"
             ],
             [
              1,
              "#f0f921"
             ]
            ],
            "type": "contour"
           }
          ],
          "contourcarpet": [
           {
            "colorbar": {
             "outlinewidth": 0,
             "ticks": ""
            },
            "type": "contourcarpet"
           }
          ],
          "heatmap": [
           {
            "colorbar": {
             "outlinewidth": 0,
             "ticks": ""
            },
            "colorscale": [
             [
              0,
              "#0d0887"
             ],
             [
              0.1111111111111111,
              "#46039f"
             ],
             [
              0.2222222222222222,
              "#7201a8"
             ],
             [
              0.3333333333333333,
              "#9c179e"
             ],
             [
              0.4444444444444444,
              "#bd3786"
             ],
             [
              0.5555555555555556,
              "#d8576b"
             ],
             [
              0.6666666666666666,
              "#ed7953"
             ],
             [
              0.7777777777777778,
              "#fb9f3a"
             ],
             [
              0.8888888888888888,
              "#fdca26"
             ],
             [
              1,
              "#f0f921"
             ]
            ],
            "type": "heatmap"
           }
          ],
          "heatmapgl": [
           {
            "colorbar": {
             "outlinewidth": 0,
             "ticks": ""
            },
            "colorscale": [
             [
              0,
              "#0d0887"
             ],
             [
              0.1111111111111111,
              "#46039f"
             ],
             [
              0.2222222222222222,
              "#7201a8"
             ],
             [
              0.3333333333333333,
              "#9c179e"
             ],
             [
              0.4444444444444444,
              "#bd3786"
             ],
             [
              0.5555555555555556,
              "#d8576b"
             ],
             [
              0.6666666666666666,
              "#ed7953"
             ],
             [
              0.7777777777777778,
              "#fb9f3a"
             ],
             [
              0.8888888888888888,
              "#fdca26"
             ],
             [
              1,
              "#f0f921"
             ]
            ],
            "type": "heatmapgl"
           }
          ],
          "histogram": [
           {
            "marker": {
             "pattern": {
              "fillmode": "overlay",
              "size": 10,
              "solidity": 0.2
             }
            },
            "type": "histogram"
           }
          ],
          "histogram2d": [
           {
            "colorbar": {
             "outlinewidth": 0,
             "ticks": ""
            },
            "colorscale": [
             [
              0,
              "#0d0887"
             ],
             [
              0.1111111111111111,
              "#46039f"
             ],
             [
              0.2222222222222222,
              "#7201a8"
             ],
             [
              0.3333333333333333,
              "#9c179e"
             ],
             [
              0.4444444444444444,
              "#bd3786"
             ],
             [
              0.5555555555555556,
              "#d8576b"
             ],
             [
              0.6666666666666666,
              "#ed7953"
             ],
             [
              0.7777777777777778,
              "#fb9f3a"
             ],
             [
              0.8888888888888888,
              "#fdca26"
             ],
             [
              1,
              "#f0f921"
             ]
            ],
            "type": "histogram2d"
           }
          ],
          "histogram2dcontour": [
           {
            "colorbar": {
             "outlinewidth": 0,
             "ticks": ""
            },
            "colorscale": [
             [
              0,
              "#0d0887"
             ],
             [
              0.1111111111111111,
              "#46039f"
             ],
             [
              0.2222222222222222,
              "#7201a8"
             ],
             [
              0.3333333333333333,
              "#9c179e"
             ],
             [
              0.4444444444444444,
              "#bd3786"
             ],
             [
              0.5555555555555556,
              "#d8576b"
             ],
             [
              0.6666666666666666,
              "#ed7953"
             ],
             [
              0.7777777777777778,
              "#fb9f3a"
             ],
             [
              0.8888888888888888,
              "#fdca26"
             ],
             [
              1,
              "#f0f921"
             ]
            ],
            "type": "histogram2dcontour"
           }
          ],
          "mesh3d": [
           {
            "colorbar": {
             "outlinewidth": 0,
             "ticks": ""
            },
            "type": "mesh3d"
           }
          ],
          "parcoords": [
           {
            "line": {
             "colorbar": {
              "outlinewidth": 0,
              "ticks": ""
             }
            },
            "type": "parcoords"
           }
          ],
          "pie": [
           {
            "automargin": true,
            "type": "pie"
           }
          ],
          "scatter": [
           {
            "fillpattern": {
             "fillmode": "overlay",
             "size": 10,
             "solidity": 0.2
            },
            "type": "scatter"
           }
          ],
          "scatter3d": [
           {
            "line": {
             "colorbar": {
              "outlinewidth": 0,
              "ticks": ""
             }
            },
            "marker": {
             "colorbar": {
              "outlinewidth": 0,
              "ticks": ""
             }
            },
            "type": "scatter3d"
           }
          ],
          "scattercarpet": [
           {
            "marker": {
             "colorbar": {
              "outlinewidth": 0,
              "ticks": ""
             }
            },
            "type": "scattercarpet"
           }
          ],
          "scattergeo": [
           {
            "marker": {
             "colorbar": {
              "outlinewidth": 0,
              "ticks": ""
             }
            },
            "type": "scattergeo"
           }
          ],
          "scattergl": [
           {
            "marker": {
             "colorbar": {
              "outlinewidth": 0,
              "ticks": ""
             }
            },
            "type": "scattergl"
           }
          ],
          "scattermapbox": [
           {
            "marker": {
             "colorbar": {
              "outlinewidth": 0,
              "ticks": ""
             }
            },
            "type": "scattermapbox"
           }
          ],
          "scatterpolar": [
           {
            "marker": {
             "colorbar": {
              "outlinewidth": 0,
              "ticks": ""
             }
            },
            "type": "scatterpolar"
           }
          ],
          "scatterpolargl": [
           {
            "marker": {
             "colorbar": {
              "outlinewidth": 0,
              "ticks": ""
             }
            },
            "type": "scatterpolargl"
           }
          ],
          "scatterternary": [
           {
            "marker": {
             "colorbar": {
              "outlinewidth": 0,
              "ticks": ""
             }
            },
            "type": "scatterternary"
           }
          ],
          "surface": [
           {
            "colorbar": {
             "outlinewidth": 0,
             "ticks": ""
            },
            "colorscale": [
             [
              0,
              "#0d0887"
             ],
             [
              0.1111111111111111,
              "#46039f"
             ],
             [
              0.2222222222222222,
              "#7201a8"
             ],
             [
              0.3333333333333333,
              "#9c179e"
             ],
             [
              0.4444444444444444,
              "#bd3786"
             ],
             [
              0.5555555555555556,
              "#d8576b"
             ],
             [
              0.6666666666666666,
              "#ed7953"
             ],
             [
              0.7777777777777778,
              "#fb9f3a"
             ],
             [
              0.8888888888888888,
              "#fdca26"
             ],
             [
              1,
              "#f0f921"
             ]
            ],
            "type": "surface"
           }
          ],
          "table": [
           {
            "cells": {
             "fill": {
              "color": "#EBF0F8"
             },
             "line": {
              "color": "white"
             }
            },
            "header": {
             "fill": {
              "color": "#C8D4E3"
             },
             "line": {
              "color": "white"
             }
            },
            "type": "table"
           }
          ]
         },
         "layout": {
          "annotationdefaults": {
           "arrowcolor": "#2a3f5f",
           "arrowhead": 0,
           "arrowwidth": 1
          },
          "autotypenumbers": "strict",
          "coloraxis": {
           "colorbar": {
            "outlinewidth": 0,
            "ticks": ""
           }
          },
          "colorscale": {
           "diverging": [
            [
             0,
             "#8e0152"
            ],
            [
             0.1,
             "#c51b7d"
            ],
            [
             0.2,
             "#de77ae"
            ],
            [
             0.3,
             "#f1b6da"
            ],
            [
             0.4,
             "#fde0ef"
            ],
            [
             0.5,
             "#f7f7f7"
            ],
            [
             0.6,
             "#e6f5d0"
            ],
            [
             0.7,
             "#b8e186"
            ],
            [
             0.8,
             "#7fbc41"
            ],
            [
             0.9,
             "#4d9221"
            ],
            [
             1,
             "#276419"
            ]
           ],
           "sequential": [
            [
             0,
             "#0d0887"
            ],
            [
             0.1111111111111111,
             "#46039f"
            ],
            [
             0.2222222222222222,
             "#7201a8"
            ],
            [
             0.3333333333333333,
             "#9c179e"
            ],
            [
             0.4444444444444444,
             "#bd3786"
            ],
            [
             0.5555555555555556,
             "#d8576b"
            ],
            [
             0.6666666666666666,
             "#ed7953"
            ],
            [
             0.7777777777777778,
             "#fb9f3a"
            ],
            [
             0.8888888888888888,
             "#fdca26"
            ],
            [
             1,
             "#f0f921"
            ]
           ],
           "sequentialminus": [
            [
             0,
             "#0d0887"
            ],
            [
             0.1111111111111111,
             "#46039f"
            ],
            [
             0.2222222222222222,
             "#7201a8"
            ],
            [
             0.3333333333333333,
             "#9c179e"
            ],
            [
             0.4444444444444444,
             "#bd3786"
            ],
            [
             0.5555555555555556,
             "#d8576b"
            ],
            [
             0.6666666666666666,
             "#ed7953"
            ],
            [
             0.7777777777777778,
             "#fb9f3a"
            ],
            [
             0.8888888888888888,
             "#fdca26"
            ],
            [
             1,
             "#f0f921"
            ]
           ]
          },
          "colorway": [
           "#636efa",
           "#EF553B",
           "#00cc96",
           "#ab63fa",
           "#FFA15A",
           "#19d3f3",
           "#FF6692",
           "#B6E880",
           "#FF97FF",
           "#FECB52"
          ],
          "font": {
           "color": "#2a3f5f"
          },
          "geo": {
           "bgcolor": "white",
           "lakecolor": "white",
           "landcolor": "#E5ECF6",
           "showlakes": true,
           "showland": true,
           "subunitcolor": "white"
          },
          "hoverlabel": {
           "align": "left"
          },
          "hovermode": "closest",
          "mapbox": {
           "style": "light"
          },
          "paper_bgcolor": "white",
          "plot_bgcolor": "#E5ECF6",
          "polar": {
           "angularaxis": {
            "gridcolor": "white",
            "linecolor": "white",
            "ticks": ""
           },
           "bgcolor": "#E5ECF6",
           "radialaxis": {
            "gridcolor": "white",
            "linecolor": "white",
            "ticks": ""
           }
          },
          "scene": {
           "xaxis": {
            "backgroundcolor": "#E5ECF6",
            "gridcolor": "white",
            "gridwidth": 2,
            "linecolor": "white",
            "showbackground": true,
            "ticks": "",
            "zerolinecolor": "white"
           },
           "yaxis": {
            "backgroundcolor": "#E5ECF6",
            "gridcolor": "white",
            "gridwidth": 2,
            "linecolor": "white",
            "showbackground": true,
            "ticks": "",
            "zerolinecolor": "white"
           },
           "zaxis": {
            "backgroundcolor": "#E5ECF6",
            "gridcolor": "white",
            "gridwidth": 2,
            "linecolor": "white",
            "showbackground": true,
            "ticks": "",
            "zerolinecolor": "white"
           }
          },
          "shapedefaults": {
           "line": {
            "color": "#2a3f5f"
           }
          },
          "ternary": {
           "aaxis": {
            "gridcolor": "white",
            "linecolor": "white",
            "ticks": ""
           },
           "baxis": {
            "gridcolor": "white",
            "linecolor": "white",
            "ticks": ""
           },
           "bgcolor": "#E5ECF6",
           "caxis": {
            "gridcolor": "white",
            "linecolor": "white",
            "ticks": ""
           }
          },
          "title": {
           "x": 0.05
          },
          "xaxis": {
           "automargin": true,
           "gridcolor": "white",
           "linecolor": "white",
           "ticks": "",
           "title": {
            "standoff": 15
           },
           "zerolinecolor": "white",
           "zerolinewidth": 2
          },
          "yaxis": {
           "automargin": true,
           "gridcolor": "white",
           "linecolor": "white",
           "ticks": "",
           "title": {
            "standoff": 15
           },
           "zerolinecolor": "white",
           "zerolinewidth": 2
          }
         }
        },
        "title": {
         "text": "Features correlation matrix"
        }
       }
      }
     },
     "metadata": {},
     "output_type": "display_data"
    }
   ],
   "source": [
    "layout = go.Layout(title = 'Features correlation matrix')\n",
    "fig = go.Figure(data = \n",
    "    go.Heatmap(\n",
    "        x = cancer_df.corr().columns.tolist(),\n",
    "        y = cancer_df.corr().columns.tolist(),\n",
    "        z = np.array(cancer_df.corr()),\n",
    "        colorscale = 'Viridis'),\n",
    "        layout = layout)\n",
    "fig.write_html(\"heatmap.html\")\n",
    "fig.show()"
   ]
  },
  {
   "cell_type": "markdown",
   "metadata": {
    "colab_type": "text",
    "id": "j1F76tbN__Pc"
   },
   "source": [
    "Los gráficos estánn guardados en esta misma carpeta en formato `html`."
   ]
  },
  {
   "cell_type": "markdown",
   "metadata": {
    "colab_type": "text",
    "id": "ZD9lalAF__Pd"
   },
   "source": [
    "Os dejo por aquí un análisis de las features hecha con `matplotlib` que merece la pena echar un ojo:\n",
    "\n",
    "https://scikit-learn.org/stable/auto_examples/inspection/plot_permutation_importance_multicollinear.html#sphx-glr-auto-examples-inspection-plot-permutation-importance-multicollinear-py"
   ]
  },
  {
   "cell_type": "markdown",
   "metadata": {
    "colab_type": "text",
    "id": "8_I11Ze___Pd"
   },
   "source": [
    "**4. Utiliza los métodos de clasificación vistos hasta ahora para clasificar el target de los datos, ¿cuál da mejores resultados?** \n",
    "\n",
    "**5. Intenta superarte en el score cambiando las features de los algoritmos.**"
   ]
  },
  {
   "cell_type": "code",
   "execution_count": 60,
   "metadata": {
    "colab": {},
    "colab_type": "code",
    "executionInfo": {
     "elapsed": 4503,
     "status": "ok",
     "timestamp": 1600160563354,
     "user": {
      "displayName": "Clara Piniella",
      "photoUrl": "https://lh3.googleusercontent.com/a-/AOh14GjZPvtfXzLnQ9Q1a_2oR-Aa6UCX0_HyTfsCraMd=s64",
      "userId": "06217688725952462825"
     },
     "user_tz": -120
    },
    "id": "S1BwdjD0__Pe"
   },
   "outputs": [],
   "source": [
    "X_train, X_test, y_train, y_test = train_test_split(X, y, test_size=0.2)"
   ]
  },
  {
   "cell_type": "code",
   "execution_count": 61,
   "metadata": {
    "colab": {},
    "colab_type": "code",
    "executionInfo": {
     "elapsed": 565,
     "status": "ok",
     "timestamp": 1600160593450,
     "user": {
      "displayName": "Clara Piniella",
      "photoUrl": "https://lh3.googleusercontent.com/a-/AOh14GjZPvtfXzLnQ9Q1a_2oR-Aa6UCX0_HyTfsCraMd=s64",
      "userId": "06217688725952462825"
     },
     "user_tz": -120
    },
    "id": "-RoLdFgI__Ph"
   },
   "outputs": [],
   "source": [
    "pipe = Pipeline(steps=[('classifier', LogisticRegression())])\n",
    "\n",
    "\n",
    "logistic_params = {\n",
    "    'classifier': [LogisticRegression()],\n",
    "    'classifier__penalty': ['l1', 'l2'],\n",
    "    'classifier__C': np.logspace(0, 4, 10)\n",
    "    }\n",
    "\n",
    "#kneighbors_params = {\n",
    "#    'classifier': [KNeighborsClassifier()],\n",
    "#    'classifier__n_neighbors': [3,5,11,19],\n",
    "#    'classifier__weights': [\"uniform\", \"distance\"],\n",
    "#    'classifier__metric': [\"euclidean\", \"manhattan\"]\n",
    "#    }\n",
    "\n",
    "svm_params = {\n",
    "    'classifier': [SVC()],\n",
    "    'classifier__kernel':('linear', 'rbf', 'sigmoid'), \n",
    "    'classifier__C':[0.2, 0.3, 0.4, 0.5, 0.6, 0.7, 0.8, 0.9], \n",
    "    'classifier__coef0': [-10.,-1., 0., 0.1, 0.5, 1, 10, 100],\n",
    "    'classifier__gamma': ('scale', 'auto')\n",
    "    }\n",
    "\n",
    "\n",
    "# Create space of candidate learning algorithms and their hyperparameters\n",
    "search_space = [\n",
    "    logistic_params,\n",
    "#    kneighbors_params,\n",
    "    svm_params\n",
    "    ]"
   ]
  },
  {
   "cell_type": "code",
   "execution_count": 62,
   "metadata": {
    "colab": {
     "base_uri": "https://localhost:8080/",
     "height": 537
    },
    "colab_type": "code",
    "executionInfo": {
     "elapsed": 462916,
     "status": "ok",
     "timestamp": 1600161145259,
     "user": {
      "displayName": "Clara Piniella",
      "photoUrl": "https://lh3.googleusercontent.com/a-/AOh14GjZPvtfXzLnQ9Q1a_2oR-Aa6UCX0_HyTfsCraMd=s64",
      "userId": "06217688725952462825"
     },
     "user_tz": -120
    },
    "id": "ATgmeTUu__Pj",
    "outputId": "5e2877e1-f516-4131-eca9-f7c3e3384860"
   },
   "outputs": [
    {
     "name": "stdout",
     "output_type": "stream",
     "text": [
      "Fitting 5 folds for each of 404 candidates, totalling 2020 fits\n",
      "[CV 2/5] END classifier=LogisticRegression(), classifier__C=1.0, classifier__penalty=l1;, score=nan total time=   0.0s\n",
      "[CV 3/5] END classifier=LogisticRegression(), classifier__C=1.0, classifier__penalty=l1;, score=nan total time=   0.0s\n"
     ]
    },
    {
     "name": "stderr",
     "output_type": "stream",
     "text": [
      "/home/personal/.local/lib/python3.10/site-packages/sklearn/linear_model/_logistic.py:444: ConvergenceWarning: lbfgs failed to converge (status=1):\n",
      "STOP: TOTAL NO. of ITERATIONS REACHED LIMIT.\n",
      "\n",
      "Increase the number of iterations (max_iter) or scale the data as shown in:\n",
      "    https://scikit-learn.org/stable/modules/preprocessing.html\n",
      "Please also refer to the documentation for alternative solver options:\n",
      "    https://scikit-learn.org/stable/modules/linear_model.html#logistic-regression\n",
      "  n_iter_i = _check_optimize_result(\n",
      "/home/personal/.local/lib/python3.10/site-packages/sklearn/linear_model/_logistic.py:444: ConvergenceWarning: lbfgs failed to converge (status=1):\n",
      "STOP: TOTAL NO. of ITERATIONS REACHED LIMIT.\n",
      "\n",
      "Increase the number of iterations (max_iter) or scale the data as shown in:\n",
      "    https://scikit-learn.org/stable/modules/preprocessing.html\n",
      "Please also refer to the documentation for alternative solver options:\n",
      "    https://scikit-learn.org/stable/modules/linear_model.html#logistic-regression\n",
      "  n_iter_i = _check_optimize_result(\n"
     ]
    },
    {
     "name": "stdout",
     "output_type": "stream",
     "text": [
      "[CV 4/5] END classifier=LogisticRegression(), classifier__C=1.0, classifier__penalty=l2;, score=0.945 total time=   0.1s\n",
      "[CV 1/5] END classifier=LogisticRegression(), classifier__C=1.0, classifier__penalty=l1;, score=nan total time=   0.0s\n",
      "[CV 1/5] END classifier=LogisticRegression(), classifier__C=2.7825594022071245, classifier__penalty=l1;, score=nan total time=   0.0s\n",
      "[CV 2/5] END classifier=LogisticRegression(), classifier__C=2.7825594022071245, classifier__penalty=l1;, score=nan total time=   0.0s\n",
      "[CV 5/5] END classifier=LogisticRegression(), classifier__C=1.0, classifier__penalty=l2;, score=0.912 total time=   0.2s\n",
      "[CV 3/5] END classifier=LogisticRegression(), classifier__C=2.7825594022071245, classifier__penalty=l1;, score=nan total time=   0.0s\n",
      "[CV 4/5] END classifier=LogisticRegression(), classifier__C=2.7825594022071245, classifier__penalty=l1;, score=nan total time=   0.0s\n",
      "[CV 5/5] END classifier=LogisticRegression(), classifier__C=2.7825594022071245, classifier__penalty=l1;, score=nan total time=   0.0s\n"
     ]
    },
    {
     "name": "stderr",
     "output_type": "stream",
     "text": [
      "/home/personal/.local/lib/python3.10/site-packages/sklearn/linear_model/_logistic.py:444: ConvergenceWarning: lbfgs failed to converge (status=1):\n",
      "STOP: TOTAL NO. of ITERATIONS REACHED LIMIT.\n",
      "\n",
      "Increase the number of iterations (max_iter) or scale the data as shown in:\n",
      "    https://scikit-learn.org/stable/modules/preprocessing.html\n",
      "Please also refer to the documentation for alternative solver options:\n",
      "    https://scikit-learn.org/stable/modules/linear_model.html#logistic-regression\n",
      "  n_iter_i = _check_optimize_result(\n",
      "/home/personal/.local/lib/python3.10/site-packages/sklearn/linear_model/_logistic.py:444: ConvergenceWarning: lbfgs failed to converge (status=1):\n",
      "STOP: TOTAL NO. of ITERATIONS REACHED LIMIT.\n",
      "\n",
      "Increase the number of iterations (max_iter) or scale the data as shown in:\n",
      "    https://scikit-learn.org/stable/modules/preprocessing.html\n",
      "Please also refer to the documentation for alternative solver options:\n",
      "    https://scikit-learn.org/stable/modules/linear_model.html#logistic-regression\n",
      "  n_iter_i = _check_optimize_result(\n",
      "/home/personal/.local/lib/python3.10/site-packages/sklearn/linear_model/_logistic.py:444: ConvergenceWarning: lbfgs failed to converge (status=1):\n",
      "STOP: TOTAL NO. of ITERATIONS REACHED LIMIT.\n",
      "\n",
      "Increase the number of iterations (max_iter) or scale the data as shown in:\n",
      "    https://scikit-learn.org/stable/modules/preprocessing.html\n",
      "Please also refer to the documentation for alternative solver options:\n",
      "    https://scikit-learn.org/stable/modules/linear_model.html#logistic-regression\n",
      "  n_iter_i = _check_optimize_result(\n"
     ]
    },
    {
     "name": "stdout",
     "output_type": "stream",
     "text": [
      "[CV 1/5] END classifier=LogisticRegression(), classifier__C=2.7825594022071245, classifier__penalty=l2;, score=0.945 total time=   0.2s\n",
      "[CV 2/5] END classifier=LogisticRegression(), classifier__C=2.7825594022071245, classifier__penalty=l2;, score=0.978 total time=   0.2s\n",
      "[CV 4/5] END classifier=LogisticRegression(), classifier__C=2.7825594022071245, classifier__penalty=l2;, score=0.945 total time=   0.1s\n",
      "[CV 1/5] END classifier=LogisticRegression(), classifier__C=7.742636826811269, classifier__penalty=l1;, score=nan total time=   0.0s\n",
      "[CV 2/5] END classifier=LogisticRegression(), classifier__C=7.742636826811269, classifier__penalty=l1;, score=nan total time=   0.0s\n",
      "[CV 3/5] END classifier=LogisticRegression(), classifier__C=7.742636826811269, classifier__penalty=l1;, score=nan total time=   0.0s\n",
      "[CV 4/5] END classifier=LogisticRegression(), classifier__C=7.742636826811269, classifier__penalty=l1;, score=nan total time=   0.0s\n",
      "[CV 5/5] END classifier=LogisticRegression(), classifier__C=7.742636826811269, classifier__penalty=l1;, score=nan total time=   0.0s\n",
      "[CV 3/5] END classifier=LogisticRegression(), classifier__C=2.7825594022071245, classifier__penalty=l2;, score=0.956 total time=   0.2s\n",
      "[CV 5/5] END classifier=LogisticRegression(), classifier__C=2.7825594022071245, classifier__penalty=l2;, score=0.956 total time=   0.1s\n"
     ]
    },
    {
     "name": "stderr",
     "output_type": "stream",
     "text": [
      "/home/personal/.local/lib/python3.10/site-packages/sklearn/linear_model/_logistic.py:444: ConvergenceWarning: lbfgs failed to converge (status=1):\n",
      "STOP: TOTAL NO. of ITERATIONS REACHED LIMIT.\n",
      "\n",
      "Increase the number of iterations (max_iter) or scale the data as shown in:\n",
      "    https://scikit-learn.org/stable/modules/preprocessing.html\n",
      "Please also refer to the documentation for alternative solver options:\n",
      "    https://scikit-learn.org/stable/modules/linear_model.html#logistic-regression\n",
      "  n_iter_i = _check_optimize_result(\n",
      "/home/personal/.local/lib/python3.10/site-packages/sklearn/linear_model/_logistic.py:444: ConvergenceWarning: lbfgs failed to converge (status=1):\n",
      "STOP: TOTAL NO. of ITERATIONS REACHED LIMIT.\n",
      "\n",
      "Increase the number of iterations (max_iter) or scale the data as shown in:\n",
      "    https://scikit-learn.org/stable/modules/preprocessing.html\n",
      "Please also refer to the documentation for alternative solver options:\n",
      "    https://scikit-learn.org/stable/modules/linear_model.html#logistic-regression\n",
      "  n_iter_i = _check_optimize_result(\n",
      "/home/personal/.local/lib/python3.10/site-packages/sklearn/linear_model/_logistic.py:444: ConvergenceWarning: lbfgs failed to converge (status=1):\n",
      "STOP: TOTAL NO. of ITERATIONS REACHED LIMIT.\n",
      "\n",
      "Increase the number of iterations (max_iter) or scale the data as shown in:\n",
      "    https://scikit-learn.org/stable/modules/preprocessing.html\n",
      "Please also refer to the documentation for alternative solver options:\n",
      "    https://scikit-learn.org/stable/modules/linear_model.html#logistic-regression\n",
      "  n_iter_i = _check_optimize_result(\n",
      "/home/personal/.local/lib/python3.10/site-packages/sklearn/linear_model/_logistic.py:444: ConvergenceWarning: lbfgs failed to converge (status=1):\n",
      "STOP: TOTAL NO. of ITERATIONS REACHED LIMIT.\n",
      "\n",
      "Increase the number of iterations (max_iter) or scale the data as shown in:\n",
      "    https://scikit-learn.org/stable/modules/preprocessing.html\n",
      "Please also refer to the documentation for alternative solver options:\n",
      "    https://scikit-learn.org/stable/modules/linear_model.html#logistic-regression\n",
      "  n_iter_i = _check_optimize_result(\n",
      "/home/personal/.local/lib/python3.10/site-packages/sklearn/linear_model/_logistic.py:444: ConvergenceWarning: lbfgs failed to converge (status=1):\n",
      "STOP: TOTAL NO. of ITERATIONS REACHED LIMIT.\n",
      "\n",
      "Increase the number of iterations (max_iter) or scale the data as shown in:\n",
      "    https://scikit-learn.org/stable/modules/preprocessing.html\n",
      "Please also refer to the documentation for alternative solver options:\n",
      "    https://scikit-learn.org/stable/modules/linear_model.html#logistic-regression\n",
      "  n_iter_i = _check_optimize_result(\n",
      "/home/personal/.local/lib/python3.10/site-packages/sklearn/linear_model/_logistic.py:444: ConvergenceWarning: lbfgs failed to converge (status=1):\n",
      "STOP: TOTAL NO. of ITERATIONS REACHED LIMIT.\n",
      "\n",
      "Increase the number of iterations (max_iter) or scale the data as shown in:\n",
      "    https://scikit-learn.org/stable/modules/preprocessing.html\n",
      "Please also refer to the documentation for alternative solver options:\n",
      "    https://scikit-learn.org/stable/modules/linear_model.html#logistic-regression\n",
      "  n_iter_i = _check_optimize_result(\n"
     ]
    },
    {
     "name": "stdout",
     "output_type": "stream",
     "text": [
      "[CV 1/5] END classifier=LogisticRegression(), classifier__C=7.742636826811269, classifier__penalty=l2;, score=0.956 total time=   0.2s\n",
      "[CV 2/5] END classifier=LogisticRegression(), classifier__C=7.742636826811269, classifier__penalty=l2;, score=0.967 total time=   0.2s\n",
      "[CV 3/5] END classifier=LogisticRegression(), classifier__C=7.742636826811269, classifier__penalty=l2;, score=0.956 total time=   0.2s\n",
      "[CV 1/5] END classifier=LogisticRegression(), classifier__C=21.544346900318832, classifier__penalty=l1;, score=nan total time=   0.0s\n",
      "[CV 2/5] END classifier=LogisticRegression(), classifier__C=21.544346900318832, classifier__penalty=l1;, score=nan total time=   0.0s\n",
      "[CV 3/5] END classifier=LogisticRegression(), classifier__C=21.544346900318832, classifier__penalty=l1;, score=nan total time=   0.0s\n",
      "[CV 4/5] END classifier=LogisticRegression(), classifier__C=21.544346900318832, classifier__penalty=l1;, score=nan total time=   0.0s\n",
      "[CV 5/5] END classifier=LogisticRegression(), classifier__C=21.544346900318832, classifier__penalty=l1;, score=nan total time=   0.0s\n",
      "[CV 5/5] END classifier=LogisticRegression(), classifier__C=7.742636826811269, classifier__penalty=l2;, score=0.912 total time=   0.1s"
     ]
    },
    {
     "name": "stderr",
     "output_type": "stream",
     "text": [
      "/home/personal/.local/lib/python3.10/site-packages/sklearn/linear_model/_logistic.py:444: ConvergenceWarning: lbfgs failed to converge (status=1):\n",
      "STOP: TOTAL NO. of ITERATIONS REACHED LIMIT.\n",
      "\n",
      "Increase the number of iterations (max_iter) or scale the data as shown in:\n",
      "    https://scikit-learn.org/stable/modules/preprocessing.html\n",
      "Please also refer to the documentation for alternative solver options:\n",
      "    https://scikit-learn.org/stable/modules/linear_model.html#logistic-regression\n",
      "  n_iter_i = _check_optimize_result(\n",
      "/home/personal/.local/lib/python3.10/site-packages/sklearn/linear_model/_logistic.py:444: ConvergenceWarning: lbfgs failed to converge (status=1):\n",
      "STOP: TOTAL NO. of ITERATIONS REACHED LIMIT.\n",
      "\n",
      "Increase the number of iterations (max_iter) or scale the data as shown in:\n",
      "    https://scikit-learn.org/stable/modules/preprocessing.html\n",
      "Please also refer to the documentation for alternative solver options:\n",
      "    https://scikit-learn.org/stable/modules/linear_model.html#logistic-regression\n",
      "  n_iter_i = _check_optimize_result(\n",
      "/home/personal/.local/lib/python3.10/site-packages/sklearn/linear_model/_logistic.py:444: ConvergenceWarning: lbfgs failed to converge (status=1):\n",
      "STOP: TOTAL NO. of ITERATIONS REACHED LIMIT.\n",
      "\n",
      "Increase the number of iterations (max_iter) or scale the data as shown in:\n",
      "    https://scikit-learn.org/stable/modules/preprocessing.html\n",
      "Please also refer to the documentation for alternative solver options:\n",
      "    https://scikit-learn.org/stable/modules/linear_model.html#logistic-regression\n",
      "  n_iter_i = _check_optimize_result(\n",
      "/home/personal/.local/lib/python3.10/site-packages/sklearn/linear_model/_logistic.py:444: ConvergenceWarning: lbfgs failed to converge (status=1):\n",
      "STOP: TOTAL NO. of ITERATIONS REACHED LIMIT.\n",
      "\n",
      "Increase the number of iterations (max_iter) or scale the data as shown in:\n",
      "    https://scikit-learn.org/stable/modules/preprocessing.html\n",
      "Please also refer to the documentation for alternative solver options:\n",
      "    https://scikit-learn.org/stable/modules/linear_model.html#logistic-regression\n",
      "  n_iter_i = _check_optimize_result(\n"
     ]
    },
    {
     "name": "stdout",
     "output_type": "stream",
     "text": [
      "\n",
      "[CV 1/5] END classifier=LogisticRegression(), classifier__C=21.544346900318832, classifier__penalty=l2;, score=0.934 total time=   0.1s\n",
      "[CV 4/5] END classifier=LogisticRegression(), classifier__C=1.0, classifier__penalty=l1;, score=nan total time=   0.0s\n",
      "[CV 5/5] END classifier=LogisticRegression(), classifier__C=1.0, classifier__penalty=l1;, score=nan total time=   0.0s\n",
      "[CV 2/5] END classifier=LogisticRegression(), classifier__C=21.544346900318832, classifier__penalty=l2;, score=0.978 total time=   0.1s\n",
      "[CV 4/5] END classifier=LogisticRegression(), classifier__C=21.544346900318832, classifier__penalty=l2;, score=0.956 total time=   0.1s\n",
      "[CV 1/5] END classifier=LogisticRegression(), classifier__C=59.94842503189409, classifier__penalty=l1;, score=nan total time=   0.0s\n",
      "[CV 2/5] END classifier=LogisticRegression(), classifier__C=59.94842503189409, classifier__penalty=l1;, score=nan total time=   0.0s\n",
      "[CV 3/5] END classifier=LogisticRegression(), classifier__C=59.94842503189409, classifier__penalty=l1;, score=nan total time=   0.0s\n",
      "[CV 4/5] END classifier=LogisticRegression(), classifier__C=59.94842503189409, classifier__penalty=l1;, score=nan total time=   0.0s\n",
      "[CV 5/5] END classifier=LogisticRegression(), classifier__C=21.544346900318832, classifier__penalty=l2;, score=0.967 total time=   0.1s\n",
      "[CV 5/5] END classifier=LogisticRegression(), classifier__C=59.94842503189409, classifier__penalty=l1;, score=nan total time=   0.0s\n",
      "[CV 4/5] END classifier=LogisticRegression(), classifier__C=7.742636826811269, classifier__penalty=l2;, score=0.945 total time=   0.4s\n",
      "[CV 3/5] END classifier=LogisticRegression(), classifier__C=21.544346900318832, classifier__penalty=l2;, score=0.967 total time=   0.3s\n",
      "[CV 5/5] END classifier=LogisticRegression(), classifier__C=59.94842503189409, classifier__penalty=l2;, score=0.967 total time=   0.1s\n",
      "[CV 1/5] END classifier=LogisticRegression(), classifier__C=166.81005372000593, classifier__penalty=l1;, score=nan total time=   0.0s\n",
      "[CV 2/5] END classifier=LogisticRegression(), classifier__C=166.81005372000593, classifier__penalty=l1;, score=nan total time=   0.0s\n"
     ]
    },
    {
     "name": "stderr",
     "output_type": "stream",
     "text": [
      "/home/personal/.local/lib/python3.10/site-packages/sklearn/linear_model/_logistic.py:444: ConvergenceWarning: lbfgs failed to converge (status=1):\n",
      "STOP: TOTAL NO. of ITERATIONS REACHED LIMIT.\n",
      "\n",
      "Increase the number of iterations (max_iter) or scale the data as shown in:\n",
      "    https://scikit-learn.org/stable/modules/preprocessing.html\n",
      "Please also refer to the documentation for alternative solver options:\n",
      "    https://scikit-learn.org/stable/modules/linear_model.html#logistic-regression\n",
      "  n_iter_i = _check_optimize_result(\n",
      "/home/personal/.local/lib/python3.10/site-packages/sklearn/linear_model/_logistic.py:444: ConvergenceWarning: lbfgs failed to converge (status=1):\n",
      "STOP: TOTAL NO. of ITERATIONS REACHED LIMIT.\n",
      "\n",
      "Increase the number of iterations (max_iter) or scale the data as shown in:\n",
      "    https://scikit-learn.org/stable/modules/preprocessing.html\n",
      "Please also refer to the documentation for alternative solver options:\n",
      "    https://scikit-learn.org/stable/modules/linear_model.html#logistic-regression\n",
      "  n_iter_i = _check_optimize_result(\n",
      "/home/personal/.local/lib/python3.10/site-packages/sklearn/linear_model/_logistic.py:444: ConvergenceWarning: lbfgs failed to converge (status=1):\n",
      "STOP: TOTAL NO. of ITERATIONS REACHED LIMIT.\n",
      "\n",
      "Increase the number of iterations (max_iter) or scale the data as shown in:\n",
      "    https://scikit-learn.org/stable/modules/preprocessing.html\n",
      "Please also refer to the documentation for alternative solver options:\n",
      "    https://scikit-learn.org/stable/modules/linear_model.html#logistic-regression\n",
      "  n_iter_i = _check_optimize_result(\n",
      "/home/personal/.local/lib/python3.10/site-packages/sklearn/linear_model/_logistic.py:444: ConvergenceWarning: lbfgs failed to converge (status=1):\n",
      "STOP: TOTAL NO. of ITERATIONS REACHED LIMIT.\n",
      "\n",
      "Increase the number of iterations (max_iter) or scale the data as shown in:\n",
      "    https://scikit-learn.org/stable/modules/preprocessing.html\n",
      "Please also refer to the documentation for alternative solver options:\n",
      "    https://scikit-learn.org/stable/modules/linear_model.html#logistic-regression\n",
      "  n_iter_i = _check_optimize_result(\n"
     ]
    },
    {
     "name": "stdout",
     "output_type": "stream",
     "text": [
      "[CV 3/5] END classifier=LogisticRegression(), classifier__C=166.81005372000593, classifier__penalty=l1;, score=nan total time=   0.0s\n",
      "[CV 4/5] END classifier=LogisticRegression(), classifier__C=166.81005372000593, classifier__penalty=l1;, score=nan total time=   0.0s\n",
      "[CV 5/5] END classifier=LogisticRegression(), classifier__C=166.81005372000593, classifier__penalty=l1;, score=nan total time=   0.0s\n",
      "[CV 4/5] END classifier=LogisticRegression(), classifier__C=59.94842503189409, classifier__penalty=l2;, score=0.945 total time=   0.2s\n",
      "[CV 1/5] END classifier=LogisticRegression(), classifier__C=59.94842503189409, classifier__penalty=l2;, score=0.945 total time=   0.2s\n",
      "[CV 2/5] END classifier=LogisticRegression(), classifier__C=59.94842503189409, classifier__penalty=l2;, score=0.956 total time=   0.2s\n",
      "[CV 1/5] END classifier=LogisticRegression(), classifier__C=1.0, classifier__penalty=l2;, score=0.934 total time=   0.2s\n",
      "[CV 1/5] END classifier=LogisticRegression(), classifier__C=166.81005372000593, classifier__penalty=l2;, score=0.934 total time=   0.1s\n",
      "[CV 3/5] END classifier=LogisticRegression(), classifier__C=59.94842503189409, classifier__penalty=l2;, score=0.967 total time=   0.3s\n",
      "[CV 1/5] END classifier=LogisticRegression(), classifier__C=464.15888336127773, classifier__penalty=l1;, score=nan total time=   0.0s\n",
      "[CV 2/5] END classifier=LogisticRegression(), classifier__C=464.15888336127773, classifier__penalty=l1;, score=nan total time=   0.0s\n",
      "[CV 3/5] END classifier=LogisticRegression(), classifier__C=464.15888336127773, classifier__penalty=l1;, score=nan total time=   0.0s"
     ]
    },
    {
     "name": "stderr",
     "output_type": "stream",
     "text": [
      "/home/personal/.local/lib/python3.10/site-packages/sklearn/linear_model/_logistic.py:444: ConvergenceWarning: lbfgs failed to converge (status=1):\n",
      "STOP: TOTAL NO. of ITERATIONS REACHED LIMIT.\n",
      "\n",
      "Increase the number of iterations (max_iter) or scale the data as shown in:\n",
      "    https://scikit-learn.org/stable/modules/preprocessing.html\n",
      "Please also refer to the documentation for alternative solver options:\n",
      "    https://scikit-learn.org/stable/modules/linear_model.html#logistic-regression\n",
      "  n_iter_i = _check_optimize_result(\n",
      "/home/personal/.local/lib/python3.10/site-packages/sklearn/linear_model/_logistic.py:444: ConvergenceWarning: lbfgs failed to converge (status=1):\n",
      "STOP: TOTAL NO. of ITERATIONS REACHED LIMIT.\n",
      "\n",
      "Increase the number of iterations (max_iter) or scale the data as shown in:\n",
      "    https://scikit-learn.org/stable/modules/preprocessing.html\n",
      "Please also refer to the documentation for alternative solver options:\n",
      "    https://scikit-learn.org/stable/modules/linear_model.html#logistic-regression\n",
      "  n_iter_i = _check_optimize_result(\n",
      "/home/personal/.local/lib/python3.10/site-packages/sklearn/linear_model/_logistic.py:444: ConvergenceWarning: lbfgs failed to converge (status=1):\n",
      "STOP: TOTAL NO. of ITERATIONS REACHED LIMIT.\n",
      "\n",
      "Increase the number of iterations (max_iter) or scale the data as shown in:\n",
      "    https://scikit-learn.org/stable/modules/preprocessing.html\n",
      "Please also refer to the documentation for alternative solver options:\n",
      "    https://scikit-learn.org/stable/modules/linear_model.html#logistic-regression\n",
      "  n_iter_i = _check_optimize_result(\n",
      "/home/personal/.local/lib/python3.10/site-packages/sklearn/linear_model/_logistic.py:444: ConvergenceWarning: lbfgs failed to converge (status=1):\n",
      "STOP: TOTAL NO. of ITERATIONS REACHED LIMIT.\n",
      "\n",
      "Increase the number of iterations (max_iter) or scale the data as shown in:\n",
      "    https://scikit-learn.org/stable/modules/preprocessing.html\n",
      "Please also refer to the documentation for alternative solver options:\n",
      "    https://scikit-learn.org/stable/modules/linear_model.html#logistic-regression\n",
      "  n_iter_i = _check_optimize_result(\n",
      "/home/personal/.local/lib/python3.10/site-packages/sklearn/linear_model/_logistic.py:444: ConvergenceWarning: lbfgs failed to converge (status=1):\n",
      "STOP: TOTAL NO. of ITERATIONS REACHED LIMIT.\n",
      "\n",
      "Increase the number of iterations (max_iter) or scale the data as shown in:\n",
      "    https://scikit-learn.org/stable/modules/preprocessing.html\n",
      "Please also refer to the documentation for alternative solver options:\n",
      "    https://scikit-learn.org/stable/modules/linear_model.html#logistic-regression\n",
      "  n_iter_i = _check_optimize_result(\n",
      "/home/personal/.local/lib/python3.10/site-packages/sklearn/linear_model/_logistic.py:444: ConvergenceWarning: lbfgs failed to converge (status=1):\n",
      "STOP: TOTAL NO. of ITERATIONS REACHED LIMIT.\n",
      "\n",
      "Increase the number of iterations (max_iter) or scale the data as shown in:\n",
      "    https://scikit-learn.org/stable/modules/preprocessing.html\n",
      "Please also refer to the documentation for alternative solver options:\n",
      "    https://scikit-learn.org/stable/modules/linear_model.html#logistic-regression\n",
      "  n_iter_i = _check_optimize_result(\n"
     ]
    },
    {
     "name": "stdout",
     "output_type": "stream",
     "text": [
      "[CV 2/5] END classifier=LogisticRegression(), classifier__C=166.81005372000593, classifier__penalty=l2;, score=0.978 total time=   0.2s\n",
      "\n",
      "[CV 4/5] END classifier=LogisticRegression(), classifier__C=166.81005372000593, classifier__penalty=l2;, score=0.945 total time=   0.1s\n",
      "[CV 3/5] END classifier=LogisticRegression(), classifier__C=166.81005372000593, classifier__penalty=l2;, score=0.967 total time=   0.2s\n",
      "[CV 5/5] END classifier=LogisticRegression(), classifier__C=464.15888336127773, classifier__penalty=l1;, score=nan total time=   0.0s\n",
      "[CV 4/5] END classifier=LogisticRegression(), classifier__C=464.15888336127773, classifier__penalty=l1;, score=nan total time=   0.0s\n",
      "[CV 5/5] END classifier=LogisticRegression(), classifier__C=166.81005372000593, classifier__penalty=l2;, score=0.912 total time=   0.2s\n",
      "[CV 1/5] END classifier=LogisticRegression(), classifier__C=464.15888336127773, classifier__penalty=l2;, score=0.934 total time=   0.1s\n",
      "[CV 1/5] END classifier=LogisticRegression(), classifier__C=1291.5496650148827, classifier__penalty=l1;, score=nan total time=   0.0s\n",
      "[CV 2/5] END classifier=LogisticRegression(), classifier__C=1291.5496650148827, classifier__penalty=l1;, score=nan total time=   0.0s\n",
      "[CV 2/5] END classifier=LogisticRegression(), classifier__C=464.15888336127773, classifier__penalty=l2;, score=0.978 total time=   0.1s\n",
      "[CV 3/5] END classifier=LogisticRegression(), classifier__C=1291.5496650148827, classifier__penalty=l1;, score=nan total time=   0.0s\n",
      "[CV 5/5] END classifier=LogisticRegression(), classifier__C=1291.5496650148827, classifier__penalty=l1;, score=nan total time=   0.0s\n"
     ]
    },
    {
     "name": "stderr",
     "output_type": "stream",
     "text": [
      "/home/personal/.local/lib/python3.10/site-packages/sklearn/linear_model/_logistic.py:444: ConvergenceWarning: lbfgs failed to converge (status=1):\n",
      "STOP: TOTAL NO. of ITERATIONS REACHED LIMIT.\n",
      "\n",
      "Increase the number of iterations (max_iter) or scale the data as shown in:\n",
      "    https://scikit-learn.org/stable/modules/preprocessing.html\n",
      "Please also refer to the documentation for alternative solver options:\n",
      "    https://scikit-learn.org/stable/modules/linear_model.html#logistic-regression\n",
      "  n_iter_i = _check_optimize_result(\n",
      "/home/personal/.local/lib/python3.10/site-packages/sklearn/linear_model/_logistic.py:444: ConvergenceWarning: lbfgs failed to converge (status=1):\n",
      "STOP: TOTAL NO. of ITERATIONS REACHED LIMIT.\n",
      "\n",
      "Increase the number of iterations (max_iter) or scale the data as shown in:\n",
      "    https://scikit-learn.org/stable/modules/preprocessing.html\n",
      "Please also refer to the documentation for alternative solver options:\n",
      "    https://scikit-learn.org/stable/modules/linear_model.html#logistic-regression\n",
      "  n_iter_i = _check_optimize_result(\n",
      "/home/personal/.local/lib/python3.10/site-packages/sklearn/linear_model/_logistic.py:444: ConvergenceWarning: lbfgs failed to converge (status=1):\n",
      "STOP: TOTAL NO. of ITERATIONS REACHED LIMIT.\n",
      "\n",
      "Increase the number of iterations (max_iter) or scale the data as shown in:\n",
      "    https://scikit-learn.org/stable/modules/preprocessing.html\n",
      "Please also refer to the documentation for alternative solver options:\n",
      "    https://scikit-learn.org/stable/modules/linear_model.html#logistic-regression\n",
      "  n_iter_i = _check_optimize_result(\n",
      "/home/personal/.local/lib/python3.10/site-packages/sklearn/linear_model/_logistic.py:444: ConvergenceWarning: lbfgs failed to converge (status=1):\n",
      "STOP: TOTAL NO. of ITERATIONS REACHED LIMIT.\n",
      "\n",
      "Increase the number of iterations (max_iter) or scale the data as shown in:\n",
      "    https://scikit-learn.org/stable/modules/preprocessing.html\n",
      "Please also refer to the documentation for alternative solver options:\n",
      "    https://scikit-learn.org/stable/modules/linear_model.html#logistic-regression\n",
      "  n_iter_i = _check_optimize_result(\n",
      "/home/personal/.local/lib/python3.10/site-packages/sklearn/linear_model/_logistic.py:444: ConvergenceWarning: lbfgs failed to converge (status=1):\n",
      "STOP: TOTAL NO. of ITERATIONS REACHED LIMIT.\n",
      "\n",
      "Increase the number of iterations (max_iter) or scale the data as shown in:\n",
      "    https://scikit-learn.org/stable/modules/preprocessing.html\n",
      "Please also refer to the documentation for alternative solver options:\n",
      "    https://scikit-learn.org/stable/modules/linear_model.html#logistic-regression\n",
      "  n_iter_i = _check_optimize_result(\n",
      "/home/personal/.local/lib/python3.10/site-packages/sklearn/linear_model/_logistic.py:444: ConvergenceWarning: lbfgs failed to converge (status=1):\n",
      "STOP: TOTAL NO. of ITERATIONS REACHED LIMIT.\n",
      "\n",
      "Increase the number of iterations (max_iter) or scale the data as shown in:\n",
      "    https://scikit-learn.org/stable/modules/preprocessing.html\n",
      "Please also refer to the documentation for alternative solver options:\n",
      "    https://scikit-learn.org/stable/modules/linear_model.html#logistic-regression\n",
      "  n_iter_i = _check_optimize_result(\n"
     ]
    },
    {
     "name": "stdout",
     "output_type": "stream",
     "text": [
      "[CV 4/5] END classifier=LogisticRegression(), classifier__C=1291.5496650148827, classifier__penalty=l1;, score=nan total time=   0.0s[CV 3/5] END classifier=LogisticRegression(), classifier__C=464.15888336127773, classifier__penalty=l2;, score=0.923 total time=   0.1s\n",
      "\n",
      "[CV 1/5] END classifier=LogisticRegression(), classifier__C=1291.5496650148827, classifier__penalty=l2;, score=0.934 total time=   0.1s\n",
      "[CV 4/5] END classifier=LogisticRegression(), classifier__C=464.15888336127773, classifier__penalty=l2;, score=0.956 total time=   0.2s\n",
      "[CV 1/5] END classifier=LogisticRegression(), classifier__C=3593.813663804626, classifier__penalty=l1;, score=nan total time=   0.0s\n",
      "[CV 5/5] END classifier=LogisticRegression(), classifier__C=464.15888336127773, classifier__penalty=l2;, score=0.912 total time=   0.2s\n",
      "[CV 2/5] END classifier=LogisticRegression(), classifier__C=3593.813663804626, classifier__penalty=l1;, score=nan total time=   0.0s\n",
      "[CV 3/5] END classifier=LogisticRegression(), classifier__C=3593.813663804626, classifier__penalty=l1;, score=nan total time=   0.0s\n"
     ]
    },
    {
     "name": "stderr",
     "output_type": "stream",
     "text": [
      "/home/personal/.local/lib/python3.10/site-packages/sklearn/linear_model/_logistic.py:444: ConvergenceWarning: lbfgs failed to converge (status=1):\n",
      "STOP: TOTAL NO. of ITERATIONS REACHED LIMIT.\n",
      "\n",
      "Increase the number of iterations (max_iter) or scale the data as shown in:\n",
      "    https://scikit-learn.org/stable/modules/preprocessing.html\n",
      "Please also refer to the documentation for alternative solver options:\n",
      "    https://scikit-learn.org/stable/modules/linear_model.html#logistic-regression\n",
      "  n_iter_i = _check_optimize_result(\n",
      "/home/personal/.local/lib/python3.10/site-packages/sklearn/linear_model/_logistic.py:444: ConvergenceWarning: lbfgs failed to converge (status=1):\n",
      "STOP: TOTAL NO. of ITERATIONS REACHED LIMIT.\n",
      "\n",
      "Increase the number of iterations (max_iter) or scale the data as shown in:\n",
      "    https://scikit-learn.org/stable/modules/preprocessing.html\n",
      "Please also refer to the documentation for alternative solver options:\n",
      "    https://scikit-learn.org/stable/modules/linear_model.html#logistic-regression\n",
      "  n_iter_i = _check_optimize_result(\n",
      "/home/personal/.local/lib/python3.10/site-packages/sklearn/linear_model/_logistic.py:444: ConvergenceWarning: lbfgs failed to converge (status=1):\n",
      "STOP: TOTAL NO. of ITERATIONS REACHED LIMIT.\n",
      "\n",
      "Increase the number of iterations (max_iter) or scale the data as shown in:\n",
      "    https://scikit-learn.org/stable/modules/preprocessing.html\n",
      "Please also refer to the documentation for alternative solver options:\n",
      "    https://scikit-learn.org/stable/modules/linear_model.html#logistic-regression\n",
      "  n_iter_i = _check_optimize_result(\n",
      "/home/personal/.local/lib/python3.10/site-packages/sklearn/linear_model/_logistic.py:444: ConvergenceWarning: lbfgs failed to converge (status=1):\n",
      "STOP: TOTAL NO. of ITERATIONS REACHED LIMIT.\n",
      "\n",
      "Increase the number of iterations (max_iter) or scale the data as shown in:\n",
      "    https://scikit-learn.org/stable/modules/preprocessing.html\n",
      "Please also refer to the documentation for alternative solver options:\n",
      "    https://scikit-learn.org/stable/modules/linear_model.html#logistic-regression\n",
      "  n_iter_i = _check_optimize_result(\n"
     ]
    },
    {
     "name": "stdout",
     "output_type": "stream",
     "text": [
      "[CV 2/5] END classifier=LogisticRegression(), classifier__C=1291.5496650148827, classifier__penalty=l2;, score=0.978 total time=   0.2s\n",
      "[CV 5/5] END classifier=LogisticRegression(), classifier__C=3593.813663804626, classifier__penalty=l1;, score=nan total time=   0.0s\n",
      "[CV 4/5] END classifier=LogisticRegression(), classifier__C=3593.813663804626, classifier__penalty=l1;, score=nan total time=   0.0s\n",
      "[CV 3/5] END classifier=LogisticRegression(), classifier__C=1291.5496650148827, classifier__penalty=l2;, score=0.967 total time=   0.3s\n",
      "[CV 5/5] END classifier=LogisticRegression(), classifier__C=1291.5496650148827, classifier__penalty=l2;, score=0.912 total time=   0.2s\n",
      "[CV 4/5] END classifier=LogisticRegression(), classifier__C=1291.5496650148827, classifier__penalty=l2;, score=0.956 total time=   0.2s\n",
      "[CV 1/5] END classifier=LogisticRegression(), classifier__C=3593.813663804626, classifier__penalty=l2;, score=0.945 total time=   0.1s[CV 1/5] END classifier=LogisticRegression(), classifier__C=10000.0, classifier__penalty=l1;, score=nan total time=   0.0s\n",
      "\n",
      "[CV 4/5] END classifier=LogisticRegression(), classifier__C=3593.813663804626, classifier__penalty=l2;, score=0.945 total time=   0.1s\n",
      "[CV 2/5] END classifier=LogisticRegression(), classifier__C=10000.0, classifier__penalty=l1;, score=nan total time=   0.0s\n"
     ]
    },
    {
     "name": "stderr",
     "output_type": "stream",
     "text": [
      "/home/personal/.local/lib/python3.10/site-packages/sklearn/linear_model/_logistic.py:444: ConvergenceWarning: lbfgs failed to converge (status=1):\n",
      "STOP: TOTAL NO. of ITERATIONS REACHED LIMIT.\n",
      "\n",
      "Increase the number of iterations (max_iter) or scale the data as shown in:\n",
      "    https://scikit-learn.org/stable/modules/preprocessing.html\n",
      "Please also refer to the documentation for alternative solver options:\n",
      "    https://scikit-learn.org/stable/modules/linear_model.html#logistic-regression\n",
      "  n_iter_i = _check_optimize_result(\n",
      "/home/personal/.local/lib/python3.10/site-packages/sklearn/linear_model/_logistic.py:444: ConvergenceWarning: lbfgs failed to converge (status=1):\n",
      "STOP: TOTAL NO. of ITERATIONS REACHED LIMIT.\n",
      "\n",
      "Increase the number of iterations (max_iter) or scale the data as shown in:\n",
      "    https://scikit-learn.org/stable/modules/preprocessing.html\n",
      "Please also refer to the documentation for alternative solver options:\n",
      "    https://scikit-learn.org/stable/modules/linear_model.html#logistic-regression\n",
      "  n_iter_i = _check_optimize_result(\n",
      "/home/personal/.local/lib/python3.10/site-packages/sklearn/linear_model/_logistic.py:444: ConvergenceWarning: lbfgs failed to converge (status=1):\n",
      "STOP: TOTAL NO. of ITERATIONS REACHED LIMIT.\n",
      "\n",
      "Increase the number of iterations (max_iter) or scale the data as shown in:\n",
      "    https://scikit-learn.org/stable/modules/preprocessing.html\n",
      "Please also refer to the documentation for alternative solver options:\n",
      "    https://scikit-learn.org/stable/modules/linear_model.html#logistic-regression\n",
      "  n_iter_i = _check_optimize_result(\n",
      "/home/personal/.local/lib/python3.10/site-packages/sklearn/linear_model/_logistic.py:444: ConvergenceWarning: lbfgs failed to converge (status=1):\n",
      "STOP: TOTAL NO. of ITERATIONS REACHED LIMIT.\n",
      "\n",
      "Increase the number of iterations (max_iter) or scale the data as shown in:\n",
      "    https://scikit-learn.org/stable/modules/preprocessing.html\n",
      "Please also refer to the documentation for alternative solver options:\n",
      "    https://scikit-learn.org/stable/modules/linear_model.html#logistic-regression\n",
      "  n_iter_i = _check_optimize_result(\n",
      "/home/personal/.local/lib/python3.10/site-packages/sklearn/linear_model/_logistic.py:444: ConvergenceWarning: lbfgs failed to converge (status=1):\n",
      "STOP: TOTAL NO. of ITERATIONS REACHED LIMIT.\n",
      "\n",
      "Increase the number of iterations (max_iter) or scale the data as shown in:\n",
      "    https://scikit-learn.org/stable/modules/preprocessing.html\n",
      "Please also refer to the documentation for alternative solver options:\n",
      "    https://scikit-learn.org/stable/modules/linear_model.html#logistic-regression\n",
      "  n_iter_i = _check_optimize_result(\n",
      "/home/personal/.local/lib/python3.10/site-packages/sklearn/linear_model/_logistic.py:444: ConvergenceWarning: lbfgs failed to converge (status=1):\n",
      "STOP: TOTAL NO. of ITERATIONS REACHED LIMIT.\n",
      "\n",
      "Increase the number of iterations (max_iter) or scale the data as shown in:\n",
      "    https://scikit-learn.org/stable/modules/preprocessing.html\n",
      "Please also refer to the documentation for alternative solver options:\n",
      "    https://scikit-learn.org/stable/modules/linear_model.html#logistic-regression\n",
      "  n_iter_i = _check_optimize_result(\n"
     ]
    },
    {
     "name": "stdout",
     "output_type": "stream",
     "text": [
      "[CV 3/5] END classifier=LogisticRegression(), classifier__C=10000.0, classifier__penalty=l1;, score=nan total time=   0.0s\n",
      "[CV 2/5] END classifier=LogisticRegression(), classifier__C=1.0, classifier__penalty=l2;, score=0.978 total time=   0.1s\n",
      "[CV 4/5] END classifier=LogisticRegression(), classifier__C=10000.0, classifier__penalty=l1;, score=nan total time=   0.0s\n",
      "[CV 3/5] END classifier=LogisticRegression(), classifier__C=3593.813663804626, classifier__penalty=l2;, score=0.967 total time=   0.2s\n",
      "[CV 2/5] END classifier=LogisticRegression(), classifier__C=3593.813663804626, classifier__penalty=l2;, score=0.978 total time=   0.2s\n",
      "[CV 5/5] END classifier=LogisticRegression(), classifier__C=10000.0, classifier__penalty=l1;, score=nan total time=   0.0s\n",
      "[CV 5/5] END classifier=LogisticRegression(), classifier__C=3593.813663804626, classifier__penalty=l2;, score=0.912 total time=   0.3s\n",
      "[CV 3/5] END classifier=LogisticRegression(), classifier__C=10000.0, classifier__penalty=l2;, score=0.967 total time=   0.1s\n"
     ]
    },
    {
     "name": "stderr",
     "output_type": "stream",
     "text": [
      "/home/personal/.local/lib/python3.10/site-packages/sklearn/linear_model/_logistic.py:444: ConvergenceWarning: lbfgs failed to converge (status=1):\n",
      "STOP: TOTAL NO. of ITERATIONS REACHED LIMIT.\n",
      "\n",
      "Increase the number of iterations (max_iter) or scale the data as shown in:\n",
      "    https://scikit-learn.org/stable/modules/preprocessing.html\n",
      "Please also refer to the documentation for alternative solver options:\n",
      "    https://scikit-learn.org/stable/modules/linear_model.html#logistic-regression\n",
      "  n_iter_i = _check_optimize_result(\n",
      "/home/personal/.local/lib/python3.10/site-packages/sklearn/linear_model/_logistic.py:444: ConvergenceWarning: lbfgs failed to converge (status=1):\n",
      "STOP: TOTAL NO. of ITERATIONS REACHED LIMIT.\n",
      "\n",
      "Increase the number of iterations (max_iter) or scale the data as shown in:\n",
      "    https://scikit-learn.org/stable/modules/preprocessing.html\n",
      "Please also refer to the documentation for alternative solver options:\n",
      "    https://scikit-learn.org/stable/modules/linear_model.html#logistic-regression\n",
      "  n_iter_i = _check_optimize_result(\n",
      "/home/personal/.local/lib/python3.10/site-packages/sklearn/linear_model/_logistic.py:444: ConvergenceWarning: lbfgs failed to converge (status=1):\n",
      "STOP: TOTAL NO. of ITERATIONS REACHED LIMIT.\n",
      "\n",
      "Increase the number of iterations (max_iter) or scale the data as shown in:\n",
      "    https://scikit-learn.org/stable/modules/preprocessing.html\n",
      "Please also refer to the documentation for alternative solver options:\n",
      "    https://scikit-learn.org/stable/modules/linear_model.html#logistic-regression\n",
      "  n_iter_i = _check_optimize_result(\n",
      "/home/personal/.local/lib/python3.10/site-packages/sklearn/linear_model/_logistic.py:444: ConvergenceWarning: lbfgs failed to converge (status=1):\n",
      "STOP: TOTAL NO. of ITERATIONS REACHED LIMIT.\n",
      "\n",
      "Increase the number of iterations (max_iter) or scale the data as shown in:\n",
      "    https://scikit-learn.org/stable/modules/preprocessing.html\n",
      "Please also refer to the documentation for alternative solver options:\n",
      "    https://scikit-learn.org/stable/modules/linear_model.html#logistic-regression\n",
      "  n_iter_i = _check_optimize_result(\n",
      "/home/personal/.local/lib/python3.10/site-packages/sklearn/linear_model/_logistic.py:444: ConvergenceWarning: lbfgs failed to converge (status=1):\n",
      "STOP: TOTAL NO. of ITERATIONS REACHED LIMIT.\n",
      "\n",
      "Increase the number of iterations (max_iter) or scale the data as shown in:\n",
      "    https://scikit-learn.org/stable/modules/preprocessing.html\n",
      "Please also refer to the documentation for alternative solver options:\n",
      "    https://scikit-learn.org/stable/modules/linear_model.html#logistic-regression\n",
      "  n_iter_i = _check_optimize_result(\n",
      "/home/personal/.local/lib/python3.10/site-packages/sklearn/linear_model/_logistic.py:444: ConvergenceWarning: lbfgs failed to converge (status=1):\n",
      "STOP: TOTAL NO. of ITERATIONS REACHED LIMIT.\n",
      "\n",
      "Increase the number of iterations (max_iter) or scale the data as shown in:\n",
      "    https://scikit-learn.org/stable/modules/preprocessing.html\n",
      "Please also refer to the documentation for alternative solver options:\n",
      "    https://scikit-learn.org/stable/modules/linear_model.html#logistic-regression\n",
      "  n_iter_i = _check_optimize_result(\n",
      "/home/personal/.local/lib/python3.10/site-packages/sklearn/linear_model/_logistic.py:444: ConvergenceWarning: lbfgs failed to converge (status=1):\n",
      "STOP: TOTAL NO. of ITERATIONS REACHED LIMIT.\n",
      "\n",
      "Increase the number of iterations (max_iter) or scale the data as shown in:\n",
      "    https://scikit-learn.org/stable/modules/preprocessing.html\n",
      "Please also refer to the documentation for alternative solver options:\n",
      "    https://scikit-learn.org/stable/modules/linear_model.html#logistic-regression\n",
      "  n_iter_i = _check_optimize_result(\n"
     ]
    },
    {
     "name": "stdout",
     "output_type": "stream",
     "text": [
      "[CV 4/5] END classifier=LogisticRegression(), classifier__C=10000.0, classifier__penalty=l2;, score=0.956 total time=   0.1s\n",
      "[CV 2/5] END classifier=LogisticRegression(), classifier__C=10000.0, classifier__penalty=l2;, score=0.967 total time=   0.2s\n",
      "[CV 1/5] END classifier=LogisticRegression(), classifier__C=10000.0, classifier__penalty=l2;, score=0.945 total time=   0.3s\n",
      "[CV 1/5] END classifier=SVC(), classifier__C=0.2, classifier__coef0=-10.0, classifier__gamma=scale, classifier__kernel=rbf;, score=0.846 total time=   0.0s\n"
     ]
    },
    {
     "name": "stderr",
     "output_type": "stream",
     "text": [
      "/home/personal/.local/lib/python3.10/site-packages/sklearn/linear_model/_logistic.py:444: ConvergenceWarning: lbfgs failed to converge (status=1):\n",
      "STOP: TOTAL NO. of ITERATIONS REACHED LIMIT.\n",
      "\n",
      "Increase the number of iterations (max_iter) or scale the data as shown in:\n",
      "    https://scikit-learn.org/stable/modules/preprocessing.html\n",
      "Please also refer to the documentation for alternative solver options:\n",
      "    https://scikit-learn.org/stable/modules/linear_model.html#logistic-regression\n",
      "  n_iter_i = _check_optimize_result(\n"
     ]
    },
    {
     "name": "stdout",
     "output_type": "stream",
     "text": [
      "[CV 5/5] END classifier=LogisticRegression(), classifier__C=10000.0, classifier__penalty=l2;, score=0.956 total time=   0.3s\n",
      "[CV 2/5] END classifier=SVC(), classifier__C=0.2, classifier__coef0=-10.0, classifier__gamma=scale, classifier__kernel=rbf;, score=0.890 total time=   0.1s\n",
      "[CV 2/5] END classifier=SVC(), classifier__C=0.2, classifier__coef0=-10.0, classifier__gamma=scale, classifier__kernel=linear;, score=0.978 total time=   0.3s\n",
      "[CV 5/5] END classifier=SVC(), classifier__C=0.2, classifier__coef0=-10.0, classifier__gamma=scale, classifier__kernel=rbf;, score=0.879 total time=   0.0s\n",
      "[CV 3/5] END classifier=SVC(), classifier__C=0.2, classifier__coef0=-10.0, classifier__gamma=scale, classifier__kernel=rbf;, score=0.868 total time=   0.1s\n",
      "[CV 1/5] END classifier=SVC(), classifier__C=0.2, classifier__coef0=-10.0, classifier__gamma=scale, classifier__kernel=sigmoid;, score=0.648 total time=   0.0s\n",
      "[CV 1/5] END classifier=SVC(), classifier__C=0.2, classifier__coef0=-10.0, classifier__gamma=scale, classifier__kernel=linear;, score=0.923 total time=   0.4s\n",
      "[CV 4/5] END classifier=SVC(), classifier__C=0.2, classifier__coef0=-10.0, classifier__gamma=scale, classifier__kernel=rbf;, score=0.934 total time=   0.1s\n",
      "[CV 3/5] END classifier=SVC(), classifier__C=0.2, classifier__coef0=-10.0, classifier__gamma=scale, classifier__kernel=sigmoid;, score=0.582 total time=   0.0s\n",
      "[CV 2/5] END classifier=SVC(), classifier__C=0.2, classifier__coef0=-10.0, classifier__gamma=scale, classifier__kernel=sigmoid;, score=0.626 total time=   0.2s\n",
      "[CV 4/5] END classifier=SVC(), classifier__C=0.2, classifier__coef0=-10.0, classifier__gamma=scale, classifier__kernel=sigmoid;, score=0.626 total time=   0.1s\n",
      "[CV 5/5] END classifier=SVC(), classifier__C=0.2, classifier__coef0=-10.0, classifier__gamma=scale, classifier__kernel=sigmoid;, score=0.615 total time=   0.1s\n",
      "[CV 3/5] END classifier=SVC(), classifier__C=0.2, classifier__coef0=-10.0, classifier__gamma=scale, classifier__kernel=linear;, score=0.945 total time=   0.5s\n",
      "[CV 1/5] END classifier=SVC(), classifier__C=0.2, classifier__coef0=-10.0, classifier__gamma=auto, classifier__kernel=linear;, score=0.923 total time=   0.2s\n",
      "[CV 1/5] END classifier=SVC(), classifier__C=0.2, classifier__coef0=-10.0, classifier__gamma=auto, classifier__kernel=rbf;, score=0.648 total time=   0.0s\n",
      "[CV 2/5] END classifier=SVC(), classifier__C=0.2, classifier__coef0=-10.0, classifier__gamma=auto, classifier__kernel=rbf;, score=0.626 total time=   0.0s\n",
      "[CV 3/5] END classifier=SVC(), classifier__C=0.2, classifier__coef0=-10.0, classifier__gamma=auto, classifier__kernel=rbf;, score=0.582 total time=   0.0s\n",
      "[CV 4/5] END classifier=SVC(), classifier__C=0.2, classifier__coef0=-10.0, classifier__gamma=auto, classifier__kernel=rbf;, score=0.626 total time=   0.0s\n",
      "[CV 5/5] END classifier=SVC(), classifier__C=0.2, classifier__coef0=-10.0, classifier__gamma=auto, classifier__kernel=rbf;, score=0.615 total time=   0.0s\n",
      "[CV 3/5] END classifier=LogisticRegression(), classifier__C=1.0, classifier__penalty=l2;, score=0.945 total time=   0.1s\n"
     ]
    },
    {
     "name": "stderr",
     "output_type": "stream",
     "text": [
      "/home/personal/.local/lib/python3.10/site-packages/sklearn/linear_model/_logistic.py:444: ConvergenceWarning: lbfgs failed to converge (status=1):\n",
      "STOP: TOTAL NO. of ITERATIONS REACHED LIMIT.\n",
      "\n",
      "Increase the number of iterations (max_iter) or scale the data as shown in:\n",
      "    https://scikit-learn.org/stable/modules/preprocessing.html\n",
      "Please also refer to the documentation for alternative solver options:\n",
      "    https://scikit-learn.org/stable/modules/linear_model.html#logistic-regression\n",
      "  n_iter_i = _check_optimize_result(\n"
     ]
    },
    {
     "name": "stdout",
     "output_type": "stream",
     "text": [
      "[CV 1/5] END classifier=SVC(), classifier__C=0.2, classifier__coef0=-10.0, classifier__gamma=auto, classifier__kernel=sigmoid;, score=0.648 total time=   0.0s\n",
      "[CV 4/5] END classifier=SVC(), classifier__C=0.2, classifier__coef0=-10.0, classifier__gamma=scale, classifier__kernel=linear;, score=0.967 total time=   0.8s\n",
      "[CV 2/5] END classifier=SVC(), classifier__C=0.2, classifier__coef0=-10.0, classifier__gamma=auto, classifier__kernel=sigmoid;, score=0.626 total time=   0.0s\n",
      "[CV 4/5] END classifier=SVC(), classifier__C=0.2, classifier__coef0=-10.0, classifier__gamma=auto, classifier__kernel=sigmoid;, score=0.626 total time=   0.0s\n",
      "[CV 3/5] END classifier=SVC(), classifier__C=0.2, classifier__coef0=-10.0, classifier__gamma=auto, classifier__kernel=sigmoid;, score=0.582 total time=   0.0s\n",
      "[CV 5/5] END classifier=SVC(), classifier__C=0.2, classifier__coef0=-10.0, classifier__gamma=auto, classifier__kernel=sigmoid;, score=0.615 total time=   0.0s\n",
      "[CV 2/5] END classifier=SVC(), classifier__C=0.2, classifier__coef0=-10.0, classifier__gamma=auto, classifier__kernel=linear;, score=0.978 total time=   0.6s\n",
      "[CV 3/5] END classifier=SVC(), classifier__C=0.2, classifier__coef0=-10.0, classifier__gamma=auto, classifier__kernel=linear;, score=0.945 total time=   0.6s\n",
      "[CV 4/5] END classifier=SVC(), classifier__C=0.2, classifier__coef0=-10.0, classifier__gamma=auto, classifier__kernel=linear;, score=0.967 total time=   0.6s\n",
      "[CV 1/5] END classifier=SVC(), classifier__C=0.2, classifier__coef0=-1.0, classifier__gamma=scale, classifier__kernel=rbf;, score=0.846 total time=   0.0s\n",
      "[CV 2/5] END classifier=SVC(), classifier__C=0.2, classifier__coef0=-1.0, classifier__gamma=scale, classifier__kernel=rbf;, score=0.890 total time=   0.0s\n",
      "[CV 2/5] END classifier=SVC(), classifier__C=0.2, classifier__coef0=-1.0, classifier__gamma=scale, classifier__kernel=linear;, score=0.978 total time=   0.2s\n",
      "[CV 3/5] END classifier=SVC(), classifier__C=0.2, classifier__coef0=-1.0, classifier__gamma=scale, classifier__kernel=rbf;, score=0.868 total time=   0.0s\n",
      "[CV 4/5] END classifier=SVC(), classifier__C=0.2, classifier__coef0=-1.0, classifier__gamma=scale, classifier__kernel=rbf;, score=0.934 total time=   0.0s\n",
      "[CV 1/5] END classifier=SVC(), classifier__C=0.2, classifier__coef0=-1.0, classifier__gamma=scale, classifier__kernel=linear;, score=0.923 total time=   0.2s\n",
      "[CV 5/5] END classifier=SVC(), classifier__C=0.2, classifier__coef0=-1.0, classifier__gamma=scale, classifier__kernel=rbf;, score=0.879 total time=   0.0s\n",
      "[CV 1/5] END classifier=SVC(), classifier__C=0.2, classifier__coef0=-1.0, classifier__gamma=scale, classifier__kernel=sigmoid;, score=0.758 total time=   0.0s\n",
      "[CV 3/5] END classifier=SVC(), classifier__C=0.2, classifier__coef0=-1.0, classifier__gamma=scale, classifier__kernel=sigmoid;, score=0.747 total time=   0.0s\n",
      "[CV 4/5] END classifier=SVC(), classifier__C=0.2, classifier__coef0=-1.0, classifier__gamma=scale, classifier__kernel=sigmoid;, score=0.736 total time=   0.0s\n",
      "[CV 5/5] END classifier=SVC(), classifier__C=0.2, classifier__coef0=-1.0, classifier__gamma=scale, classifier__kernel=sigmoid;, score=0.780 total time=   0.0s\n",
      "[CV 2/5] END classifier=SVC(), classifier__C=0.2, classifier__coef0=-1.0, classifier__gamma=scale, classifier__kernel=sigmoid;, score=0.648 total time=   0.1s\n",
      "[CV 5/5] END classifier=SVC(), classifier__C=0.2, classifier__coef0=-10.0, classifier__gamma=auto, classifier__kernel=linear;, score=0.956 total time=   0.8s\n",
      "[CV 3/5] END classifier=SVC(), classifier__C=0.2, classifier__coef0=-1.0, classifier__gamma=scale, classifier__kernel=linear;, score=0.945 total time=   0.4s\n",
      "[CV 1/5] END classifier=SVC(), classifier__C=0.2, classifier__coef0=-1.0, classifier__gamma=auto, classifier__kernel=linear;, score=0.923 total time=   0.4s[CV 5/5] END classifier=SVC(), classifier__C=0.2, classifier__coef0=-1.0, classifier__gamma=scale, classifier__kernel=linear;, score=0.956 total time=   0.6s\n",
      "\n",
      "[CV 5/5] END classifier=SVC(), classifier__C=0.2, classifier__coef0=-10.0, classifier__gamma=scale, classifier__kernel=linear;, score=0.956 total time=   1.7s\n",
      "[CV 2/5] END classifier=SVC(), classifier__C=0.2, classifier__coef0=-1.0, classifier__gamma=auto, classifier__kernel=rbf;, score=0.626 total time=   0.1s\n",
      "[CV 3/5] END classifier=SVC(), classifier__C=0.2, classifier__coef0=-1.0, classifier__gamma=auto, classifier__kernel=rbf;, score=0.582 total time=   0.1s\n",
      "[CV 5/5] END classifier=SVC(), classifier__C=0.2, classifier__coef0=-1.0, classifier__gamma=auto, classifier__kernel=rbf;, score=0.615 total time=   0.0s\n",
      "[CV 1/5] END classifier=SVC(), classifier__C=0.2, classifier__coef0=-1.0, classifier__gamma=auto, classifier__kernel=rbf;, score=0.648 total time=   0.2s[CV 4/5] END classifier=SVC(), classifier__C=0.2, classifier__coef0=-1.0, classifier__gamma=auto, classifier__kernel=linear;, score=0.967 total time=   0.5s\n",
      "\n",
      "[CV 1/5] END classifier=SVC(), classifier__C=0.2, classifier__coef0=-1.0, classifier__gamma=auto, classifier__kernel=sigmoid;, score=0.648 total time=   0.0s\n",
      "[CV 2/5] END classifier=SVC(), classifier__C=0.2, classifier__coef0=-1.0, classifier__gamma=auto, classifier__kernel=sigmoid;, score=0.626 total time=   0.0s\n",
      "[CV 4/5] END classifier=SVC(), classifier__C=0.2, classifier__coef0=-1.0, classifier__gamma=auto, classifier__kernel=sigmoid;, score=0.626 total time=   0.0s\n",
      "[CV 5/5] END classifier=SVC(), classifier__C=0.2, classifier__coef0=-1.0, classifier__gamma=auto, classifier__kernel=sigmoid;, score=0.615 total time=   0.0s\n",
      "[CV 4/5] END classifier=SVC(), classifier__C=0.2, classifier__coef0=-1.0, classifier__gamma=scale, classifier__kernel=linear;, score=0.967 total time=   0.9s\n",
      "[CV 3/5] END classifier=SVC(), classifier__C=0.2, classifier__coef0=-1.0, classifier__gamma=auto, classifier__kernel=linear;, score=0.945 total time=   0.6s\n",
      "[CV 3/5] END classifier=SVC(), classifier__C=0.2, classifier__coef0=-1.0, classifier__gamma=auto, classifier__kernel=sigmoid;, score=0.582 total time=   0.1s\n",
      "[CV 4/5] END classifier=SVC(), classifier__C=0.2, classifier__coef0=-1.0, classifier__gamma=auto, classifier__kernel=rbf;, score=0.626 total time=   0.2s\n",
      "[CV 2/5] END classifier=SVC(), classifier__C=0.2, classifier__coef0=-1.0, classifier__gamma=auto, classifier__kernel=linear;, score=0.978 total time=   0.7s\n",
      "[CV 1/5] END classifier=SVC(), classifier__C=0.2, classifier__coef0=0.0, classifier__gamma=scale, classifier__kernel=rbf;, score=0.846 total time=   0.1s\n",
      "[CV 1/5] END classifier=SVC(), classifier__C=0.2, classifier__coef0=0.0, classifier__gamma=scale, classifier__kernel=linear;, score=0.923 total time=   0.2s\n",
      "[CV 4/5] END classifier=SVC(), classifier__C=0.2, classifier__coef0=0.0, classifier__gamma=scale, classifier__kernel=rbf;, score=0.934 total time=   0.0s\n",
      "[CV 2/5] END classifier=SVC(), classifier__C=0.2, classifier__coef0=0.0, classifier__gamma=scale, classifier__kernel=rbf;, score=0.890 total time=   0.1s\n",
      "[CV 3/5] END classifier=SVC(), classifier__C=0.2, classifier__coef0=0.0, classifier__gamma=scale, classifier__kernel=rbf;, score=0.868 total time=   0.1s\n",
      "[CV 5/5] END classifier=SVC(), classifier__C=0.2, classifier__coef0=0.0, classifier__gamma=scale, classifier__kernel=rbf;, score=0.879 total time=   0.0s\n",
      "[CV 3/5] END classifier=SVC(), classifier__C=0.2, classifier__coef0=0.0, classifier__gamma=scale, classifier__kernel=sigmoid;, score=0.582 total time=   0.0s\n",
      "[CV 2/5] END classifier=SVC(), classifier__C=0.2, classifier__coef0=0.0, classifier__gamma=scale, classifier__kernel=sigmoid;, score=0.626 total time=   0.1s\n",
      "[CV 4/5] END classifier=SVC(), classifier__C=0.2, classifier__coef0=0.0, classifier__gamma=scale, classifier__kernel=sigmoid;, score=0.626 total time=   0.0s\n",
      "[CV 5/5] END classifier=SVC(), classifier__C=0.2, classifier__coef0=0.0, classifier__gamma=scale, classifier__kernel=sigmoid;, score=0.615 total time=   0.1s\n",
      "[CV 1/5] END classifier=SVC(), classifier__C=0.2, classifier__coef0=0.0, classifier__gamma=scale, classifier__kernel=sigmoid;, score=0.648 total time=   0.2s\n",
      "[CV 2/5] END classifier=SVC(), classifier__C=0.2, classifier__coef0=0.0, classifier__gamma=scale, classifier__kernel=linear;, score=0.978 total time=   0.5s\n",
      "[CV 1/5] END classifier=SVC(), classifier__C=0.2, classifier__coef0=0.0, classifier__gamma=auto, classifier__kernel=linear;, score=0.923 total time=   0.3s\n",
      "[CV 2/5] END classifier=SVC(), classifier__C=0.2, classifier__coef0=0.0, classifier__gamma=auto, classifier__kernel=linear;, score=0.978 total time=   0.4s\n",
      "[CV 1/5] END classifier=SVC(), classifier__C=0.2, classifier__coef0=0.0, classifier__gamma=auto, classifier__kernel=rbf;, score=0.648 total time=   0.1s\n",
      "[CV 2/5] END classifier=SVC(), classifier__C=0.2, classifier__coef0=0.0, classifier__gamma=auto, classifier__kernel=rbf;, score=0.626 total time=   0.1s\n",
      "[CV 3/5] END classifier=SVC(), classifier__C=0.2, classifier__coef0=0.0, classifier__gamma=scale, classifier__kernel=linear;, score=0.945 total time=   1.0s\n",
      "[CV 3/5] END classifier=SVC(), classifier__C=0.2, classifier__coef0=0.0, classifier__gamma=auto, classifier__kernel=rbf;, score=0.582 total time=   0.1s\n",
      "[CV 5/5] END classifier=SVC(), classifier__C=0.2, classifier__coef0=0.0, classifier__gamma=auto, classifier__kernel=rbf;, score=0.615 total time=   0.0s\n",
      "[CV 4/5] END classifier=SVC(), classifier__C=0.2, classifier__coef0=0.0, classifier__gamma=auto, classifier__kernel=rbf;, score=0.626 total time=   0.1s\n",
      "[CV 1/5] END classifier=SVC(), classifier__C=0.2, classifier__coef0=0.0, classifier__gamma=auto, classifier__kernel=sigmoid;, score=0.648 total time=   0.0s\n",
      "[CV 3/5] END classifier=SVC(), classifier__C=0.2, classifier__coef0=0.0, classifier__gamma=auto, classifier__kernel=linear;, score=0.945 total time=   0.8s\n",
      "[CV 2/5] END classifier=SVC(), classifier__C=0.2, classifier__coef0=0.0, classifier__gamma=auto, classifier__kernel=sigmoid;, score=0.626 total time=   0.1s\n",
      "[CV 3/5] END classifier=SVC(), classifier__C=0.2, classifier__coef0=0.0, classifier__gamma=auto, classifier__kernel=sigmoid;, score=0.582 total time=   0.1s\n",
      "[CV 5/5] END classifier=SVC(), classifier__C=0.2, classifier__coef0=-1.0, classifier__gamma=auto, classifier__kernel=linear;, score=0.956 total time=   1.8s\n",
      "[CV 4/5] END classifier=SVC(), classifier__C=0.2, classifier__coef0=0.0, classifier__gamma=auto, classifier__kernel=sigmoid;, score=0.626 total time=   0.0s\n",
      "[CV 5/5] END classifier=SVC(), classifier__C=0.2, classifier__coef0=0.0, classifier__gamma=auto, classifier__kernel=sigmoid;, score=0.615 total time=   0.1s\n",
      "[CV 4/5] END classifier=SVC(), classifier__C=0.2, classifier__coef0=0.0, classifier__gamma=auto, classifier__kernel=linear;, score=0.967 total time=   1.3s\n",
      "[CV 1/5] END classifier=SVC(), classifier__C=0.2, classifier__coef0=0.1, classifier__gamma=scale, classifier__kernel=linear;, score=0.923 total time=   0.6s\n",
      "[CV 3/5] END classifier=SVC(), classifier__C=0.2, classifier__coef0=0.1, classifier__gamma=scale, classifier__kernel=linear;, score=0.945 total time=   0.6s\n",
      "[CV 1/5] END classifier=SVC(), classifier__C=0.2, classifier__coef0=0.1, classifier__gamma=scale, classifier__kernel=rbf;, score=0.846 total time=   0.1s\n",
      "[CV 2/5] END classifier=SVC(), classifier__C=0.2, classifier__coef0=0.1, classifier__gamma=scale, classifier__kernel=rbf;, score=0.890 total time=   0.0s\n",
      "[CV 3/5] END classifier=SVC(), classifier__C=0.2, classifier__coef0=0.1, classifier__gamma=scale, classifier__kernel=rbf;, score=0.868 total time=   0.0s\n",
      "[CV 5/5] END classifier=SVC(), classifier__C=0.2, classifier__coef0=0.1, classifier__gamma=scale, classifier__kernel=rbf;, score=0.879 total time=   0.0s\n",
      "[CV 4/5] END classifier=SVC(), classifier__C=0.2, classifier__coef0=0.1, classifier__gamma=scale, classifier__kernel=rbf;, score=0.934 total time=   0.1s[CV 5/5] END classifier=SVC(), classifier__C=0.2, classifier__coef0=0.0, classifier__gamma=scale, classifier__kernel=linear;, score=0.956 total time=   2.0s\n",
      "\n",
      "[CV 1/5] END classifier=SVC(), classifier__C=0.2, classifier__coef0=0.1, classifier__gamma=scale, classifier__kernel=sigmoid;, score=0.648 total time=   0.0s\n",
      "[CV 4/5] END classifier=SVC(), classifier__C=0.2, classifier__coef0=0.0, classifier__gamma=scale, classifier__kernel=linear;, score=0.967 total time=   2.1s\n",
      "[CV 4/5] END classifier=SVC(), classifier__C=0.2, classifier__coef0=0.1, classifier__gamma=scale, classifier__kernel=sigmoid;, score=0.626 total time=   0.0s\n",
      "[CV 2/5] END classifier=SVC(), classifier__C=0.2, classifier__coef0=0.1, classifier__gamma=scale, classifier__kernel=linear;, score=0.978 total time=   0.9s\n",
      "[CV 3/5] END classifier=SVC(), classifier__C=0.2, classifier__coef0=0.1, classifier__gamma=scale, classifier__kernel=sigmoid;, score=0.582 total time=   0.1s\n",
      "[CV 5/5] END classifier=SVC(), classifier__C=0.2, classifier__coef0=0.1, classifier__gamma=scale, classifier__kernel=sigmoid;, score=0.615 total time=   0.1s\n",
      "[CV 2/5] END classifier=SVC(), classifier__C=0.2, classifier__coef0=0.1, classifier__gamma=scale, classifier__kernel=sigmoid;, score=0.626 total time=   0.2s\n",
      "[CV 1/5] END classifier=SVC(), classifier__C=0.2, classifier__coef0=0.1, classifier__gamma=auto, classifier__kernel=linear;, score=0.923 total time=   0.3s\n",
      "[CV 1/5] END classifier=SVC(), classifier__C=0.2, classifier__coef0=0.1, classifier__gamma=auto, classifier__kernel=rbf;, score=0.648 total time=   0.1s\n",
      "[CV 2/5] END classifier=SVC(), classifier__C=0.2, classifier__coef0=0.1, classifier__gamma=auto, classifier__kernel=rbf;, score=0.626 total time=   0.1s\n",
      "[CV 5/5] END classifier=SVC(), classifier__C=0.2, classifier__coef0=0.0, classifier__gamma=auto, classifier__kernel=linear;, score=0.956 total time=   1.9s\n",
      "[CV 3/5] END classifier=SVC(), classifier__C=0.2, classifier__coef0=0.1, classifier__gamma=auto, classifier__kernel=rbf;, score=0.582 total time=   0.1s\n",
      "[CV 4/5] END classifier=SVC(), classifier__C=0.2, classifier__coef0=0.1, classifier__gamma=auto, classifier__kernel=rbf;, score=0.626 total time=   0.0s\n",
      "[CV 1/5] END classifier=SVC(), classifier__C=0.2, classifier__coef0=0.1, classifier__gamma=auto, classifier__kernel=sigmoid;, score=0.648 total time=   0.0s\n",
      "[CV 5/5] END classifier=SVC(), classifier__C=0.2, classifier__coef0=0.1, classifier__gamma=auto, classifier__kernel=rbf;, score=0.615 total time=   0.0s\n",
      "[CV 3/5] END classifier=SVC(), classifier__C=0.2, classifier__coef0=0.1, classifier__gamma=auto, classifier__kernel=sigmoid;, score=0.582 total time=   0.0s\n",
      "[CV 2/5] END classifier=SVC(), classifier__C=0.2, classifier__coef0=0.1, classifier__gamma=auto, classifier__kernel=sigmoid;, score=0.626 total time=   0.1s\n",
      "[CV 4/5] END classifier=SVC(), classifier__C=0.2, classifier__coef0=0.1, classifier__gamma=auto, classifier__kernel=sigmoid;, score=0.626 total time=   0.0s\n",
      "[CV 5/5] END classifier=SVC(), classifier__C=0.2, classifier__coef0=0.1, classifier__gamma=auto, classifier__kernel=sigmoid;, score=0.615 total time=   0.1s\n",
      "[CV 1/5] END classifier=SVC(), classifier__C=0.2, classifier__coef0=0.5, classifier__gamma=scale, classifier__kernel=linear;, score=0.923 total time=   0.3s\n",
      "[CV 5/5] END classifier=SVC(), classifier__C=0.2, classifier__coef0=0.1, classifier__gamma=auto, classifier__kernel=linear;, score=0.956 total time=   0.9s\n",
      "[CV 4/5] END classifier=SVC(), classifier__C=0.2, classifier__coef0=0.1, classifier__gamma=scale, classifier__kernel=linear;, score=0.967 total time=   1.9s\n",
      "[CV 2/5] END classifier=SVC(), classifier__C=0.2, classifier__coef0=0.1, classifier__gamma=auto, classifier__kernel=linear;, score=0.978 total time=   1.1s\n",
      "[CV 1/5] END classifier=SVC(), classifier__C=0.2, classifier__coef0=0.5, classifier__gamma=scale, classifier__kernel=rbf;, score=0.846 total time=   0.0s\n",
      "[CV 2/5] END classifier=SVC(), classifier__C=0.2, classifier__coef0=0.5, classifier__gamma=scale, classifier__kernel=rbf;, score=0.890 total time=   0.1s\n",
      "[CV 3/5] END classifier=SVC(), classifier__C=0.2, classifier__coef0=0.5, classifier__gamma=scale, classifier__kernel=rbf;, score=0.868 total time=   0.0s\n",
      "[CV 3/5] END classifier=SVC(), classifier__C=0.2, classifier__coef0=0.5, classifier__gamma=scale, classifier__kernel=linear;, score=0.945 total time=   0.4s\n",
      "[CV 3/5] END classifier=SVC(), classifier__C=0.2, classifier__coef0=0.1, classifier__gamma=auto, classifier__kernel=linear;, score=0.945 total time=   1.2s\n",
      "[CV 4/5] END classifier=SVC(), classifier__C=0.2, classifier__coef0=0.5, classifier__gamma=scale, classifier__kernel=rbf;, score=0.934 total time=   0.1s\n",
      "[CV 5/5] END classifier=SVC(), classifier__C=0.2, classifier__coef0=0.5, classifier__gamma=scale, classifier__kernel=rbf;, score=0.879 total time=   0.1s\n",
      "[CV 1/5] END classifier=SVC(), classifier__C=0.2, classifier__coef0=0.5, classifier__gamma=scale, classifier__kernel=sigmoid;, score=0.648 total time=   0.1s[CV 2/5] END classifier=SVC(), classifier__C=0.2, classifier__coef0=0.5, classifier__gamma=scale, classifier__kernel=sigmoid;, score=0.626 total time=   0.1s\n",
      "\n",
      "[CV 4/5] END classifier=SVC(), classifier__C=0.2, classifier__coef0=0.5, classifier__gamma=scale, classifier__kernel=sigmoid;, score=0.626 total time=   0.0s\n",
      "[CV 5/5] END classifier=SVC(), classifier__C=0.2, classifier__coef0=0.5, classifier__gamma=scale, classifier__kernel=sigmoid;, score=0.615 total time=   0.1s\n",
      "[CV 3/5] END classifier=SVC(), classifier__C=0.2, classifier__coef0=0.5, classifier__gamma=scale, classifier__kernel=sigmoid;, score=0.582 total time=   0.2s\n",
      "[CV 5/5] END classifier=SVC(), classifier__C=0.2, classifier__coef0=0.1, classifier__gamma=scale, classifier__kernel=linear;, score=0.956 total time=   2.0s\n",
      "[CV 2/5] END classifier=SVC(), classifier__C=0.2, classifier__coef0=0.5, classifier__gamma=scale, classifier__kernel=linear;, score=0.978 total time=   1.0s\n",
      "[CV 1/5] END classifier=SVC(), classifier__C=0.2, classifier__coef0=0.5, classifier__gamma=auto, classifier__kernel=linear;, score=0.923 total time=   0.3s\n",
      "[CV 2/5] END classifier=SVC(), classifier__C=0.2, classifier__coef0=0.5, classifier__gamma=auto, classifier__kernel=linear;, score=0.978 total time=   0.4s\n",
      "[CV 1/5] END classifier=SVC(), classifier__C=0.2, classifier__coef0=0.5, classifier__gamma=auto, classifier__kernel=rbf;, score=0.648 total time=   0.2s\n",
      "[CV 2/5] END classifier=SVC(), classifier__C=0.2, classifier__coef0=0.5, classifier__gamma=auto, classifier__kernel=rbf;, score=0.626 total time=   0.1s\n",
      "[CV 4/5] END classifier=SVC(), classifier__C=0.2, classifier__coef0=0.5, classifier__gamma=auto, classifier__kernel=rbf;, score=0.626 total time=   0.1s\n",
      "[CV 5/5] END classifier=SVC(), classifier__C=0.2, classifier__coef0=0.5, classifier__gamma=auto, classifier__kernel=rbf;, score=0.615 total time=   0.1s\n",
      "[CV 3/5] END classifier=SVC(), classifier__C=0.2, classifier__coef0=0.5, classifier__gamma=auto, classifier__kernel=rbf;, score=0.582 total time=   0.2s\n",
      "[CV 1/5] END classifier=SVC(), classifier__C=0.2, classifier__coef0=0.5, classifier__gamma=auto, classifier__kernel=sigmoid;, score=0.648 total time=   0.1s\n",
      "[CV 2/5] END classifier=SVC(), classifier__C=0.2, classifier__coef0=0.5, classifier__gamma=auto, classifier__kernel=sigmoid;, score=0.626 total time=   0.1s\n",
      "[CV 3/5] END classifier=SVC(), classifier__C=0.2, classifier__coef0=0.5, classifier__gamma=auto, classifier__kernel=linear;, score=0.945 total time=   0.8s\n",
      "[CV 4/5] END classifier=SVC(), classifier__C=0.2, classifier__coef0=0.5, classifier__gamma=scale, classifier__kernel=linear;, score=0.967 total time=   1.4s\n",
      "[CV 3/5] END classifier=SVC(), classifier__C=0.2, classifier__coef0=0.5, classifier__gamma=auto, classifier__kernel=sigmoid;, score=0.582 total time=   0.1s\n",
      "[CV 5/5] END classifier=SVC(), classifier__C=0.2, classifier__coef0=0.5, classifier__gamma=auto, classifier__kernel=sigmoid;, score=0.615 total time=   0.0s\n",
      "[CV 4/5] END classifier=SVC(), classifier__C=0.2, classifier__coef0=0.1, classifier__gamma=auto, classifier__kernel=linear;, score=0.967 total time=   2.3s\n",
      "[CV 4/5] END classifier=SVC(), classifier__C=0.2, classifier__coef0=0.5, classifier__gamma=auto, classifier__kernel=sigmoid;, score=0.626 total time=   0.2s\n",
      "[CV 1/5] END classifier=SVC(), classifier__C=0.2, classifier__coef0=1, classifier__gamma=scale, classifier__kernel=linear;, score=0.923 total time=   0.3s\n",
      "[CV 1/5] END classifier=SVC(), classifier__C=0.2, classifier__coef0=1, classifier__gamma=scale, classifier__kernel=rbf;, score=0.846 total time=   0.0s\n",
      "[CV 5/5] END classifier=SVC(), classifier__C=0.2, classifier__coef0=0.5, classifier__gamma=scale, classifier__kernel=linear;, score=0.956 total time=   1.7s\n",
      "[CV 2/5] END classifier=SVC(), classifier__C=0.2, classifier__coef0=1, classifier__gamma=scale, classifier__kernel=rbf;, score=0.890 total time=   0.0s\n",
      "[CV 3/5] END classifier=SVC(), classifier__C=0.2, classifier__coef0=1, classifier__gamma=scale, classifier__kernel=rbf;, score=0.868 total time=   0.0s\n",
      "[CV 5/5] END classifier=SVC(), classifier__C=0.2, classifier__coef0=1, classifier__gamma=scale, classifier__kernel=rbf;, score=0.879 total time=   0.0s\n",
      "[CV 4/5] END classifier=SVC(), classifier__C=0.2, classifier__coef0=1, classifier__gamma=scale, classifier__kernel=rbf;, score=0.934 total time=   0.1s\n",
      "[CV 1/5] END classifier=SVC(), classifier__C=0.2, classifier__coef0=1, classifier__gamma=scale, classifier__kernel=sigmoid;, score=0.648 total time=   0.0s\n",
      "[CV 2/5] END classifier=SVC(), classifier__C=0.2, classifier__coef0=1, classifier__gamma=scale, classifier__kernel=sigmoid;, score=0.626 total time=   0.1s\n",
      "[CV 4/5] END classifier=SVC(), classifier__C=0.2, classifier__coef0=1, classifier__gamma=scale, classifier__kernel=sigmoid;, score=0.626 total time=   0.1s\n",
      "[CV 3/5] END classifier=SVC(), classifier__C=0.2, classifier__coef0=1, classifier__gamma=scale, classifier__kernel=linear;, score=0.945 total time=   0.6s\n",
      "[CV 3/5] END classifier=SVC(), classifier__C=0.2, classifier__coef0=1, classifier__gamma=scale, classifier__kernel=sigmoid;, score=0.582 total time=   0.2s\n",
      "[CV 5/5] END classifier=SVC(), classifier__C=0.2, classifier__coef0=1, classifier__gamma=scale, classifier__kernel=sigmoid;, score=0.615 total time=   0.0s\n",
      "[CV 5/5] END classifier=SVC(), classifier__C=0.2, classifier__coef0=1, classifier__gamma=scale, classifier__kernel=linear;, score=0.956 total time=   0.7s\n",
      "[CV 1/5] END classifier=SVC(), classifier__C=0.2, classifier__coef0=1, classifier__gamma=auto, classifier__kernel=linear;, score=0.923 total time=   0.3s\n",
      "[CV 5/5] END classifier=SVC(), classifier__C=0.2, classifier__coef0=0.5, classifier__gamma=auto, classifier__kernel=linear;, score=0.956 total time=   1.7s\n",
      "[CV 4/5] END classifier=SVC(), classifier__C=0.2, classifier__coef0=0.5, classifier__gamma=auto, classifier__kernel=linear;, score=0.967 total time=   1.9s\n",
      "[CV 1/5] END classifier=SVC(), classifier__C=0.2, classifier__coef0=1, classifier__gamma=auto, classifier__kernel=rbf;, score=0.648 total time=   0.0s\n",
      "[CV 2/5] END classifier=SVC(), classifier__C=0.2, classifier__coef0=1, classifier__gamma=auto, classifier__kernel=rbf;, score=0.626 total time=   0.1s\n",
      "[CV 3/5] END classifier=SVC(), classifier__C=0.2, classifier__coef0=1, classifier__gamma=auto, classifier__kernel=rbf;, score=0.582 total time=   0.0s\n",
      "[CV 4/5] END classifier=SVC(), classifier__C=0.2, classifier__coef0=1, classifier__gamma=auto, classifier__kernel=rbf;, score=0.626 total time=   0.1s\n",
      "[CV 1/5] END classifier=SVC(), classifier__C=0.2, classifier__coef0=1, classifier__gamma=auto, classifier__kernel=sigmoid;, score=0.648 total time=   0.1s\n",
      "[CV 5/5] END classifier=SVC(), classifier__C=0.2, classifier__coef0=1, classifier__gamma=auto, classifier__kernel=rbf;, score=0.615 total time=   0.2s[CV 2/5] END classifier=SVC(), classifier__C=0.2, classifier__coef0=1, classifier__gamma=scale, classifier__kernel=linear;, score=0.978 total time=   1.3s\n",
      "\n",
      "[CV 3/5] END classifier=SVC(), classifier__C=0.2, classifier__coef0=1, classifier__gamma=auto, classifier__kernel=linear;, score=0.945 total time=   0.7s\n",
      "[CV 3/5] END classifier=SVC(), classifier__C=0.2, classifier__coef0=1, classifier__gamma=auto, classifier__kernel=sigmoid;, score=0.582 total time=   0.0s\n",
      "[CV 5/5] END classifier=SVC(), classifier__C=0.2, classifier__coef0=1, classifier__gamma=auto, classifier__kernel=sigmoid;, score=0.615 total time=   0.0s\n",
      "[CV 2/5] END classifier=SVC(), classifier__C=0.2, classifier__coef0=1, classifier__gamma=auto, classifier__kernel=sigmoid;, score=0.626 total time=   0.1s\n",
      "[CV 4/5] END classifier=SVC(), classifier__C=0.2, classifier__coef0=1, classifier__gamma=auto, classifier__kernel=sigmoid;, score=0.626 total time=   0.2s\n",
      "[CV 5/5] END classifier=SVC(), classifier__C=0.2, classifier__coef0=1, classifier__gamma=auto, classifier__kernel=linear;, score=0.956 total time=   0.7s\n",
      "[CV 1/5] END classifier=SVC(), classifier__C=0.2, classifier__coef0=10, classifier__gamma=scale, classifier__kernel=linear;, score=0.923 total time=   0.3s\n",
      "[CV 1/5] END classifier=SVC(), classifier__C=0.2, classifier__coef0=10, classifier__gamma=scale, classifier__kernel=rbf;, score=0.846 total time=   0.0s\n",
      "[CV 2/5] END classifier=SVC(), classifier__C=0.2, classifier__coef0=10, classifier__gamma=scale, classifier__kernel=rbf;, score=0.890 total time=   0.0s\n",
      "[CV 3/5] END classifier=SVC(), classifier__C=0.2, classifier__coef0=10, classifier__gamma=scale, classifier__kernel=rbf;, score=0.868 total time=   0.0s\n",
      "[CV 4/5] END classifier=SVC(), classifier__C=0.2, classifier__coef0=10, classifier__gamma=scale, classifier__kernel=rbf;, score=0.934 total time=   0.0s\n",
      "[CV 5/5] END classifier=SVC(), classifier__C=0.2, classifier__coef0=10, classifier__gamma=scale, classifier__kernel=rbf;, score=0.879 total time=   0.0s\n",
      "[CV 1/5] END classifier=SVC(), classifier__C=0.2, classifier__coef0=10, classifier__gamma=scale, classifier__kernel=sigmoid;, score=0.648 total time=   0.0s\n",
      "[CV 2/5] END classifier=SVC(), classifier__C=0.2, classifier__coef0=10, classifier__gamma=scale, classifier__kernel=sigmoid;, score=0.626 total time=   0.0s\n",
      "[CV 3/5] END classifier=SVC(), classifier__C=0.2, classifier__coef0=10, classifier__gamma=scale, classifier__kernel=sigmoid;, score=0.582 total time=   0.0s\n",
      "[CV 4/5] END classifier=SVC(), classifier__C=0.2, classifier__coef0=1, classifier__gamma=auto, classifier__kernel=linear;, score=0.967 total time=   1.1s\n",
      "[CV 4/5] END classifier=SVC(), classifier__C=0.2, classifier__coef0=10, classifier__gamma=scale, classifier__kernel=sigmoid;, score=0.626 total time=   0.0s\n",
      "[CV 5/5] END classifier=SVC(), classifier__C=0.2, classifier__coef0=10, classifier__gamma=scale, classifier__kernel=sigmoid;, score=0.615 total time=   0.2s\n",
      "[CV 2/5] END classifier=SVC(), classifier__C=0.2, classifier__coef0=1, classifier__gamma=auto, classifier__kernel=linear;, score=0.978 total time=   1.6s\n",
      "[CV 5/5] END classifier=SVC(), classifier__C=0.2, classifier__coef0=10, classifier__gamma=scale, classifier__kernel=linear;, score=0.956 total time=   0.7s\n",
      "[CV 4/5] END classifier=SVC(), classifier__C=0.2, classifier__coef0=1, classifier__gamma=scale, classifier__kernel=linear;, score=0.967 total time=   2.5s\n",
      "[CV 1/5] END classifier=SVC(), classifier__C=0.2, classifier__coef0=10, classifier__gamma=auto, classifier__kernel=linear;, score=0.923 total time=   0.5s\n",
      "[CV 4/5] END classifier=SVC(), classifier__C=0.2, classifier__coef0=10, classifier__gamma=scale, classifier__kernel=linear;, score=0.967 total time=   1.2s\n",
      "[CV 2/5] END classifier=SVC(), classifier__C=0.2, classifier__coef0=10, classifier__gamma=scale, classifier__kernel=linear;, score=0.978 total time=   1.3s\n",
      "[CV 2/5] END classifier=SVC(), classifier__C=0.2, classifier__coef0=10, classifier__gamma=auto, classifier__kernel=rbf;, score=0.626 total time=   0.0s\n",
      "[CV 3/5] END classifier=SVC(), classifier__C=0.2, classifier__coef0=10, classifier__gamma=scale, classifier__kernel=linear;, score=0.945 total time=   1.3s\n",
      "[CV 3/5] END classifier=SVC(), classifier__C=0.2, classifier__coef0=10, classifier__gamma=auto, classifier__kernel=rbf;, score=0.582 total time=   0.1s\n",
      "[CV 4/5] END classifier=SVC(), classifier__C=0.2, classifier__coef0=10, classifier__gamma=auto, classifier__kernel=rbf;, score=0.626 total time=   0.0s\n",
      "[CV 1/5] END classifier=SVC(), classifier__C=0.2, classifier__coef0=10, classifier__gamma=auto, classifier__kernel=rbf;, score=0.648 total time=   0.2s\n",
      "[CV 1/5] END classifier=SVC(), classifier__C=0.2, classifier__coef0=10, classifier__gamma=auto, classifier__kernel=sigmoid;, score=0.648 total time=   0.0s\n",
      "[CV 2/5] END classifier=SVC(), classifier__C=0.2, classifier__coef0=10, classifier__gamma=auto, classifier__kernel=sigmoid;, score=0.626 total time=   0.0s\n",
      "[CV 5/5] END classifier=SVC(), classifier__C=0.2, classifier__coef0=10, classifier__gamma=auto, classifier__kernel=rbf;, score=0.615 total time=   0.1s[CV 4/5] END classifier=SVC(), classifier__C=0.2, classifier__coef0=10, classifier__gamma=auto, classifier__kernel=sigmoid;, score=0.626 total time=   0.1s\n",
      "\n",
      "[CV 3/5] END classifier=SVC(), classifier__C=0.2, classifier__coef0=10, classifier__gamma=auto, classifier__kernel=sigmoid;, score=0.582 total time=   0.1s\n",
      "[CV 5/5] END classifier=SVC(), classifier__C=0.2, classifier__coef0=10, classifier__gamma=auto, classifier__kernel=sigmoid;, score=0.615 total time=   0.1s\n",
      "[CV 2/5] END classifier=SVC(), classifier__C=0.2, classifier__coef0=10, classifier__gamma=auto, classifier__kernel=linear;, score=0.978 total time=   0.9s\n",
      "[CV 4/5] END classifier=SVC(), classifier__C=0.2, classifier__coef0=10, classifier__gamma=auto, classifier__kernel=linear;, score=0.967 total time=   0.9s\n",
      "[CV 1/5] END classifier=SVC(), classifier__C=0.2, classifier__coef0=100, classifier__gamma=scale, classifier__kernel=rbf;, score=0.846 total time=   0.0s\n",
      "[CV 2/5] END classifier=SVC(), classifier__C=0.2, classifier__coef0=100, classifier__gamma=scale, classifier__kernel=rbf;, score=0.890 total time=   0.0s\n",
      "[CV 3/5] END classifier=SVC(), classifier__C=0.2, classifier__coef0=100, classifier__gamma=scale, classifier__kernel=rbf;, score=0.868 total time=   0.0s\n",
      "[CV 3/5] END classifier=SVC(), classifier__C=0.2, classifier__coef0=10, classifier__gamma=auto, classifier__kernel=linear;, score=0.945 total time=   1.1s[CV 4/5] END classifier=SVC(), classifier__C=0.2, classifier__coef0=100, classifier__gamma=scale, classifier__kernel=rbf;, score=0.934 total time=   0.0s\n",
      "\n",
      "[CV 5/5] END classifier=SVC(), classifier__C=0.2, classifier__coef0=100, classifier__gamma=scale, classifier__kernel=rbf;, score=0.879 total time=   0.0s\n",
      "[CV 2/5] END classifier=SVC(), classifier__C=0.2, classifier__coef0=100, classifier__gamma=scale, classifier__kernel=sigmoid;, score=0.626 total time=   0.0s\n",
      "[CV 1/5] END classifier=SVC(), classifier__C=0.2, classifier__coef0=100, classifier__gamma=scale, classifier__kernel=linear;, score=0.923 total time=   0.5s\n",
      "[CV 3/5] END classifier=SVC(), classifier__C=0.2, classifier__coef0=100, classifier__gamma=scale, classifier__kernel=sigmoid;, score=0.582 total time=   0.0s\n",
      "[CV 1/5] END classifier=SVC(), classifier__C=0.2, classifier__coef0=100, classifier__gamma=scale, classifier__kernel=sigmoid;, score=0.648 total time=   0.1s\n",
      "[CV 4/5] END classifier=SVC(), classifier__C=0.2, classifier__coef0=100, classifier__gamma=scale, classifier__kernel=sigmoid;, score=0.626 total time=   0.1s\n",
      "[CV 5/5] END classifier=SVC(), classifier__C=0.2, classifier__coef0=100, classifier__gamma=scale, classifier__kernel=sigmoid;, score=0.615 total time=   0.1s\n",
      "[CV 3/5] END classifier=SVC(), classifier__C=0.2, classifier__coef0=100, classifier__gamma=scale, classifier__kernel=linear;, score=0.945 total time=   0.9s\n",
      "[CV 2/5] END classifier=SVC(), classifier__C=0.2, classifier__coef0=100, classifier__gamma=scale, classifier__kernel=linear;, score=0.978 total time=   1.2s[CV 1/5] END classifier=SVC(), classifier__C=0.2, classifier__coef0=100, classifier__gamma=auto, classifier__kernel=linear;, score=0.923 total time=   0.6s\n",
      "\n",
      "[CV 5/5] END classifier=SVC(), classifier__C=0.2, classifier__coef0=10, classifier__gamma=auto, classifier__kernel=linear;, score=0.956 total time=   1.6s\n",
      "[CV 2/5] END classifier=SVC(), classifier__C=0.2, classifier__coef0=100, classifier__gamma=auto, classifier__kernel=rbf;, score=0.626 total time=   0.1s\n",
      "[CV 3/5] END classifier=SVC(), classifier__C=0.2, classifier__coef0=100, classifier__gamma=auto, classifier__kernel=rbf;, score=0.582 total time=   0.0s\n",
      "[CV 4/5] END classifier=SVC(), classifier__C=0.2, classifier__coef0=100, classifier__gamma=auto, classifier__kernel=rbf;, score=0.626 total time=   0.1s\n",
      "[CV 1/5] END classifier=SVC(), classifier__C=0.2, classifier__coef0=100, classifier__gamma=auto, classifier__kernel=rbf;, score=0.648 total time=   0.2s\n",
      "[CV 5/5] END classifier=SVC(), classifier__C=0.2, classifier__coef0=100, classifier__gamma=scale, classifier__kernel=linear;, score=0.956 total time=   1.4s\n",
      "[CV 5/5] END classifier=SVC(), classifier__C=0.2, classifier__coef0=100, classifier__gamma=auto, classifier__kernel=rbf;, score=0.615 total time=   0.1s\n",
      "[CV 1/5] END classifier=SVC(), classifier__C=0.2, classifier__coef0=100, classifier__gamma=auto, classifier__kernel=sigmoid;, score=0.648 total time=   0.1s\n",
      "[CV 2/5] END classifier=SVC(), classifier__C=0.2, classifier__coef0=100, classifier__gamma=auto, classifier__kernel=sigmoid;, score=0.626 total time=   0.1s\n",
      "[CV 3/5] END classifier=SVC(), classifier__C=0.2, classifier__coef0=100, classifier__gamma=auto, classifier__kernel=sigmoid;, score=0.582 total time=   0.0s\n",
      "[CV 4/5] END classifier=SVC(), classifier__C=0.2, classifier__coef0=100, classifier__gamma=auto, classifier__kernel=sigmoid;, score=0.626 total time=   0.1s\n",
      "[CV 5/5] END classifier=SVC(), classifier__C=0.2, classifier__coef0=100, classifier__gamma=auto, classifier__kernel=sigmoid;, score=0.615 total time=   0.1s\n",
      "[CV 3/5] END classifier=SVC(), classifier__C=0.2, classifier__coef0=100, classifier__gamma=auto, classifier__kernel=linear;, score=0.945 total time=   1.1s\n",
      "[CV 2/5] END classifier=SVC(), classifier__C=0.2, classifier__coef0=100, classifier__gamma=auto, classifier__kernel=linear;, score=0.978 total time=   1.3s\n",
      "[CV 4/5] END classifier=SVC(), classifier__C=0.2, classifier__coef0=100, classifier__gamma=scale, classifier__kernel=linear;, score=0.967 total time=   2.1s\n",
      "[CV 1/5] END classifier=SVC(), classifier__C=0.3, classifier__coef0=-10.0, classifier__gamma=scale, classifier__kernel=rbf;, score=0.857 total time=   0.1s\n",
      "[CV 2/5] END classifier=SVC(), classifier__C=0.3, classifier__coef0=-10.0, classifier__gamma=scale, classifier__kernel=linear;, score=0.967 total time=   0.4s\n",
      "[CV 3/5] END classifier=SVC(), classifier__C=0.3, classifier__coef0=-10.0, classifier__gamma=scale, classifier__kernel=rbf;, score=0.879 total time=   0.0s\n",
      "[CV 2/5] END classifier=SVC(), classifier__C=0.3, classifier__coef0=-10.0, classifier__gamma=scale, classifier__kernel=rbf;, score=0.890 total time=   0.1s\n",
      "[CV 4/5] END classifier=SVC(), classifier__C=0.2, classifier__coef0=100, classifier__gamma=auto, classifier__kernel=linear;, score=0.967 total time=   1.4s\n",
      "[CV 1/5] END classifier=SVC(), classifier__C=0.3, classifier__coef0=-10.0, classifier__gamma=scale, classifier__kernel=linear;, score=0.923 total time=   0.7s\n",
      "[CV 5/5] END classifier=SVC(), classifier__C=0.3, classifier__coef0=-10.0, classifier__gamma=scale, classifier__kernel=rbf;, score=0.890 total time=   0.1s\n",
      "[CV 1/5] END classifier=SVC(), classifier__C=0.3, classifier__coef0=-10.0, classifier__gamma=scale, classifier__kernel=sigmoid;, score=0.648 total time=   0.1s\n",
      "[CV 4/5] END classifier=SVC(), classifier__C=0.3, classifier__coef0=-10.0, classifier__gamma=scale, classifier__kernel=rbf;, score=0.934 total time=   0.1s\n",
      "[CV 2/5] END classifier=SVC(), classifier__C=0.3, classifier__coef0=-10.0, classifier__gamma=scale, classifier__kernel=sigmoid;, score=0.626 total time=   0.0s\n",
      "[CV 5/5] END classifier=SVC(), classifier__C=0.3, classifier__coef0=-10.0, classifier__gamma=scale, classifier__kernel=sigmoid;, score=0.615 total time=   0.1s\n",
      "[CV 5/5] END classifier=SVC(), classifier__C=0.3, classifier__coef0=-10.0, classifier__gamma=scale, classifier__kernel=linear;, score=0.967 total time=   0.6s\n",
      "[CV 4/5] END classifier=SVC(), classifier__C=0.3, classifier__coef0=-10.0, classifier__gamma=scale, classifier__kernel=sigmoid;, score=0.626 total time=   0.1s\n",
      "[CV 5/5] END classifier=SVC(), classifier__C=0.2, classifier__coef0=100, classifier__gamma=auto, classifier__kernel=linear;, score=0.956 total time=   1.4s\n",
      "[CV 3/5] END classifier=SVC(), classifier__C=0.3, classifier__coef0=-10.0, classifier__gamma=scale, classifier__kernel=sigmoid;, score=0.582 total time=   0.2s\n",
      "[CV 2/5] END classifier=SVC(), classifier__C=0.3, classifier__coef0=-10.0, classifier__gamma=auto, classifier__kernel=linear;, score=0.967 total time=   0.4s\n",
      "[CV 1/5] END classifier=SVC(), classifier__C=0.3, classifier__coef0=-10.0, classifier__gamma=auto, classifier__kernel=rbf;, score=0.648 total time=   0.2s\n",
      "[CV 4/5] END classifier=SVC(), classifier__C=0.3, classifier__coef0=-10.0, classifier__gamma=scale, classifier__kernel=linear;, score=0.967 total time=   1.2s\n",
      "[CV 3/5] END classifier=SVC(), classifier__C=0.3, classifier__coef0=-10.0, classifier__gamma=auto, classifier__kernel=rbf;, score=0.582 total time=   0.1s\n",
      "[CV 2/5] END classifier=SVC(), classifier__C=0.3, classifier__coef0=-10.0, classifier__gamma=auto, classifier__kernel=rbf;, score=0.626 total time=   0.3s\n",
      "[CV 5/5] END classifier=SVC(), classifier__C=0.3, classifier__coef0=-10.0, classifier__gamma=auto, classifier__kernel=linear;, score=0.967 total time=   0.5s\n",
      "[CV 1/5] END classifier=SVC(), classifier__C=0.3, classifier__coef0=-10.0, classifier__gamma=auto, classifier__kernel=linear;, score=0.923 total time=   0.8s\n",
      "[CV 5/5] END classifier=SVC(), classifier__C=0.3, classifier__coef0=-10.0, classifier__gamma=auto, classifier__kernel=rbf;, score=0.615 total time=   0.2s\n",
      "[CV 3/5] END classifier=SVC(), classifier__C=0.3, classifier__coef0=-10.0, classifier__gamma=auto, classifier__kernel=sigmoid;, score=0.582 total time=   0.0s\n",
      "[CV 3/5] END classifier=SVC(), classifier__C=0.3, classifier__coef0=-10.0, classifier__gamma=auto, classifier__kernel=linear;, score=0.934 total time=   0.7s\n",
      "[CV 2/5] END classifier=SVC(), classifier__C=0.3, classifier__coef0=-10.0, classifier__gamma=auto, classifier__kernel=sigmoid;, score=0.626 total time=   0.1s\n",
      "[CV 1/5] END classifier=SVC(), classifier__C=0.3, classifier__coef0=-10.0, classifier__gamma=auto, classifier__kernel=sigmoid;, score=0.648 total time=   0.1s\n",
      "[CV 4/5] END classifier=SVC(), classifier__C=0.3, classifier__coef0=-10.0, classifier__gamma=auto, classifier__kernel=sigmoid;, score=0.626 total time=   0.1s\n",
      "[CV 4/5] END classifier=SVC(), classifier__C=0.3, classifier__coef0=-10.0, classifier__gamma=auto, classifier__kernel=rbf;, score=0.626 total time=   0.3s\n",
      "[CV 5/5] END classifier=SVC(), classifier__C=0.3, classifier__coef0=-10.0, classifier__gamma=auto, classifier__kernel=sigmoid;, score=0.615 total time=   0.1s\n",
      "[CV 3/5] END classifier=SVC(), classifier__C=0.3, classifier__coef0=-10.0, classifier__gamma=scale, classifier__kernel=linear;, score=0.934 total time=   1.6s\n",
      "[CV 2/5] END classifier=SVC(), classifier__C=0.3, classifier__coef0=-1.0, classifier__gamma=scale, classifier__kernel=rbf;, score=0.890 total time=   0.0s\n",
      "[CV 1/5] END classifier=SVC(), classifier__C=0.3, classifier__coef0=-1.0, classifier__gamma=scale, classifier__kernel=rbf;, score=0.857 total time=   0.1s\n",
      "[CV 3/5] END classifier=SVC(), classifier__C=0.3, classifier__coef0=-1.0, classifier__gamma=scale, classifier__kernel=rbf;, score=0.879 total time=   0.0s\n",
      "[CV 4/5] END classifier=SVC(), classifier__C=0.3, classifier__coef0=-1.0, classifier__gamma=scale, classifier__kernel=rbf;, score=0.934 total time=   0.0s\n",
      "[CV 1/5] END classifier=SVC(), classifier__C=0.3, classifier__coef0=-1.0, classifier__gamma=scale, classifier__kernel=linear;, score=0.923 total time=   0.3s\n",
      "[CV 5/5] END classifier=SVC(), classifier__C=0.3, classifier__coef0=-1.0, classifier__gamma=scale, classifier__kernel=rbf;, score=0.890 total time=   0.1s\n",
      "[CV 1/5] END classifier=SVC(), classifier__C=0.3, classifier__coef0=-1.0, classifier__gamma=scale, classifier__kernel=sigmoid;, score=0.714 total time=   0.0s\n",
      "[CV 2/5] END classifier=SVC(), classifier__C=0.3, classifier__coef0=-1.0, classifier__gamma=scale, classifier__kernel=sigmoid;, score=0.637 total time=   0.0s\n",
      "[CV 3/5] END classifier=SVC(), classifier__C=0.3, classifier__coef0=-1.0, classifier__gamma=scale, classifier__kernel=sigmoid;, score=0.714 total time=   0.1s\n",
      "[CV 5/5] END classifier=SVC(), classifier__C=0.3, classifier__coef0=-1.0, classifier__gamma=scale, classifier__kernel=sigmoid;, score=0.769 total time=   0.0s\n",
      "[CV 4/5] END classifier=SVC(), classifier__C=0.3, classifier__coef0=-1.0, classifier__gamma=scale, classifier__kernel=sigmoid;, score=0.714 total time=   0.1s\n",
      "[CV 4/5] END classifier=SVC(), classifier__C=0.3, classifier__coef0=-10.0, classifier__gamma=auto, classifier__kernel=linear;, score=0.967 total time=   1.2s\n",
      "[CV 2/5] END classifier=SVC(), classifier__C=0.3, classifier__coef0=-1.0, classifier__gamma=scale, classifier__kernel=linear;, score=0.967 total time=   0.5s\n",
      "[CV 1/5] END classifier=SVC(), classifier__C=0.3, classifier__coef0=-1.0, classifier__gamma=auto, classifier__kernel=linear;, score=0.923 total time=   0.2s\n",
      "[CV 1/5] END classifier=SVC(), classifier__C=0.3, classifier__coef0=-1.0, classifier__gamma=auto, classifier__kernel=rbf;, score=0.648 total time=   0.0s\n",
      "[CV 2/5] END classifier=SVC(), classifier__C=0.3, classifier__coef0=-1.0, classifier__gamma=auto, classifier__kernel=rbf;, score=0.626 total time=   0.0s\n",
      "[CV 3/5] END classifier=SVC(), classifier__C=0.3, classifier__coef0=-1.0, classifier__gamma=auto, classifier__kernel=rbf;, score=0.582 total time=   0.1s\n",
      "[CV 4/5] END classifier=SVC(), classifier__C=0.3, classifier__coef0=-1.0, classifier__gamma=auto, classifier__kernel=rbf;, score=0.626 total time=   0.1s\n",
      "[CV 5/5] END classifier=SVC(), classifier__C=0.3, classifier__coef0=-1.0, classifier__gamma=auto, classifier__kernel=rbf;, score=0.615 total time=   0.0s\n",
      "[CV 1/5] END classifier=SVC(), classifier__C=0.3, classifier__coef0=-1.0, classifier__gamma=auto, classifier__kernel=sigmoid;, score=0.648 total time=   0.0s\n",
      "[CV 2/5] END classifier=SVC(), classifier__C=0.3, classifier__coef0=-1.0, classifier__gamma=auto, classifier__kernel=sigmoid;, score=0.626 total time=   0.0s\n",
      "[CV 3/5] END classifier=SVC(), classifier__C=0.3, classifier__coef0=-1.0, classifier__gamma=auto, classifier__kernel=sigmoid;, score=0.582 total time=   0.1s\n",
      "[CV 4/5] END classifier=SVC(), classifier__C=0.3, classifier__coef0=-1.0, classifier__gamma=auto, classifier__kernel=sigmoid;, score=0.626 total time=   0.0s\n",
      "[CV 2/5] END classifier=SVC(), classifier__C=0.3, classifier__coef0=-1.0, classifier__gamma=auto, classifier__kernel=linear;, score=0.967 total time=   0.7s\n",
      "[CV 4/5] END classifier=SVC(), classifier__C=0.3, classifier__coef0=-1.0, classifier__gamma=scale, classifier__kernel=linear;, score=0.967 total time=   1.1s\n",
      "[CV 5/5] END classifier=SVC(), classifier__C=0.3, classifier__coef0=-1.0, classifier__gamma=auto, classifier__kernel=sigmoid;, score=0.615 total time=   0.0s\n",
      "[CV 5/5] END classifier=SVC(), classifier__C=0.3, classifier__coef0=-1.0, classifier__gamma=scale, classifier__kernel=linear;, score=0.967 total time=   1.1s\n",
      "[CV 5/5] END classifier=SVC(), classifier__C=0.3, classifier__coef0=-1.0, classifier__gamma=auto, classifier__kernel=linear;, score=0.967 total time=   0.8s\n",
      "[CV 2/5] END classifier=SVC(), classifier__C=0.3, classifier__coef0=0.0, classifier__gamma=scale, classifier__kernel=linear;, score=0.967 total time=   0.2s\n",
      "[CV 1/5] END classifier=SVC(), classifier__C=0.3, classifier__coef0=0.0, classifier__gamma=scale, classifier__kernel=rbf;, score=0.857 total time=   0.0s\n",
      "[CV 2/5] END classifier=SVC(), classifier__C=0.3, classifier__coef0=0.0, classifier__gamma=scale, classifier__kernel=rbf;, score=0.890 total time=   0.0s\n",
      "[CV 3/5] END classifier=SVC(), classifier__C=0.3, classifier__coef0=-1.0, classifier__gamma=scale, classifier__kernel=linear;, score=0.934 total time=   1.4s\n",
      "[CV 3/5] END classifier=SVC(), classifier__C=0.3, classifier__coef0=0.0, classifier__gamma=scale, classifier__kernel=rbf;, score=0.879 total time=   0.0s\n",
      "[CV 4/5] END classifier=SVC(), classifier__C=0.3, classifier__coef0=0.0, classifier__gamma=scale, classifier__kernel=rbf;, score=0.934 total time=   0.0s\n",
      "[CV 5/5] END classifier=SVC(), classifier__C=0.3, classifier__coef0=0.0, classifier__gamma=scale, classifier__kernel=rbf;, score=0.890 total time=   0.0s\n",
      "[CV 2/5] END classifier=SVC(), classifier__C=0.3, classifier__coef0=0.0, classifier__gamma=scale, classifier__kernel=sigmoid;, score=0.626 total time=   0.0s\n",
      "[CV 1/5] END classifier=SVC(), classifier__C=0.3, classifier__coef0=0.0, classifier__gamma=scale, classifier__kernel=sigmoid;, score=0.648 total time=   0.1s\n",
      "[CV 3/5] END classifier=SVC(), classifier__C=0.3, classifier__coef0=0.0, classifier__gamma=scale, classifier__kernel=sigmoid;, score=0.582 total time=   0.0s\n",
      "[CV 4/5] END classifier=SVC(), classifier__C=0.3, classifier__coef0=0.0, classifier__gamma=scale, classifier__kernel=sigmoid;, score=0.626 total time=   0.1s\n",
      "[CV 5/5] END classifier=SVC(), classifier__C=0.3, classifier__coef0=0.0, classifier__gamma=scale, classifier__kernel=sigmoid;, score=0.615 total time=   0.0s\n",
      "[CV 1/5] END classifier=SVC(), classifier__C=0.3, classifier__coef0=0.0, classifier__gamma=scale, classifier__kernel=linear;, score=0.923 total time=   0.6s\n",
      "[CV 4/5] END classifier=SVC(), classifier__C=0.3, classifier__coef0=-1.0, classifier__gamma=auto, classifier__kernel=linear;, score=0.967 total time=   1.4s\n",
      "[CV 1/5] END classifier=SVC(), classifier__C=0.3, classifier__coef0=0.0, classifier__gamma=auto, classifier__kernel=linear;, score=0.923 total time=   0.3s\n",
      "[CV 4/5] END classifier=SVC(), classifier__C=0.3, classifier__coef0=0.0, classifier__gamma=scale, classifier__kernel=linear;, score=0.967 total time=   1.0s\n",
      "[CV 1/5] END classifier=SVC(), classifier__C=0.3, classifier__coef0=0.0, classifier__gamma=auto, classifier__kernel=rbf;, score=0.648 total time=   0.0s\n",
      "[CV 2/5] END classifier=SVC(), classifier__C=0.3, classifier__coef0=0.0, classifier__gamma=auto, classifier__kernel=rbf;, score=0.626 total time=   0.1s\n",
      "[CV 2/5] END classifier=SVC(), classifier__C=0.3, classifier__coef0=0.0, classifier__gamma=auto, classifier__kernel=linear;, score=0.967 total time=   0.7s\n",
      "[CV 4/5] END classifier=SVC(), classifier__C=0.3, classifier__coef0=0.0, classifier__gamma=auto, classifier__kernel=rbf;, score=0.626 total time=   0.0s\n",
      "[CV 3/5] END classifier=SVC(), classifier__C=0.3, classifier__coef0=0.0, classifier__gamma=auto, classifier__kernel=rbf;, score=0.582 total time=   0.1s\n",
      "[CV 5/5] END classifier=SVC(), classifier__C=0.3, classifier__coef0=0.0, classifier__gamma=auto, classifier__kernel=rbf;, score=0.615 total time=   0.0s\n",
      "[CV 1/5] END classifier=SVC(), classifier__C=0.3, classifier__coef0=0.0, classifier__gamma=auto, classifier__kernel=sigmoid;, score=0.648 total time=   0.1s\n",
      "[CV 2/5] END classifier=SVC(), classifier__C=0.3, classifier__coef0=0.0, classifier__gamma=auto, classifier__kernel=sigmoid;, score=0.626 total time=   0.0s\n",
      "[CV 5/5] END classifier=SVC(), classifier__C=0.3, classifier__coef0=0.0, classifier__gamma=scale, classifier__kernel=linear;, score=0.967 total time=   1.3s\n",
      "[CV 3/5] END classifier=SVC(), classifier__C=0.3, classifier__coef0=0.0, classifier__gamma=scale, classifier__kernel=linear;, score=0.934 total time=   1.4s\n",
      "[CV 3/5] END classifier=SVC(), classifier__C=0.3, classifier__coef0=0.0, classifier__gamma=auto, classifier__kernel=sigmoid;, score=0.582 total time=   0.0s\n",
      "[CV 3/5] END classifier=SVC(), classifier__C=0.3, classifier__coef0=-1.0, classifier__gamma=auto, classifier__kernel=linear;, score=0.934 total time=   2.2s[CV 3/5] END classifier=SVC(), classifier__C=0.3, classifier__coef0=0.0, classifier__gamma=auto, classifier__kernel=linear;, score=0.934 total time=   0.8s\n",
      "\n",
      "[CV 4/5] END classifier=SVC(), classifier__C=0.3, classifier__coef0=0.0, classifier__gamma=auto, classifier__kernel=sigmoid;, score=0.626 total time=   0.1s\n",
      "[CV 5/5] END classifier=SVC(), classifier__C=0.3, classifier__coef0=0.0, classifier__gamma=auto, classifier__kernel=sigmoid;, score=0.615 total time=   0.0s\n",
      "[CV 1/5] END classifier=SVC(), classifier__C=0.3, classifier__coef0=0.1, classifier__gamma=scale, classifier__kernel=rbf;, score=0.857 total time=   0.1s\n",
      "[CV 2/5] END classifier=SVC(), classifier__C=0.3, classifier__coef0=0.1, classifier__gamma=scale, classifier__kernel=rbf;, score=0.890 total time=   0.0s\n",
      "[CV 3/5] END classifier=SVC(), classifier__C=0.3, classifier__coef0=0.1, classifier__gamma=scale, classifier__kernel=rbf;, score=0.879 total time=   0.0s\n",
      "[CV 4/5] END classifier=SVC(), classifier__C=0.3, classifier__coef0=0.1, classifier__gamma=scale, classifier__kernel=rbf;, score=0.934 total time=   0.0s\n",
      "[CV 5/5] END classifier=SVC(), classifier__C=0.3, classifier__coef0=0.1, classifier__gamma=scale, classifier__kernel=rbf;, score=0.890 total time=   0.0s\n",
      "[CV 1/5] END classifier=SVC(), classifier__C=0.3, classifier__coef0=0.1, classifier__gamma=scale, classifier__kernel=sigmoid;, score=0.648 total time=   0.0s\n",
      "[CV 2/5] END classifier=SVC(), classifier__C=0.3, classifier__coef0=0.1, classifier__gamma=scale, classifier__kernel=sigmoid;, score=0.626 total time=   0.0s\n",
      "[CV 5/5] END classifier=SVC(), classifier__C=0.3, classifier__coef0=0.0, classifier__gamma=auto, classifier__kernel=linear;, score=0.967 total time=   1.1s\n",
      "[CV 4/5] END classifier=SVC(), classifier__C=0.3, classifier__coef0=0.0, classifier__gamma=auto, classifier__kernel=linear;, score=0.967 total time=   1.2s\n",
      "[CV 3/5] END classifier=SVC(), classifier__C=0.3, classifier__coef0=0.1, classifier__gamma=scale, classifier__kernel=sigmoid;, score=0.582 total time=   0.1s\n",
      "[CV 5/5] END classifier=SVC(), classifier__C=0.3, classifier__coef0=0.1, classifier__gamma=scale, classifier__kernel=sigmoid;, score=0.615 total time=   0.0s\n",
      "[CV 4/5] END classifier=SVC(), classifier__C=0.3, classifier__coef0=0.1, classifier__gamma=scale, classifier__kernel=sigmoid;, score=0.626 total time=   0.1s\n",
      "[CV 2/5] END classifier=SVC(), classifier__C=0.3, classifier__coef0=0.1, classifier__gamma=scale, classifier__kernel=linear;, score=0.967 total time=   0.7s[CV 1/5] END classifier=SVC(), classifier__C=0.3, classifier__coef0=0.1, classifier__gamma=scale, classifier__kernel=linear;, score=0.923 total time=   0.7s\n",
      "\n",
      "[CV 2/5] END classifier=SVC(), classifier__C=0.3, classifier__coef0=0.1, classifier__gamma=auto, classifier__kernel=linear;, score=0.967 total time=   0.2s\n",
      "[CV 1/5] END classifier=SVC(), classifier__C=0.3, classifier__coef0=0.1, classifier__gamma=auto, classifier__kernel=rbf;, score=0.648 total time=   0.0s\n",
      "[CV 2/5] END classifier=SVC(), classifier__C=0.3, classifier__coef0=0.1, classifier__gamma=auto, classifier__kernel=rbf;, score=0.626 total time=   0.0s\n",
      "[CV 1/5] END classifier=SVC(), classifier__C=0.3, classifier__coef0=0.1, classifier__gamma=auto, classifier__kernel=linear;, score=0.923 total time=   0.4s\n",
      "[CV 5/5] END classifier=SVC(), classifier__C=0.3, classifier__coef0=0.1, classifier__gamma=scale, classifier__kernel=linear;, score=0.967 total time=   0.9s\n",
      "[CV 3/5] END classifier=SVC(), classifier__C=0.3, classifier__coef0=0.1, classifier__gamma=auto, classifier__kernel=rbf;, score=0.582 total time=   0.1s\n",
      "[CV 3/5] END classifier=SVC(), classifier__C=0.3, classifier__coef0=0.1, classifier__gamma=scale, classifier__kernel=linear;, score=0.934 total time=   1.0s[CV 1/5] END classifier=SVC(), classifier__C=0.3, classifier__coef0=0.1, classifier__gamma=auto, classifier__kernel=sigmoid;, score=0.648 total time=   0.0s\n",
      "[CV 4/5] END classifier=SVC(), classifier__C=0.3, classifier__coef0=0.1, classifier__gamma=auto, classifier__kernel=rbf;, score=0.626 total time=   0.1s\n",
      "[CV 5/5] END classifier=SVC(), classifier__C=0.3, classifier__coef0=0.1, classifier__gamma=auto, classifier__kernel=rbf;, score=0.615 total time=   0.0s\n",
      "\n",
      "[CV 2/5] END classifier=SVC(), classifier__C=0.3, classifier__coef0=0.1, classifier__gamma=auto, classifier__kernel=sigmoid;, score=0.626 total time=   0.0s\n",
      "[CV 5/5] END classifier=SVC(), classifier__C=0.3, classifier__coef0=0.1, classifier__gamma=auto, classifier__kernel=sigmoid;, score=0.615 total time=   0.1s\n",
      "[CV 4/5] END classifier=SVC(), classifier__C=0.3, classifier__coef0=0.1, classifier__gamma=scale, classifier__kernel=linear;, score=0.967 total time=   1.1s\n",
      "[CV 3/5] END classifier=SVC(), classifier__C=0.3, classifier__coef0=0.1, classifier__gamma=auto, classifier__kernel=sigmoid;, score=0.582 total time=   0.2s\n",
      "[CV 4/5] END classifier=SVC(), classifier__C=0.3, classifier__coef0=0.1, classifier__gamma=auto, classifier__kernel=sigmoid;, score=0.626 total time=   0.2s\n",
      "[CV 2/5] END classifier=SVC(), classifier__C=0.3, classifier__coef0=0.5, classifier__gamma=scale, classifier__kernel=linear;, score=0.967 total time=   0.4s\n",
      "[CV 3/5] END classifier=SVC(), classifier__C=0.3, classifier__coef0=0.1, classifier__gamma=auto, classifier__kernel=linear;, score=0.934 total time=   1.1s\n",
      "[CV 1/5] END classifier=SVC(), classifier__C=0.3, classifier__coef0=0.5, classifier__gamma=scale, classifier__kernel=rbf;, score=0.857 total time=   0.1s\n",
      "[CV 2/5] END classifier=SVC(), classifier__C=0.3, classifier__coef0=0.5, classifier__gamma=scale, classifier__kernel=rbf;, score=0.890 total time=   0.0s\n",
      "[CV 1/5] END classifier=SVC(), classifier__C=0.3, classifier__coef0=0.5, classifier__gamma=scale, classifier__kernel=linear;, score=0.923 total time=   0.7s\n",
      "[CV 4/5] END classifier=SVC(), classifier__C=0.3, classifier__coef0=0.5, classifier__gamma=scale, classifier__kernel=rbf;, score=0.934 total time=   0.1s[CV 3/5] END classifier=SVC(), classifier__C=0.3, classifier__coef0=0.5, classifier__gamma=scale, classifier__kernel=rbf;, score=0.879 total time=   0.1s\n",
      "\n",
      "[CV 5/5] END classifier=SVC(), classifier__C=0.3, classifier__coef0=0.5, classifier__gamma=scale, classifier__kernel=rbf;, score=0.890 total time=   0.1s\n",
      "[CV 1/5] END classifier=SVC(), classifier__C=0.3, classifier__coef0=0.5, classifier__gamma=scale, classifier__kernel=sigmoid;, score=0.648 total time=   0.1s\n",
      "[CV 4/5] END classifier=SVC(), classifier__C=0.3, classifier__coef0=0.5, classifier__gamma=scale, classifier__kernel=sigmoid;, score=0.626 total time=   0.1s\n",
      "[CV 3/5] END classifier=SVC(), classifier__C=0.3, classifier__coef0=0.5, classifier__gamma=scale, classifier__kernel=sigmoid;, score=0.582 total time=   0.1s\n",
      "[CV 2/5] END classifier=SVC(), classifier__C=0.3, classifier__coef0=0.5, classifier__gamma=scale, classifier__kernel=sigmoid;, score=0.626 total time=   0.2s[CV 5/5] END classifier=SVC(), classifier__C=0.3, classifier__coef0=0.5, classifier__gamma=scale, classifier__kernel=sigmoid;, score=0.615 total time=   0.0s\n",
      "\n",
      "[CV 5/5] END classifier=SVC(), classifier__C=0.3, classifier__coef0=0.1, classifier__gamma=auto, classifier__kernel=linear;, score=0.967 total time=   1.4s\n",
      "[CV 5/5] END classifier=SVC(), classifier__C=0.3, classifier__coef0=0.5, classifier__gamma=scale, classifier__kernel=linear;, score=0.967 total time=   0.9s\n",
      "[CV 2/5] END classifier=SVC(), classifier__C=0.3, classifier__coef0=0.5, classifier__gamma=auto, classifier__kernel=linear;, score=0.967 total time=   0.3s\n",
      "[CV 1/5] END classifier=SVC(), classifier__C=0.3, classifier__coef0=0.5, classifier__gamma=auto, classifier__kernel=rbf;, score=0.648 total time=   0.1s\n",
      "[CV 2/5] END classifier=SVC(), classifier__C=0.3, classifier__coef0=0.5, classifier__gamma=auto, classifier__kernel=rbf;, score=0.626 total time=   0.1s\n",
      "[CV 4/5] END classifier=SVC(), classifier__C=0.3, classifier__coef0=0.5, classifier__gamma=scale, classifier__kernel=linear;, score=0.967 total time=   1.2s\n",
      "[CV 4/5] END classifier=SVC(), classifier__C=0.3, classifier__coef0=0.5, classifier__gamma=auto, classifier__kernel=rbf;, score=0.626 total time=   0.1s\n",
      "[CV 5/5] END classifier=SVC(), classifier__C=0.3, classifier__coef0=0.5, classifier__gamma=auto, classifier__kernel=linear;, score=0.967 total time=   0.4s\n",
      "[CV 1/5] END classifier=SVC(), classifier__C=0.3, classifier__coef0=0.5, classifier__gamma=auto, classifier__kernel=linear;, score=0.923 total time=   0.5s\n",
      "[CV 5/5] END classifier=SVC(), classifier__C=0.3, classifier__coef0=0.5, classifier__gamma=auto, classifier__kernel=rbf;, score=0.615 total time=   0.1s\n",
      "[CV 2/5] END classifier=SVC(), classifier__C=0.3, classifier__coef0=0.5, classifier__gamma=auto, classifier__kernel=sigmoid;, score=0.626 total time=   0.1s[CV 3/5] END classifier=SVC(), classifier__C=0.3, classifier__coef0=0.5, classifier__gamma=auto, classifier__kernel=rbf;, score=0.582 total time=   0.2s\n",
      "\n",
      "[CV 1/5] END classifier=SVC(), classifier__C=0.3, classifier__coef0=0.5, classifier__gamma=auto, classifier__kernel=sigmoid;, score=0.648 total time=   0.1s\n",
      "[CV 3/5] END classifier=SVC(), classifier__C=0.3, classifier__coef0=0.5, classifier__gamma=auto, classifier__kernel=sigmoid;, score=0.582 total time=   0.0s\n",
      "[CV 5/5] END classifier=SVC(), classifier__C=0.3, classifier__coef0=0.5, classifier__gamma=auto, classifier__kernel=sigmoid;, score=0.615 total time=   0.1s\n",
      "[CV 4/5] END classifier=SVC(), classifier__C=0.3, classifier__coef0=0.5, classifier__gamma=auto, classifier__kernel=sigmoid;, score=0.626 total time=   0.1s\n",
      "[CV 4/5] END classifier=SVC(), classifier__C=0.3, classifier__coef0=0.1, classifier__gamma=auto, classifier__kernel=linear;, score=0.967 total time=   2.2s\n",
      "[CV 3/5] END classifier=SVC(), classifier__C=0.3, classifier__coef0=0.5, classifier__gamma=scale, classifier__kernel=linear;, score=0.934 total time=   1.8s\n",
      "[CV 1/5] END classifier=SVC(), classifier__C=0.3, classifier__coef0=1, classifier__gamma=scale, classifier__kernel=rbf;, score=0.857 total time=   0.0s\n",
      "[CV 1/5] END classifier=SVC(), classifier__C=0.3, classifier__coef0=1, classifier__gamma=scale, classifier__kernel=linear;, score=0.923 total time=   0.3s\n",
      "[CV 2/5] END classifier=SVC(), classifier__C=0.3, classifier__coef0=1, classifier__gamma=scale, classifier__kernel=rbf;, score=0.890 total time=   0.0s\n",
      "[CV 4/5] END classifier=SVC(), classifier__C=0.3, classifier__coef0=1, classifier__gamma=scale, classifier__kernel=rbf;, score=0.934 total time=   0.0s\n",
      "[CV 3/5] END classifier=SVC(), classifier__C=0.3, classifier__coef0=1, classifier__gamma=scale, classifier__kernel=rbf;, score=0.879 total time=   0.0s\n",
      "[CV 3/5] END classifier=SVC(), classifier__C=0.3, classifier__coef0=0.5, classifier__gamma=auto, classifier__kernel=linear;, score=0.934 total time=   1.1s\n",
      "[CV 5/5] END classifier=SVC(), classifier__C=0.3, classifier__coef0=1, classifier__gamma=scale, classifier__kernel=rbf;, score=0.890 total time=   0.0s\n",
      "[CV 2/5] END classifier=SVC(), classifier__C=0.3, classifier__coef0=1, classifier__gamma=scale, classifier__kernel=sigmoid;, score=0.626 total time=   0.0s\n",
      "[CV 3/5] END classifier=SVC(), classifier__C=0.3, classifier__coef0=1, classifier__gamma=scale, classifier__kernel=sigmoid;, score=0.582 total time=   0.0s\n",
      "[CV 1/5] END classifier=SVC(), classifier__C=0.3, classifier__coef0=1, classifier__gamma=scale, classifier__kernel=sigmoid;, score=0.648 total time=   0.1s\n",
      "[CV 4/5] END classifier=SVC(), classifier__C=0.3, classifier__coef0=1, classifier__gamma=scale, classifier__kernel=sigmoid;, score=0.626 total time=   0.0s\n",
      "[CV 5/5] END classifier=SVC(), classifier__C=0.3, classifier__coef0=1, classifier__gamma=scale, classifier__kernel=sigmoid;, score=0.615 total time=   0.0s\n",
      "[CV 2/5] END classifier=SVC(), classifier__C=0.3, classifier__coef0=1, classifier__gamma=scale, classifier__kernel=linear;, score=0.967 total time=   0.6s\n",
      "[CV 2/5] END classifier=SVC(), classifier__C=0.3, classifier__coef0=1, classifier__gamma=auto, classifier__kernel=linear;, score=0.967 total time=   0.3s\n",
      "[CV 1/5] END classifier=SVC(), classifier__C=0.3, classifier__coef0=1, classifier__gamma=auto, classifier__kernel=linear;, score=0.923 total time=   0.6s\n",
      "[CV 3/5] END classifier=SVC(), classifier__C=0.3, classifier__coef0=1, classifier__gamma=auto, classifier__kernel=linear;, score=0.934 total time=   0.7s\n",
      "[CV 1/5] END classifier=SVC(), classifier__C=0.3, classifier__coef0=1, classifier__gamma=auto, classifier__kernel=rbf;, score=0.648 total time=   0.1s\n",
      "[CV 5/5] END classifier=SVC(), classifier__C=0.3, classifier__coef0=1, classifier__gamma=scale, classifier__kernel=linear;, score=0.967 total time=   1.1s\n",
      "[CV 2/5] END classifier=SVC(), classifier__C=0.3, classifier__coef0=1, classifier__gamma=auto, classifier__kernel=rbf;, score=0.626 total time=   0.0s\n",
      "[CV 4/5] END classifier=SVC(), classifier__C=0.3, classifier__coef0=1, classifier__gamma=auto, classifier__kernel=rbf;, score=0.626 total time=   0.0s\n",
      "[CV 1/5] END classifier=SVC(), classifier__C=0.3, classifier__coef0=1, classifier__gamma=auto, classifier__kernel=sigmoid;, score=0.648 total time=   0.0s\n",
      "[CV 5/5] END classifier=SVC(), classifier__C=0.3, classifier__coef0=1, classifier__gamma=auto, classifier__kernel=rbf;, score=0.615 total time=   0.1s\n",
      "[CV 2/5] END classifier=SVC(), classifier__C=0.3, classifier__coef0=1, classifier__gamma=auto, classifier__kernel=sigmoid;, score=0.626 total time=   0.0s\n",
      "[CV 3/5] END classifier=SVC(), classifier__C=0.3, classifier__coef0=1, classifier__gamma=auto, classifier__kernel=rbf;, score=0.582 total time=   0.1s\n",
      "[CV 4/5] END classifier=SVC(), classifier__C=0.3, classifier__coef0=1, classifier__gamma=auto, classifier__kernel=sigmoid;, score=0.626 total time=   0.0s\n",
      "[CV 4/5] END classifier=SVC(), classifier__C=0.3, classifier__coef0=0.5, classifier__gamma=auto, classifier__kernel=linear;, score=0.967 total time=   2.1s\n",
      "[CV 3/5] END classifier=SVC(), classifier__C=0.3, classifier__coef0=1, classifier__gamma=auto, classifier__kernel=sigmoid;, score=0.582 total time=   0.1s\n",
      "[CV 5/5] END classifier=SVC(), classifier__C=0.3, classifier__coef0=1, classifier__gamma=auto, classifier__kernel=sigmoid;, score=0.615 total time=   0.1s\n",
      "[CV 5/5] END classifier=SVC(), classifier__C=0.3, classifier__coef0=1, classifier__gamma=auto, classifier__kernel=linear;, score=0.967 total time=   0.7s\n",
      "[CV 4/5] END classifier=SVC(), classifier__C=0.3, classifier__coef0=1, classifier__gamma=scale, classifier__kernel=linear;, score=0.967 total time=   1.7s\n",
      "[CV 1/5] END classifier=SVC(), classifier__C=0.3, classifier__coef0=10, classifier__gamma=scale, classifier__kernel=rbf;, score=0.857 total time=   0.0s\n",
      "[CV 2/5] END classifier=SVC(), classifier__C=0.3, classifier__coef0=10, classifier__gamma=scale, classifier__kernel=rbf;, score=0.890 total time=   0.0s\n",
      "[CV 3/5] END classifier=SVC(), classifier__C=0.3, classifier__coef0=10, classifier__gamma=scale, classifier__kernel=rbf;, score=0.879 total time=   0.0s\n",
      "[CV 4/5] END classifier=SVC(), classifier__C=0.3, classifier__coef0=1, classifier__gamma=auto, classifier__kernel=linear;, score=0.967 total time=   1.4s[CV 1/5] END classifier=SVC(), classifier__C=0.3, classifier__coef0=10, classifier__gamma=scale, classifier__kernel=linear;, score=0.923 total time=   0.5s\n",
      "\n",
      "[CV 5/5] END classifier=SVC(), classifier__C=0.3, classifier__coef0=10, classifier__gamma=scale, classifier__kernel=rbf;, score=0.890 total time=   0.0s\n",
      "[CV 5/5] END classifier=SVC(), classifier__C=0.3, classifier__coef0=10, classifier__gamma=scale, classifier__kernel=linear;, score=0.967 total time=   0.5s\n",
      "[CV 3/5] END classifier=SVC(), classifier__C=0.3, classifier__coef0=1, classifier__gamma=scale, classifier__kernel=linear;, score=0.934 total time=   2.0s\n",
      "[CV 4/5] END classifier=SVC(), classifier__C=0.3, classifier__coef0=10, classifier__gamma=scale, classifier__kernel=rbf;, score=0.934 total time=   0.1s\n",
      "[CV 2/5] END classifier=SVC(), classifier__C=0.3, classifier__coef0=10, classifier__gamma=scale, classifier__kernel=sigmoid;, score=0.626 total time=   0.0s\n",
      "[CV 3/5] END classifier=SVC(), classifier__C=0.3, classifier__coef0=10, classifier__gamma=scale, classifier__kernel=sigmoid;, score=0.582 total time=   0.0s\n",
      "[CV 1/5] END classifier=SVC(), classifier__C=0.3, classifier__coef0=10, classifier__gamma=scale, classifier__kernel=sigmoid;, score=0.648 total time=   0.1s\n",
      "[CV 4/5] END classifier=SVC(), classifier__C=0.3, classifier__coef0=10, classifier__gamma=scale, classifier__kernel=sigmoid;, score=0.626 total time=   0.1s\n",
      "[CV 5/5] END classifier=SVC(), classifier__C=0.3, classifier__coef0=10, classifier__gamma=scale, classifier__kernel=sigmoid;, score=0.615 total time=   0.2s\n",
      "[CV 1/5] END classifier=SVC(), classifier__C=0.3, classifier__coef0=10, classifier__gamma=auto, classifier__kernel=linear;, score=0.923 total time=   0.2s\n",
      "[CV 2/5] END classifier=SVC(), classifier__C=0.3, classifier__coef0=10, classifier__gamma=scale, classifier__kernel=linear;, score=0.967 total time=   0.8s\n",
      "[CV 2/5] END classifier=SVC(), classifier__C=0.3, classifier__coef0=10, classifier__gamma=auto, classifier__kernel=linear;, score=0.967 total time=   0.2s\n",
      "[CV 1/5] END classifier=SVC(), classifier__C=0.3, classifier__coef0=10, classifier__gamma=auto, classifier__kernel=rbf;, score=0.648 total time=   0.0s\n",
      "[CV 3/5] END classifier=SVC(), classifier__C=0.3, classifier__coef0=10, classifier__gamma=auto, classifier__kernel=rbf;, score=0.582 total time=   0.1s\n",
      "[CV 4/5] END classifier=SVC(), classifier__C=0.3, classifier__coef0=10, classifier__gamma=auto, classifier__kernel=rbf;, score=0.626 total time=   0.0s\n",
      "[CV 2/5] END classifier=SVC(), classifier__C=0.3, classifier__coef0=10, classifier__gamma=auto, classifier__kernel=rbf;, score=0.626 total time=   0.1s\n",
      "[CV 1/5] END classifier=SVC(), classifier__C=0.3, classifier__coef0=10, classifier__gamma=auto, classifier__kernel=sigmoid;, score=0.648 total time=   0.0s\n",
      "[CV 2/5] END classifier=SVC(), classifier__C=0.3, classifier__coef0=10, classifier__gamma=auto, classifier__kernel=sigmoid;, score=0.626 total time=   0.0s\n",
      "[CV 5/5] END classifier=SVC(), classifier__C=0.3, classifier__coef0=10, classifier__gamma=auto, classifier__kernel=rbf;, score=0.615 total time=   0.1s[CV 3/5] END classifier=SVC(), classifier__C=0.3, classifier__coef0=10, classifier__gamma=auto, classifier__kernel=sigmoid;, score=0.582 total time=   0.0s\n",
      "\n",
      "[CV 4/5] END classifier=SVC(), classifier__C=0.3, classifier__coef0=10, classifier__gamma=auto, classifier__kernel=sigmoid;, score=0.626 total time=   0.0s\n",
      "[CV 5/5] END classifier=SVC(), classifier__C=0.3, classifier__coef0=10, classifier__gamma=auto, classifier__kernel=sigmoid;, score=0.615 total time=   0.0s\n",
      "[CV 2/5] END classifier=SVC(), classifier__C=0.3, classifier__coef0=100, classifier__gamma=scale, classifier__kernel=linear;, score=0.967 total time=   0.3s\n",
      "[CV 1/5] END classifier=SVC(), classifier__C=0.3, classifier__coef0=100, classifier__gamma=scale, classifier__kernel=linear;, score=0.923 total time=   0.6s\n",
      "[CV 4/5] END classifier=SVC(), classifier__C=0.3, classifier__coef0=10, classifier__gamma=auto, classifier__kernel=linear;, score=0.967 total time=   1.0s\n",
      "[CV 3/5] END classifier=SVC(), classifier__C=0.3, classifier__coef0=100, classifier__gamma=scale, classifier__kernel=linear;, score=0.934 total time=   0.7s\n",
      "[CV 2/5] END classifier=SVC(), classifier__C=0.3, classifier__coef0=100, classifier__gamma=scale, classifier__kernel=rbf;, score=0.890 total time=   0.0s\n",
      "[CV 3/5] END classifier=SVC(), classifier__C=0.3, classifier__coef0=100, classifier__gamma=scale, classifier__kernel=rbf;, score=0.879 total time=   0.0s\n",
      "[CV 1/5] END classifier=SVC(), classifier__C=0.3, classifier__coef0=100, classifier__gamma=scale, classifier__kernel=rbf;, score=0.857 total time=   0.1s\n",
      "[CV 4/5] END classifier=SVC(), classifier__C=0.3, classifier__coef0=100, classifier__gamma=scale, classifier__kernel=rbf;, score=0.934 total time=   0.0s\n",
      "[CV 1/5] END classifier=SVC(), classifier__C=0.3, classifier__coef0=100, classifier__gamma=scale, classifier__kernel=sigmoid;, score=0.648 total time=   0.0s\n",
      "[CV 4/5] END classifier=SVC(), classifier__C=0.3, classifier__coef0=10, classifier__gamma=scale, classifier__kernel=linear;, score=0.967 total time=   1.9s\n",
      "[CV 5/5] END classifier=SVC(), classifier__C=0.3, classifier__coef0=100, classifier__gamma=scale, classifier__kernel=rbf;, score=0.890 total time=   0.1s\n",
      "[CV 2/5] END classifier=SVC(), classifier__C=0.3, classifier__coef0=100, classifier__gamma=scale, classifier__kernel=sigmoid;, score=0.626 total time=   0.0s\n",
      "[CV 5/5] END classifier=SVC(), classifier__C=0.3, classifier__coef0=100, classifier__gamma=scale, classifier__kernel=sigmoid;, score=0.615 total time=   0.0s\n",
      "[CV 3/5] END classifier=SVC(), classifier__C=0.3, classifier__coef0=100, classifier__gamma=scale, classifier__kernel=sigmoid;, score=0.582 total time=   0.0s\n",
      "[CV 4/5] END classifier=SVC(), classifier__C=0.3, classifier__coef0=100, classifier__gamma=scale, classifier__kernel=sigmoid;, score=0.626 total time=   0.1s\n",
      "[CV 5/5] END classifier=SVC(), classifier__C=0.3, classifier__coef0=100, classifier__gamma=scale, classifier__kernel=linear;, score=0.967 total time=   0.4s\n",
      "[CV 3/5] END classifier=SVC(), classifier__C=0.3, classifier__coef0=10, classifier__gamma=scale, classifier__kernel=linear;, score=0.934 total time=   2.2s\n",
      "[CV 1/5] END classifier=SVC(), classifier__C=0.3, classifier__coef0=100, classifier__gamma=auto, classifier__kernel=linear;, score=0.923 total time=   0.2s\n",
      "[CV 5/5] END classifier=SVC(), classifier__C=0.3, classifier__coef0=10, classifier__gamma=auto, classifier__kernel=linear;, score=0.967 total time=   1.5s\n",
      "[CV 1/5] END classifier=SVC(), classifier__C=0.3, classifier__coef0=100, classifier__gamma=auto, classifier__kernel=rbf;, score=0.648 total time=   0.0s\n",
      "[CV 3/5] END classifier=SVC(), classifier__C=0.3, classifier__coef0=10, classifier__gamma=auto, classifier__kernel=linear;, score=0.934 total time=   1.7s\n",
      "[CV 3/5] END classifier=SVC(), classifier__C=0.3, classifier__coef0=100, classifier__gamma=auto, classifier__kernel=rbf;, score=0.582 total time=   0.0s\n",
      "[CV 2/5] END classifier=SVC(), classifier__C=0.3, classifier__coef0=100, classifier__gamma=auto, classifier__kernel=rbf;, score=0.626 total time=   0.1s[CV 5/5] END classifier=SVC(), classifier__C=0.3, classifier__coef0=100, classifier__gamma=auto, classifier__kernel=rbf;, score=0.615 total time=   0.1s\n",
      "\n",
      "[CV 4/5] END classifier=SVC(), classifier__C=0.3, classifier__coef0=100, classifier__gamma=scale, classifier__kernel=linear;, score=0.967 total time=   1.0s\n",
      "[CV 2/5] END classifier=SVC(), classifier__C=0.3, classifier__coef0=100, classifier__gamma=auto, classifier__kernel=linear;, score=0.967 total time=   0.4s\n",
      "[CV 3/5] END classifier=SVC(), classifier__C=0.3, classifier__coef0=100, classifier__gamma=auto, classifier__kernel=sigmoid;, score=0.582 total time=   0.0s\n",
      "[CV 1/5] END classifier=SVC(), classifier__C=0.3, classifier__coef0=100, classifier__gamma=auto, classifier__kernel=sigmoid;, score=0.648 total time=   0.0s\n",
      "[CV 4/5] END classifier=SVC(), classifier__C=0.3, classifier__coef0=100, classifier__gamma=auto, classifier__kernel=rbf;, score=0.626 total time=   0.2s\n",
      "[CV 2/5] END classifier=SVC(), classifier__C=0.3, classifier__coef0=100, classifier__gamma=auto, classifier__kernel=sigmoid;, score=0.626 total time=   0.1s\n",
      "[CV 5/5] END classifier=SVC(), classifier__C=0.3, classifier__coef0=100, classifier__gamma=auto, classifier__kernel=sigmoid;, score=0.615 total time=   0.0s\n",
      "[CV 4/5] END classifier=SVC(), classifier__C=0.3, classifier__coef0=100, classifier__gamma=auto, classifier__kernel=sigmoid;, score=0.626 total time=   0.1s\n",
      "[CV 5/5] END classifier=SVC(), classifier__C=0.3, classifier__coef0=100, classifier__gamma=auto, classifier__kernel=linear;, score=0.967 total time=   0.7s\n",
      "[CV 1/5] END classifier=SVC(), classifier__C=0.4, classifier__coef0=-10.0, classifier__gamma=scale, classifier__kernel=rbf;, score=0.857 total time=   0.0s\n",
      "[CV 2/5] END classifier=SVC(), classifier__C=0.4, classifier__coef0=-10.0, classifier__gamma=scale, classifier__kernel=rbf;, score=0.901 total time=   0.0s\n",
      "[CV 1/5] END classifier=SVC(), classifier__C=0.4, classifier__coef0=-10.0, classifier__gamma=scale, classifier__kernel=linear;, score=0.901 total time=   0.5s\n",
      "[CV 3/5] END classifier=SVC(), classifier__C=0.4, classifier__coef0=-10.0, classifier__gamma=scale, classifier__kernel=rbf;, score=0.879 total time=   0.1s\n",
      "[CV 4/5] END classifier=SVC(), classifier__C=0.4, classifier__coef0=-10.0, classifier__gamma=scale, classifier__kernel=rbf;, score=0.934 total time=   0.0s\n",
      "[CV 1/5] END classifier=SVC(), classifier__C=0.4, classifier__coef0=-10.0, classifier__gamma=scale, classifier__kernel=sigmoid;, score=0.648 total time=   0.0s\n",
      "[CV 2/5] END classifier=SVC(), classifier__C=0.4, classifier__coef0=-10.0, classifier__gamma=scale, classifier__kernel=sigmoid;, score=0.626 total time=   0.0s\n",
      "[CV 5/5] END classifier=SVC(), classifier__C=0.4, classifier__coef0=-10.0, classifier__gamma=scale, classifier__kernel=rbf;, score=0.890 total time=   0.1s\n",
      "[CV 3/5] END classifier=SVC(), classifier__C=0.4, classifier__coef0=-10.0, classifier__gamma=scale, classifier__kernel=sigmoid;, score=0.582 total time=   0.1s\n",
      "[CV 4/5] END classifier=SVC(), classifier__C=0.4, classifier__coef0=-10.0, classifier__gamma=scale, classifier__kernel=sigmoid;, score=0.626 total time=   0.2s\n",
      "[CV 5/5] END classifier=SVC(), classifier__C=0.4, classifier__coef0=-10.0, classifier__gamma=scale, classifier__kernel=sigmoid;, score=0.615 total time=   0.2s\n",
      "[CV 3/5] END classifier=SVC(), classifier__C=0.4, classifier__coef0=-10.0, classifier__gamma=scale, classifier__kernel=linear;, score=0.945 total time=   0.9s\n",
      "[CV 2/5] END classifier=SVC(), classifier__C=0.4, classifier__coef0=-10.0, classifier__gamma=scale, classifier__kernel=linear;, score=0.967 total time=   0.9s\n",
      "[CV 1/5] END classifier=SVC(), classifier__C=0.4, classifier__coef0=-10.0, classifier__gamma=auto, classifier__kernel=linear;, score=0.901 total time=   0.3s\n",
      "[CV 4/5] END classifier=SVC(), classifier__C=0.3, classifier__coef0=100, classifier__gamma=auto, classifier__kernel=linear;, score=0.967 total time=   1.7s\n",
      "[CV 3/5] END classifier=SVC(), classifier__C=0.4, classifier__coef0=-10.0, classifier__gamma=auto, classifier__kernel=linear;, score=0.945 total time=   0.6s\n",
      "[CV 1/5] END classifier=SVC(), classifier__C=0.4, classifier__coef0=-10.0, classifier__gamma=auto, classifier__kernel=rbf;, score=0.648 total time=   0.1s\n",
      "[CV 2/5] END classifier=SVC(), classifier__C=0.4, classifier__coef0=-10.0, classifier__gamma=auto, classifier__kernel=rbf;, score=0.626 total time=   0.1s\n",
      "[CV 4/5] END classifier=SVC(), classifier__C=0.4, classifier__coef0=-10.0, classifier__gamma=auto, classifier__kernel=rbf;, score=0.626 total time=   0.0s\n",
      "[CV 3/5] END classifier=SVC(), classifier__C=0.4, classifier__coef0=-10.0, classifier__gamma=auto, classifier__kernel=rbf;, score=0.582 total time=   0.1s\n",
      "[CV 5/5] END classifier=SVC(), classifier__C=0.4, classifier__coef0=-10.0, classifier__gamma=auto, classifier__kernel=rbf;, score=0.615 total time=   0.0s\n",
      "[CV 2/5] END classifier=SVC(), classifier__C=0.4, classifier__coef0=-10.0, classifier__gamma=auto, classifier__kernel=sigmoid;, score=0.626 total time=   0.0s\n",
      "[CV 1/5] END classifier=SVC(), classifier__C=0.4, classifier__coef0=-10.0, classifier__gamma=auto, classifier__kernel=sigmoid;, score=0.648 total time=   0.1s\n",
      "[CV 3/5] END classifier=SVC(), classifier__C=0.4, classifier__coef0=-10.0, classifier__gamma=auto, classifier__kernel=sigmoid;, score=0.582 total time=   0.0s\n",
      "[CV 3/5] END classifier=SVC(), classifier__C=0.3, classifier__coef0=100, classifier__gamma=auto, classifier__kernel=linear;, score=0.934 total time=   2.2s\n",
      "[CV 4/5] END classifier=SVC(), classifier__C=0.4, classifier__coef0=-10.0, classifier__gamma=auto, classifier__kernel=sigmoid;, score=0.626 total time=   0.1s\n",
      "[CV 5/5] END classifier=SVC(), classifier__C=0.4, classifier__coef0=-10.0, classifier__gamma=auto, classifier__kernel=sigmoid;, score=0.615 total time=   0.1s\n",
      "[CV 5/5] END classifier=SVC(), classifier__C=0.4, classifier__coef0=-10.0, classifier__gamma=scale, classifier__kernel=linear;, score=0.967 total time=   2.3s\n",
      "[CV 1/5] END classifier=SVC(), classifier__C=0.4, classifier__coef0=-1.0, classifier__gamma=scale, classifier__kernel=linear;, score=0.901 total time=   0.6s\n",
      "[CV 4/5] END classifier=SVC(), classifier__C=0.4, classifier__coef0=-10.0, classifier__gamma=auto, classifier__kernel=linear;, score=0.967 total time=   2.2s\n",
      "[CV 1/5] END classifier=SVC(), classifier__C=0.4, classifier__coef0=-1.0, classifier__gamma=scale, classifier__kernel=rbf;, score=0.857 total time=   0.0s\n",
      "[CV 2/5] END classifier=SVC(), classifier__C=0.4, classifier__coef0=-1.0, classifier__gamma=scale, classifier__kernel=rbf;, score=0.901 total time=   0.0s\n",
      "[CV 2/5] END classifier=SVC(), classifier__C=0.4, classifier__coef0=-10.0, classifier__gamma=auto, classifier__kernel=linear;, score=0.967 total time=   2.3s\n",
      "[CV 3/5] END classifier=SVC(), classifier__C=0.4, classifier__coef0=-1.0, classifier__gamma=scale, classifier__kernel=rbf;, score=0.879 total time=   0.0s\n",
      "[CV 5/5] END classifier=SVC(), classifier__C=0.4, classifier__coef0=-1.0, classifier__gamma=scale, classifier__kernel=rbf;, score=0.890 total time=   0.0s\n",
      "[CV 1/5] END classifier=SVC(), classifier__C=0.4, classifier__coef0=-1.0, classifier__gamma=scale, classifier__kernel=sigmoid;, score=0.714 total time=   0.0s\n",
      "[CV 4/5] END classifier=SVC(), classifier__C=0.4, classifier__coef0=-1.0, classifier__gamma=scale, classifier__kernel=rbf;, score=0.934 total time=   0.1s\n",
      "[CV 2/5] END classifier=SVC(), classifier__C=0.4, classifier__coef0=-1.0, classifier__gamma=scale, classifier__kernel=sigmoid;, score=0.615 total time=   0.0s\n",
      "[CV 3/5] END classifier=SVC(), classifier__C=0.4, classifier__coef0=-1.0, classifier__gamma=scale, classifier__kernel=linear;, score=0.945 total time=   1.5s\n",
      "[CV 3/5] END classifier=SVC(), classifier__C=0.4, classifier__coef0=-1.0, classifier__gamma=scale, classifier__kernel=sigmoid;, score=0.714 total time=   0.1s\n",
      "[CV 4/5] END classifier=SVC(), classifier__C=0.4, classifier__coef0=-1.0, classifier__gamma=scale, classifier__kernel=sigmoid;, score=0.714 total time=   0.1s\n",
      "[CV 5/5] END classifier=SVC(), classifier__C=0.4, classifier__coef0=-10.0, classifier__gamma=auto, classifier__kernel=linear;, score=0.967 total time=   2.4s\n",
      "[CV 5/5] END classifier=SVC(), classifier__C=0.4, classifier__coef0=-1.0, classifier__gamma=scale, classifier__kernel=sigmoid;, score=0.769 total time=   0.1s\n",
      "[CV 4/5] END classifier=SVC(), classifier__C=0.4, classifier__coef0=-10.0, classifier__gamma=scale, classifier__kernel=linear;, score=0.967 total time=   3.6s\n",
      "[CV 2/5] END classifier=SVC(), classifier__C=0.4, classifier__coef0=-1.0, classifier__gamma=scale, classifier__kernel=linear;, score=0.967 total time=   2.0s\n",
      "[CV 1/5] END classifier=SVC(), classifier__C=0.4, classifier__coef0=-1.0, classifier__gamma=auto, classifier__kernel=rbf;, score=0.648 total time=   0.2s\n",
      "[CV 2/5] END classifier=SVC(), classifier__C=0.4, classifier__coef0=-1.0, classifier__gamma=auto, classifier__kernel=rbf;, score=0.626 total time=   0.1s\n",
      "[CV 3/5] END classifier=SVC(), classifier__C=0.4, classifier__coef0=-1.0, classifier__gamma=auto, classifier__kernel=rbf;, score=0.582 total time=   0.0s\n",
      "[CV 1/5] END classifier=SVC(), classifier__C=0.4, classifier__coef0=-1.0, classifier__gamma=auto, classifier__kernel=linear;, score=0.901 total time=   0.6s\n",
      "[CV 4/5] END classifier=SVC(), classifier__C=0.4, classifier__coef0=-1.0, classifier__gamma=auto, classifier__kernel=rbf;, score=0.626 total time=   0.0s\n",
      "[CV 1/5] END classifier=SVC(), classifier__C=0.4, classifier__coef0=-1.0, classifier__gamma=auto, classifier__kernel=sigmoid;, score=0.648 total time=   0.0s\n",
      "[CV 2/5] END classifier=SVC(), classifier__C=0.4, classifier__coef0=-1.0, classifier__gamma=auto, classifier__kernel=sigmoid;, score=0.626 total time=   0.0s\n",
      "[CV 5/5] END classifier=SVC(), classifier__C=0.4, classifier__coef0=-1.0, classifier__gamma=auto, classifier__kernel=rbf;, score=0.615 total time=   0.1s\n",
      "[CV 4/5] END classifier=SVC(), classifier__C=0.4, classifier__coef0=-1.0, classifier__gamma=auto, classifier__kernel=sigmoid;, score=0.626 total time=   0.1s\n",
      "[CV 3/5] END classifier=SVC(), classifier__C=0.4, classifier__coef0=-1.0, classifier__gamma=auto, classifier__kernel=sigmoid;, score=0.582 total time=   0.1s\n",
      "[CV 5/5] END classifier=SVC(), classifier__C=0.4, classifier__coef0=-1.0, classifier__gamma=auto, classifier__kernel=sigmoid;, score=0.615 total time=   0.0s\n",
      "[CV 3/5] END classifier=SVC(), classifier__C=0.4, classifier__coef0=-1.0, classifier__gamma=auto, classifier__kernel=linear;, score=0.945 total time=   0.8s\n",
      "[CV 3/5] END classifier=SVC(), classifier__C=0.4, classifier__coef0=0.0, classifier__gamma=scale, classifier__kernel=linear;, score=0.945 total time=   0.4s\n",
      "[CV 1/5] END classifier=SVC(), classifier__C=0.4, classifier__coef0=0.0, classifier__gamma=scale, classifier__kernel=linear;, score=0.901 total time=   0.9s\n",
      "[CV 2/5] END classifier=SVC(), classifier__C=0.4, classifier__coef0=-1.0, classifier__gamma=auto, classifier__kernel=linear;, score=0.967 total time=   1.9s\n",
      "[CV 1/5] END classifier=SVC(), classifier__C=0.4, classifier__coef0=0.0, classifier__gamma=scale, classifier__kernel=rbf;, score=0.857 total time=   0.1s\n",
      "[CV 4/5] END classifier=SVC(), classifier__C=0.4, classifier__coef0=-1.0, classifier__gamma=scale, classifier__kernel=linear;, score=0.967 total time=   3.2s\n",
      "[CV 3/5] END classifier=SVC(), classifier__C=0.4, classifier__coef0=0.0, classifier__gamma=scale, classifier__kernel=rbf;, score=0.879 total time=   0.0s[CV 2/5] END classifier=SVC(), classifier__C=0.4, classifier__coef0=0.0, classifier__gamma=scale, classifier__kernel=rbf;, score=0.901 total time=   0.1s\n",
      "\n",
      "[CV 4/5] END classifier=SVC(), classifier__C=0.4, classifier__coef0=0.0, classifier__gamma=scale, classifier__kernel=rbf;, score=0.934 total time=   0.0s\n",
      "[CV 5/5] END classifier=SVC(), classifier__C=0.4, classifier__coef0=0.0, classifier__gamma=scale, classifier__kernel=rbf;, score=0.890 total time=   0.1s\n",
      "[CV 1/5] END classifier=SVC(), classifier__C=0.4, classifier__coef0=0.0, classifier__gamma=scale, classifier__kernel=sigmoid;, score=0.593 total time=   0.2s\n",
      "[CV 2/5] END classifier=SVC(), classifier__C=0.4, classifier__coef0=0.0, classifier__gamma=scale, classifier__kernel=linear;, score=0.967 total time=   1.6s\n",
      "[CV 3/5] END classifier=SVC(), classifier__C=0.4, classifier__coef0=0.0, classifier__gamma=scale, classifier__kernel=sigmoid;, score=0.582 total time=   0.0s\n",
      "[CV 2/5] END classifier=SVC(), classifier__C=0.4, classifier__coef0=0.0, classifier__gamma=scale, classifier__kernel=sigmoid;, score=0.626 total time=   0.1s\n",
      "[CV 5/5] END classifier=SVC(), classifier__C=0.4, classifier__coef0=-1.0, classifier__gamma=scale, classifier__kernel=linear;, score=0.967 total time=   3.6s\n",
      "[CV 4/5] END classifier=SVC(), classifier__C=0.4, classifier__coef0=0.0, classifier__gamma=scale, classifier__kernel=sigmoid;, score=0.637 total time=   0.2s\n",
      "[CV 5/5] END classifier=SVC(), classifier__C=0.4, classifier__coef0=0.0, classifier__gamma=scale, classifier__kernel=sigmoid;, score=0.615 total time=   0.2s\n",
      "[CV 4/5] END classifier=SVC(), classifier__C=0.4, classifier__coef0=0.0, classifier__gamma=scale, classifier__kernel=linear;, score=0.967 total time=   1.5s\n",
      "[CV 5/5] END classifier=SVC(), classifier__C=0.4, classifier__coef0=-1.0, classifier__gamma=auto, classifier__kernel=linear;, score=0.967 total time=   2.8s\n",
      "[CV 4/5] END classifier=SVC(), classifier__C=0.4, classifier__coef0=-1.0, classifier__gamma=auto, classifier__kernel=linear;, score=0.967 total time=   2.9s\n",
      "[CV 2/5] END classifier=SVC(), classifier__C=0.4, classifier__coef0=0.0, classifier__gamma=auto, classifier__kernel=rbf;, score=0.626 total time=   0.0s\n",
      "[CV 1/5] END classifier=SVC(), classifier__C=0.4, classifier__coef0=0.0, classifier__gamma=auto, classifier__kernel=rbf;, score=0.648 total time=   0.2s\n",
      "[CV 3/5] END classifier=SVC(), classifier__C=0.4, classifier__coef0=0.0, classifier__gamma=auto, classifier__kernel=rbf;, score=0.582 total time=   0.0s\n",
      "[CV 5/5] END classifier=SVC(), classifier__C=0.4, classifier__coef0=0.0, classifier__gamma=auto, classifier__kernel=rbf;, score=0.615 total time=   0.0s\n",
      "[CV 1/5] END classifier=SVC(), classifier__C=0.4, classifier__coef0=0.0, classifier__gamma=auto, classifier__kernel=sigmoid;, score=0.648 total time=   0.0s\n",
      "[CV 1/5] END classifier=SVC(), classifier__C=0.4, classifier__coef0=0.0, classifier__gamma=auto, classifier__kernel=linear;, score=0.901 total time=   0.8s\n",
      "[CV 2/5] END classifier=SVC(), classifier__C=0.4, classifier__coef0=0.0, classifier__gamma=auto, classifier__kernel=sigmoid;, score=0.626 total time=   0.0s\n",
      "[CV 4/5] END classifier=SVC(), classifier__C=0.4, classifier__coef0=0.0, classifier__gamma=auto, classifier__kernel=rbf;, score=0.626 total time=   0.2s\n",
      "[CV 4/5] END classifier=SVC(), classifier__C=0.4, classifier__coef0=0.0, classifier__gamma=auto, classifier__kernel=sigmoid;, score=0.626 total time=   0.0s\n",
      "[CV 3/5] END classifier=SVC(), classifier__C=0.4, classifier__coef0=0.0, classifier__gamma=auto, classifier__kernel=sigmoid;, score=0.582 total time=   0.1s\n",
      "[CV 5/5] END classifier=SVC(), classifier__C=0.4, classifier__coef0=0.0, classifier__gamma=auto, classifier__kernel=sigmoid;, score=0.615 total time=   0.1s\n",
      "[CV 1/5] END classifier=SVC(), classifier__C=0.4, classifier__coef0=0.1, classifier__gamma=scale, classifier__kernel=linear;, score=0.901 total time=   0.5s\n",
      "[CV 5/5] END classifier=SVC(), classifier__C=0.4, classifier__coef0=0.0, classifier__gamma=scale, classifier__kernel=linear;, score=0.967 total time=   2.1s\n",
      "[CV 3/5] END classifier=SVC(), classifier__C=0.4, classifier__coef0=0.0, classifier__gamma=auto, classifier__kernel=linear;, score=0.945 total time=   1.2s\n",
      "[CV 1/5] END classifier=SVC(), classifier__C=0.4, classifier__coef0=0.1, classifier__gamma=scale, classifier__kernel=rbf;, score=0.857 total time=   0.0s\n",
      "[CV 2/5] END classifier=SVC(), classifier__C=0.4, classifier__coef0=0.1, classifier__gamma=scale, classifier__kernel=rbf;, score=0.901 total time=   0.1s\n",
      "[CV 3/5] END classifier=SVC(), classifier__C=0.4, classifier__coef0=0.1, classifier__gamma=scale, classifier__kernel=rbf;, score=0.879 total time=   0.1s\n",
      "[CV 2/5] END classifier=SVC(), classifier__C=0.4, classifier__coef0=0.0, classifier__gamma=auto, classifier__kernel=linear;, score=0.967 total time=   1.6s\n",
      "[CV 4/5] END classifier=SVC(), classifier__C=0.4, classifier__coef0=0.1, classifier__gamma=scale, classifier__kernel=rbf;, score=0.934 total time=   0.1s\n",
      "[CV 5/5] END classifier=SVC(), classifier__C=0.4, classifier__coef0=0.1, classifier__gamma=scale, classifier__kernel=rbf;, score=0.890 total time=   0.1s\n",
      "[CV 1/5] END classifier=SVC(), classifier__C=0.4, classifier__coef0=0.1, classifier__gamma=scale, classifier__kernel=sigmoid;, score=0.648 total time=   0.1s\n",
      "[CV 2/5] END classifier=SVC(), classifier__C=0.4, classifier__coef0=0.1, classifier__gamma=scale, classifier__kernel=sigmoid;, score=0.626 total time=   0.1s\n",
      "[CV 3/5] END classifier=SVC(), classifier__C=0.4, classifier__coef0=0.1, classifier__gamma=scale, classifier__kernel=sigmoid;, score=0.582 total time=   0.2s\n",
      "[CV 4/5] END classifier=SVC(), classifier__C=0.4, classifier__coef0=0.1, classifier__gamma=scale, classifier__kernel=sigmoid;, score=0.626 total time=   0.1s\n",
      "[CV 3/5] END classifier=SVC(), classifier__C=0.4, classifier__coef0=0.1, classifier__gamma=scale, classifier__kernel=linear;, score=0.945 total time=   1.1s\n",
      "[CV 5/5] END classifier=SVC(), classifier__C=0.4, classifier__coef0=0.1, classifier__gamma=scale, classifier__kernel=sigmoid;, score=0.615 total time=   0.2s\n",
      "[CV 2/5] END classifier=SVC(), classifier__C=0.4, classifier__coef0=0.1, classifier__gamma=scale, classifier__kernel=linear;, score=0.967 total time=   1.5s\n",
      "[CV 4/5] END classifier=SVC(), classifier__C=0.4, classifier__coef0=0.1, classifier__gamma=scale, classifier__kernel=linear;, score=0.967 total time=   1.4s\n",
      "[CV 3/5] END classifier=SVC(), classifier__C=0.4, classifier__coef0=0.1, classifier__gamma=auto, classifier__kernel=linear;, score=0.945 total time=   0.7s\n",
      "[CV 1/5] END classifier=SVC(), classifier__C=0.4, classifier__coef0=0.1, classifier__gamma=auto, classifier__kernel=rbf;, score=0.648 total time=   0.1s\n",
      "[CV 2/5] END classifier=SVC(), classifier__C=0.4, classifier__coef0=0.1, classifier__gamma=auto, classifier__kernel=rbf;, score=0.626 total time=   0.1s\n",
      "[CV 1/5] END classifier=SVC(), classifier__C=0.4, classifier__coef0=0.1, classifier__gamma=auto, classifier__kernel=linear;, score=0.901 total time=   1.1s\n",
      "[CV 3/5] END classifier=SVC(), classifier__C=0.4, classifier__coef0=0.1, classifier__gamma=auto, classifier__kernel=rbf;, score=0.582 total time=   0.0s\n",
      "[CV 5/5] END classifier=SVC(), classifier__C=0.4, classifier__coef0=0.1, classifier__gamma=auto, classifier__kernel=rbf;, score=0.615 total time=   0.0s\n",
      "[CV 4/5] END classifier=SVC(), classifier__C=0.4, classifier__coef0=0.1, classifier__gamma=auto, classifier__kernel=rbf;, score=0.626 total time=   0.2s\n",
      "[CV 1/5] END classifier=SVC(), classifier__C=0.4, classifier__coef0=0.1, classifier__gamma=auto, classifier__kernel=sigmoid;, score=0.648 total time=   0.1s\n",
      "[CV 2/5] END classifier=SVC(), classifier__C=0.4, classifier__coef0=0.1, classifier__gamma=auto, classifier__kernel=sigmoid;, score=0.626 total time=   0.1s\n",
      "[CV 5/5] END classifier=SVC(), classifier__C=0.4, classifier__coef0=0.0, classifier__gamma=auto, classifier__kernel=linear;, score=0.967 total time=   3.1s\n",
      "[CV 3/5] END classifier=SVC(), classifier__C=0.4, classifier__coef0=0.1, classifier__gamma=auto, classifier__kernel=sigmoid;, score=0.582 total time=   0.1s\n",
      "[CV 5/5] END classifier=SVC(), classifier__C=0.4, classifier__coef0=0.1, classifier__gamma=auto, classifier__kernel=sigmoid;, score=0.615 total time=   0.1s\n",
      "[CV 4/5] END classifier=SVC(), classifier__C=0.4, classifier__coef0=0.1, classifier__gamma=auto, classifier__kernel=sigmoid;, score=0.626 total time=   0.1s\n",
      "[CV 4/5] END classifier=SVC(), classifier__C=0.4, classifier__coef0=0.0, classifier__gamma=auto, classifier__kernel=linear;, score=0.967 total time=   3.8s\n",
      "[CV 3/5] END classifier=SVC(), classifier__C=0.4, classifier__coef0=0.5, classifier__gamma=scale, classifier__kernel=linear;, score=0.945 total time=   0.6s\n",
      "[CV 2/5] END classifier=SVC(), classifier__C=0.4, classifier__coef0=0.1, classifier__gamma=auto, classifier__kernel=linear;, score=0.967 total time=   2.1s\n",
      "[CV 1/5] END classifier=SVC(), classifier__C=0.4, classifier__coef0=0.5, classifier__gamma=scale, classifier__kernel=rbf;, score=0.857 total time=   0.0s\n",
      "[CV 2/5] END classifier=SVC(), classifier__C=0.4, classifier__coef0=0.5, classifier__gamma=scale, classifier__kernel=rbf;, score=0.901 total time=   0.0s\n",
      "[CV 3/5] END classifier=SVC(), classifier__C=0.4, classifier__coef0=0.5, classifier__gamma=scale, classifier__kernel=rbf;, score=0.879 total time=   0.1s\n",
      "[CV 1/5] END classifier=SVC(), classifier__C=0.4, classifier__coef0=0.5, classifier__gamma=scale, classifier__kernel=linear;, score=0.901 total time=   1.0s\n",
      "[CV 4/5] END classifier=SVC(), classifier__C=0.4, classifier__coef0=0.5, classifier__gamma=scale, classifier__kernel=rbf;, score=0.934 total time=   0.1s\n",
      "[CV 5/5] END classifier=SVC(), classifier__C=0.4, classifier__coef0=0.1, classifier__gamma=auto, classifier__kernel=linear;, score=0.967 total time=   1.8s[CV 1/5] END classifier=SVC(), classifier__C=0.4, classifier__coef0=0.5, classifier__gamma=scale, classifier__kernel=sigmoid;, score=0.648 total time=   0.1s\n",
      "[CV 5/5] END classifier=SVC(), classifier__C=0.4, classifier__coef0=0.5, classifier__gamma=scale, classifier__kernel=rbf;, score=0.890 total time=   0.1s\n",
      "\n",
      "[CV 4/5] END classifier=SVC(), classifier__C=0.4, classifier__coef0=0.1, classifier__gamma=auto, classifier__kernel=linear;, score=0.967 total time=   2.3s\n",
      "[CV 3/5] END classifier=SVC(), classifier__C=0.4, classifier__coef0=0.5, classifier__gamma=scale, classifier__kernel=sigmoid;, score=0.582 total time=   0.1s\n",
      "[CV 2/5] END classifier=SVC(), classifier__C=0.4, classifier__coef0=0.5, classifier__gamma=scale, classifier__kernel=sigmoid;, score=0.626 total time=   0.1s\n",
      "[CV 5/5] END classifier=SVC(), classifier__C=0.4, classifier__coef0=0.5, classifier__gamma=scale, classifier__kernel=sigmoid;, score=0.615 total time=   0.0s\n",
      "[CV 4/5] END classifier=SVC(), classifier__C=0.4, classifier__coef0=0.5, classifier__gamma=scale, classifier__kernel=sigmoid;, score=0.626 total time=   0.2s\n",
      "[CV 1/5] END classifier=SVC(), classifier__C=0.4, classifier__coef0=0.5, classifier__gamma=auto, classifier__kernel=linear;, score=0.901 total time=   0.5s\n",
      "[CV 5/5] END classifier=SVC(), classifier__C=0.4, classifier__coef0=0.5, classifier__gamma=scale, classifier__kernel=linear;, score=0.967 total time=   1.3s\n",
      "[CV 1/5] END classifier=SVC(), classifier__C=0.4, classifier__coef0=0.5, classifier__gamma=auto, classifier__kernel=rbf;, score=0.648 total time=   0.0s\n",
      "[CV 2/5] END classifier=SVC(), classifier__C=0.4, classifier__coef0=0.5, classifier__gamma=auto, classifier__kernel=rbf;, score=0.626 total time=   0.1s\n",
      "[CV 3/5] END classifier=SVC(), classifier__C=0.4, classifier__coef0=0.5, classifier__gamma=auto, classifier__kernel=rbf;, score=0.582 total time=   0.1s\n",
      "[CV 4/5] END classifier=SVC(), classifier__C=0.4, classifier__coef0=0.5, classifier__gamma=auto, classifier__kernel=rbf;, score=0.626 total time=   0.1s\n",
      "[CV 5/5] END classifier=SVC(), classifier__C=0.4, classifier__coef0=0.1, classifier__gamma=scale, classifier__kernel=linear;, score=0.967 total time=   4.4s\n",
      "[CV 2/5] END classifier=SVC(), classifier__C=0.4, classifier__coef0=0.5, classifier__gamma=scale, classifier__kernel=linear;, score=0.967 total time=   2.3s\n",
      "[CV 1/5] END classifier=SVC(), classifier__C=0.4, classifier__coef0=0.5, classifier__gamma=auto, classifier__kernel=sigmoid;, score=0.648 total time=   0.0s\n",
      "[CV 2/5] END classifier=SVC(), classifier__C=0.4, classifier__coef0=0.5, classifier__gamma=auto, classifier__kernel=sigmoid;, score=0.626 total time=   0.0s\n",
      "[CV 5/5] END classifier=SVC(), classifier__C=0.4, classifier__coef0=0.5, classifier__gamma=auto, classifier__kernel=rbf;, score=0.615 total time=   0.1s\n",
      "[CV 4/5] END classifier=SVC(), classifier__C=0.4, classifier__coef0=0.5, classifier__gamma=auto, classifier__kernel=sigmoid;, score=0.626 total time=   0.0s\n",
      "[CV 5/5] END classifier=SVC(), classifier__C=0.4, classifier__coef0=0.5, classifier__gamma=auto, classifier__kernel=sigmoid;, score=0.615 total time=   0.1s\n",
      "[CV 3/5] END classifier=SVC(), classifier__C=0.4, classifier__coef0=0.5, classifier__gamma=auto, classifier__kernel=sigmoid;, score=0.582 total time=   0.1s\n",
      "[CV 3/5] END classifier=SVC(), classifier__C=0.4, classifier__coef0=0.5, classifier__gamma=auto, classifier__kernel=linear;, score=0.945 total time=   1.3s\n",
      "[CV 4/5] END classifier=SVC(), classifier__C=0.4, classifier__coef0=0.5, classifier__gamma=scale, classifier__kernel=linear;, score=0.967 total time=   2.2s\n",
      "[CV 4/5] END classifier=SVC(), classifier__C=0.4, classifier__coef0=0.5, classifier__gamma=auto, classifier__kernel=linear;, score=0.967 total time=   1.6s\n",
      "[CV 1/5] END classifier=SVC(), classifier__C=0.4, classifier__coef0=1, classifier__gamma=scale, classifier__kernel=rbf;, score=0.857 total time=   0.0s\n",
      "[CV 2/5] END classifier=SVC(), classifier__C=0.4, classifier__coef0=1, classifier__gamma=scale, classifier__kernel=rbf;, score=0.901 total time=   0.0s\n",
      "[CV 3/5] END classifier=SVC(), classifier__C=0.4, classifier__coef0=1, classifier__gamma=scale, classifier__kernel=rbf;, score=0.879 total time=   0.1s\n",
      "[CV 4/5] END classifier=SVC(), classifier__C=0.4, classifier__coef0=1, classifier__gamma=scale, classifier__kernel=rbf;, score=0.934 total time=   0.0s\n",
      "[CV 5/5] END classifier=SVC(), classifier__C=0.4, classifier__coef0=1, classifier__gamma=scale, classifier__kernel=rbf;, score=0.890 total time=   0.0s\n",
      "[CV 1/5] END classifier=SVC(), classifier__C=0.4, classifier__coef0=1, classifier__gamma=scale, classifier__kernel=linear;, score=0.901 total time=   0.7s\n",
      "[CV 1/5] END classifier=SVC(), classifier__C=0.4, classifier__coef0=1, classifier__gamma=scale, classifier__kernel=sigmoid;, score=0.648 total time=   0.1s\n",
      "[CV 2/5] END classifier=SVC(), classifier__C=0.4, classifier__coef0=1, classifier__gamma=scale, classifier__kernel=sigmoid;, score=0.626 total time=   0.1s\n",
      "[CV 3/5] END classifier=SVC(), classifier__C=0.4, classifier__coef0=1, classifier__gamma=scale, classifier__kernel=sigmoid;, score=0.582 total time=   0.1s\n",
      "[CV 4/5] END classifier=SVC(), classifier__C=0.4, classifier__coef0=1, classifier__gamma=scale, classifier__kernel=sigmoid;, score=0.626 total time=   0.1s\n",
      "[CV 5/5] END classifier=SVC(), classifier__C=0.4, classifier__coef0=1, classifier__gamma=scale, classifier__kernel=sigmoid;, score=0.615 total time=   0.1s\n",
      "[CV 2/5] END classifier=SVC(), classifier__C=0.4, classifier__coef0=0.5, classifier__gamma=auto, classifier__kernel=linear;, score=0.967 total time=   2.2s\n",
      "[CV 3/5] END classifier=SVC(), classifier__C=0.4, classifier__coef0=1, classifier__gamma=scale, classifier__kernel=linear;, score=0.945 total time=   1.1s\n",
      "[CV 1/5] END classifier=SVC(), classifier__C=0.4, classifier__coef0=1, classifier__gamma=auto, classifier__kernel=linear;, score=0.901 total time=   0.6s\n",
      "[CV 5/5] END classifier=SVC(), classifier__C=0.4, classifier__coef0=1, classifier__gamma=scale, classifier__kernel=linear;, score=0.967 total time=   1.4s\n",
      "[CV 3/5] END classifier=SVC(), classifier__C=0.4, classifier__coef0=1, classifier__gamma=auto, classifier__kernel=linear;, score=0.945 total time=   0.7s\n",
      "[CV 1/5] END classifier=SVC(), classifier__C=0.4, classifier__coef0=1, classifier__gamma=auto, classifier__kernel=rbf;, score=0.648 total time=   0.0s\n",
      "[CV 2/5] END classifier=SVC(), classifier__C=0.4, classifier__coef0=1, classifier__gamma=auto, classifier__kernel=rbf;, score=0.626 total time=   0.1s\n",
      "[CV 5/5] END classifier=SVC(), classifier__C=0.4, classifier__coef0=0.5, classifier__gamma=auto, classifier__kernel=linear;, score=0.967 total time=   2.6s\n",
      "[CV 3/5] END classifier=SVC(), classifier__C=0.4, classifier__coef0=1, classifier__gamma=auto, classifier__kernel=rbf;, score=0.582 total time=   0.1s\n",
      "[CV 4/5] END classifier=SVC(), classifier__C=0.4, classifier__coef0=1, classifier__gamma=auto, classifier__kernel=rbf;, score=0.626 total time=   0.1s\n",
      "[CV 1/5] END classifier=SVC(), classifier__C=0.4, classifier__coef0=1, classifier__gamma=auto, classifier__kernel=sigmoid;, score=0.648 total time=   0.1s\n",
      "[CV 2/5] END classifier=SVC(), classifier__C=0.4, classifier__coef0=1, classifier__gamma=auto, classifier__kernel=sigmoid;, score=0.626 total time=   0.1s\n",
      "[CV 5/5] END classifier=SVC(), classifier__C=0.4, classifier__coef0=1, classifier__gamma=auto, classifier__kernel=rbf;, score=0.615 total time=   0.2s\n",
      "[CV 3/5] END classifier=SVC(), classifier__C=0.4, classifier__coef0=1, classifier__gamma=auto, classifier__kernel=sigmoid;, score=0.582 total time=   0.1s[CV 4/5] END classifier=SVC(), classifier__C=0.4, classifier__coef0=1, classifier__gamma=auto, classifier__kernel=sigmoid;, score=0.626 total time=   0.0s\n",
      "\n",
      "[CV 5/5] END classifier=SVC(), classifier__C=0.4, classifier__coef0=1, classifier__gamma=auto, classifier__kernel=sigmoid;, score=0.615 total time=   0.1s\n",
      "[CV 2/5] END classifier=SVC(), classifier__C=0.4, classifier__coef0=1, classifier__gamma=scale, classifier__kernel=linear;, score=0.967 total time=   2.6s\n",
      "[CV 1/5] END classifier=SVC(), classifier__C=0.4, classifier__coef0=10, classifier__gamma=scale, classifier__kernel=linear;, score=0.901 total time=   0.9s\n",
      "[CV 4/5] END classifier=SVC(), classifier__C=0.4, classifier__coef0=1, classifier__gamma=scale, classifier__kernel=linear;, score=0.967 total time=   3.0s\n",
      "[CV 1/5] END classifier=SVC(), classifier__C=0.4, classifier__coef0=10, classifier__gamma=scale, classifier__kernel=rbf;, score=0.857 total time=   0.1s\n",
      "[CV 2/5] END classifier=SVC(), classifier__C=0.4, classifier__coef0=10, classifier__gamma=scale, classifier__kernel=rbf;, score=0.901 total time=   0.0s\n",
      "[CV 5/5] END classifier=SVC(), classifier__C=0.4, classifier__coef0=1, classifier__gamma=auto, classifier__kernel=linear;, score=0.967 total time=   1.6s\n",
      "[CV 3/5] END classifier=SVC(), classifier__C=0.4, classifier__coef0=10, classifier__gamma=scale, classifier__kernel=rbf;, score=0.879 total time=   0.0s\n",
      "[CV 5/5] END classifier=SVC(), classifier__C=0.4, classifier__coef0=10, classifier__gamma=scale, classifier__kernel=rbf;, score=0.890 total time=   0.0s\n",
      "[CV 4/5] END classifier=SVC(), classifier__C=0.4, classifier__coef0=10, classifier__gamma=scale, classifier__kernel=rbf;, score=0.934 total time=   0.1s\n",
      "[CV 2/5] END classifier=SVC(), classifier__C=0.4, classifier__coef0=10, classifier__gamma=scale, classifier__kernel=linear;, score=0.967 total time=   1.2s\n",
      "[CV 3/5] END classifier=SVC(), classifier__C=0.4, classifier__coef0=10, classifier__gamma=scale, classifier__kernel=linear;, score=0.945 total time=   1.2s\n",
      "[CV 1/5] END classifier=SVC(), classifier__C=0.4, classifier__coef0=10, classifier__gamma=scale, classifier__kernel=sigmoid;, score=0.648 total time=   0.1s\n",
      "[CV 2/5] END classifier=SVC(), classifier__C=0.4, classifier__coef0=10, classifier__gamma=scale, classifier__kernel=sigmoid;, score=0.626 total time=   0.1s\n",
      "[CV 5/5] END classifier=SVC(), classifier__C=0.4, classifier__coef0=10, classifier__gamma=scale, classifier__kernel=sigmoid;, score=0.615 total time=   0.1s[CV 3/5] END classifier=SVC(), classifier__C=0.4, classifier__coef0=10, classifier__gamma=scale, classifier__kernel=sigmoid;, score=0.582 total time=   0.2s\n",
      "\n",
      "[CV 4/5] END classifier=SVC(), classifier__C=0.4, classifier__coef0=10, classifier__gamma=scale, classifier__kernel=sigmoid;, score=0.626 total time=   0.2s\n",
      "[CV 2/5] END classifier=SVC(), classifier__C=0.4, classifier__coef0=1, classifier__gamma=auto, classifier__kernel=linear;, score=0.967 total time=   2.6s\n",
      "[CV 1/5] END classifier=SVC(), classifier__C=0.4, classifier__coef0=10, classifier__gamma=auto, classifier__kernel=linear;, score=0.901 total time=   0.3s\n",
      "[CV 1/5] END classifier=SVC(), classifier__C=0.4, classifier__coef0=10, classifier__gamma=auto, classifier__kernel=rbf;, score=0.648 total time=   0.0s\n",
      "[CV 2/5] END classifier=SVC(), classifier__C=0.4, classifier__coef0=10, classifier__gamma=auto, classifier__kernel=rbf;, score=0.626 total time=   0.0s\n",
      "[CV 3/5] END classifier=SVC(), classifier__C=0.4, classifier__coef0=10, classifier__gamma=auto, classifier__kernel=rbf;, score=0.582 total time=   0.0s\n",
      "[CV 4/5] END classifier=SVC(), classifier__C=0.4, classifier__coef0=10, classifier__gamma=auto, classifier__kernel=rbf;, score=0.626 total time=   0.0s\n",
      "[CV 5/5] END classifier=SVC(), classifier__C=0.4, classifier__coef0=10, classifier__gamma=auto, classifier__kernel=rbf;, score=0.615 total time=   0.0s\n",
      "[CV 1/5] END classifier=SVC(), classifier__C=0.4, classifier__coef0=10, classifier__gamma=auto, classifier__kernel=sigmoid;, score=0.648 total time=   0.0s\n",
      "[CV 2/5] END classifier=SVC(), classifier__C=0.4, classifier__coef0=10, classifier__gamma=auto, classifier__kernel=sigmoid;, score=0.626 total time=   0.0s\n",
      "[CV 3/5] END classifier=SVC(), classifier__C=0.4, classifier__coef0=10, classifier__gamma=auto, classifier__kernel=sigmoid;, score=0.582 total time=   0.0s\n",
      "[CV 4/5] END classifier=SVC(), classifier__C=0.4, classifier__coef0=10, classifier__gamma=auto, classifier__kernel=sigmoid;, score=0.626 total time=   0.0s\n",
      "[CV 5/5] END classifier=SVC(), classifier__C=0.4, classifier__coef0=10, classifier__gamma=auto, classifier__kernel=sigmoid;, score=0.615 total time=   0.0s\n",
      "[CV 4/5] END classifier=SVC(), classifier__C=0.4, classifier__coef0=1, classifier__gamma=auto, classifier__kernel=linear;, score=0.967 total time=   3.2s\n",
      "[CV 1/5] END classifier=SVC(), classifier__C=0.4, classifier__coef0=100, classifier__gamma=scale, classifier__kernel=linear;, score=0.901 total time=   0.4s\n",
      "[CV 4/5] END classifier=SVC(), classifier__C=0.4, classifier__coef0=10, classifier__gamma=scale, classifier__kernel=linear;, score=0.967 total time=   2.4s\n",
      "[CV 3/5] END classifier=SVC(), classifier__C=0.4, classifier__coef0=10, classifier__gamma=auto, classifier__kernel=linear;, score=0.945 total time=   1.4s\n",
      "[CV 2/5] END classifier=SVC(), classifier__C=0.4, classifier__coef0=10, classifier__gamma=auto, classifier__kernel=linear;, score=0.967 total time=   1.5s\n",
      "[CV 1/5] END classifier=SVC(), classifier__C=0.4, classifier__coef0=100, classifier__gamma=scale, classifier__kernel=rbf;, score=0.857 total time=   0.0s\n",
      "[CV 2/5] END classifier=SVC(), classifier__C=0.4, classifier__coef0=100, classifier__gamma=scale, classifier__kernel=rbf;, score=0.901 total time=   0.0s\n",
      "[CV 3/5] END classifier=SVC(), classifier__C=0.4, classifier__coef0=100, classifier__gamma=scale, classifier__kernel=rbf;, score=0.879 total time=   0.0s\n",
      "[CV 4/5] END classifier=SVC(), classifier__C=0.4, classifier__coef0=100, classifier__gamma=scale, classifier__kernel=rbf;, score=0.934 total time=   0.0s\n",
      "[CV 5/5] END classifier=SVC(), classifier__C=0.4, classifier__coef0=100, classifier__gamma=scale, classifier__kernel=rbf;, score=0.890 total time=   0.0s\n",
      "[CV 1/5] END classifier=SVC(), classifier__C=0.4, classifier__coef0=100, classifier__gamma=scale, classifier__kernel=sigmoid;, score=0.648 total time=   0.0s\n",
      "[CV 2/5] END classifier=SVC(), classifier__C=0.4, classifier__coef0=100, classifier__gamma=scale, classifier__kernel=sigmoid;, score=0.626 total time=   0.0s\n",
      "[CV 3/5] END classifier=SVC(), classifier__C=0.4, classifier__coef0=100, classifier__gamma=scale, classifier__kernel=sigmoid;, score=0.582 total time=   0.0s\n",
      "[CV 4/5] END classifier=SVC(), classifier__C=0.4, classifier__coef0=100, classifier__gamma=scale, classifier__kernel=sigmoid;, score=0.626 total time=   0.0s\n",
      "[CV 5/5] END classifier=SVC(), classifier__C=0.4, classifier__coef0=100, classifier__gamma=scale, classifier__kernel=sigmoid;, score=0.615 total time=   0.0s\n",
      "[CV 3/5] END classifier=SVC(), classifier__C=0.4, classifier__coef0=100, classifier__gamma=scale, classifier__kernel=linear;, score=0.945 total time=   0.8s\n",
      "[CV 4/5] END classifier=SVC(), classifier__C=0.4, classifier__coef0=10, classifier__gamma=auto, classifier__kernel=linear;, score=0.967 total time=   1.9s\n",
      "[CV 5/5] END classifier=SVC(), classifier__C=0.4, classifier__coef0=10, classifier__gamma=scale, classifier__kernel=linear;, score=0.967 total time=   2.7s\n",
      "[CV 1/5] END classifier=SVC(), classifier__C=0.4, classifier__coef0=100, classifier__gamma=auto, classifier__kernel=linear;, score=0.901 total time=   0.4s\n",
      "[CV 3/5] END classifier=SVC(), classifier__C=0.4, classifier__coef0=100, classifier__gamma=auto, classifier__kernel=linear;, score=0.945 total time=   0.5s\n",
      "[CV 1/5] END classifier=SVC(), classifier__C=0.4, classifier__coef0=100, classifier__gamma=auto, classifier__kernel=rbf;, score=0.648 total time=   0.1s\n",
      "[CV 2/5] END classifier=SVC(), classifier__C=0.4, classifier__coef0=100, classifier__gamma=auto, classifier__kernel=rbf;, score=0.626 total time=   0.1s\n",
      "[CV 2/5] END classifier=SVC(), classifier__C=0.4, classifier__coef0=100, classifier__gamma=scale, classifier__kernel=linear;, score=0.967 total time=   2.1s\n",
      "[CV 3/5] END classifier=SVC(), classifier__C=0.4, classifier__coef0=100, classifier__gamma=auto, classifier__kernel=rbf;, score=0.582 total time=   0.1s\n",
      "[CV 4/5] END classifier=SVC(), classifier__C=0.4, classifier__coef0=100, classifier__gamma=auto, classifier__kernel=rbf;, score=0.626 total time=   0.1s\n",
      "[CV 1/5] END classifier=SVC(), classifier__C=0.4, classifier__coef0=100, classifier__gamma=auto, classifier__kernel=sigmoid;, score=0.648 total time=   0.0s\n",
      "[CV 2/5] END classifier=SVC(), classifier__C=0.4, classifier__coef0=100, classifier__gamma=auto, classifier__kernel=sigmoid;, score=0.626 total time=   0.0s\n",
      "[CV 3/5] END classifier=SVC(), classifier__C=0.4, classifier__coef0=100, classifier__gamma=auto, classifier__kernel=sigmoid;, score=0.582 total time=   0.0s\n",
      "[CV 5/5] END classifier=SVC(), classifier__C=0.4, classifier__coef0=100, classifier__gamma=auto, classifier__kernel=rbf;, score=0.615 total time=   0.1s\n",
      "[CV 4/5] END classifier=SVC(), classifier__C=0.4, classifier__coef0=100, classifier__gamma=auto, classifier__kernel=sigmoid;, score=0.626 total time=   0.0s\n",
      "[CV 5/5] END classifier=SVC(), classifier__C=0.4, classifier__coef0=100, classifier__gamma=auto, classifier__kernel=sigmoid;, score=0.615 total time=   0.1s\n",
      "[CV 4/5] END classifier=SVC(), classifier__C=0.4, classifier__coef0=100, classifier__gamma=scale, classifier__kernel=linear;, score=0.967 total time=   2.0s\n",
      "[CV 5/5] END classifier=SVC(), classifier__C=0.4, classifier__coef0=10, classifier__gamma=auto, classifier__kernel=linear;, score=0.967 total time=   3.4s\n",
      "[CV 5/5] END classifier=SVC(), classifier__C=0.4, classifier__coef0=100, classifier__gamma=auto, classifier__kernel=linear;, score=0.967 total time=   1.4s\n",
      "[CV 2/5] END classifier=SVC(), classifier__C=0.5, classifier__coef0=-10.0, classifier__gamma=scale, classifier__kernel=linear;, score=0.978 total time=   0.6s\n",
      "[CV 1/5] END classifier=SVC(), classifier__C=0.5, classifier__coef0=-10.0, classifier__gamma=scale, classifier__kernel=rbf;, score=0.857 total time=   0.0s\n",
      "[CV 1/5] END classifier=SVC(), classifier__C=0.5, classifier__coef0=-10.0, classifier__gamma=scale, classifier__kernel=linear;, score=0.912 total time=   0.7s\n",
      "[CV 2/5] END classifier=SVC(), classifier__C=0.5, classifier__coef0=-10.0, classifier__gamma=scale, classifier__kernel=rbf;, score=0.901 total time=   0.0s\n",
      "[CV 3/5] END classifier=SVC(), classifier__C=0.5, classifier__coef0=-10.0, classifier__gamma=scale, classifier__kernel=rbf;, score=0.879 total time=   0.0s\n",
      "[CV 4/5] END classifier=SVC(), classifier__C=0.5, classifier__coef0=-10.0, classifier__gamma=scale, classifier__kernel=rbf;, score=0.934 total time=   0.0s\n",
      "[CV 5/5] END classifier=SVC(), classifier__C=0.5, classifier__coef0=-10.0, classifier__gamma=scale, classifier__kernel=rbf;, score=0.923 total time=   0.0s\n",
      "[CV 1/5] END classifier=SVC(), classifier__C=0.5, classifier__coef0=-10.0, classifier__gamma=scale, classifier__kernel=sigmoid;, score=0.648 total time=   0.0s\n",
      "[CV 3/5] END classifier=SVC(), classifier__C=0.5, classifier__coef0=-10.0, classifier__gamma=scale, classifier__kernel=sigmoid;, score=0.582 total time=   0.0s\n",
      "[CV 2/5] END classifier=SVC(), classifier__C=0.5, classifier__coef0=-10.0, classifier__gamma=scale, classifier__kernel=sigmoid;, score=0.626 total time=   0.1s\n",
      "[CV 4/5] END classifier=SVC(), classifier__C=0.5, classifier__coef0=-10.0, classifier__gamma=scale, classifier__kernel=sigmoid;, score=0.626 total time=   0.1s\n",
      "[CV 5/5] END classifier=SVC(), classifier__C=0.5, classifier__coef0=-10.0, classifier__gamma=scale, classifier__kernel=sigmoid;, score=0.615 total time=   0.1s\n",
      "[CV 3/5] END classifier=SVC(), classifier__C=0.5, classifier__coef0=-10.0, classifier__gamma=scale, classifier__kernel=linear;, score=0.956 total time=   0.7s\n",
      "[CV 2/5] END classifier=SVC(), classifier__C=0.5, classifier__coef0=-10.0, classifier__gamma=auto, classifier__kernel=linear;, score=0.978 total time=   0.4s\n",
      "[CV 2/5] END classifier=SVC(), classifier__C=0.4, classifier__coef0=100, classifier__gamma=auto, classifier__kernel=linear;, score=0.967 total time=   2.8s\n",
      "[CV 5/5] END classifier=SVC(), classifier__C=0.4, classifier__coef0=100, classifier__gamma=scale, classifier__kernel=linear;, score=0.967 total time=   3.6s\n",
      "[CV 1/5] END classifier=SVC(), classifier__C=0.5, classifier__coef0=-10.0, classifier__gamma=auto, classifier__kernel=rbf;, score=0.648 total time=   0.0s\n",
      "[CV 2/5] END classifier=SVC(), classifier__C=0.5, classifier__coef0=-10.0, classifier__gamma=auto, classifier__kernel=rbf;, score=0.626 total time=   0.0s\n",
      "[CV 3/5] END classifier=SVC(), classifier__C=0.5, classifier__coef0=-10.0, classifier__gamma=auto, classifier__kernel=rbf;, score=0.582 total time=   0.1s\n",
      "[CV 4/5] END classifier=SVC(), classifier__C=0.5, classifier__coef0=-10.0, classifier__gamma=auto, classifier__kernel=rbf;, score=0.626 total time=   0.1s\n",
      "[CV 5/5] END classifier=SVC(), classifier__C=0.5, classifier__coef0=-10.0, classifier__gamma=auto, classifier__kernel=rbf;, score=0.615 total time=   0.0s\n",
      "[CV 1/5] END classifier=SVC(), classifier__C=0.5, classifier__coef0=-10.0, classifier__gamma=auto, classifier__kernel=sigmoid;, score=0.648 total time=   0.0s\n",
      "[CV 3/5] END classifier=SVC(), classifier__C=0.5, classifier__coef0=-10.0, classifier__gamma=auto, classifier__kernel=linear;, score=0.956 total time=   1.2s\n",
      "[CV 2/5] END classifier=SVC(), classifier__C=0.5, classifier__coef0=-10.0, classifier__gamma=auto, classifier__kernel=sigmoid;, score=0.626 total time=   0.0s\n",
      "[CV 3/5] END classifier=SVC(), classifier__C=0.5, classifier__coef0=-10.0, classifier__gamma=auto, classifier__kernel=sigmoid;, score=0.582 total time=   0.0s\n",
      "[CV 4/5] END classifier=SVC(), classifier__C=0.5, classifier__coef0=-10.0, classifier__gamma=auto, classifier__kernel=sigmoid;, score=0.626 total time=   0.1s\n",
      "[CV 5/5] END classifier=SVC(), classifier__C=0.5, classifier__coef0=-10.0, classifier__gamma=scale, classifier__kernel=linear;, score=0.967 total time=   1.9s\n",
      "[CV 5/5] END classifier=SVC(), classifier__C=0.5, classifier__coef0=-10.0, classifier__gamma=auto, classifier__kernel=sigmoid;, score=0.615 total time=   0.1s\n",
      "[CV 1/5] END classifier=SVC(), classifier__C=0.5, classifier__coef0=-10.0, classifier__gamma=auto, classifier__kernel=linear;, score=0.912 total time=   1.8s\n",
      "[CV 4/5] END classifier=SVC(), classifier__C=0.4, classifier__coef0=100, classifier__gamma=auto, classifier__kernel=linear;, score=0.967 total time=   3.9s\n",
      "[CV 4/5] END classifier=SVC(), classifier__C=0.5, classifier__coef0=-10.0, classifier__gamma=scale, classifier__kernel=linear;, score=0.967 total time=   2.5s\n",
      "[CV 1/5] END classifier=SVC(), classifier__C=0.5, classifier__coef0=-1.0, classifier__gamma=scale, classifier__kernel=rbf;, score=0.857 total time=   0.0s\n",
      "[CV 2/5] END classifier=SVC(), classifier__C=0.5, classifier__coef0=-1.0, classifier__gamma=scale, classifier__kernel=rbf;, score=0.901 total time=   0.0s\n",
      "[CV 3/5] END classifier=SVC(), classifier__C=0.5, classifier__coef0=-1.0, classifier__gamma=scale, classifier__kernel=rbf;, score=0.879 total time=   0.0s\n",
      "[CV 4/5] END classifier=SVC(), classifier__C=0.5, classifier__coef0=-1.0, classifier__gamma=scale, classifier__kernel=rbf;, score=0.934 total time=   0.0s\n",
      "[CV 5/5] END classifier=SVC(), classifier__C=0.5, classifier__coef0=-1.0, classifier__gamma=scale, classifier__kernel=rbf;, score=0.923 total time=   0.0s\n",
      "[CV 1/5] END classifier=SVC(), classifier__C=0.5, classifier__coef0=-1.0, classifier__gamma=scale, classifier__kernel=sigmoid;, score=0.703 total time=   0.0s\n",
      "[CV 2/5] END classifier=SVC(), classifier__C=0.5, classifier__coef0=-1.0, classifier__gamma=scale, classifier__kernel=sigmoid;, score=0.604 total time=   0.1s\n",
      "[CV 2/5] END classifier=SVC(), classifier__C=0.5, classifier__coef0=-1.0, classifier__gamma=scale, classifier__kernel=linear;, score=0.978 total time=   0.8s\n",
      "[CV 3/5] END classifier=SVC(), classifier__C=0.5, classifier__coef0=-1.0, classifier__gamma=scale, classifier__kernel=sigmoid;, score=0.714 total time=   0.1s\n",
      "[CV 4/5] END classifier=SVC(), classifier__C=0.5, classifier__coef0=-1.0, classifier__gamma=scale, classifier__kernel=sigmoid;, score=0.703 total time=   0.1s\n",
      "[CV 5/5] END classifier=SVC(), classifier__C=0.5, classifier__coef0=-1.0, classifier__gamma=scale, classifier__kernel=sigmoid;, score=0.769 total time=   0.0s\n",
      "[CV 3/5] END classifier=SVC(), classifier__C=0.5, classifier__coef0=-1.0, classifier__gamma=scale, classifier__kernel=linear;, score=0.956 total time=   1.0s\n",
      "[CV 5/5] END classifier=SVC(), classifier__C=0.5, classifier__coef0=-10.0, classifier__gamma=auto, classifier__kernel=linear;, score=0.967 total time=   2.0s\n",
      "[CV 1/5] END classifier=SVC(), classifier__C=0.5, classifier__coef0=-1.0, classifier__gamma=scale, classifier__kernel=linear;, score=0.912 total time=   1.4s\n",
      "[CV 4/5] END classifier=SVC(), classifier__C=0.5, classifier__coef0=-10.0, classifier__gamma=auto, classifier__kernel=linear;, score=0.967 total time=   2.6s\n",
      "[CV 1/5] END classifier=SVC(), classifier__C=0.5, classifier__coef0=-1.0, classifier__gamma=auto, classifier__kernel=rbf;, score=0.648 total time=   0.1s\n",
      "[CV 2/5] END classifier=SVC(), classifier__C=0.5, classifier__coef0=-1.0, classifier__gamma=auto, classifier__kernel=rbf;, score=0.626 total time=   0.1s\n",
      "[CV 3/5] END classifier=SVC(), classifier__C=0.5, classifier__coef0=-1.0, classifier__gamma=auto, classifier__kernel=rbf;, score=0.582 total time=   0.1s\n",
      "[CV 4/5] END classifier=SVC(), classifier__C=0.5, classifier__coef0=-1.0, classifier__gamma=auto, classifier__kernel=rbf;, score=0.626 total time=   0.1s\n",
      "[CV 5/5] END classifier=SVC(), classifier__C=0.5, classifier__coef0=-1.0, classifier__gamma=auto, classifier__kernel=rbf;, score=0.615 total time=   0.1s\n",
      "[CV 3/5] END classifier=SVC(), classifier__C=0.5, classifier__coef0=-1.0, classifier__gamma=auto, classifier__kernel=linear;, score=0.956 total time=   0.8s\n",
      "[CV 1/5] END classifier=SVC(), classifier__C=0.5, classifier__coef0=-1.0, classifier__gamma=auto, classifier__kernel=sigmoid;, score=0.648 total time=   0.0s\n",
      "[CV 2/5] END classifier=SVC(), classifier__C=0.5, classifier__coef0=-1.0, classifier__gamma=auto, classifier__kernel=sigmoid;, score=0.626 total time=   0.0s\n",
      "[CV 2/5] END classifier=SVC(), classifier__C=0.5, classifier__coef0=-1.0, classifier__gamma=auto, classifier__kernel=linear;, score=0.978 total time=   1.1s\n",
      "[CV 4/5] END classifier=SVC(), classifier__C=0.5, classifier__coef0=-1.0, classifier__gamma=auto, classifier__kernel=sigmoid;, score=0.626 total time=   0.0s\n",
      "[CV 5/5] END classifier=SVC(), classifier__C=0.5, classifier__coef0=-1.0, classifier__gamma=auto, classifier__kernel=sigmoid;, score=0.615 total time=   0.0s\n",
      "[CV 3/5] END classifier=SVC(), classifier__C=0.5, classifier__coef0=-1.0, classifier__gamma=auto, classifier__kernel=sigmoid;, score=0.582 total time=   0.1s\n",
      "[CV 2/5] END classifier=SVC(), classifier__C=0.5, classifier__coef0=0.0, classifier__gamma=scale, classifier__kernel=linear;, score=0.978 total time=   0.5s\n",
      "[CV 1/5] END classifier=SVC(), classifier__C=0.5, classifier__coef0=-1.0, classifier__gamma=auto, classifier__kernel=linear;, score=0.912 total time=   1.8s\n",
      "[CV 3/5] END classifier=SVC(), classifier__C=0.5, classifier__coef0=0.0, classifier__gamma=scale, classifier__kernel=linear;, score=0.956 total time=   1.3s\n",
      "[CV 1/5] END classifier=SVC(), classifier__C=0.5, classifier__coef0=0.0, classifier__gamma=scale, classifier__kernel=linear;, score=0.912 total time=   1.4s\n",
      "[CV 1/5] END classifier=SVC(), classifier__C=0.5, classifier__coef0=0.0, classifier__gamma=scale, classifier__kernel=rbf;, score=0.857 total time=   0.0s\n",
      "[CV 5/5] END classifier=SVC(), classifier__C=0.5, classifier__coef0=-1.0, classifier__gamma=scale, classifier__kernel=linear;, score=0.967 total time=   3.0s\n",
      "[CV 2/5] END classifier=SVC(), classifier__C=0.5, classifier__coef0=0.0, classifier__gamma=scale, classifier__kernel=rbf;, score=0.901 total time=   0.0s\n",
      "[CV 4/5] END classifier=SVC(), classifier__C=0.5, classifier__coef0=0.0, classifier__gamma=scale, classifier__kernel=rbf;, score=0.934 total time=   0.1s\n",
      "[CV 3/5] END classifier=SVC(), classifier__C=0.5, classifier__coef0=0.0, classifier__gamma=scale, classifier__kernel=rbf;, score=0.879 total time=   0.1s\n",
      "[CV 4/5] END classifier=SVC(), classifier__C=0.5, classifier__coef0=-1.0, classifier__gamma=scale, classifier__kernel=linear;, score=0.967 total time=   3.2s\n",
      "[CV 5/5] END classifier=SVC(), classifier__C=0.5, classifier__coef0=0.0, classifier__gamma=scale, classifier__kernel=rbf;, score=0.923 total time=   0.0s\n",
      "[CV 3/5] END classifier=SVC(), classifier__C=0.5, classifier__coef0=0.0, classifier__gamma=scale, classifier__kernel=sigmoid;, score=0.593 total time=   0.0s\n",
      "[CV 1/5] END classifier=SVC(), classifier__C=0.5, classifier__coef0=0.0, classifier__gamma=scale, classifier__kernel=sigmoid;, score=0.516 total time=   0.1s\n",
      "[CV 2/5] END classifier=SVC(), classifier__C=0.5, classifier__coef0=0.0, classifier__gamma=scale, classifier__kernel=sigmoid;, score=0.637 total time=   0.1s\n",
      "[CV 4/5] END classifier=SVC(), classifier__C=0.5, classifier__coef0=0.0, classifier__gamma=scale, classifier__kernel=sigmoid;, score=0.571 total time=   0.1s\n",
      "[CV 5/5] END classifier=SVC(), classifier__C=0.5, classifier__coef0=0.0, classifier__gamma=scale, classifier__kernel=sigmoid;, score=0.626 total time=   0.1s\n",
      "[CV 4/5] END classifier=SVC(), classifier__C=0.5, classifier__coef0=-1.0, classifier__gamma=auto, classifier__kernel=linear;, score=0.967 total time=   2.8s\n",
      "[CV 5/5] END classifier=SVC(), classifier__C=0.5, classifier__coef0=-1.0, classifier__gamma=auto, classifier__kernel=linear;, score=0.967 total time=   2.5s\n",
      "[CV 1/5] END classifier=SVC(), classifier__C=0.5, classifier__coef0=0.0, classifier__gamma=auto, classifier__kernel=rbf;, score=0.648 total time=   0.1s\n",
      "[CV 2/5] END classifier=SVC(), classifier__C=0.5, classifier__coef0=0.0, classifier__gamma=auto, classifier__kernel=rbf;, score=0.626 total time=   0.1s\n",
      "[CV 4/5] END classifier=SVC(), classifier__C=0.5, classifier__coef0=0.0, classifier__gamma=scale, classifier__kernel=linear;, score=0.967 total time=   1.7s\n",
      "[CV 2/5] END classifier=SVC(), classifier__C=0.5, classifier__coef0=0.0, classifier__gamma=auto, classifier__kernel=linear;, score=0.978 total time=   0.5s\n",
      "[CV 4/5] END classifier=SVC(), classifier__C=0.5, classifier__coef0=0.0, classifier__gamma=auto, classifier__kernel=rbf;, score=0.626 total time=   0.0s\n",
      "[CV 3/5] END classifier=SVC(), classifier__C=0.5, classifier__coef0=0.0, classifier__gamma=auto, classifier__kernel=rbf;, score=0.582 total time=   0.1s\n",
      "[CV 1/5] END classifier=SVC(), classifier__C=0.5, classifier__coef0=0.0, classifier__gamma=auto, classifier__kernel=sigmoid;, score=0.648 total time=   0.0s\n",
      "[CV 5/5] END classifier=SVC(), classifier__C=0.5, classifier__coef0=0.0, classifier__gamma=auto, classifier__kernel=rbf;, score=0.615 total time=   0.1s\n",
      "[CV 2/5] END classifier=SVC(), classifier__C=0.5, classifier__coef0=0.0, classifier__gamma=auto, classifier__kernel=sigmoid;, score=0.626 total time=   0.1s\n",
      "[CV 4/5] END classifier=SVC(), classifier__C=0.5, classifier__coef0=0.0, classifier__gamma=auto, classifier__kernel=sigmoid;, score=0.626 total time=   0.1s\n",
      "[CV 5/5] END classifier=SVC(), classifier__C=0.5, classifier__coef0=0.0, classifier__gamma=auto, classifier__kernel=sigmoid;, score=0.615 total time=   0.0s\n",
      "[CV 3/5] END classifier=SVC(), classifier__C=0.5, classifier__coef0=0.0, classifier__gamma=auto, classifier__kernel=sigmoid;, score=0.582 total time=   0.1s\n",
      "[CV 1/5] END classifier=SVC(), classifier__C=0.5, classifier__coef0=0.1, classifier__gamma=scale, classifier__kernel=linear;, score=0.912 total time=   0.6s\n",
      "[CV 3/5] END classifier=SVC(), classifier__C=0.5, classifier__coef0=0.1, classifier__gamma=scale, classifier__kernel=linear;, score=0.956 total time=   0.7s\n",
      "[CV 1/5] END classifier=SVC(), classifier__C=0.5, classifier__coef0=0.0, classifier__gamma=auto, classifier__kernel=linear;, score=0.912 total time=   1.5s\n",
      "[CV 1/5] END classifier=SVC(), classifier__C=0.5, classifier__coef0=0.1, classifier__gamma=scale, classifier__kernel=rbf;, score=0.857 total time=   0.0s\n",
      "[CV 2/5] END classifier=SVC(), classifier__C=0.5, classifier__coef0=0.1, classifier__gamma=scale, classifier__kernel=rbf;, score=0.901 total time=   0.0s\n",
      "[CV 3/5] END classifier=SVC(), classifier__C=0.5, classifier__coef0=0.1, classifier__gamma=scale, classifier__kernel=rbf;, score=0.879 total time=   0.0s\n",
      "[CV 2/5] END classifier=SVC(), classifier__C=0.5, classifier__coef0=0.1, classifier__gamma=scale, classifier__kernel=linear;, score=0.978 total time=   0.9s\n",
      "[CV 4/5] END classifier=SVC(), classifier__C=0.5, classifier__coef0=0.1, classifier__gamma=scale, classifier__kernel=rbf;, score=0.934 total time=   0.0s\n",
      "[CV 5/5] END classifier=SVC(), classifier__C=0.5, classifier__coef0=0.1, classifier__gamma=scale, classifier__kernel=rbf;, score=0.923 total time=   0.0s\n",
      "[CV 1/5] END classifier=SVC(), classifier__C=0.5, classifier__coef0=0.1, classifier__gamma=scale, classifier__kernel=sigmoid;, score=0.659 total time=   0.0s\n",
      "[CV 3/5] END classifier=SVC(), classifier__C=0.5, classifier__coef0=0.1, classifier__gamma=scale, classifier__kernel=sigmoid;, score=0.582 total time=   0.0s\n",
      "[CV 4/5] END classifier=SVC(), classifier__C=0.5, classifier__coef0=0.1, classifier__gamma=scale, classifier__kernel=sigmoid;, score=0.626 total time=   0.0s\n",
      "[CV 2/5] END classifier=SVC(), classifier__C=0.5, classifier__coef0=0.1, classifier__gamma=scale, classifier__kernel=sigmoid;, score=0.626 total time=   0.1s\n",
      "[CV 3/5] END classifier=SVC(), classifier__C=0.5, classifier__coef0=0.0, classifier__gamma=auto, classifier__kernel=linear;, score=0.956 total time=   1.9s\n",
      "[CV 5/5] END classifier=SVC(), classifier__C=0.5, classifier__coef0=0.1, classifier__gamma=scale, classifier__kernel=sigmoid;, score=0.615 total time=   0.1s\n",
      "[CV 4/5] END classifier=SVC(), classifier__C=0.5, classifier__coef0=0.1, classifier__gamma=scale, classifier__kernel=linear;, score=0.967 total time=   1.1s\n",
      "[CV 4/5] END classifier=SVC(), classifier__C=0.5, classifier__coef0=0.0, classifier__gamma=auto, classifier__kernel=linear;, score=0.967 total time=   2.6s\n",
      "[CV 3/5] END classifier=SVC(), classifier__C=0.5, classifier__coef0=0.1, classifier__gamma=auto, classifier__kernel=linear;, score=0.956 total time=   0.7s\n",
      "[CV 1/5] END classifier=SVC(), classifier__C=0.5, classifier__coef0=0.1, classifier__gamma=auto, classifier__kernel=rbf;, score=0.648 total time=   0.1s\n",
      "[CV 2/5] END classifier=SVC(), classifier__C=0.5, classifier__coef0=0.1, classifier__gamma=auto, classifier__kernel=rbf;, score=0.626 total time=   0.1s\n",
      "[CV 3/5] END classifier=SVC(), classifier__C=0.5, classifier__coef0=0.1, classifier__gamma=auto, classifier__kernel=rbf;, score=0.582 total time=   0.1s\n",
      "[CV 2/5] END classifier=SVC(), classifier__C=0.5, classifier__coef0=0.1, classifier__gamma=auto, classifier__kernel=linear;, score=0.978 total time=   1.3s\n",
      "[CV 5/5] END classifier=SVC(), classifier__C=0.5, classifier__coef0=0.0, classifier__gamma=scale, classifier__kernel=linear;, score=0.967 total time=   4.1s\n",
      "[CV 4/5] END classifier=SVC(), classifier__C=0.5, classifier__coef0=0.1, classifier__gamma=auto, classifier__kernel=rbf;, score=0.626 total time=   0.2s\n",
      "[CV 2/5] END classifier=SVC(), classifier__C=0.5, classifier__coef0=0.1, classifier__gamma=auto, classifier__kernel=sigmoid;, score=0.626 total time=   0.1s\n",
      "[CV 1/5] END classifier=SVC(), classifier__C=0.5, classifier__coef0=0.1, classifier__gamma=auto, classifier__kernel=sigmoid;, score=0.648 total time=   0.2s\n",
      "[CV 5/5] END classifier=SVC(), classifier__C=0.5, classifier__coef0=0.1, classifier__gamma=auto, classifier__kernel=rbf;, score=0.615 total time=   0.3s\n",
      "[CV 5/5] END classifier=SVC(), classifier__C=0.5, classifier__coef0=0.1, classifier__gamma=auto, classifier__kernel=sigmoid;, score=0.615 total time=   0.1s[CV 4/5] END classifier=SVC(), classifier__C=0.5, classifier__coef0=0.1, classifier__gamma=auto, classifier__kernel=sigmoid;, score=0.626 total time=   0.1s\n",
      "[CV 3/5] END classifier=SVC(), classifier__C=0.5, classifier__coef0=0.1, classifier__gamma=auto, classifier__kernel=sigmoid;, score=0.582 total time=   0.1s\n",
      "\n",
      "[CV 4/5] END classifier=SVC(), classifier__C=0.5, classifier__coef0=0.1, classifier__gamma=auto, classifier__kernel=linear;, score=0.967 total time=   1.3s\n",
      "[CV 1/5] END classifier=SVC(), classifier__C=0.5, classifier__coef0=0.1, classifier__gamma=auto, classifier__kernel=linear;, score=0.912 total time=   1.9s\n",
      "[CV 5/5] END classifier=SVC(), classifier__C=0.5, classifier__coef0=0.1, classifier__gamma=scale, classifier__kernel=linear;, score=0.967 total time=   2.8s\n",
      "[CV 1/5] END classifier=SVC(), classifier__C=0.5, classifier__coef0=0.5, classifier__gamma=scale, classifier__kernel=rbf;, score=0.857 total time=   0.0s\n",
      "[CV 2/5] END classifier=SVC(), classifier__C=0.5, classifier__coef0=0.5, classifier__gamma=scale, classifier__kernel=rbf;, score=0.901 total time=   0.0s\n",
      "[CV 3/5] END classifier=SVC(), classifier__C=0.5, classifier__coef0=0.5, classifier__gamma=scale, classifier__kernel=rbf;, score=0.879 total time=   0.0s\n",
      "[CV 4/5] END classifier=SVC(), classifier__C=0.5, classifier__coef0=0.5, classifier__gamma=scale, classifier__kernel=rbf;, score=0.934 total time=   0.0s\n",
      "[CV 5/5] END classifier=SVC(), classifier__C=0.5, classifier__coef0=0.5, classifier__gamma=scale, classifier__kernel=rbf;, score=0.923 total time=   0.0s\n",
      "[CV 1/5] END classifier=SVC(), classifier__C=0.5, classifier__coef0=0.5, classifier__gamma=scale, classifier__kernel=linear;, score=0.912 total time=   1.0s\n",
      "[CV 1/5] END classifier=SVC(), classifier__C=0.5, classifier__coef0=0.5, classifier__gamma=scale, classifier__kernel=sigmoid;, score=0.648 total time=   0.1s\n",
      "[CV 2/5] END classifier=SVC(), classifier__C=0.5, classifier__coef0=0.5, classifier__gamma=scale, classifier__kernel=sigmoid;, score=0.626 total time=   0.1s\n",
      "[CV 3/5] END classifier=SVC(), classifier__C=0.5, classifier__coef0=0.5, classifier__gamma=scale, classifier__kernel=sigmoid;, score=0.582 total time=   0.1s\n",
      "[CV 4/5] END classifier=SVC(), classifier__C=0.5, classifier__coef0=0.5, classifier__gamma=scale, classifier__kernel=sigmoid;, score=0.626 total time=   0.1s\n",
      "[CV 5/5] END classifier=SVC(), classifier__C=0.5, classifier__coef0=0.5, classifier__gamma=scale, classifier__kernel=sigmoid;, score=0.615 total time=   0.1s\n",
      "[CV 2/5] END classifier=SVC(), classifier__C=0.5, classifier__coef0=0.5, classifier__gamma=scale, classifier__kernel=linear;, score=0.978 total time=   1.4s\n",
      "[CV 3/5] END classifier=SVC(), classifier__C=0.5, classifier__coef0=0.5, classifier__gamma=scale, classifier__kernel=linear;, score=0.956 total time=   1.5s\n",
      "[CV 4/5] END classifier=SVC(), classifier__C=0.5, classifier__coef0=0.5, classifier__gamma=scale, classifier__kernel=linear;, score=0.967 total time=   1.4s\n",
      "[CV 1/5] END classifier=SVC(), classifier__C=0.5, classifier__coef0=0.5, classifier__gamma=auto, classifier__kernel=linear;, score=0.912 total time=   0.6s\n",
      "[CV 1/5] END classifier=SVC(), classifier__C=0.5, classifier__coef0=0.5, classifier__gamma=auto, classifier__kernel=rbf;, score=0.648 total time=   0.0s\n",
      "[CV 2/5] END classifier=SVC(), classifier__C=0.5, classifier__coef0=0.5, classifier__gamma=auto, classifier__kernel=rbf;, score=0.626 total time=   0.0s\n",
      "[CV 3/5] END classifier=SVC(), classifier__C=0.5, classifier__coef0=0.5, classifier__gamma=auto, classifier__kernel=rbf;, score=0.582 total time=   0.1s\n",
      "[CV 4/5] END classifier=SVC(), classifier__C=0.5, classifier__coef0=0.5, classifier__gamma=auto, classifier__kernel=rbf;, score=0.626 total time=   0.0s\n",
      "[CV 5/5] END classifier=SVC(), classifier__C=0.5, classifier__coef0=0.5, classifier__gamma=auto, classifier__kernel=rbf;, score=0.615 total time=   0.0s\n",
      "[CV 1/5] END classifier=SVC(), classifier__C=0.5, classifier__coef0=0.5, classifier__gamma=auto, classifier__kernel=sigmoid;, score=0.648 total time=   0.0s\n",
      "[CV 2/5] END classifier=SVC(), classifier__C=0.5, classifier__coef0=0.5, classifier__gamma=auto, classifier__kernel=sigmoid;, score=0.626 total time=   0.0s\n",
      "[CV 3/5] END classifier=SVC(), classifier__C=0.5, classifier__coef0=0.5, classifier__gamma=auto, classifier__kernel=sigmoid;, score=0.582 total time=   0.0s\n",
      "[CV 4/5] END classifier=SVC(), classifier__C=0.5, classifier__coef0=0.5, classifier__gamma=auto, classifier__kernel=sigmoid;, score=0.626 total time=   0.0s\n",
      "[CV 5/5] END classifier=SVC(), classifier__C=0.5, classifier__coef0=0.5, classifier__gamma=auto, classifier__kernel=sigmoid;, score=0.615 total time=   0.0s\n",
      "[CV 4/5] END classifier=SVC(), classifier__C=0.5, classifier__coef0=0.5, classifier__gamma=auto, classifier__kernel=linear;, score=0.967 total time=   1.0s\n",
      "[CV 5/5] END classifier=SVC(), classifier__C=0.5, classifier__coef0=0.0, classifier__gamma=auto, classifier__kernel=linear;, score=0.967 total time=   5.8s\n",
      "[CV 2/5] END classifier=SVC(), classifier__C=0.5, classifier__coef0=0.5, classifier__gamma=auto, classifier__kernel=linear;, score=0.978 total time=   1.4s\n",
      "[CV 5/5] END classifier=SVC(), classifier__C=0.5, classifier__coef0=0.1, classifier__gamma=auto, classifier__kernel=linear;, score=0.967 total time=   3.7s\n",
      "[CV 1/5] END classifier=SVC(), classifier__C=0.5, classifier__coef0=1, classifier__gamma=scale, classifier__kernel=linear;, score=0.912 total time=   0.6s\n",
      "[CV 1/5] END classifier=SVC(), classifier__C=0.5, classifier__coef0=1, classifier__gamma=scale, classifier__kernel=rbf;, score=0.857 total time=   0.0s\n",
      "[CV 2/5] END classifier=SVC(), classifier__C=0.5, classifier__coef0=1, classifier__gamma=scale, classifier__kernel=rbf;, score=0.901 total time=   0.0s\n",
      "[CV 3/5] END classifier=SVC(), classifier__C=0.5, classifier__coef0=1, classifier__gamma=scale, classifier__kernel=rbf;, score=0.879 total time=   0.0s\n",
      "[CV 4/5] END classifier=SVC(), classifier__C=0.5, classifier__coef0=1, classifier__gamma=scale, classifier__kernel=rbf;, score=0.934 total time=   0.0s\n",
      "[CV 5/5] END classifier=SVC(), classifier__C=0.5, classifier__coef0=1, classifier__gamma=scale, classifier__kernel=rbf;, score=0.923 total time=   0.0s\n",
      "[CV 1/5] END classifier=SVC(), classifier__C=0.5, classifier__coef0=1, classifier__gamma=scale, classifier__kernel=sigmoid;, score=0.648 total time=   0.0s\n",
      "[CV 2/5] END classifier=SVC(), classifier__C=0.5, classifier__coef0=1, classifier__gamma=scale, classifier__kernel=sigmoid;, score=0.626 total time=   0.0s\n",
      "[CV 3/5] END classifier=SVC(), classifier__C=0.5, classifier__coef0=1, classifier__gamma=scale, classifier__kernel=sigmoid;, score=0.582 total time=   0.0s\n",
      "[CV 5/5] END classifier=SVC(), classifier__C=0.5, classifier__coef0=0.5, classifier__gamma=auto, classifier__kernel=linear;, score=0.967 total time=   1.7s\n",
      "[CV 4/5] END classifier=SVC(), classifier__C=0.5, classifier__coef0=1, classifier__gamma=scale, classifier__kernel=sigmoid;, score=0.626 total time=   0.1s\n",
      "[CV 5/5] END classifier=SVC(), classifier__C=0.5, classifier__coef0=1, classifier__gamma=scale, classifier__kernel=sigmoid;, score=0.615 total time=   0.1s\n",
      "[CV 3/5] END classifier=SVC(), classifier__C=0.5, classifier__coef0=0.5, classifier__gamma=auto, classifier__kernel=linear;, score=0.956 total time=   2.0s\n",
      "[CV 2/5] END classifier=SVC(), classifier__C=0.5, classifier__coef0=1, classifier__gamma=scale, classifier__kernel=linear;, score=0.978 total time=   1.2s\n",
      "[CV 3/5] END classifier=SVC(), classifier__C=0.5, classifier__coef0=1, classifier__gamma=scale, classifier__kernel=linear;, score=0.956 total time=   1.2s\n",
      "[CV 4/5] END classifier=SVC(), classifier__C=0.5, classifier__coef0=1, classifier__gamma=scale, classifier__kernel=linear;, score=0.967 total time=   1.3s\n",
      "[CV 1/5] END classifier=SVC(), classifier__C=0.5, classifier__coef0=1, classifier__gamma=auto, classifier__kernel=rbf;, score=0.648 total time=   0.0s\n",
      "[CV 2/5] END classifier=SVC(), classifier__C=0.5, classifier__coef0=1, classifier__gamma=auto, classifier__kernel=rbf;, score=0.626 total time=   0.1s\n",
      "[CV 3/5] END classifier=SVC(), classifier__C=0.5, classifier__coef0=1, classifier__gamma=auto, classifier__kernel=rbf;, score=0.582 total time=   0.1s\n",
      "[CV 1/5] END classifier=SVC(), classifier__C=0.5, classifier__coef0=1, classifier__gamma=auto, classifier__kernel=linear;, score=0.912 total time=   0.9s\n",
      "[CV 2/5] END classifier=SVC(), classifier__C=0.5, classifier__coef0=1, classifier__gamma=auto, classifier__kernel=linear;, score=0.978 total time=   0.9s\n",
      "[CV 1/5] END classifier=SVC(), classifier__C=0.5, classifier__coef0=1, classifier__gamma=auto, classifier__kernel=sigmoid;, score=0.648 total time=   0.0s\n",
      "[CV 3/5] END classifier=SVC(), classifier__C=0.5, classifier__coef0=1, classifier__gamma=auto, classifier__kernel=linear;, score=0.956 total time=   0.9s\n",
      "[CV 3/5] END classifier=SVC(), classifier__C=0.5, classifier__coef0=1, classifier__gamma=auto, classifier__kernel=sigmoid;, score=0.582 total time=   0.0s\n",
      "[CV 2/5] END classifier=SVC(), classifier__C=0.5, classifier__coef0=1, classifier__gamma=auto, classifier__kernel=sigmoid;, score=0.626 total time=   0.0s\n",
      "[CV 5/5] END classifier=SVC(), classifier__C=0.5, classifier__coef0=0.5, classifier__gamma=scale, classifier__kernel=linear;, score=0.967 total time=   4.1s[CV 4/5] END classifier=SVC(), classifier__C=0.5, classifier__coef0=1, classifier__gamma=auto, classifier__kernel=rbf;, score=0.626 total time=   0.2s\n",
      "\n",
      "[CV 5/5] END classifier=SVC(), classifier__C=0.5, classifier__coef0=1, classifier__gamma=auto, classifier__kernel=rbf;, score=0.615 total time=   0.2s\n",
      "[CV 4/5] END classifier=SVC(), classifier__C=0.5, classifier__coef0=1, classifier__gamma=auto, classifier__kernel=sigmoid;, score=0.626 total time=   0.0s\n",
      "[CV 5/5] END classifier=SVC(), classifier__C=0.5, classifier__coef0=1, classifier__gamma=auto, classifier__kernel=sigmoid;, score=0.615 total time=   0.1s\n",
      "[CV 2/5] END classifier=SVC(), classifier__C=0.5, classifier__coef0=10, classifier__gamma=scale, classifier__kernel=linear;, score=0.978 total time=   0.9s\n",
      "[CV 1/5] END classifier=SVC(), classifier__C=0.5, classifier__coef0=10, classifier__gamma=scale, classifier__kernel=rbf;, score=0.857 total time=   0.0s\n",
      "[CV 2/5] END classifier=SVC(), classifier__C=0.5, classifier__coef0=10, classifier__gamma=scale, classifier__kernel=rbf;, score=0.901 total time=   0.0s\n",
      "[CV 3/5] END classifier=SVC(), classifier__C=0.5, classifier__coef0=10, classifier__gamma=scale, classifier__kernel=rbf;, score=0.879 total time=   0.0s\n",
      "[CV 4/5] END classifier=SVC(), classifier__C=0.5, classifier__coef0=10, classifier__gamma=scale, classifier__kernel=rbf;, score=0.934 total time=   0.1s\n",
      "[CV 4/5] END classifier=SVC(), classifier__C=0.5, classifier__coef0=1, classifier__gamma=auto, classifier__kernel=linear;, score=0.967 total time=   1.9s\n",
      "[CV 5/5] END classifier=SVC(), classifier__C=0.5, classifier__coef0=10, classifier__gamma=scale, classifier__kernel=rbf;, score=0.923 total time=   0.1s[CV 1/5] END classifier=SVC(), classifier__C=0.5, classifier__coef0=10, classifier__gamma=scale, classifier__kernel=sigmoid;, score=0.648 total time=   0.0s\n",
      "\n",
      "[CV 1/5] END classifier=SVC(), classifier__C=0.5, classifier__coef0=10, classifier__gamma=scale, classifier__kernel=linear;, score=0.912 total time=   1.3s\n",
      "[CV 2/5] END classifier=SVC(), classifier__C=0.5, classifier__coef0=10, classifier__gamma=scale, classifier__kernel=sigmoid;, score=0.626 total time=   0.0s\n",
      "[CV 5/5] END classifier=SVC(), classifier__C=0.5, classifier__coef0=10, classifier__gamma=scale, classifier__kernel=sigmoid;, score=0.615 total time=   0.0s\n",
      "[CV 4/5] END classifier=SVC(), classifier__C=0.5, classifier__coef0=10, classifier__gamma=scale, classifier__kernel=sigmoid;, score=0.626 total time=   0.1s\n",
      "[CV 3/5] END classifier=SVC(), classifier__C=0.5, classifier__coef0=10, classifier__gamma=scale, classifier__kernel=sigmoid;, score=0.582 total time=   0.1s\n",
      "[CV 4/5] END classifier=SVC(), classifier__C=0.5, classifier__coef0=10, classifier__gamma=scale, classifier__kernel=linear;, score=0.967 total time=   1.6s\n",
      "[CV 5/5] END classifier=SVC(), classifier__C=0.5, classifier__coef0=1, classifier__gamma=auto, classifier__kernel=linear;, score=0.967 total time=   2.6s\n",
      "[CV 1/5] END classifier=SVC(), classifier__C=0.5, classifier__coef0=10, classifier__gamma=auto, classifier__kernel=linear;, score=0.912 total time=   0.6s\n",
      "[CV 3/5] END classifier=SVC(), classifier__C=0.5, classifier__coef0=10, classifier__gamma=scale, classifier__kernel=linear;, score=0.956 total time=   2.0s\n",
      "[CV 1/5] END classifier=SVC(), classifier__C=0.5, classifier__coef0=10, classifier__gamma=auto, classifier__kernel=rbf;, score=0.648 total time=   0.1s\n",
      "[CV 2/5] END classifier=SVC(), classifier__C=0.5, classifier__coef0=10, classifier__gamma=auto, classifier__kernel=rbf;, score=0.626 total time=   0.2s\n",
      "[CV 3/5] END classifier=SVC(), classifier__C=0.5, classifier__coef0=10, classifier__gamma=auto, classifier__kernel=rbf;, score=0.582 total time=   0.2s\n",
      "[CV 4/5] END classifier=SVC(), classifier__C=0.5, classifier__coef0=10, classifier__gamma=auto, classifier__kernel=rbf;, score=0.626 total time=   0.1s\n",
      "[CV 2/5] END classifier=SVC(), classifier__C=0.5, classifier__coef0=10, classifier__gamma=auto, classifier__kernel=linear;, score=0.978 total time=   0.9s\n",
      "[CV 5/5] END classifier=SVC(), classifier__C=0.5, classifier__coef0=10, classifier__gamma=auto, classifier__kernel=rbf;, score=0.615 total time=   0.1s\n",
      "[CV 1/5] END classifier=SVC(), classifier__C=0.5, classifier__coef0=10, classifier__gamma=auto, classifier__kernel=sigmoid;, score=0.648 total time=   0.1s\n",
      "[CV 2/5] END classifier=SVC(), classifier__C=0.5, classifier__coef0=10, classifier__gamma=auto, classifier__kernel=sigmoid;, score=0.626 total time=   0.1s\n",
      "[CV 4/5] END classifier=SVC(), classifier__C=0.5, classifier__coef0=10, classifier__gamma=auto, classifier__kernel=sigmoid;, score=0.626 total time=   0.0s[CV 3/5] END classifier=SVC(), classifier__C=0.5, classifier__coef0=10, classifier__gamma=auto, classifier__kernel=sigmoid;, score=0.582 total time=   0.1s\n",
      "\n",
      "[CV 5/5] END classifier=SVC(), classifier__C=0.5, classifier__coef0=1, classifier__gamma=scale, classifier__kernel=linear;, score=0.967 total time=   4.3s\n",
      "[CV 5/5] END classifier=SVC(), classifier__C=0.5, classifier__coef0=10, classifier__gamma=auto, classifier__kernel=sigmoid;, score=0.615 total time=   0.1s\n",
      "[CV 2/5] END classifier=SVC(), classifier__C=0.5, classifier__coef0=100, classifier__gamma=scale, classifier__kernel=linear;, score=0.978 total time=   0.5s\n",
      "[CV 1/5] END classifier=SVC(), classifier__C=0.5, classifier__coef0=100, classifier__gamma=scale, classifier__kernel=linear;, score=0.912 total time=   0.8s[CV 3/5] END classifier=SVC(), classifier__C=0.5, classifier__coef0=10, classifier__gamma=auto, classifier__kernel=linear;, score=0.956 total time=   1.9s\n",
      "\n",
      "[CV 1/5] END classifier=SVC(), classifier__C=0.5, classifier__coef0=100, classifier__gamma=scale, classifier__kernel=rbf;, score=0.857 total time=   0.1s\n",
      "[CV 4/5] END classifier=SVC(), classifier__C=0.5, classifier__coef0=10, classifier__gamma=auto, classifier__kernel=linear;, score=0.967 total time=   1.8s\n",
      "[CV 2/5] END classifier=SVC(), classifier__C=0.5, classifier__coef0=100, classifier__gamma=scale, classifier__kernel=rbf;, score=0.901 total time=   0.1s\n",
      "[CV 4/5] END classifier=SVC(), classifier__C=0.5, classifier__coef0=100, classifier__gamma=scale, classifier__kernel=rbf;, score=0.934 total time=   0.0s[CV 5/5] END classifier=SVC(), classifier__C=0.5, classifier__coef0=100, classifier__gamma=scale, classifier__kernel=rbf;, score=0.923 total time=   0.0s\n",
      "\n",
      "[CV 3/5] END classifier=SVC(), classifier__C=0.5, classifier__coef0=100, classifier__gamma=scale, classifier__kernel=rbf;, score=0.879 total time=   0.1s\n",
      "[CV 2/5] END classifier=SVC(), classifier__C=0.5, classifier__coef0=100, classifier__gamma=scale, classifier__kernel=sigmoid;, score=0.626 total time=   0.1s\n",
      "[CV 3/5] END classifier=SVC(), classifier__C=0.5, classifier__coef0=100, classifier__gamma=scale, classifier__kernel=sigmoid;, score=0.582 total time=   0.1s\n",
      "[CV 1/5] END classifier=SVC(), classifier__C=0.5, classifier__coef0=100, classifier__gamma=scale, classifier__kernel=sigmoid;, score=0.648 total time=   0.1s\n",
      "[CV 5/5] END classifier=SVC(), classifier__C=0.5, classifier__coef0=100, classifier__gamma=scale, classifier__kernel=sigmoid;, score=0.615 total time=   0.0s\n",
      "[CV 4/5] END classifier=SVC(), classifier__C=0.5, classifier__coef0=100, classifier__gamma=scale, classifier__kernel=sigmoid;, score=0.626 total time=   0.1s\n",
      "[CV 5/5] END classifier=SVC(), classifier__C=0.5, classifier__coef0=10, classifier__gamma=scale, classifier__kernel=linear;, score=0.967 total time=   3.9s\n",
      "[CV 3/5] END classifier=SVC(), classifier__C=0.5, classifier__coef0=100, classifier__gamma=scale, classifier__kernel=linear;, score=0.956 total time=   1.8s\n",
      "[CV 2/5] END classifier=SVC(), classifier__C=0.5, classifier__coef0=100, classifier__gamma=auto, classifier__kernel=linear;, score=0.978 total time=   0.9s\n",
      "[CV 1/5] END classifier=SVC(), classifier__C=0.5, classifier__coef0=100, classifier__gamma=auto, classifier__kernel=rbf;, score=0.648 total time=   0.2s\n",
      "[CV 5/5] END classifier=SVC(), classifier__C=0.5, classifier__coef0=100, classifier__gamma=scale, classifier__kernel=linear;, score=0.967 total time=   1.7s\n",
      "[CV 3/5] END classifier=SVC(), classifier__C=0.5, classifier__coef0=100, classifier__gamma=auto, classifier__kernel=rbf;, score=0.582 total time=   0.0s\n",
      "[CV 4/5] END classifier=SVC(), classifier__C=0.5, classifier__coef0=100, classifier__gamma=auto, classifier__kernel=rbf;, score=0.626 total time=   0.1s\n",
      "[CV 2/5] END classifier=SVC(), classifier__C=0.5, classifier__coef0=100, classifier__gamma=auto, classifier__kernel=rbf;, score=0.626 total time=   0.2s\n",
      "[CV 5/5] END classifier=SVC(), classifier__C=0.5, classifier__coef0=100, classifier__gamma=auto, classifier__kernel=rbf;, score=0.615 total time=   0.1s\n",
      "[CV 4/5] END classifier=SVC(), classifier__C=0.5, classifier__coef0=100, classifier__gamma=auto, classifier__kernel=linear;, score=0.967 total time=   1.2s\n",
      "[CV 1/5] END classifier=SVC(), classifier__C=0.5, classifier__coef0=100, classifier__gamma=auto, classifier__kernel=sigmoid;, score=0.648 total time=   0.1s[CV 3/5] END classifier=SVC(), classifier__C=0.5, classifier__coef0=100, classifier__gamma=auto, classifier__kernel=sigmoid;, score=0.582 total time=   0.0s\n",
      "\n",
      "[CV 2/5] END classifier=SVC(), classifier__C=0.5, classifier__coef0=100, classifier__gamma=auto, classifier__kernel=sigmoid;, score=0.626 total time=   0.1s\n",
      "[CV 4/5] END classifier=SVC(), classifier__C=0.5, classifier__coef0=100, classifier__gamma=auto, classifier__kernel=sigmoid;, score=0.626 total time=   0.0s\n",
      "[CV 5/5] END classifier=SVC(), classifier__C=0.5, classifier__coef0=100, classifier__gamma=auto, classifier__kernel=sigmoid;, score=0.615 total time=   0.1s\n",
      "[CV 4/5] END classifier=SVC(), classifier__C=0.5, classifier__coef0=100, classifier__gamma=scale, classifier__kernel=linear;, score=0.967 total time=   2.7s\n",
      "[CV 1/5] END classifier=SVC(), classifier__C=0.5, classifier__coef0=100, classifier__gamma=auto, classifier__kernel=linear;, score=0.912 total time=   1.9s\n",
      "[CV 5/5] END classifier=SVC(), classifier__C=0.5, classifier__coef0=10, classifier__gamma=auto, classifier__kernel=linear;, score=0.967 total time=   3.7s\n",
      "[CV 1/5] END classifier=SVC(), classifier__C=0.6, classifier__coef0=-10.0, classifier__gamma=scale, classifier__kernel=rbf;, score=0.857 total time=   0.0s\n",
      "[CV 3/5] END classifier=SVC(), classifier__C=0.5, classifier__coef0=100, classifier__gamma=auto, classifier__kernel=linear;, score=0.956 total time=   2.0s\n",
      "[CV 2/5] END classifier=SVC(), classifier__C=0.6, classifier__coef0=-10.0, classifier__gamma=scale, classifier__kernel=rbf;, score=0.912 total time=   0.1s\n",
      "[CV 3/5] END classifier=SVC(), classifier__C=0.6, classifier__coef0=-10.0, classifier__gamma=scale, classifier__kernel=rbf;, score=0.879 total time=   0.0s\n",
      "[CV 5/5] END classifier=SVC(), classifier__C=0.6, classifier__coef0=-10.0, classifier__gamma=scale, classifier__kernel=rbf;, score=0.923 total time=   0.0s\n",
      "[CV 4/5] END classifier=SVC(), classifier__C=0.6, classifier__coef0=-10.0, classifier__gamma=scale, classifier__kernel=rbf;, score=0.934 total time=   0.1s\n",
      "[CV 1/5] END classifier=SVC(), classifier__C=0.6, classifier__coef0=-10.0, classifier__gamma=scale, classifier__kernel=sigmoid;, score=0.648 total time=   0.1s\n",
      "[CV 3/5] END classifier=SVC(), classifier__C=0.6, classifier__coef0=-10.0, classifier__gamma=scale, classifier__kernel=linear;, score=0.956 total time=   0.8s\n",
      "[CV 2/5] END classifier=SVC(), classifier__C=0.6, classifier__coef0=-10.0, classifier__gamma=scale, classifier__kernel=linear;, score=0.989 total time=   0.9s[CV 2/5] END classifier=SVC(), classifier__C=0.6, classifier__coef0=-10.0, classifier__gamma=scale, classifier__kernel=sigmoid;, score=0.626 total time=   0.1s[CV 4/5] END classifier=SVC(), classifier__C=0.6, classifier__coef0=-10.0, classifier__gamma=scale, classifier__kernel=sigmoid;, score=0.626 total time=   0.0s\n",
      "\n",
      "\n",
      "[CV 3/5] END classifier=SVC(), classifier__C=0.6, classifier__coef0=-10.0, classifier__gamma=scale, classifier__kernel=sigmoid;, score=0.582 total time=   0.1s\n",
      "[CV 5/5] END classifier=SVC(), classifier__C=0.6, classifier__coef0=-10.0, classifier__gamma=scale, classifier__kernel=sigmoid;, score=0.615 total time=   0.1s\n",
      "[CV 4/5] END classifier=SVC(), classifier__C=0.6, classifier__coef0=-10.0, classifier__gamma=auto, classifier__kernel=linear;, score=0.967 total time=   0.9s\n",
      "[CV 1/5] END classifier=SVC(), classifier__C=0.6, classifier__coef0=-10.0, classifier__gamma=auto, classifier__kernel=linear;, score=0.912 total time=   1.4s\n",
      "[CV 1/5] END classifier=SVC(), classifier__C=0.6, classifier__coef0=-10.0, classifier__gamma=scale, classifier__kernel=linear;, score=0.912 total time=   2.3s\n",
      "[CV 3/5] END classifier=SVC(), classifier__C=0.6, classifier__coef0=-10.0, classifier__gamma=auto, classifier__kernel=linear;, score=0.956 total time=   1.4s\n",
      "[CV 2/5] END classifier=SVC(), classifier__C=0.6, classifier__coef0=-10.0, classifier__gamma=auto, classifier__kernel=rbf;, score=0.626 total time=   0.1s\n",
      "[CV 3/5] END classifier=SVC(), classifier__C=0.6, classifier__coef0=-10.0, classifier__gamma=auto, classifier__kernel=rbf;, score=0.582 total time=   0.0s\n",
      "[CV 5/5] END classifier=SVC(), classifier__C=0.6, classifier__coef0=-10.0, classifier__gamma=auto, classifier__kernel=rbf;, score=0.615 total time=   0.0s\n",
      "[CV 1/5] END classifier=SVC(), classifier__C=0.6, classifier__coef0=-10.0, classifier__gamma=auto, classifier__kernel=sigmoid;, score=0.648 total time=   0.0s\n",
      "[CV 4/5] END classifier=SVC(), classifier__C=0.6, classifier__coef0=-10.0, classifier__gamma=auto, classifier__kernel=rbf;, score=0.626 total time=   0.1s\n",
      "[CV 1/5] END classifier=SVC(), classifier__C=0.6, classifier__coef0=-10.0, classifier__gamma=auto, classifier__kernel=rbf;, score=0.648 total time=   0.2s[CV 5/5] END classifier=SVC(), classifier__C=0.5, classifier__coef0=100, classifier__gamma=auto, classifier__kernel=linear;, score=0.967 total time=   3.3s\n",
      "\n",
      "[CV 2/5] END classifier=SVC(), classifier__C=0.6, classifier__coef0=-10.0, classifier__gamma=auto, classifier__kernel=sigmoid;, score=0.626 total time=   0.0s\n",
      "[CV 3/5] END classifier=SVC(), classifier__C=0.6, classifier__coef0=-10.0, classifier__gamma=auto, classifier__kernel=sigmoid;, score=0.582 total time=   0.0s\n",
      "[CV 5/5] END classifier=SVC(), classifier__C=0.6, classifier__coef0=-10.0, classifier__gamma=auto, classifier__kernel=sigmoid;, score=0.615 total time=   0.0s\n",
      "[CV 4/5] END classifier=SVC(), classifier__C=0.6, classifier__coef0=-10.0, classifier__gamma=auto, classifier__kernel=sigmoid;, score=0.626 total time=   0.1s\n",
      "[CV 4/5] END classifier=SVC(), classifier__C=0.6, classifier__coef0=-10.0, classifier__gamma=scale, classifier__kernel=linear;, score=0.967 total time=   2.5s\n",
      "[CV 2/5] END classifier=SVC(), classifier__C=0.6, classifier__coef0=-10.0, classifier__gamma=auto, classifier__kernel=linear;, score=0.989 total time=   2.1s\n",
      "[CV 1/5] END classifier=SVC(), classifier__C=0.6, classifier__coef0=-1.0, classifier__gamma=scale, classifier__kernel=rbf;, score=0.857 total time=   0.0s\n",
      "[CV 2/5] END classifier=SVC(), classifier__C=0.6, classifier__coef0=-1.0, classifier__gamma=scale, classifier__kernel=rbf;, score=0.912 total time=   0.0s\n",
      "[CV 3/5] END classifier=SVC(), classifier__C=0.6, classifier__coef0=-1.0, classifier__gamma=scale, classifier__kernel=rbf;, score=0.879 total time=   0.1s\n",
      "[CV 4/5] END classifier=SVC(), classifier__C=0.6, classifier__coef0=-1.0, classifier__gamma=scale, classifier__kernel=rbf;, score=0.934 total time=   0.0s\n",
      "[CV 5/5] END classifier=SVC(), classifier__C=0.6, classifier__coef0=-1.0, classifier__gamma=scale, classifier__kernel=rbf;, score=0.923 total time=   0.0s\n",
      "[CV 1/5] END classifier=SVC(), classifier__C=0.6, classifier__coef0=-1.0, classifier__gamma=scale, classifier__kernel=sigmoid;, score=0.703 total time=   0.0s\n",
      "[CV 2/5] END classifier=SVC(), classifier__C=0.6, classifier__coef0=-1.0, classifier__gamma=scale, classifier__kernel=sigmoid;, score=0.593 total time=   0.0s\n",
      "[CV 1/5] END classifier=SVC(), classifier__C=0.6, classifier__coef0=-1.0, classifier__gamma=scale, classifier__kernel=linear;, score=0.912 total time=   0.9s\n",
      "[CV 3/5] END classifier=SVC(), classifier__C=0.6, classifier__coef0=-1.0, classifier__gamma=scale, classifier__kernel=sigmoid;, score=0.714 total time=   0.0s\n",
      "[CV 4/5] END classifier=SVC(), classifier__C=0.6, classifier__coef0=-1.0, classifier__gamma=scale, classifier__kernel=sigmoid;, score=0.703 total time=   0.0s\n",
      "[CV 5/5] END classifier=SVC(), classifier__C=0.6, classifier__coef0=-1.0, classifier__gamma=scale, classifier__kernel=sigmoid;, score=0.747 total time=   0.1s\n",
      "[CV 4/5] END classifier=SVC(), classifier__C=0.6, classifier__coef0=-1.0, classifier__gamma=scale, classifier__kernel=linear;, score=0.967 total time=   1.4s\n",
      "[CV 3/5] END classifier=SVC(), classifier__C=0.6, classifier__coef0=-1.0, classifier__gamma=scale, classifier__kernel=linear;, score=0.956 total time=   1.6s\n",
      "[CV 2/5] END classifier=SVC(), classifier__C=0.6, classifier__coef0=-1.0, classifier__gamma=scale, classifier__kernel=linear;, score=0.989 total time=   2.1s\n",
      "[CV 1/5] END classifier=SVC(), classifier__C=0.6, classifier__coef0=-1.0, classifier__gamma=auto, classifier__kernel=linear;, score=0.912 total time=   1.3s\n",
      "[CV 5/5] END classifier=SVC(), classifier__C=0.6, classifier__coef0=-10.0, classifier__gamma=scale, classifier__kernel=linear;, score=0.967 total time=   4.4s\n",
      "[CV 1/5] END classifier=SVC(), classifier__C=0.6, classifier__coef0=-1.0, classifier__gamma=auto, classifier__kernel=rbf;, score=0.648 total time=   0.1s\n",
      "[CV 3/5] END classifier=SVC(), classifier__C=0.6, classifier__coef0=-1.0, classifier__gamma=auto, classifier__kernel=rbf;, score=0.582 total time=   0.0s\n",
      "[CV 4/5] END classifier=SVC(), classifier__C=0.6, classifier__coef0=-1.0, classifier__gamma=auto, classifier__kernel=rbf;, score=0.626 total time=   0.0s\n",
      "[CV 5/5] END classifier=SVC(), classifier__C=0.6, classifier__coef0=-1.0, classifier__gamma=auto, classifier__kernel=rbf;, score=0.615 total time=   0.0s[CV 2/5] END classifier=SVC(), classifier__C=0.6, classifier__coef0=-1.0, classifier__gamma=auto, classifier__kernel=rbf;, score=0.626 total time=   0.2s\n",
      "[CV 1/5] END classifier=SVC(), classifier__C=0.6, classifier__coef0=-1.0, classifier__gamma=auto, classifier__kernel=sigmoid;, score=0.648 total time=   0.0s\n",
      "\n",
      "[CV 2/5] END classifier=SVC(), classifier__C=0.6, classifier__coef0=-1.0, classifier__gamma=auto, classifier__kernel=sigmoid;, score=0.626 total time=   0.0s\n",
      "[CV 4/5] END classifier=SVC(), classifier__C=0.6, classifier__coef0=-1.0, classifier__gamma=auto, classifier__kernel=sigmoid;, score=0.626 total time=   0.0s\n",
      "[CV 5/5] END classifier=SVC(), classifier__C=0.6, classifier__coef0=-1.0, classifier__gamma=auto, classifier__kernel=sigmoid;, score=0.615 total time=   0.0s\n",
      "[CV 3/5] END classifier=SVC(), classifier__C=0.6, classifier__coef0=-1.0, classifier__gamma=auto, classifier__kernel=sigmoid;, score=0.582 total time=   0.2s\n",
      "[CV 5/5] END classifier=SVC(), classifier__C=0.6, classifier__coef0=-1.0, classifier__gamma=scale, classifier__kernel=linear;, score=0.967 total time=   2.6s\n",
      "[CV 5/5] END classifier=SVC(), classifier__C=0.6, classifier__coef0=-10.0, classifier__gamma=auto, classifier__kernel=linear;, score=0.967 total time=   3.5s\n",
      "[CV 1/5] END classifier=SVC(), classifier__C=0.6, classifier__coef0=0.0, classifier__gamma=scale, classifier__kernel=linear;, score=0.912 total time=   0.8s\n",
      "[CV 3/5] END classifier=SVC(), classifier__C=0.6, classifier__coef0=-1.0, classifier__gamma=auto, classifier__kernel=linear;, score=0.956 total time=   2.0s\n",
      "[CV 1/5] END classifier=SVC(), classifier__C=0.6, classifier__coef0=0.0, classifier__gamma=scale, classifier__kernel=rbf;, score=0.857 total time=   0.0s\n",
      "[CV 2/5] END classifier=SVC(), classifier__C=0.6, classifier__coef0=0.0, classifier__gamma=scale, classifier__kernel=rbf;, score=0.912 total time=   0.0s\n",
      "[CV 3/5] END classifier=SVC(), classifier__C=0.6, classifier__coef0=0.0, classifier__gamma=scale, classifier__kernel=rbf;, score=0.879 total time=   0.1s\n",
      "[CV 2/5] END classifier=SVC(), classifier__C=0.6, classifier__coef0=0.0, classifier__gamma=scale, classifier__kernel=linear;, score=0.989 total time=   1.0s\n",
      "[CV 4/5] END classifier=SVC(), classifier__C=0.6, classifier__coef0=-1.0, classifier__gamma=auto, classifier__kernel=linear;, score=0.967 total time=   2.1s\n",
      "[CV 4/5] END classifier=SVC(), classifier__C=0.6, classifier__coef0=0.0, classifier__gamma=scale, classifier__kernel=rbf;, score=0.934 total time=   0.0s\n",
      "[CV 5/5] END classifier=SVC(), classifier__C=0.6, classifier__coef0=0.0, classifier__gamma=scale, classifier__kernel=rbf;, score=0.923 total time=   0.0s\n",
      "[CV 3/5] END classifier=SVC(), classifier__C=0.6, classifier__coef0=0.0, classifier__gamma=scale, classifier__kernel=sigmoid;, score=0.582 total time=   0.0s\n",
      "[CV 4/5] END classifier=SVC(), classifier__C=0.6, classifier__coef0=0.0, classifier__gamma=scale, classifier__kernel=sigmoid;, score=0.505 total time=   0.0s\n",
      "[CV 2/5] END classifier=SVC(), classifier__C=0.6, classifier__coef0=0.0, classifier__gamma=scale, classifier__kernel=sigmoid;, score=0.648 total time=   0.1s\n",
      "[CV 5/5] END classifier=SVC(), classifier__C=0.6, classifier__coef0=0.0, classifier__gamma=scale, classifier__kernel=sigmoid;, score=0.571 total time=   0.0s\n",
      "[CV 1/5] END classifier=SVC(), classifier__C=0.6, classifier__coef0=0.0, classifier__gamma=scale, classifier__kernel=sigmoid;, score=0.473 total time=   0.2s\n",
      "[CV 4/5] END classifier=SVC(), classifier__C=0.6, classifier__coef0=0.0, classifier__gamma=scale, classifier__kernel=linear;, score=0.967 total time=   1.3s\n",
      "[CV 3/5] END classifier=SVC(), classifier__C=0.6, classifier__coef0=0.0, classifier__gamma=scale, classifier__kernel=linear;, score=0.956 total time=   1.6s\n",
      "[CV 2/5] END classifier=SVC(), classifier__C=0.6, classifier__coef0=-1.0, classifier__gamma=auto, classifier__kernel=linear;, score=0.989 total time=   3.4s\n",
      "[CV 1/5] END classifier=SVC(), classifier__C=0.6, classifier__coef0=0.0, classifier__gamma=auto, classifier__kernel=rbf;, score=0.648 total time=   0.1s\n",
      "[CV 2/5] END classifier=SVC(), classifier__C=0.6, classifier__coef0=0.0, classifier__gamma=auto, classifier__kernel=rbf;, score=0.626 total time=   0.1s\n",
      "[CV 3/5] END classifier=SVC(), classifier__C=0.6, classifier__coef0=0.0, classifier__gamma=auto, classifier__kernel=rbf;, score=0.582 total time=   0.1s\n",
      "[CV 4/5] END classifier=SVC(), classifier__C=0.6, classifier__coef0=0.0, classifier__gamma=auto, classifier__kernel=rbf;, score=0.626 total time=   0.1s\n",
      "[CV 5/5] END classifier=SVC(), classifier__C=0.6, classifier__coef0=0.0, classifier__gamma=auto, classifier__kernel=rbf;, score=0.615 total time=   0.1s\n",
      "[CV 2/5] END classifier=SVC(), classifier__C=0.6, classifier__coef0=0.0, classifier__gamma=auto, classifier__kernel=linear;, score=0.989 total time=   1.2s\n",
      "[CV 2/5] END classifier=SVC(), classifier__C=0.6, classifier__coef0=0.0, classifier__gamma=auto, classifier__kernel=sigmoid;, score=0.626 total time=   0.0s\n",
      "[CV 3/5] END classifier=SVC(), classifier__C=0.6, classifier__coef0=0.0, classifier__gamma=auto, classifier__kernel=sigmoid;, score=0.582 total time=   0.0s\n",
      "[CV 1/5] END classifier=SVC(), classifier__C=0.6, classifier__coef0=0.0, classifier__gamma=auto, classifier__kernel=sigmoid;, score=0.648 total time=   0.1s\n",
      "[CV 4/5] END classifier=SVC(), classifier__C=0.6, classifier__coef0=0.0, classifier__gamma=auto, classifier__kernel=sigmoid;, score=0.626 total time=   0.1s\n",
      "[CV 5/5] END classifier=SVC(), classifier__C=0.6, classifier__coef0=0.0, classifier__gamma=auto, classifier__kernel=sigmoid;, score=0.615 total time=   0.1s\n",
      "[CV 5/5] END classifier=SVC(), classifier__C=0.6, classifier__coef0=-1.0, classifier__gamma=auto, classifier__kernel=linear;, score=0.967 total time=   3.4s\n",
      "[CV 4/5] END classifier=SVC(), classifier__C=0.6, classifier__coef0=0.0, classifier__gamma=auto, classifier__kernel=linear;, score=0.967 total time=   1.8s[CV 1/5] END classifier=SVC(), classifier__C=0.6, classifier__coef0=0.0, classifier__gamma=auto, classifier__kernel=linear;, score=0.912 total time=   2.2s\n",
      "\n",
      "[CV 1/5] END classifier=SVC(), classifier__C=0.6, classifier__coef0=0.1, classifier__gamma=scale, classifier__kernel=linear;, score=0.912 total time=   1.0s\n",
      "[CV 1/5] END classifier=SVC(), classifier__C=0.6, classifier__coef0=0.1, classifier__gamma=scale, classifier__kernel=rbf;, score=0.857 total time=   0.0s\n",
      "[CV 2/5] END classifier=SVC(), classifier__C=0.6, classifier__coef0=0.1, classifier__gamma=scale, classifier__kernel=rbf;, score=0.912 total time=   0.0s\n",
      "[CV 3/5] END classifier=SVC(), classifier__C=0.6, classifier__coef0=0.1, classifier__gamma=scale, classifier__kernel=rbf;, score=0.879 total time=   0.0s\n",
      "[CV 4/5] END classifier=SVC(), classifier__C=0.6, classifier__coef0=0.1, classifier__gamma=scale, classifier__kernel=rbf;, score=0.934 total time=   0.0s\n",
      "[CV 5/5] END classifier=SVC(), classifier__C=0.6, classifier__coef0=0.1, classifier__gamma=scale, classifier__kernel=rbf;, score=0.923 total time=   0.0s\n",
      "[CV 3/5] END classifier=SVC(), classifier__C=0.6, classifier__coef0=0.0, classifier__gamma=auto, classifier__kernel=linear;, score=0.956 total time=   2.7s[CV 1/5] END classifier=SVC(), classifier__C=0.6, classifier__coef0=0.1, classifier__gamma=scale, classifier__kernel=sigmoid;, score=0.571 total time=   0.1s\n",
      "\n",
      "[CV 5/5] END classifier=SVC(), classifier__C=0.6, classifier__coef0=0.0, classifier__gamma=auto, classifier__kernel=linear;, score=0.967 total time=   2.4s\n",
      "[CV 2/5] END classifier=SVC(), classifier__C=0.6, classifier__coef0=0.1, classifier__gamma=scale, classifier__kernel=sigmoid;, score=0.626 total time=   0.1s\n",
      "[CV 3/5] END classifier=SVC(), classifier__C=0.6, classifier__coef0=0.1, classifier__gamma=scale, classifier__kernel=sigmoid;, score=0.582 total time=   0.1s\n",
      "[CV 5/5] END classifier=SVC(), classifier__C=0.6, classifier__coef0=0.1, classifier__gamma=scale, classifier__kernel=sigmoid;, score=0.615 total time=   0.1s\n",
      "[CV 4/5] END classifier=SVC(), classifier__C=0.6, classifier__coef0=0.1, classifier__gamma=scale, classifier__kernel=sigmoid;, score=0.637 total time=   0.2s\n",
      "[CV 3/5] END classifier=SVC(), classifier__C=0.6, classifier__coef0=0.1, classifier__gamma=scale, classifier__kernel=linear;, score=0.956 total time=   1.7s\n",
      "[CV 5/5] END classifier=SVC(), classifier__C=0.6, classifier__coef0=0.0, classifier__gamma=scale, classifier__kernel=linear;, score=0.967 total time=   3.9s\n",
      "[CV 4/5] END classifier=SVC(), classifier__C=0.6, classifier__coef0=0.1, classifier__gamma=scale, classifier__kernel=linear;, score=0.967 total time=   1.6s\n",
      "[CV 1/5] END classifier=SVC(), classifier__C=0.6, classifier__coef0=0.1, classifier__gamma=auto, classifier__kernel=rbf;, score=0.648 total time=   0.1s\n",
      "[CV 2/5] END classifier=SVC(), classifier__C=0.6, classifier__coef0=0.1, classifier__gamma=scale, classifier__kernel=linear;, score=0.989 total time=   2.5s\n",
      "[CV 1/5] END classifier=SVC(), classifier__C=0.6, classifier__coef0=0.1, classifier__gamma=auto, classifier__kernel=linear;, score=0.912 total time=   1.2s\n",
      "[CV 2/5] END classifier=SVC(), classifier__C=0.6, classifier__coef0=0.1, classifier__gamma=auto, classifier__kernel=rbf;, score=0.626 total time=   0.2s\n",
      "[CV 3/5] END classifier=SVC(), classifier__C=0.6, classifier__coef0=0.1, classifier__gamma=auto, classifier__kernel=rbf;, score=0.582 total time=   0.2s\n",
      "[CV 4/5] END classifier=SVC(), classifier__C=0.6, classifier__coef0=0.1, classifier__gamma=auto, classifier__kernel=rbf;, score=0.626 total time=   0.0s\n",
      "[CV 2/5] END classifier=SVC(), classifier__C=0.6, classifier__coef0=0.1, classifier__gamma=auto, classifier__kernel=sigmoid;, score=0.626 total time=   0.0s[CV 5/5] END classifier=SVC(), classifier__C=0.6, classifier__coef0=0.1, classifier__gamma=auto, classifier__kernel=rbf;, score=0.615 total time=   0.1s\n",
      "\n",
      "[CV 1/5] END classifier=SVC(), classifier__C=0.6, classifier__coef0=0.1, classifier__gamma=auto, classifier__kernel=sigmoid;, score=0.648 total time=   0.0s\n",
      "[CV 3/5] END classifier=SVC(), classifier__C=0.6, classifier__coef0=0.1, classifier__gamma=auto, classifier__kernel=linear;, score=0.956 total time=   1.2s\n",
      "[CV 3/5] END classifier=SVC(), classifier__C=0.6, classifier__coef0=0.1, classifier__gamma=auto, classifier__kernel=sigmoid;, score=0.582 total time=   0.0s\n",
      "[CV 4/5] END classifier=SVC(), classifier__C=0.6, classifier__coef0=0.1, classifier__gamma=auto, classifier__kernel=sigmoid;, score=0.626 total time=   0.1s\n",
      "[CV 5/5] END classifier=SVC(), classifier__C=0.6, classifier__coef0=0.1, classifier__gamma=auto, classifier__kernel=sigmoid;, score=0.615 total time=   0.1s\n",
      "[CV 2/5] END classifier=SVC(), classifier__C=0.6, classifier__coef0=0.1, classifier__gamma=auto, classifier__kernel=linear;, score=0.989 total time=   1.8s\n",
      "[CV 3/5] END classifier=SVC(), classifier__C=0.6, classifier__coef0=0.5, classifier__gamma=scale, classifier__kernel=linear;, score=0.956 total time=   1.0s\n",
      "[CV 1/5] END classifier=SVC(), classifier__C=0.6, classifier__coef0=0.5, classifier__gamma=scale, classifier__kernel=rbf;, score=0.857 total time=   0.0s\n",
      "[CV 2/5] END classifier=SVC(), classifier__C=0.6, classifier__coef0=0.5, classifier__gamma=scale, classifier__kernel=rbf;, score=0.912 total time=   0.0s\n",
      "[CV 3/5] END classifier=SVC(), classifier__C=0.6, classifier__coef0=0.5, classifier__gamma=scale, classifier__kernel=rbf;, score=0.879 total time=   0.0s\n",
      "[CV 4/5] END classifier=SVC(), classifier__C=0.6, classifier__coef0=0.5, classifier__gamma=scale, classifier__kernel=rbf;, score=0.934 total time=   0.0s\n",
      "[CV 5/5] END classifier=SVC(), classifier__C=0.6, classifier__coef0=0.5, classifier__gamma=scale, classifier__kernel=rbf;, score=0.923 total time=   0.0s\n",
      "[CV 2/5] END classifier=SVC(), classifier__C=0.6, classifier__coef0=0.5, classifier__gamma=scale, classifier__kernel=linear;, score=0.989 total time=   1.3s\n",
      "[CV 2/5] END classifier=SVC(), classifier__C=0.6, classifier__coef0=0.5, classifier__gamma=scale, classifier__kernel=sigmoid;, score=0.626 total time=   0.1s\n",
      "[CV 1/5] END classifier=SVC(), classifier__C=0.6, classifier__coef0=0.5, classifier__gamma=scale, classifier__kernel=sigmoid;, score=0.648 total time=   0.2s\n",
      "[CV 3/5] END classifier=SVC(), classifier__C=0.6, classifier__coef0=0.5, classifier__gamma=scale, classifier__kernel=sigmoid;, score=0.582 total time=   0.1s\n",
      "[CV 4/5] END classifier=SVC(), classifier__C=0.6, classifier__coef0=0.5, classifier__gamma=scale, classifier__kernel=sigmoid;, score=0.626 total time=   0.1s\n",
      "[CV 5/5] END classifier=SVC(), classifier__C=0.6, classifier__coef0=0.5, classifier__gamma=scale, classifier__kernel=sigmoid;, score=0.615 total time=   0.1s\n",
      "[CV 5/5] END classifier=SVC(), classifier__C=0.6, classifier__coef0=0.1, classifier__gamma=scale, classifier__kernel=linear;, score=0.967 total time=   3.8s\n",
      "[CV 4/5] END classifier=SVC(), classifier__C=0.6, classifier__coef0=0.1, classifier__gamma=auto, classifier__kernel=linear;, score=0.967 total time=   2.7s\n",
      "[CV 4/5] END classifier=SVC(), classifier__C=0.6, classifier__coef0=0.5, classifier__gamma=scale, classifier__kernel=linear;, score=0.967 total time=   1.9s\n",
      "[CV 1/5] END classifier=SVC(), classifier__C=0.6, classifier__coef0=0.5, classifier__gamma=scale, classifier__kernel=linear;, score=0.912 total time=   2.6s\n",
      "[CV 1/5] END classifier=SVC(), classifier__C=0.6, classifier__coef0=0.5, classifier__gamma=auto, classifier__kernel=rbf;, score=0.648 total time=   0.1s\n",
      "[CV 2/5] END classifier=SVC(), classifier__C=0.6, classifier__coef0=0.5, classifier__gamma=auto, classifier__kernel=rbf;, score=0.626 total time=   0.2s\n",
      "[CV 3/5] END classifier=SVC(), classifier__C=0.6, classifier__coef0=0.5, classifier__gamma=auto, classifier__kernel=linear;, score=0.956 total time=   1.3s\n",
      "[CV 5/5] END classifier=SVC(), classifier__C=0.6, classifier__coef0=0.1, classifier__gamma=auto, classifier__kernel=linear;, score=0.967 total time=   3.9s\n",
      "[CV 3/5] END classifier=SVC(), classifier__C=0.6, classifier__coef0=0.5, classifier__gamma=auto, classifier__kernel=rbf;, score=0.582 total time=   0.1s\n",
      "[CV 5/5] END classifier=SVC(), classifier__C=0.6, classifier__coef0=0.5, classifier__gamma=auto, classifier__kernel=rbf;, score=0.615 total time=   0.0s\n",
      "[CV 2/5] END classifier=SVC(), classifier__C=0.6, classifier__coef0=0.5, classifier__gamma=auto, classifier__kernel=sigmoid;, score=0.626 total time=   0.0s\n",
      "[CV 4/5] END classifier=SVC(), classifier__C=0.6, classifier__coef0=0.5, classifier__gamma=auto, classifier__kernel=rbf;, score=0.626 total time=   0.2s[CV 2/5] END classifier=SVC(), classifier__C=0.6, classifier__coef0=0.5, classifier__gamma=auto, classifier__kernel=linear;, score=0.989 total time=   1.6s\n",
      "\n",
      "[CV 3/5] END classifier=SVC(), classifier__C=0.6, classifier__coef0=0.5, classifier__gamma=auto, classifier__kernel=sigmoid;, score=0.582 total time=   0.1s\n",
      "[CV 1/5] END classifier=SVC(), classifier__C=0.6, classifier__coef0=0.5, classifier__gamma=auto, classifier__kernel=sigmoid;, score=0.648 total time=   0.1s\n",
      "[CV 5/5] END classifier=SVC(), classifier__C=0.6, classifier__coef0=0.5, classifier__gamma=auto, classifier__kernel=sigmoid;, score=0.615 total time=   0.1s\n",
      "[CV 4/5] END classifier=SVC(), classifier__C=0.6, classifier__coef0=0.5, classifier__gamma=auto, classifier__kernel=sigmoid;, score=0.626 total time=   0.1s\n",
      "[CV 1/5] END classifier=SVC(), classifier__C=0.6, classifier__coef0=0.5, classifier__gamma=auto, classifier__kernel=linear;, score=0.912 total time=   1.8s\n",
      "[CV 4/5] END classifier=SVC(), classifier__C=0.6, classifier__coef0=0.5, classifier__gamma=auto, classifier__kernel=linear;, score=0.967 total time=   1.7s\n",
      "[CV 1/5] END classifier=SVC(), classifier__C=0.6, classifier__coef0=1, classifier__gamma=scale, classifier__kernel=rbf;, score=0.857 total time=   0.1s\n",
      "[CV 2/5] END classifier=SVC(), classifier__C=0.6, classifier__coef0=1, classifier__gamma=scale, classifier__kernel=rbf;, score=0.912 total time=   0.0s\n",
      "[CV 3/5] END classifier=SVC(), classifier__C=0.6, classifier__coef0=1, classifier__gamma=scale, classifier__kernel=rbf;, score=0.879 total time=   0.0s\n",
      "[CV 4/5] END classifier=SVC(), classifier__C=0.6, classifier__coef0=1, classifier__gamma=scale, classifier__kernel=rbf;, score=0.934 total time=   0.0s\n",
      "[CV 5/5] END classifier=SVC(), classifier__C=0.6, classifier__coef0=1, classifier__gamma=scale, classifier__kernel=rbf;, score=0.923 total time=   0.0s\n",
      "[CV 1/5] END classifier=SVC(), classifier__C=0.6, classifier__coef0=1, classifier__gamma=scale, classifier__kernel=sigmoid;, score=0.648 total time=   0.1s\n",
      "[CV 2/5] END classifier=SVC(), classifier__C=0.6, classifier__coef0=1, classifier__gamma=scale, classifier__kernel=sigmoid;, score=0.626 total time=   0.1s\n",
      "[CV 3/5] END classifier=SVC(), classifier__C=0.6, classifier__coef0=1, classifier__gamma=scale, classifier__kernel=sigmoid;, score=0.582 total time=   0.0s\n",
      "[CV 4/5] END classifier=SVC(), classifier__C=0.6, classifier__coef0=1, classifier__gamma=scale, classifier__kernel=sigmoid;, score=0.626 total time=   0.0s\n",
      "[CV 5/5] END classifier=SVC(), classifier__C=0.6, classifier__coef0=1, classifier__gamma=scale, classifier__kernel=sigmoid;, score=0.615 total time=   0.0s\n",
      "[CV 5/5] END classifier=SVC(), classifier__C=0.6, classifier__coef0=0.5, classifier__gamma=scale, classifier__kernel=linear;, score=0.967 total time=   3.7s\n",
      "[CV 5/5] END classifier=SVC(), classifier__C=0.6, classifier__coef0=0.5, classifier__gamma=auto, classifier__kernel=linear;, score=0.967 total time=   2.7s\n",
      "[CV 4/5] END classifier=SVC(), classifier__C=0.6, classifier__coef0=1, classifier__gamma=scale, classifier__kernel=linear;, score=0.967 total time=   1.6s\n",
      "[CV 3/5] END classifier=SVC(), classifier__C=0.6, classifier__coef0=1, classifier__gamma=scale, classifier__kernel=linear;, score=0.956 total time=   1.8s\n",
      "[CV 1/5] END classifier=SVC(), classifier__C=0.6, classifier__coef0=1, classifier__gamma=scale, classifier__kernel=linear;, score=0.912 total time=   2.0s\n",
      "[CV 2/5] END classifier=SVC(), classifier__C=0.6, classifier__coef0=1, classifier__gamma=scale, classifier__kernel=linear;, score=0.989 total time=   2.0s\n",
      "[CV 1/5] END classifier=SVC(), classifier__C=0.6, classifier__coef0=1, classifier__gamma=auto, classifier__kernel=rbf;, score=0.648 total time=   0.2s\n",
      "[CV 2/5] END classifier=SVC(), classifier__C=0.6, classifier__coef0=1, classifier__gamma=auto, classifier__kernel=rbf;, score=0.626 total time=   0.1s\n",
      "[CV 3/5] END classifier=SVC(), classifier__C=0.6, classifier__coef0=1, classifier__gamma=auto, classifier__kernel=rbf;, score=0.582 total time=   0.1s\n",
      "[CV 4/5] END classifier=SVC(), classifier__C=0.6, classifier__coef0=1, classifier__gamma=auto, classifier__kernel=rbf;, score=0.626 total time=   0.1s\n",
      "[CV 5/5] END classifier=SVC(), classifier__C=0.6, classifier__coef0=1, classifier__gamma=auto, classifier__kernel=rbf;, score=0.615 total time=   0.1s\n",
      "[CV 1/5] END classifier=SVC(), classifier__C=0.6, classifier__coef0=1, classifier__gamma=auto, classifier__kernel=sigmoid;, score=0.648 total time=   0.0s\n",
      "[CV 2/5] END classifier=SVC(), classifier__C=0.6, classifier__coef0=1, classifier__gamma=auto, classifier__kernel=sigmoid;, score=0.626 total time=   0.1s\n",
      "[CV 3/5] END classifier=SVC(), classifier__C=0.6, classifier__coef0=1, classifier__gamma=auto, classifier__kernel=sigmoid;, score=0.582 total time=   0.1s\n",
      "[CV 2/5] END classifier=SVC(), classifier__C=0.6, classifier__coef0=1, classifier__gamma=auto, classifier__kernel=linear;, score=0.989 total time=   1.5s\n",
      "[CV 1/5] END classifier=SVC(), classifier__C=0.6, classifier__coef0=1, classifier__gamma=auto, classifier__kernel=linear;, score=0.912 total time=   1.6s\n",
      "[CV 4/5] END classifier=SVC(), classifier__C=0.6, classifier__coef0=1, classifier__gamma=auto, classifier__kernel=sigmoid;, score=0.626 total time=   0.1s\n",
      "[CV 5/5] END classifier=SVC(), classifier__C=0.6, classifier__coef0=1, classifier__gamma=auto, classifier__kernel=sigmoid;, score=0.615 total time=   0.1s\n",
      "[CV 3/5] END classifier=SVC(), classifier__C=0.6, classifier__coef0=1, classifier__gamma=auto, classifier__kernel=linear;, score=0.956 total time=   1.3s\n",
      "[CV 4/5] END classifier=SVC(), classifier__C=0.6, classifier__coef0=1, classifier__gamma=auto, classifier__kernel=linear;, score=0.967 total time=   1.2s\n",
      "[CV 1/5] END classifier=SVC(), classifier__C=0.6, classifier__coef0=10, classifier__gamma=scale, classifier__kernel=rbf;, score=0.857 total time=   0.1s\n",
      "[CV 2/5] END classifier=SVC(), classifier__C=0.6, classifier__coef0=10, classifier__gamma=scale, classifier__kernel=rbf;, score=0.912 total time=   0.0s\n",
      "[CV 3/5] END classifier=SVC(), classifier__C=0.6, classifier__coef0=10, classifier__gamma=scale, classifier__kernel=rbf;, score=0.879 total time=   0.0s\n",
      "[CV 4/5] END classifier=SVC(), classifier__C=0.6, classifier__coef0=10, classifier__gamma=scale, classifier__kernel=rbf;, score=0.934 total time=   0.1s\n",
      "[CV 5/5] END classifier=SVC(), classifier__C=0.6, classifier__coef0=10, classifier__gamma=scale, classifier__kernel=rbf;, score=0.923 total time=   0.1s\n",
      "[CV 1/5] END classifier=SVC(), classifier__C=0.6, classifier__coef0=10, classifier__gamma=scale, classifier__kernel=linear;, score=0.912 total time=   1.0s\n",
      "[CV 1/5] END classifier=SVC(), classifier__C=0.6, classifier__coef0=10, classifier__gamma=scale, classifier__kernel=sigmoid;, score=0.648 total time=   0.1s\n",
      "[CV 2/5] END classifier=SVC(), classifier__C=0.6, classifier__coef0=10, classifier__gamma=scale, classifier__kernel=sigmoid;, score=0.626 total time=   0.0s\n",
      "[CV 5/5] END classifier=SVC(), classifier__C=0.6, classifier__coef0=1, classifier__gamma=scale, classifier__kernel=linear;, score=0.967 total time=   3.5s\n",
      "[CV 4/5] END classifier=SVC(), classifier__C=0.6, classifier__coef0=10, classifier__gamma=scale, classifier__kernel=sigmoid;, score=0.626 total time=   0.1s\n",
      "[CV 3/5] END classifier=SVC(), classifier__C=0.6, classifier__coef0=10, classifier__gamma=scale, classifier__kernel=sigmoid;, score=0.582 total time=   0.1s\n",
      "[CV 5/5] END classifier=SVC(), classifier__C=0.6, classifier__coef0=10, classifier__gamma=scale, classifier__kernel=sigmoid;, score=0.615 total time=   0.1s\n",
      "[CV 4/5] END classifier=SVC(), classifier__C=0.6, classifier__coef0=10, classifier__gamma=scale, classifier__kernel=linear;, score=0.967 total time=   1.6s\n",
      "[CV 3/5] END classifier=SVC(), classifier__C=0.6, classifier__coef0=10, classifier__gamma=scale, classifier__kernel=linear;, score=0.956 total time=   1.8s\n",
      "[CV 5/5] END classifier=SVC(), classifier__C=0.6, classifier__coef0=1, classifier__gamma=auto, classifier__kernel=linear;, score=0.967 total time=   2.9s\n",
      "[CV 3/5] END classifier=SVC(), classifier__C=0.6, classifier__coef0=10, classifier__gamma=auto, classifier__kernel=linear;, score=0.956 total time=   1.1s\n",
      "[CV 2/5] END classifier=SVC(), classifier__C=0.6, classifier__coef0=10, classifier__gamma=auto, classifier__kernel=rbf;, score=0.626 total time=   0.1s\n",
      "[CV 1/5] END classifier=SVC(), classifier__C=0.6, classifier__coef0=10, classifier__gamma=auto, classifier__kernel=rbf;, score=0.648 total time=   0.2s\n",
      "[CV 3/5] END classifier=SVC(), classifier__C=0.6, classifier__coef0=10, classifier__gamma=auto, classifier__kernel=rbf;, score=0.582 total time=   0.0s\n",
      "[CV 4/5] END classifier=SVC(), classifier__C=0.6, classifier__coef0=10, classifier__gamma=auto, classifier__kernel=rbf;, score=0.626 total time=   0.1s\n",
      "[CV 5/5] END classifier=SVC(), classifier__C=0.6, classifier__coef0=10, classifier__gamma=auto, classifier__kernel=rbf;, score=0.615 total time=   0.0s\n",
      "[CV 2/5] END classifier=SVC(), classifier__C=0.6, classifier__coef0=10, classifier__gamma=auto, classifier__kernel=sigmoid;, score=0.626 total time=   0.1s[CV 1/5] END classifier=SVC(), classifier__C=0.6, classifier__coef0=10, classifier__gamma=auto, classifier__kernel=sigmoid;, score=0.648 total time=   0.1s\n",
      "\n",
      "[CV 2/5] END classifier=SVC(), classifier__C=0.6, classifier__coef0=10, classifier__gamma=scale, classifier__kernel=linear;, score=0.989 total time=   2.7s\n",
      "[CV 3/5] END classifier=SVC(), classifier__C=0.6, classifier__coef0=10, classifier__gamma=auto, classifier__kernel=sigmoid;, score=0.582 total time=   0.0s\n",
      "[CV 5/5] END classifier=SVC(), classifier__C=0.6, classifier__coef0=10, classifier__gamma=scale, classifier__kernel=linear;, score=0.967 total time=   2.6s\n",
      "[CV 4/5] END classifier=SVC(), classifier__C=0.6, classifier__coef0=10, classifier__gamma=auto, classifier__kernel=sigmoid;, score=0.626 total time=   0.1s\n",
      "[CV 2/5] END classifier=SVC(), classifier__C=0.6, classifier__coef0=10, classifier__gamma=auto, classifier__kernel=linear;, score=0.989 total time=   1.6s\n",
      "[CV 5/5] END classifier=SVC(), classifier__C=0.6, classifier__coef0=10, classifier__gamma=auto, classifier__kernel=sigmoid;, score=0.615 total time=   0.1s\n",
      "[CV 1/5] END classifier=SVC(), classifier__C=0.6, classifier__coef0=10, classifier__gamma=auto, classifier__kernel=linear;, score=0.912 total time=   2.0s\n",
      "[CV 1/5] END classifier=SVC(), classifier__C=0.6, classifier__coef0=100, classifier__gamma=scale, classifier__kernel=rbf;, score=0.857 total time=   0.1s\n",
      "[CV 2/5] END classifier=SVC(), classifier__C=0.6, classifier__coef0=100, classifier__gamma=scale, classifier__kernel=rbf;, score=0.912 total time=   0.1s\n",
      "[CV 3/5] END classifier=SVC(), classifier__C=0.6, classifier__coef0=100, classifier__gamma=scale, classifier__kernel=rbf;, score=0.879 total time=   0.1s\n",
      "[CV 2/5] END classifier=SVC(), classifier__C=0.6, classifier__coef0=100, classifier__gamma=scale, classifier__kernel=linear;, score=0.989 total time=   0.8s\n",
      "[CV 5/5] END classifier=SVC(), classifier__C=0.6, classifier__coef0=100, classifier__gamma=scale, classifier__kernel=rbf;, score=0.923 total time=   0.0s\n",
      "[CV 4/5] END classifier=SVC(), classifier__C=0.6, classifier__coef0=100, classifier__gamma=scale, classifier__kernel=rbf;, score=0.934 total time=   0.1s\n",
      "[CV 4/5] END classifier=SVC(), classifier__C=0.6, classifier__coef0=10, classifier__gamma=auto, classifier__kernel=linear;, score=0.967 total time=   2.0s\n",
      "[CV 4/5] END classifier=SVC(), classifier__C=0.6, classifier__coef0=100, classifier__gamma=scale, classifier__kernel=linear;, score=0.967 total time=   0.8s\n",
      "[CV 1/5] END classifier=SVC(), classifier__C=0.6, classifier__coef0=100, classifier__gamma=scale, classifier__kernel=sigmoid;, score=0.648 total time=   0.0s\n",
      "[CV 3/5] END classifier=SVC(), classifier__C=0.6, classifier__coef0=100, classifier__gamma=scale, classifier__kernel=sigmoid;, score=0.582 total time=   0.0s\n",
      "[CV 5/5] END classifier=SVC(), classifier__C=0.6, classifier__coef0=100, classifier__gamma=scale, classifier__kernel=sigmoid;, score=0.615 total time=   0.0s\n",
      "[CV 4/5] END classifier=SVC(), classifier__C=0.6, classifier__coef0=100, classifier__gamma=scale, classifier__kernel=sigmoid;, score=0.626 total time=   0.1s\n",
      "[CV 2/5] END classifier=SVC(), classifier__C=0.6, classifier__coef0=100, classifier__gamma=scale, classifier__kernel=sigmoid;, score=0.626 total time=   0.1s\n",
      "[CV 1/5] END classifier=SVC(), classifier__C=0.6, classifier__coef0=100, classifier__gamma=scale, classifier__kernel=linear;, score=0.912 total time=   1.6s\n",
      "[CV 3/5] END classifier=SVC(), classifier__C=0.6, classifier__coef0=100, classifier__gamma=scale, classifier__kernel=linear;, score=0.956 total time=   1.6s\n",
      "[CV 1/5] END classifier=SVC(), classifier__C=0.6, classifier__coef0=100, classifier__gamma=auto, classifier__kernel=rbf;, score=0.648 total time=   0.1s\n",
      "[CV 1/5] END classifier=SVC(), classifier__C=0.6, classifier__coef0=100, classifier__gamma=auto, classifier__kernel=linear;, score=0.912 total time=   0.9s\n",
      "[CV 3/5] END classifier=SVC(), classifier__C=0.6, classifier__coef0=100, classifier__gamma=auto, classifier__kernel=rbf;, score=0.582 total time=   0.1s\n",
      "[CV 4/5] END classifier=SVC(), classifier__C=0.6, classifier__coef0=100, classifier__gamma=auto, classifier__kernel=rbf;, score=0.626 total time=   0.1s\n",
      "[CV 2/5] END classifier=SVC(), classifier__C=0.6, classifier__coef0=100, classifier__gamma=auto, classifier__kernel=rbf;, score=0.626 total time=   0.2s\n",
      "[CV 5/5] END classifier=SVC(), classifier__C=0.6, classifier__coef0=100, classifier__gamma=auto, classifier__kernel=rbf;, score=0.615 total time=   0.1s\n",
      "[CV 2/5] END classifier=SVC(), classifier__C=0.6, classifier__coef0=100, classifier__gamma=auto, classifier__kernel=sigmoid;, score=0.626 total time=   0.0s\n",
      "[CV 2/5] END classifier=SVC(), classifier__C=0.6, classifier__coef0=100, classifier__gamma=auto, classifier__kernel=linear;, score=0.989 total time=   1.1s\n",
      "[CV 3/5] END classifier=SVC(), classifier__C=0.6, classifier__coef0=100, classifier__gamma=auto, classifier__kernel=sigmoid;, score=0.582 total time=   0.0s\n",
      "[CV 1/5] END classifier=SVC(), classifier__C=0.6, classifier__coef0=100, classifier__gamma=auto, classifier__kernel=sigmoid;, score=0.648 total time=   0.1s[CV 4/5] END classifier=SVC(), classifier__C=0.6, classifier__coef0=100, classifier__gamma=auto, classifier__kernel=sigmoid;, score=0.626 total time=   0.0s\n",
      "\n",
      "[CV 5/5] END classifier=SVC(), classifier__C=0.6, classifier__coef0=100, classifier__gamma=auto, classifier__kernel=sigmoid;, score=0.615 total time=   0.1s\n",
      "[CV 5/5] END classifier=SVC(), classifier__C=0.6, classifier__coef0=10, classifier__gamma=auto, classifier__kernel=linear;, score=0.967 total time=   3.2s\n",
      "[CV 3/5] END classifier=SVC(), classifier__C=0.6, classifier__coef0=100, classifier__gamma=auto, classifier__kernel=linear;, score=0.956 total time=   1.3s\n",
      "[CV 4/5] END classifier=SVC(), classifier__C=0.7, classifier__coef0=-10.0, classifier__gamma=scale, classifier__kernel=linear;, score=0.967 total time=   1.0s\n",
      "[CV 1/5] END classifier=SVC(), classifier__C=0.7, classifier__coef0=-10.0, classifier__gamma=scale, classifier__kernel=rbf;, score=0.857 total time=   0.0s\n",
      "[CV 2/5] END classifier=SVC(), classifier__C=0.7, classifier__coef0=-10.0, classifier__gamma=scale, classifier__kernel=rbf;, score=0.912 total time=   0.0s\n",
      "[CV 3/5] END classifier=SVC(), classifier__C=0.7, classifier__coef0=-10.0, classifier__gamma=scale, classifier__kernel=rbf;, score=0.890 total time=   0.0s\n",
      "[CV 4/5] END classifier=SVC(), classifier__C=0.7, classifier__coef0=-10.0, classifier__gamma=scale, classifier__kernel=rbf;, score=0.934 total time=   0.0s\n",
      "[CV 5/5] END classifier=SVC(), classifier__C=0.7, classifier__coef0=-10.0, classifier__gamma=scale, classifier__kernel=rbf;, score=0.923 total time=   0.0s\n",
      "[CV 1/5] END classifier=SVC(), classifier__C=0.7, classifier__coef0=-10.0, classifier__gamma=scale, classifier__kernel=sigmoid;, score=0.648 total time=   0.0s\n",
      "[CV 4/5] END classifier=SVC(), classifier__C=0.6, classifier__coef0=100, classifier__gamma=auto, classifier__kernel=linear;, score=0.967 total time=   2.5s\n",
      "[CV 2/5] END classifier=SVC(), classifier__C=0.7, classifier__coef0=-10.0, classifier__gamma=scale, classifier__kernel=sigmoid;, score=0.626 total time=   0.1s\n",
      "[CV 3/5] END classifier=SVC(), classifier__C=0.7, classifier__coef0=-10.0, classifier__gamma=scale, classifier__kernel=sigmoid;, score=0.582 total time=   0.0s\n",
      "[CV 4/5] END classifier=SVC(), classifier__C=0.7, classifier__coef0=-10.0, classifier__gamma=scale, classifier__kernel=sigmoid;, score=0.626 total time=   0.0s\n",
      "[CV 5/5] END classifier=SVC(), classifier__C=0.7, classifier__coef0=-10.0, classifier__gamma=scale, classifier__kernel=sigmoid;, score=0.615 total time=   0.0s\n",
      "[CV 2/5] END classifier=SVC(), classifier__C=0.7, classifier__coef0=-10.0, classifier__gamma=scale, classifier__kernel=linear;, score=0.989 total time=   1.6s\n",
      "[CV 5/5] END classifier=SVC(), classifier__C=0.6, classifier__coef0=100, classifier__gamma=scale, classifier__kernel=linear;, score=0.967 total time=   3.6s\n",
      "[CV 3/5] END classifier=SVC(), classifier__C=0.7, classifier__coef0=-10.0, classifier__gamma=scale, classifier__kernel=linear;, score=0.956 total time=   2.4s\n",
      "[CV 1/5] END classifier=SVC(), classifier__C=0.7, classifier__coef0=-10.0, classifier__gamma=scale, classifier__kernel=linear;, score=0.912 total time=   2.6s\n",
      "[CV 1/5] END classifier=SVC(), classifier__C=0.7, classifier__coef0=-10.0, classifier__gamma=auto, classifier__kernel=rbf;, score=0.648 total time=   0.2s\n",
      "[CV 2/5] END classifier=SVC(), classifier__C=0.7, classifier__coef0=-10.0, classifier__gamma=auto, classifier__kernel=linear;, score=0.989 total time=   1.3s\n",
      "[CV 1/5] END classifier=SVC(), classifier__C=0.7, classifier__coef0=-10.0, classifier__gamma=auto, classifier__kernel=linear;, score=0.912 total time=   1.5s\n",
      "[CV 4/5] END classifier=SVC(), classifier__C=0.7, classifier__coef0=-10.0, classifier__gamma=auto, classifier__kernel=rbf;, score=0.626 total time=   0.0s\n",
      "[CV 2/5] END classifier=SVC(), classifier__C=0.7, classifier__coef0=-10.0, classifier__gamma=auto, classifier__kernel=rbf;, score=0.626 total time=   0.1s[CV 3/5] END classifier=SVC(), classifier__C=0.7, classifier__coef0=-10.0, classifier__gamma=auto, classifier__kernel=rbf;, score=0.582 total time=   0.2s\n",
      "[CV 5/5] END classifier=SVC(), classifier__C=0.7, classifier__coef0=-10.0, classifier__gamma=auto, classifier__kernel=rbf;, score=0.615 total time=   0.0s\n",
      "\n",
      "[CV 2/5] END classifier=SVC(), classifier__C=0.7, classifier__coef0=-10.0, classifier__gamma=auto, classifier__kernel=sigmoid;, score=0.626 total time=   0.0s\n",
      "[CV 4/5] END classifier=SVC(), classifier__C=0.7, classifier__coef0=-10.0, classifier__gamma=auto, classifier__kernel=sigmoid;, score=0.626 total time=   0.0s\n",
      "[CV 5/5] END classifier=SVC(), classifier__C=0.7, classifier__coef0=-10.0, classifier__gamma=auto, classifier__kernel=sigmoid;, score=0.615 total time=   0.0s\n",
      "[CV 1/5] END classifier=SVC(), classifier__C=0.7, classifier__coef0=-10.0, classifier__gamma=auto, classifier__kernel=sigmoid;, score=0.648 total time=   0.1s\n",
      "[CV 3/5] END classifier=SVC(), classifier__C=0.7, classifier__coef0=-10.0, classifier__gamma=auto, classifier__kernel=sigmoid;, score=0.582 total time=   0.1s[CV 4/5] END classifier=SVC(), classifier__C=0.7, classifier__coef0=-10.0, classifier__gamma=auto, classifier__kernel=linear;, score=0.967 total time=   1.5s\n",
      "\n",
      "[CV 5/5] END classifier=SVC(), classifier__C=0.6, classifier__coef0=100, classifier__gamma=auto, classifier__kernel=linear;, score=0.967 total time=   4.5s\n",
      "[CV 4/5] END classifier=SVC(), classifier__C=0.7, classifier__coef0=-1.0, classifier__gamma=scale, classifier__kernel=linear;, score=0.967 total time=   1.2s\n",
      "[CV 1/5] END classifier=SVC(), classifier__C=0.7, classifier__coef0=-1.0, classifier__gamma=scale, classifier__kernel=rbf;, score=0.857 total time=   0.0s\n",
      "[CV 2/5] END classifier=SVC(), classifier__C=0.7, classifier__coef0=-1.0, classifier__gamma=scale, classifier__kernel=rbf;, score=0.912 total time=   0.0s\n",
      "[CV 3/5] END classifier=SVC(), classifier__C=0.7, classifier__coef0=-1.0, classifier__gamma=scale, classifier__kernel=rbf;, score=0.890 total time=   0.0s\n",
      "[CV 4/5] END classifier=SVC(), classifier__C=0.7, classifier__coef0=-1.0, classifier__gamma=scale, classifier__kernel=rbf;, score=0.934 total time=   0.0s\n",
      "[CV 5/5] END classifier=SVC(), classifier__C=0.7, classifier__coef0=-1.0, classifier__gamma=scale, classifier__kernel=rbf;, score=0.923 total time=   0.0s\n",
      "[CV 1/5] END classifier=SVC(), classifier__C=0.7, classifier__coef0=-1.0, classifier__gamma=scale, classifier__kernel=sigmoid;, score=0.692 total time=   0.0s\n",
      "[CV 2/5] END classifier=SVC(), classifier__C=0.7, classifier__coef0=-1.0, classifier__gamma=scale, classifier__kernel=sigmoid;, score=0.582 total time=   0.0s\n",
      "[CV 3/5] END classifier=SVC(), classifier__C=0.7, classifier__coef0=-1.0, classifier__gamma=scale, classifier__kernel=sigmoid;, score=0.703 total time=   0.0s\n",
      "[CV 4/5] END classifier=SVC(), classifier__C=0.7, classifier__coef0=-1.0, classifier__gamma=scale, classifier__kernel=sigmoid;, score=0.692 total time=   0.0s\n",
      "[CV 5/5] END classifier=SVC(), classifier__C=0.7, classifier__coef0=-1.0, classifier__gamma=scale, classifier__kernel=sigmoid;, score=0.758 total time=   0.0s\n",
      "[CV 3/5] END classifier=SVC(), classifier__C=0.7, classifier__coef0=-10.0, classifier__gamma=auto, classifier__kernel=linear;, score=0.956 total time=   3.6s\n",
      "[CV 1/5] END classifier=SVC(), classifier__C=0.7, classifier__coef0=-1.0, classifier__gamma=scale, classifier__kernel=linear;, score=0.912 total time=   2.2s\n",
      "[CV 2/5] END classifier=SVC(), classifier__C=0.7, classifier__coef0=-1.0, classifier__gamma=scale, classifier__kernel=linear;, score=0.989 total time=   2.6s\n",
      "[CV 1/5] END classifier=SVC(), classifier__C=0.7, classifier__coef0=-1.0, classifier__gamma=auto, classifier__kernel=linear;, score=0.912 total time=   1.3s\n",
      "[CV 4/5] END classifier=SVC(), classifier__C=0.7, classifier__coef0=-1.0, classifier__gamma=auto, classifier__kernel=linear;, score=0.967 total time=   1.3s\n",
      "[CV 3/5] END classifier=SVC(), classifier__C=0.7, classifier__coef0=-1.0, classifier__gamma=scale, classifier__kernel=linear;, score=0.956 total time=   4.0s\n",
      "[CV 2/5] END classifier=SVC(), classifier__C=0.7, classifier__coef0=-1.0, classifier__gamma=auto, classifier__kernel=linear;, score=0.989 total time=   1.9s\n",
      "[CV 2/5] END classifier=SVC(), classifier__C=0.7, classifier__coef0=-1.0, classifier__gamma=auto, classifier__kernel=rbf;, score=0.626 total time=   0.0s\n",
      "[CV 1/5] END classifier=SVC(), classifier__C=0.7, classifier__coef0=-1.0, classifier__gamma=auto, classifier__kernel=rbf;, score=0.648 total time=   0.1s\n",
      "[CV 4/5] END classifier=SVC(), classifier__C=0.7, classifier__coef0=-1.0, classifier__gamma=auto, classifier__kernel=rbf;, score=0.626 total time=   0.0s\n",
      "[CV 3/5] END classifier=SVC(), classifier__C=0.7, classifier__coef0=-1.0, classifier__gamma=auto, classifier__kernel=rbf;, score=0.582 total time=   0.1s\n",
      "[CV 1/5] END classifier=SVC(), classifier__C=0.7, classifier__coef0=-1.0, classifier__gamma=auto, classifier__kernel=sigmoid;, score=0.648 total time=   0.0s\n",
      "[CV 2/5] END classifier=SVC(), classifier__C=0.7, classifier__coef0=-1.0, classifier__gamma=auto, classifier__kernel=sigmoid;, score=0.626 total time=   0.0s\n",
      "[CV 3/5] END classifier=SVC(), classifier__C=0.7, classifier__coef0=-1.0, classifier__gamma=auto, classifier__kernel=sigmoid;, score=0.582 total time=   0.0s\n",
      "[CV 5/5] END classifier=SVC(), classifier__C=0.7, classifier__coef0=-1.0, classifier__gamma=auto, classifier__kernel=sigmoid;, score=0.615 total time=   0.0s\n",
      "[CV 4/5] END classifier=SVC(), classifier__C=0.7, classifier__coef0=-1.0, classifier__gamma=auto, classifier__kernel=sigmoid;, score=0.626 total time=   0.1s\n",
      "[CV 5/5] END classifier=SVC(), classifier__C=0.7, classifier__coef0=-1.0, classifier__gamma=auto, classifier__kernel=rbf;, score=0.615 total time=   0.2s\n",
      "[CV 5/5] END classifier=SVC(), classifier__C=0.7, classifier__coef0=-10.0, classifier__gamma=scale, classifier__kernel=linear;, score=0.967 total time=   8.2s\n",
      "[CV 3/5] END classifier=SVC(), classifier__C=0.7, classifier__coef0=-1.0, classifier__gamma=auto, classifier__kernel=linear;, score=0.956 total time=   3.2s\n",
      "[CV 1/5] END classifier=SVC(), classifier__C=0.7, classifier__coef0=0.0, classifier__gamma=scale, classifier__kernel=linear;, score=0.912 total time=   1.5s\n",
      "[CV 1/5] END classifier=SVC(), classifier__C=0.7, classifier__coef0=0.0, classifier__gamma=scale, classifier__kernel=rbf;, score=0.857 total time=   0.1s\n",
      "[CV 3/5] END classifier=SVC(), classifier__C=0.7, classifier__coef0=0.0, classifier__gamma=scale, classifier__kernel=linear;, score=0.956 total time=   1.7s\n",
      "[CV 3/5] END classifier=SVC(), classifier__C=0.7, classifier__coef0=0.0, classifier__gamma=scale, classifier__kernel=rbf;, score=0.890 total time=   0.0s\n",
      "[CV 2/5] END classifier=SVC(), classifier__C=0.7, classifier__coef0=0.0, classifier__gamma=scale, classifier__kernel=rbf;, score=0.912 total time=   0.2s\n",
      "[CV 4/5] END classifier=SVC(), classifier__C=0.7, classifier__coef0=0.0, classifier__gamma=scale, classifier__kernel=rbf;, score=0.934 total time=   0.0s\n",
      "[CV 5/5] END classifier=SVC(), classifier__C=0.7, classifier__coef0=0.0, classifier__gamma=scale, classifier__kernel=rbf;, score=0.923 total time=   0.1s\n",
      "[CV 4/5] END classifier=SVC(), classifier__C=0.7, classifier__coef0=0.0, classifier__gamma=scale, classifier__kernel=linear;, score=0.967 total time=   0.9s\n",
      "[CV 3/5] END classifier=SVC(), classifier__C=0.7, classifier__coef0=0.0, classifier__gamma=scale, classifier__kernel=sigmoid;, score=0.527 total time=   0.0s\n",
      "[CV 1/5] END classifier=SVC(), classifier__C=0.7, classifier__coef0=0.0, classifier__gamma=scale, classifier__kernel=sigmoid;, score=0.462 total time=   0.2s\n",
      "[CV 4/5] END classifier=SVC(), classifier__C=0.7, classifier__coef0=0.0, classifier__gamma=scale, classifier__kernel=sigmoid;, score=0.440 total time=   0.0s\n",
      "[CV 2/5] END classifier=SVC(), classifier__C=0.7, classifier__coef0=0.0, classifier__gamma=scale, classifier__kernel=sigmoid;, score=0.560 total time=   0.1s\n",
      "[CV 5/5] END classifier=SVC(), classifier__C=0.7, classifier__coef0=0.0, classifier__gamma=scale, classifier__kernel=sigmoid;, score=0.484 total time=   0.2s\n",
      "[CV 2/5] END classifier=SVC(), classifier__C=0.7, classifier__coef0=0.0, classifier__gamma=scale, classifier__kernel=linear;, score=0.989 total time=   2.7s\n",
      "[CV 1/5] END classifier=SVC(), classifier__C=0.7, classifier__coef0=0.0, classifier__gamma=auto, classifier__kernel=linear;, score=0.912 total time=   1.3s\n",
      "[CV 5/5] END classifier=SVC(), classifier__C=0.7, classifier__coef0=-10.0, classifier__gamma=auto, classifier__kernel=linear;, score=0.967 total time=   9.2s\n",
      "[CV 1/5] END classifier=SVC(), classifier__C=0.7, classifier__coef0=0.0, classifier__gamma=auto, classifier__kernel=rbf;, score=0.648 total time=   0.2s\n",
      "[CV 3/5] END classifier=SVC(), classifier__C=0.7, classifier__coef0=0.0, classifier__gamma=auto, classifier__kernel=linear;, score=0.956 total time=   2.5s\n",
      "[CV 2/5] END classifier=SVC(), classifier__C=0.7, classifier__coef0=0.0, classifier__gamma=auto, classifier__kernel=rbf;, score=0.626 total time=   0.2s\n",
      "[CV 2/5] END classifier=SVC(), classifier__C=0.7, classifier__coef0=0.0, classifier__gamma=auto, classifier__kernel=linear;, score=0.989 total time=   2.6s\n",
      "[CV 3/5] END classifier=SVC(), classifier__C=0.7, classifier__coef0=0.0, classifier__gamma=auto, classifier__kernel=rbf;, score=0.582 total time=   0.1s[CV 4/5] END classifier=SVC(), classifier__C=0.7, classifier__coef0=0.0, classifier__gamma=auto, classifier__kernel=rbf;, score=0.626 total time=   0.1s\n",
      "\n",
      "[CV 4/5] END classifier=SVC(), classifier__C=0.7, classifier__coef0=0.0, classifier__gamma=auto, classifier__kernel=linear;, score=0.967 total time=   2.2s\n",
      "[CV 2/5] END classifier=SVC(), classifier__C=0.7, classifier__coef0=0.0, classifier__gamma=auto, classifier__kernel=sigmoid;, score=0.626 total time=   0.0s\n",
      "[CV 5/5] END classifier=SVC(), classifier__C=0.7, classifier__coef0=0.0, classifier__gamma=auto, classifier__kernel=rbf;, score=0.615 total time=   0.1s\n",
      "[CV 1/5] END classifier=SVC(), classifier__C=0.7, classifier__coef0=0.0, classifier__gamma=auto, classifier__kernel=sigmoid;, score=0.648 total time=   0.1s\n",
      "[CV 5/5] END classifier=SVC(), classifier__C=0.7, classifier__coef0=0.0, classifier__gamma=auto, classifier__kernel=sigmoid;, score=0.615 total time=   0.0s\n",
      "[CV 3/5] END classifier=SVC(), classifier__C=0.7, classifier__coef0=0.0, classifier__gamma=auto, classifier__kernel=sigmoid;, score=0.582 total time=   0.1s\n",
      "[CV 4/5] END classifier=SVC(), classifier__C=0.7, classifier__coef0=0.0, classifier__gamma=auto, classifier__kernel=sigmoid;, score=0.626 total time=   0.0s\n",
      "[CV 2/5] END classifier=SVC(), classifier__C=0.7, classifier__coef0=0.1, classifier__gamma=scale, classifier__kernel=linear;, score=0.989 total time=   1.1s\n",
      "[CV 4/5] END classifier=SVC(), classifier__C=0.7, classifier__coef0=0.1, classifier__gamma=scale, classifier__kernel=linear;, score=0.967 total time=   1.6s\n",
      "[CV 1/5] END classifier=SVC(), classifier__C=0.7, classifier__coef0=0.1, classifier__gamma=scale, classifier__kernel=rbf;, score=0.857 total time=   0.1s\n",
      "[CV 2/5] END classifier=SVC(), classifier__C=0.7, classifier__coef0=0.1, classifier__gamma=scale, classifier__kernel=rbf;, score=0.912 total time=   0.0s\n",
      "[CV 3/5] END classifier=SVC(), classifier__C=0.7, classifier__coef0=0.1, classifier__gamma=scale, classifier__kernel=rbf;, score=0.890 total time=   0.1s\n",
      "[CV 1/5] END classifier=SVC(), classifier__C=0.7, classifier__coef0=0.1, classifier__gamma=scale, classifier__kernel=linear;, score=0.912 total time=   2.0s\n",
      "[CV 4/5] END classifier=SVC(), classifier__C=0.7, classifier__coef0=0.1, classifier__gamma=scale, classifier__kernel=rbf;, score=0.934 total time=   0.0s\n",
      "[CV 3/5] END classifier=SVC(), classifier__C=0.7, classifier__coef0=0.1, classifier__gamma=scale, classifier__kernel=linear;, score=0.956 total time=   1.9s\n",
      "[CV 5/5] END classifier=SVC(), classifier__C=0.7, classifier__coef0=0.1, classifier__gamma=scale, classifier__kernel=rbf;, score=0.923 total time=   0.0s\n",
      "[CV 1/5] END classifier=SVC(), classifier__C=0.7, classifier__coef0=0.1, classifier__gamma=scale, classifier__kernel=sigmoid;, score=0.484 total time=   0.0s\n",
      "[CV 3/5] END classifier=SVC(), classifier__C=0.7, classifier__coef0=0.1, classifier__gamma=scale, classifier__kernel=sigmoid;, score=0.593 total time=   0.0s\n",
      "[CV 4/5] END classifier=SVC(), classifier__C=0.7, classifier__coef0=0.1, classifier__gamma=scale, classifier__kernel=sigmoid;, score=0.604 total time=   0.0s\n",
      "[CV 5/5] END classifier=SVC(), classifier__C=0.7, classifier__coef0=0.1, classifier__gamma=scale, classifier__kernel=sigmoid;, score=0.615 total time=   0.0s\n",
      "[CV 2/5] END classifier=SVC(), classifier__C=0.7, classifier__coef0=0.1, classifier__gamma=scale, classifier__kernel=sigmoid;, score=0.637 total time=   0.1s\n",
      "[CV 5/5] END classifier=SVC(), classifier__C=0.7, classifier__coef0=-1.0, classifier__gamma=scale, classifier__kernel=linear;, score=0.967 total time=  10.6s\n",
      "[CV 2/5] END classifier=SVC(), classifier__C=0.7, classifier__coef0=0.1, classifier__gamma=auto, classifier__kernel=linear;, score=0.989 total time=   1.4s\n",
      "[CV 1/5] END classifier=SVC(), classifier__C=0.7, classifier__coef0=0.1, classifier__gamma=auto, classifier__kernel=linear;, score=0.912 total time=   1.4s\n",
      "[CV 1/5] END classifier=SVC(), classifier__C=0.7, classifier__coef0=0.1, classifier__gamma=auto, classifier__kernel=rbf;, score=0.648 total time=   0.0s\n",
      "[CV 2/5] END classifier=SVC(), classifier__C=0.7, classifier__coef0=0.1, classifier__gamma=auto, classifier__kernel=rbf;, score=0.626 total time=   0.0s\n",
      "[CV 3/5] END classifier=SVC(), classifier__C=0.7, classifier__coef0=0.1, classifier__gamma=auto, classifier__kernel=rbf;, score=0.582 total time=   0.0s\n",
      "[CV 4/5] END classifier=SVC(), classifier__C=0.7, classifier__coef0=0.1, classifier__gamma=auto, classifier__kernel=rbf;, score=0.626 total time=   0.0s\n",
      "[CV 5/5] END classifier=SVC(), classifier__C=0.7, classifier__coef0=0.1, classifier__gamma=auto, classifier__kernel=rbf;, score=0.615 total time=   0.0s\n",
      "[CV 1/5] END classifier=SVC(), classifier__C=0.7, classifier__coef0=0.1, classifier__gamma=auto, classifier__kernel=sigmoid;, score=0.648 total time=   0.0s\n",
      "[CV 2/5] END classifier=SVC(), classifier__C=0.7, classifier__coef0=0.1, classifier__gamma=auto, classifier__kernel=sigmoid;, score=0.626 total time=   0.0s\n",
      "[CV 3/5] END classifier=SVC(), classifier__C=0.7, classifier__coef0=0.1, classifier__gamma=auto, classifier__kernel=sigmoid;, score=0.582 total time=   0.0s\n",
      "[CV 4/5] END classifier=SVC(), classifier__C=0.7, classifier__coef0=0.1, classifier__gamma=auto, classifier__kernel=sigmoid;, score=0.626 total time=   0.0s\n",
      "[CV 5/5] END classifier=SVC(), classifier__C=0.7, classifier__coef0=0.1, classifier__gamma=auto, classifier__kernel=sigmoid;, score=0.615 total time=   0.0s\n",
      "[CV 4/5] END classifier=SVC(), classifier__C=0.7, classifier__coef0=0.1, classifier__gamma=auto, classifier__kernel=linear;, score=0.967 total time=   2.0s\n",
      "[CV 1/5] END classifier=SVC(), classifier__C=0.7, classifier__coef0=0.5, classifier__gamma=scale, classifier__kernel=linear;, score=0.912 total time=   1.2s\n",
      "[CV 5/5] END classifier=SVC(), classifier__C=0.7, classifier__coef0=-1.0, classifier__gamma=auto, classifier__kernel=linear;, score=0.967 total time=  11.4s\n",
      "[CV 3/5] END classifier=SVC(), classifier__C=0.7, classifier__coef0=0.1, classifier__gamma=auto, classifier__kernel=linear;, score=0.956 total time=   3.4s\n",
      "[CV 3/5] END classifier=SVC(), classifier__C=0.7, classifier__coef0=0.5, classifier__gamma=scale, classifier__kernel=linear;, score=0.956 total time=   1.2s\n",
      "[CV 1/5] END classifier=SVC(), classifier__C=0.7, classifier__coef0=0.5, classifier__gamma=scale, classifier__kernel=rbf;, score=0.857 total time=   0.0s\n",
      "[CV 2/5] END classifier=SVC(), classifier__C=0.7, classifier__coef0=0.5, classifier__gamma=scale, classifier__kernel=rbf;, score=0.912 total time=   0.0s\n",
      "[CV 3/5] END classifier=SVC(), classifier__C=0.7, classifier__coef0=0.5, classifier__gamma=scale, classifier__kernel=rbf;, score=0.890 total time=   0.0s\n",
      "[CV 4/5] END classifier=SVC(), classifier__C=0.7, classifier__coef0=0.5, classifier__gamma=scale, classifier__kernel=rbf;, score=0.934 total time=   0.0s\n",
      "[CV 5/5] END classifier=SVC(), classifier__C=0.7, classifier__coef0=0.5, classifier__gamma=scale, classifier__kernel=rbf;, score=0.923 total time=   0.0s\n",
      "[CV 1/5] END classifier=SVC(), classifier__C=0.7, classifier__coef0=0.5, classifier__gamma=scale, classifier__kernel=sigmoid;, score=0.648 total time=   0.1s\n",
      "[CV 2/5] END classifier=SVC(), classifier__C=0.7, classifier__coef0=0.5, classifier__gamma=scale, classifier__kernel=sigmoid;, score=0.626 total time=   0.1s\n",
      "[CV 3/5] END classifier=SVC(), classifier__C=0.7, classifier__coef0=0.5, classifier__gamma=scale, classifier__kernel=sigmoid;, score=0.582 total time=   0.1s\n",
      "[CV 4/5] END classifier=SVC(), classifier__C=0.7, classifier__coef0=0.5, classifier__gamma=scale, classifier__kernel=linear;, score=0.967 total time=   1.5s\n",
      "[CV 4/5] END classifier=SVC(), classifier__C=0.7, classifier__coef0=0.5, classifier__gamma=scale, classifier__kernel=sigmoid;, score=0.626 total time=   0.1s\n",
      "[CV 5/5] END classifier=SVC(), classifier__C=0.7, classifier__coef0=0.5, classifier__gamma=scale, classifier__kernel=sigmoid;, score=0.615 total time=   0.1s\n",
      "[CV 2/5] END classifier=SVC(), classifier__C=0.7, classifier__coef0=0.5, classifier__gamma=scale, classifier__kernel=linear;, score=0.989 total time=   3.3s\n",
      "[CV 5/5] END classifier=SVC(), classifier__C=0.7, classifier__coef0=0.0, classifier__gamma=scale, classifier__kernel=linear;, score=0.967 total time=  11.7s\n",
      "[CV 2/5] END classifier=SVC(), classifier__C=0.7, classifier__coef0=0.5, classifier__gamma=auto, classifier__kernel=linear;, score=0.989 total time=   2.2s\n",
      "[CV 4/5] END classifier=SVC(), classifier__C=0.7, classifier__coef0=0.5, classifier__gamma=auto, classifier__kernel=linear;, score=0.967 total time=   1.9s\n",
      "[CV 1/5] END classifier=SVC(), classifier__C=0.7, classifier__coef0=0.5, classifier__gamma=auto, classifier__kernel=rbf;, score=0.648 total time=   0.1s\n",
      "[CV 2/5] END classifier=SVC(), classifier__C=0.7, classifier__coef0=0.5, classifier__gamma=auto, classifier__kernel=rbf;, score=0.626 total time=   0.1s\n",
      "[CV 3/5] END classifier=SVC(), classifier__C=0.7, classifier__coef0=0.5, classifier__gamma=auto, classifier__kernel=rbf;, score=0.582 total time=   0.1s\n",
      "[CV 4/5] END classifier=SVC(), classifier__C=0.7, classifier__coef0=0.5, classifier__gamma=auto, classifier__kernel=rbf;, score=0.626 total time=   0.1s\n",
      "[CV 3/5] END classifier=SVC(), classifier__C=0.7, classifier__coef0=0.5, classifier__gamma=auto, classifier__kernel=linear;, score=0.956 total time=   2.9s\n",
      "[CV 1/5] END classifier=SVC(), classifier__C=0.7, classifier__coef0=0.5, classifier__gamma=auto, classifier__kernel=linear;, score=0.912 total time=   3.8s\n",
      "[CV 5/5] END classifier=SVC(), classifier__C=0.7, classifier__coef0=0.5, classifier__gamma=auto, classifier__kernel=rbf;, score=0.615 total time=   0.2s\n",
      "[CV 2/5] END classifier=SVC(), classifier__C=0.7, classifier__coef0=0.5, classifier__gamma=auto, classifier__kernel=sigmoid;, score=0.626 total time=   0.0s\n",
      "[CV 4/5] END classifier=SVC(), classifier__C=0.7, classifier__coef0=0.5, classifier__gamma=auto, classifier__kernel=sigmoid;, score=0.626 total time=   0.0s\n",
      "[CV 3/5] END classifier=SVC(), classifier__C=0.7, classifier__coef0=0.5, classifier__gamma=auto, classifier__kernel=sigmoid;, score=0.582 total time=   0.1s\n",
      "[CV 5/5] END classifier=SVC(), classifier__C=0.7, classifier__coef0=0.5, classifier__gamma=auto, classifier__kernel=sigmoid;, score=0.615 total time=   0.0s\n",
      "[CV 1/5] END classifier=SVC(), classifier__C=0.7, classifier__coef0=0.5, classifier__gamma=auto, classifier__kernel=sigmoid;, score=0.648 total time=   0.2s\n",
      "[CV 5/5] END classifier=SVC(), classifier__C=0.7, classifier__coef0=0.1, classifier__gamma=auto, classifier__kernel=linear;, score=0.967 total time=   8.2s\n",
      "[CV 5/5] END classifier=SVC(), classifier__C=0.7, classifier__coef0=0.0, classifier__gamma=auto, classifier__kernel=linear;, score=0.967 total time=  13.4s\n",
      "[CV 1/5] END classifier=SVC(), classifier__C=0.7, classifier__coef0=1, classifier__gamma=scale, classifier__kernel=linear;, score=0.912 total time=   1.7s\n",
      "[CV 1/5] END classifier=SVC(), classifier__C=0.7, classifier__coef0=1, classifier__gamma=scale, classifier__kernel=rbf;, score=0.857 total time=   0.0s\n",
      "[CV 2/5] END classifier=SVC(), classifier__C=0.7, classifier__coef0=1, classifier__gamma=scale, classifier__kernel=rbf;, score=0.912 total time=   0.0s\n",
      "[CV 3/5] END classifier=SVC(), classifier__C=0.7, classifier__coef0=1, classifier__gamma=scale, classifier__kernel=rbf;, score=0.890 total time=   0.0s\n",
      "[CV 4/5] END classifier=SVC(), classifier__C=0.7, classifier__coef0=1, classifier__gamma=scale, classifier__kernel=rbf;, score=0.934 total time=   0.0s\n",
      "[CV 5/5] END classifier=SVC(), classifier__C=0.7, classifier__coef0=1, classifier__gamma=scale, classifier__kernel=rbf;, score=0.923 total time=   0.0s\n",
      "[CV 5/5] END classifier=SVC(), classifier__C=0.7, classifier__coef0=0.1, classifier__gamma=scale, classifier__kernel=linear;, score=0.967 total time=  11.5s\n",
      "[CV 1/5] END classifier=SVC(), classifier__C=0.7, classifier__coef0=1, classifier__gamma=scale, classifier__kernel=sigmoid;, score=0.648 total time=   0.1s\n",
      "[CV 2/5] END classifier=SVC(), classifier__C=0.7, classifier__coef0=1, classifier__gamma=scale, classifier__kernel=linear;, score=0.989 total time=   2.0s\n",
      "[CV 3/5] END classifier=SVC(), classifier__C=0.7, classifier__coef0=1, classifier__gamma=scale, classifier__kernel=sigmoid;, score=0.582 total time=   0.1s\n",
      "[CV 2/5] END classifier=SVC(), classifier__C=0.7, classifier__coef0=1, classifier__gamma=scale, classifier__kernel=sigmoid;, score=0.626 total time=   0.1s\n",
      "[CV 4/5] END classifier=SVC(), classifier__C=0.7, classifier__coef0=1, classifier__gamma=scale, classifier__kernel=sigmoid;, score=0.626 total time=   0.1s\n",
      "[CV 3/5] END classifier=SVC(), classifier__C=0.7, classifier__coef0=1, classifier__gamma=scale, classifier__kernel=linear;, score=0.956 total time=   2.1s\n",
      "[CV 5/5] END classifier=SVC(), classifier__C=0.7, classifier__coef0=1, classifier__gamma=scale, classifier__kernel=sigmoid;, score=0.615 total time=   0.1s\n",
      "[CV 4/5] END classifier=SVC(), classifier__C=0.7, classifier__coef0=1, classifier__gamma=scale, classifier__kernel=linear;, score=0.967 total time=   2.2s\n",
      "[CV 4/5] END classifier=SVC(), classifier__C=0.7, classifier__coef0=1, classifier__gamma=auto, classifier__kernel=linear;, score=0.967 total time=   1.3s\n",
      "[CV 1/5] END classifier=SVC(), classifier__C=0.7, classifier__coef0=1, classifier__gamma=auto, classifier__kernel=rbf;, score=0.648 total time=   0.1s\n",
      "[CV 2/5] END classifier=SVC(), classifier__C=0.7, classifier__coef0=1, classifier__gamma=auto, classifier__kernel=rbf;, score=0.626 total time=   0.1s\n",
      "[CV 3/5] END classifier=SVC(), classifier__C=0.7, classifier__coef0=1, classifier__gamma=auto, classifier__kernel=rbf;, score=0.582 total time=   0.1s\n",
      "[CV 4/5] END classifier=SVC(), classifier__C=0.7, classifier__coef0=1, classifier__gamma=auto, classifier__kernel=rbf;, score=0.626 total time=   0.0s\n",
      "[CV 5/5] END classifier=SVC(), classifier__C=0.7, classifier__coef0=1, classifier__gamma=auto, classifier__kernel=rbf;, score=0.615 total time=   0.0s\n",
      "[CV 3/5] END classifier=SVC(), classifier__C=0.7, classifier__coef0=1, classifier__gamma=auto, classifier__kernel=linear;, score=0.956 total time=   1.8s\n",
      "[CV 1/5] END classifier=SVC(), classifier__C=0.7, classifier__coef0=1, classifier__gamma=auto, classifier__kernel=sigmoid;, score=0.648 total time=   0.0s\n",
      "[CV 3/5] END classifier=SVC(), classifier__C=0.7, classifier__coef0=1, classifier__gamma=auto, classifier__kernel=sigmoid;, score=0.582 total time=   0.0s\n",
      "[CV 2/5] END classifier=SVC(), classifier__C=0.7, classifier__coef0=1, classifier__gamma=auto, classifier__kernel=sigmoid;, score=0.626 total time=   0.0s\n",
      "[CV 5/5] END classifier=SVC(), classifier__C=0.7, classifier__coef0=1, classifier__gamma=auto, classifier__kernel=sigmoid;, score=0.615 total time=   0.1s\n",
      "[CV 4/5] END classifier=SVC(), classifier__C=0.7, classifier__coef0=1, classifier__gamma=auto, classifier__kernel=sigmoid;, score=0.626 total time=   0.1s\n",
      "[CV 1/5] END classifier=SVC(), classifier__C=0.7, classifier__coef0=1, classifier__gamma=auto, classifier__kernel=linear;, score=0.912 total time=   2.1s\n",
      "[CV 2/5] END classifier=SVC(), classifier__C=0.7, classifier__coef0=1, classifier__gamma=auto, classifier__kernel=linear;, score=0.989 total time=   2.2s\n",
      "[CV 5/5] END classifier=SVC(), classifier__C=0.7, classifier__coef0=0.5, classifier__gamma=scale, classifier__kernel=linear;, score=0.967 total time=  10.9s\n",
      "[CV 4/5] END classifier=SVC(), classifier__C=0.7, classifier__coef0=10, classifier__gamma=scale, classifier__kernel=linear;, score=0.967 total time=   1.5s\n",
      "[CV 1/5] END classifier=SVC(), classifier__C=0.7, classifier__coef0=10, classifier__gamma=scale, classifier__kernel=rbf;, score=0.857 total time=   0.1s\n",
      "[CV 2/5] END classifier=SVC(), classifier__C=0.7, classifier__coef0=10, classifier__gamma=scale, classifier__kernel=rbf;, score=0.912 total time=   0.1s\n",
      "[CV 3/5] END classifier=SVC(), classifier__C=0.7, classifier__coef0=10, classifier__gamma=scale, classifier__kernel=rbf;, score=0.890 total time=   0.1s\n",
      "[CV 4/5] END classifier=SVC(), classifier__C=0.7, classifier__coef0=10, classifier__gamma=scale, classifier__kernel=rbf;, score=0.934 total time=   0.1s\n",
      "[CV 5/5] END classifier=SVC(), classifier__C=0.7, classifier__coef0=10, classifier__gamma=scale, classifier__kernel=rbf;, score=0.923 total time=   0.1s\n",
      "[CV 1/5] END classifier=SVC(), classifier__C=0.7, classifier__coef0=10, classifier__gamma=scale, classifier__kernel=sigmoid;, score=0.648 total time=   0.1s\n",
      "[CV 2/5] END classifier=SVC(), classifier__C=0.7, classifier__coef0=10, classifier__gamma=scale, classifier__kernel=sigmoid;, score=0.626 total time=   0.1s\n",
      "[CV 3/5] END classifier=SVC(), classifier__C=0.7, classifier__coef0=10, classifier__gamma=scale, classifier__kernel=sigmoid;, score=0.582 total time=   0.1s\n",
      "[CV 3/5] END classifier=SVC(), classifier__C=0.7, classifier__coef0=10, classifier__gamma=scale, classifier__kernel=linear;, score=0.956 total time=   2.6s\n",
      "[CV 4/5] END classifier=SVC(), classifier__C=0.7, classifier__coef0=10, classifier__gamma=scale, classifier__kernel=sigmoid;, score=0.626 total time=   0.1s\n",
      "[CV 5/5] END classifier=SVC(), classifier__C=0.7, classifier__coef0=10, classifier__gamma=scale, classifier__kernel=sigmoid;, score=0.615 total time=   0.0s\n",
      "[CV 2/5] END classifier=SVC(), classifier__C=0.7, classifier__coef0=10, classifier__gamma=scale, classifier__kernel=linear;, score=0.989 total time=   3.1s\n",
      "[CV 1/5] END classifier=SVC(), classifier__C=0.7, classifier__coef0=10, classifier__gamma=scale, classifier__kernel=linear;, score=0.912 total time=   3.3s\n",
      "[CV 5/5] END classifier=SVC(), classifier__C=0.7, classifier__coef0=0.5, classifier__gamma=auto, classifier__kernel=linear;, score=0.967 total time=  10.7s\n",
      "[CV 2/5] END classifier=SVC(), classifier__C=0.7, classifier__coef0=10, classifier__gamma=auto, classifier__kernel=linear;, score=0.989 total time=   2.1s\n",
      "[CV 1/5] END classifier=SVC(), classifier__C=0.7, classifier__coef0=10, classifier__gamma=auto, classifier__kernel=rbf;, score=0.648 total time=   0.2s\n",
      "[CV 4/5] END classifier=SVC(), classifier__C=0.7, classifier__coef0=10, classifier__gamma=auto, classifier__kernel=linear;, score=0.967 total time=   1.9s\n",
      "[CV 2/5] END classifier=SVC(), classifier__C=0.7, classifier__coef0=10, classifier__gamma=auto, classifier__kernel=rbf;, score=0.626 total time=   0.1s\n",
      "[CV 3/5] END classifier=SVC(), classifier__C=0.7, classifier__coef0=10, classifier__gamma=auto, classifier__kernel=rbf;, score=0.582 total time=   0.1s\n",
      "[CV 4/5] END classifier=SVC(), classifier__C=0.7, classifier__coef0=10, classifier__gamma=auto, classifier__kernel=rbf;, score=0.626 total time=   0.1s\n",
      "[CV 5/5] END classifier=SVC(), classifier__C=0.7, classifier__coef0=10, classifier__gamma=auto, classifier__kernel=rbf;, score=0.615 total time=   0.1s\n",
      "[CV 1/5] END classifier=SVC(), classifier__C=0.7, classifier__coef0=10, classifier__gamma=auto, classifier__kernel=sigmoid;, score=0.648 total time=   0.0s\n",
      "[CV 3/5] END classifier=SVC(), classifier__C=0.7, classifier__coef0=10, classifier__gamma=auto, classifier__kernel=sigmoid;, score=0.582 total time=   0.0s\n",
      "[CV 2/5] END classifier=SVC(), classifier__C=0.7, classifier__coef0=10, classifier__gamma=auto, classifier__kernel=sigmoid;, score=0.626 total time=   0.1s\n",
      "[CV 4/5] END classifier=SVC(), classifier__C=0.7, classifier__coef0=10, classifier__gamma=auto, classifier__kernel=sigmoid;, score=0.626 total time=   0.0s\n",
      "[CV 5/5] END classifier=SVC(), classifier__C=0.7, classifier__coef0=10, classifier__gamma=auto, classifier__kernel=sigmoid;, score=0.615 total time=   0.1s\n",
      "[CV 1/5] END classifier=SVC(), classifier__C=0.7, classifier__coef0=10, classifier__gamma=auto, classifier__kernel=linear;, score=0.912 total time=   3.5s\n",
      "[CV 5/5] END classifier=SVC(), classifier__C=0.7, classifier__coef0=1, classifier__gamma=auto, classifier__kernel=linear;, score=0.967 total time=   7.2s\n",
      "[CV 3/5] END classifier=SVC(), classifier__C=0.7, classifier__coef0=10, classifier__gamma=auto, classifier__kernel=linear;, score=0.956 total time=   3.5s\n",
      "[CV 4/5] END classifier=SVC(), classifier__C=0.7, classifier__coef0=100, classifier__gamma=scale, classifier__kernel=linear;, score=0.967 total time=   0.7s\n",
      "[CV 1/5] END classifier=SVC(), classifier__C=0.7, classifier__coef0=100, classifier__gamma=scale, classifier__kernel=rbf;, score=0.857 total time=   0.0s\n",
      "[CV 2/5] END classifier=SVC(), classifier__C=0.7, classifier__coef0=100, classifier__gamma=scale, classifier__kernel=rbf;, score=0.912 total time=   0.0s\n",
      "[CV 3/5] END classifier=SVC(), classifier__C=0.7, classifier__coef0=100, classifier__gamma=scale, classifier__kernel=rbf;, score=0.890 total time=   0.0s\n",
      "[CV 4/5] END classifier=SVC(), classifier__C=0.7, classifier__coef0=100, classifier__gamma=scale, classifier__kernel=rbf;, score=0.934 total time=   0.0s\n",
      "[CV 5/5] END classifier=SVC(), classifier__C=0.7, classifier__coef0=100, classifier__gamma=scale, classifier__kernel=rbf;, score=0.923 total time=   0.0s\n",
      "[CV 1/5] END classifier=SVC(), classifier__C=0.7, classifier__coef0=100, classifier__gamma=scale, classifier__kernel=sigmoid;, score=0.648 total time=   0.0s\n",
      "[CV 2/5] END classifier=SVC(), classifier__C=0.7, classifier__coef0=100, classifier__gamma=scale, classifier__kernel=sigmoid;, score=0.626 total time=   0.0s\n",
      "[CV 3/5] END classifier=SVC(), classifier__C=0.7, classifier__coef0=100, classifier__gamma=scale, classifier__kernel=sigmoid;, score=0.582 total time=   0.0s\n",
      "[CV 4/5] END classifier=SVC(), classifier__C=0.7, classifier__coef0=100, classifier__gamma=scale, classifier__kernel=sigmoid;, score=0.626 total time=   0.0s\n",
      "[CV 5/5] END classifier=SVC(), classifier__C=0.7, classifier__coef0=100, classifier__gamma=scale, classifier__kernel=sigmoid;, score=0.615 total time=   0.0s\n",
      "[CV 3/5] END classifier=SVC(), classifier__C=0.7, classifier__coef0=100, classifier__gamma=scale, classifier__kernel=linear;, score=0.956 total time=   1.2s\n",
      "[CV 2/5] END classifier=SVC(), classifier__C=0.7, classifier__coef0=100, classifier__gamma=scale, classifier__kernel=linear;, score=0.989 total time=   3.0s\n",
      "[CV 5/5] END classifier=SVC(), classifier__C=0.7, classifier__coef0=1, classifier__gamma=scale, classifier__kernel=linear;, score=0.967 total time=  12.0s\n",
      "[CV 1/5] END classifier=SVC(), classifier__C=0.7, classifier__coef0=100, classifier__gamma=auto, classifier__kernel=linear;, score=0.912 total time=   1.8s\n",
      "[CV 1/5] END classifier=SVC(), classifier__C=0.7, classifier__coef0=100, classifier__gamma=scale, classifier__kernel=linear;, score=0.912 total time=   3.5s\n",
      "[CV 1/5] END classifier=SVC(), classifier__C=0.7, classifier__coef0=100, classifier__gamma=auto, classifier__kernel=rbf;, score=0.648 total time=   0.0s\n",
      "[CV 2/5] END classifier=SVC(), classifier__C=0.7, classifier__coef0=100, classifier__gamma=auto, classifier__kernel=rbf;, score=0.626 total time=   0.0s\n",
      "[CV 3/5] END classifier=SVC(), classifier__C=0.7, classifier__coef0=100, classifier__gamma=auto, classifier__kernel=rbf;, score=0.582 total time=   0.0s\n",
      "[CV 4/5] END classifier=SVC(), classifier__C=0.7, classifier__coef0=100, classifier__gamma=auto, classifier__kernel=rbf;, score=0.626 total time=   0.0s\n",
      "[CV 5/5] END classifier=SVC(), classifier__C=0.7, classifier__coef0=100, classifier__gamma=auto, classifier__kernel=rbf;, score=0.615 total time=   0.0s\n",
      "[CV 1/5] END classifier=SVC(), classifier__C=0.7, classifier__coef0=100, classifier__gamma=auto, classifier__kernel=sigmoid;, score=0.648 total time=   0.0s\n",
      "[CV 2/5] END classifier=SVC(), classifier__C=0.7, classifier__coef0=100, classifier__gamma=auto, classifier__kernel=sigmoid;, score=0.626 total time=   0.0s\n",
      "[CV 3/5] END classifier=SVC(), classifier__C=0.7, classifier__coef0=100, classifier__gamma=auto, classifier__kernel=sigmoid;, score=0.582 total time=   0.0s\n",
      "[CV 4/5] END classifier=SVC(), classifier__C=0.7, classifier__coef0=100, classifier__gamma=auto, classifier__kernel=sigmoid;, score=0.626 total time=   0.0s\n",
      "[CV 5/5] END classifier=SVC(), classifier__C=0.7, classifier__coef0=100, classifier__gamma=auto, classifier__kernel=sigmoid;, score=0.615 total time=   0.0s\n",
      "[CV 2/5] END classifier=SVC(), classifier__C=0.7, classifier__coef0=100, classifier__gamma=auto, classifier__kernel=linear;, score=0.989 total time=   2.2s[CV 4/5] END classifier=SVC(), classifier__C=0.7, classifier__coef0=100, classifier__gamma=auto, classifier__kernel=linear;, score=0.967 total time=   0.6s\n",
      "\n",
      "[CV 3/5] END classifier=SVC(), classifier__C=0.8, classifier__coef0=-10.0, classifier__gamma=scale, classifier__kernel=linear;, score=0.956 total time=   1.9s\n",
      "[CV 3/5] END classifier=SVC(), classifier__C=0.7, classifier__coef0=100, classifier__gamma=auto, classifier__kernel=linear;, score=0.956 total time=   3.1s\n",
      "[CV 2/5] END classifier=SVC(), classifier__C=0.8, classifier__coef0=-10.0, classifier__gamma=scale, classifier__kernel=linear;, score=0.978 total time=   3.0s\n",
      "[CV 1/5] END classifier=SVC(), classifier__C=0.8, classifier__coef0=-10.0, classifier__gamma=scale, classifier__kernel=rbf;, score=0.868 total time=   0.0s\n",
      "[CV 2/5] END classifier=SVC(), classifier__C=0.8, classifier__coef0=-10.0, classifier__gamma=scale, classifier__kernel=rbf;, score=0.912 total time=   0.0s\n",
      "[CV 3/5] END classifier=SVC(), classifier__C=0.8, classifier__coef0=-10.0, classifier__gamma=scale, classifier__kernel=rbf;, score=0.890 total time=   0.0s\n",
      "[CV 4/5] END classifier=SVC(), classifier__C=0.8, classifier__coef0=-10.0, classifier__gamma=scale, classifier__kernel=rbf;, score=0.945 total time=   0.0s\n",
      "[CV 5/5] END classifier=SVC(), classifier__C=0.8, classifier__coef0=-10.0, classifier__gamma=scale, classifier__kernel=rbf;, score=0.923 total time=   0.0s\n",
      "[CV 1/5] END classifier=SVC(), classifier__C=0.8, classifier__coef0=-10.0, classifier__gamma=scale, classifier__kernel=sigmoid;, score=0.648 total time=   0.1s\n",
      "[CV 2/5] END classifier=SVC(), classifier__C=0.8, classifier__coef0=-10.0, classifier__gamma=scale, classifier__kernel=sigmoid;, score=0.626 total time=   0.0s\n",
      "[CV 3/5] END classifier=SVC(), classifier__C=0.8, classifier__coef0=-10.0, classifier__gamma=scale, classifier__kernel=sigmoid;, score=0.582 total time=   0.0s\n",
      "[CV 4/5] END classifier=SVC(), classifier__C=0.8, classifier__coef0=-10.0, classifier__gamma=scale, classifier__kernel=sigmoid;, score=0.626 total time=   0.0s\n",
      "[CV 5/5] END classifier=SVC(), classifier__C=0.8, classifier__coef0=-10.0, classifier__gamma=scale, classifier__kernel=sigmoid;, score=0.615 total time=   0.0s\n",
      "[CV 4/5] END classifier=SVC(), classifier__C=0.8, classifier__coef0=-10.0, classifier__gamma=scale, classifier__kernel=linear;, score=0.967 total time=   1.6s\n",
      "[CV 5/5] END classifier=SVC(), classifier__C=0.7, classifier__coef0=10, classifier__gamma=scale, classifier__kernel=linear;, score=0.967 total time=  12.2s\n",
      "[CV 1/5] END classifier=SVC(), classifier__C=0.8, classifier__coef0=-10.0, classifier__gamma=scale, classifier__kernel=linear;, score=0.912 total time=   4.9s\n",
      "[CV 3/5] END classifier=SVC(), classifier__C=0.8, classifier__coef0=-10.0, classifier__gamma=auto, classifier__kernel=linear;, score=0.956 total time=   0.9s\n",
      "[CV 5/5] END classifier=SVC(), classifier__C=0.7, classifier__coef0=10, classifier__gamma=auto, classifier__kernel=linear;, score=0.967 total time=  10.3s\n",
      "[CV 1/5] END classifier=SVC(), classifier__C=0.8, classifier__coef0=-10.0, classifier__gamma=auto, classifier__kernel=rbf;, score=0.648 total time=   0.1s\n",
      "[CV 2/5] END classifier=SVC(), classifier__C=0.8, classifier__coef0=-10.0, classifier__gamma=auto, classifier__kernel=rbf;, score=0.626 total time=   0.0s\n",
      "[CV 3/5] END classifier=SVC(), classifier__C=0.8, classifier__coef0=-10.0, classifier__gamma=auto, classifier__kernel=rbf;, score=0.582 total time=   0.0s\n",
      "[CV 4/5] END classifier=SVC(), classifier__C=0.8, classifier__coef0=-10.0, classifier__gamma=auto, classifier__kernel=rbf;, score=0.626 total time=   0.2s\n",
      "[CV 5/5] END classifier=SVC(), classifier__C=0.8, classifier__coef0=-10.0, classifier__gamma=auto, classifier__kernel=rbf;, score=0.615 total time=   0.2s\n",
      "[CV 1/5] END classifier=SVC(), classifier__C=0.8, classifier__coef0=-10.0, classifier__gamma=auto, classifier__kernel=sigmoid;, score=0.648 total time=   0.1s\n",
      "[CV 2/5] END classifier=SVC(), classifier__C=0.8, classifier__coef0=-10.0, classifier__gamma=auto, classifier__kernel=sigmoid;, score=0.626 total time=   0.1s\n",
      "[CV 3/5] END classifier=SVC(), classifier__C=0.8, classifier__coef0=-10.0, classifier__gamma=auto, classifier__kernel=sigmoid;, score=0.582 total time=   0.1s\n",
      "[CV 4/5] END classifier=SVC(), classifier__C=0.8, classifier__coef0=-10.0, classifier__gamma=auto, classifier__kernel=sigmoid;, score=0.626 total time=   0.1s\n",
      "[CV 5/5] END classifier=SVC(), classifier__C=0.8, classifier__coef0=-10.0, classifier__gamma=auto, classifier__kernel=sigmoid;, score=0.615 total time=   0.1s\n",
      "[CV 4/5] END classifier=SVC(), classifier__C=0.8, classifier__coef0=-10.0, classifier__gamma=auto, classifier__kernel=linear;, score=0.967 total time=   2.7s\n",
      "[CV 1/5] END classifier=SVC(), classifier__C=0.8, classifier__coef0=-10.0, classifier__gamma=auto, classifier__kernel=linear;, score=0.912 total time=   4.5s\n",
      "[CV 2/5] END classifier=SVC(), classifier__C=0.8, classifier__coef0=-10.0, classifier__gamma=auto, classifier__kernel=linear;, score=0.978 total time=   4.7s\n",
      "[CV 5/5] END classifier=SVC(), classifier__C=0.8, classifier__coef0=-10.0, classifier__gamma=auto, classifier__kernel=linear;, score=0.967 total time=   3.8s\n",
      "[CV 5/5] END classifier=SVC(), classifier__C=0.8, classifier__coef0=-10.0, classifier__gamma=scale, classifier__kernel=linear;, score=0.967 total time=   6.8s\n",
      "[CV 1/5] END classifier=SVC(), classifier__C=0.8, classifier__coef0=-1.0, classifier__gamma=scale, classifier__kernel=rbf;, score=0.868 total time=   0.0s\n",
      "[CV 2/5] END classifier=SVC(), classifier__C=0.8, classifier__coef0=-1.0, classifier__gamma=scale, classifier__kernel=rbf;, score=0.912 total time=   0.0s\n",
      "[CV 3/5] END classifier=SVC(), classifier__C=0.8, classifier__coef0=-1.0, classifier__gamma=scale, classifier__kernel=rbf;, score=0.890 total time=   0.1s\n",
      "[CV 4/5] END classifier=SVC(), classifier__C=0.8, classifier__coef0=-1.0, classifier__gamma=scale, classifier__kernel=rbf;, score=0.945 total time=   0.1s\n",
      "[CV 5/5] END classifier=SVC(), classifier__C=0.8, classifier__coef0=-1.0, classifier__gamma=scale, classifier__kernel=rbf;, score=0.923 total time=   0.1s\n",
      "[CV 1/5] END classifier=SVC(), classifier__C=0.8, classifier__coef0=-1.0, classifier__gamma=scale, classifier__kernel=sigmoid;, score=0.692 total time=   0.1s\n",
      "[CV 2/5] END classifier=SVC(), classifier__C=0.8, classifier__coef0=-1.0, classifier__gamma=scale, classifier__kernel=sigmoid;, score=0.582 total time=   0.1s\n",
      "[CV 3/5] END classifier=SVC(), classifier__C=0.8, classifier__coef0=-1.0, classifier__gamma=scale, classifier__kernel=linear;, score=0.956 total time=   1.6s\n",
      "[CV 3/5] END classifier=SVC(), classifier__C=0.8, classifier__coef0=-1.0, classifier__gamma=scale, classifier__kernel=sigmoid;, score=0.703 total time=   0.0s\n",
      "[CV 5/5] END classifier=SVC(), classifier__C=0.8, classifier__coef0=-1.0, classifier__gamma=scale, classifier__kernel=sigmoid;, score=0.747 total time=   0.0s\n",
      "[CV 4/5] END classifier=SVC(), classifier__C=0.8, classifier__coef0=-1.0, classifier__gamma=scale, classifier__kernel=sigmoid;, score=0.692 total time=   0.1s\n",
      "[CV 2/5] END classifier=SVC(), classifier__C=0.8, classifier__coef0=-1.0, classifier__gamma=scale, classifier__kernel=linear;, score=0.978 total time=   3.3s\n",
      "[CV 4/5] END classifier=SVC(), classifier__C=0.8, classifier__coef0=-1.0, classifier__gamma=scale, classifier__kernel=linear;, score=0.967 total time=   2.8s\n",
      "[CV 5/5] END classifier=SVC(), classifier__C=0.7, classifier__coef0=100, classifier__gamma=auto, classifier__kernel=linear;, score=0.967 total time=  12.2s\n",
      "[CV 3/5] END classifier=SVC(), classifier__C=0.8, classifier__coef0=-1.0, classifier__gamma=auto, classifier__kernel=linear;, score=0.956 total time=   1.1s\n",
      "[CV 1/5] END classifier=SVC(), classifier__C=0.8, classifier__coef0=-1.0, classifier__gamma=auto, classifier__kernel=rbf;, score=0.648 total time=   0.1s\n",
      "[CV 2/5] END classifier=SVC(), classifier__C=0.8, classifier__coef0=-1.0, classifier__gamma=auto, classifier__kernel=rbf;, score=0.626 total time=   0.1s\n",
      "[CV 3/5] END classifier=SVC(), classifier__C=0.8, classifier__coef0=-1.0, classifier__gamma=auto, classifier__kernel=rbf;, score=0.582 total time=   0.0s\n",
      "[CV 4/5] END classifier=SVC(), classifier__C=0.8, classifier__coef0=-1.0, classifier__gamma=auto, classifier__kernel=rbf;, score=0.626 total time=   0.0s\n",
      "[CV 5/5] END classifier=SVC(), classifier__C=0.8, classifier__coef0=-1.0, classifier__gamma=auto, classifier__kernel=rbf;, score=0.615 total time=   0.0s\n",
      "[CV 1/5] END classifier=SVC(), classifier__C=0.8, classifier__coef0=-1.0, classifier__gamma=auto, classifier__kernel=sigmoid;, score=0.648 total time=   0.1s\n",
      "[CV 2/5] END classifier=SVC(), classifier__C=0.8, classifier__coef0=-1.0, classifier__gamma=auto, classifier__kernel=sigmoid;, score=0.626 total time=   0.1s\n",
      "[CV 5/5] END classifier=SVC(), classifier__C=0.7, classifier__coef0=100, classifier__gamma=scale, classifier__kernel=linear;, score=0.967 total time=  15.9s\n",
      "[CV 3/5] END classifier=SVC(), classifier__C=0.8, classifier__coef0=-1.0, classifier__gamma=auto, classifier__kernel=sigmoid;, score=0.582 total time=   0.1s\n",
      "[CV 4/5] END classifier=SVC(), classifier__C=0.8, classifier__coef0=-1.0, classifier__gamma=auto, classifier__kernel=sigmoid;, score=0.626 total time=   0.1s\n",
      "[CV 5/5] END classifier=SVC(), classifier__C=0.8, classifier__coef0=-1.0, classifier__gamma=auto, classifier__kernel=sigmoid;, score=0.615 total time=   0.1s\n",
      "[CV 1/5] END classifier=SVC(), classifier__C=0.8, classifier__coef0=-1.0, classifier__gamma=auto, classifier__kernel=linear;, score=0.912 total time=   3.6s\n",
      "[CV 1/5] END classifier=SVC(), classifier__C=0.8, classifier__coef0=-1.0, classifier__gamma=scale, classifier__kernel=linear;, score=0.912 total time=   7.0s\n",
      "[CV 3/5] END classifier=SVC(), classifier__C=0.8, classifier__coef0=0.0, classifier__gamma=scale, classifier__kernel=linear;, score=0.956 total time=   1.0s\n",
      "[CV 4/5] END classifier=SVC(), classifier__C=0.8, classifier__coef0=-1.0, classifier__gamma=auto, classifier__kernel=linear;, score=0.967 total time=   3.3s\n",
      "[CV 1/5] END classifier=SVC(), classifier__C=0.8, classifier__coef0=0.0, classifier__gamma=scale, classifier__kernel=rbf;, score=0.868 total time=   0.0s\n",
      "[CV 2/5] END classifier=SVC(), classifier__C=0.8, classifier__coef0=0.0, classifier__gamma=scale, classifier__kernel=rbf;, score=0.912 total time=   0.1s\n",
      "[CV 3/5] END classifier=SVC(), classifier__C=0.8, classifier__coef0=0.0, classifier__gamma=scale, classifier__kernel=rbf;, score=0.890 total time=   0.1s\n",
      "[CV 4/5] END classifier=SVC(), classifier__C=0.8, classifier__coef0=0.0, classifier__gamma=scale, classifier__kernel=rbf;, score=0.945 total time=   0.1s\n",
      "[CV 5/5] END classifier=SVC(), classifier__C=0.8, classifier__coef0=0.0, classifier__gamma=scale, classifier__kernel=rbf;, score=0.923 total time=   0.1s\n",
      "[CV 4/5] END classifier=SVC(), classifier__C=0.8, classifier__coef0=0.0, classifier__gamma=scale, classifier__kernel=linear;, score=0.967 total time=   1.3s\n",
      "[CV 1/5] END classifier=SVC(), classifier__C=0.8, classifier__coef0=0.0, classifier__gamma=scale, classifier__kernel=sigmoid;, score=0.462 total time=   0.1s\n",
      "[CV 2/5] END classifier=SVC(), classifier__C=0.8, classifier__coef0=0.0, classifier__gamma=scale, classifier__kernel=sigmoid;, score=0.527 total time=   0.1s\n",
      "[CV 3/5] END classifier=SVC(), classifier__C=0.8, classifier__coef0=0.0, classifier__gamma=scale, classifier__kernel=sigmoid;, score=0.505 total time=   0.1s\n",
      "[CV 4/5] END classifier=SVC(), classifier__C=0.8, classifier__coef0=0.0, classifier__gamma=scale, classifier__kernel=sigmoid;, score=0.407 total time=   0.2s\n",
      "[CV 5/5] END classifier=SVC(), classifier__C=0.8, classifier__coef0=0.0, classifier__gamma=scale, classifier__kernel=sigmoid;, score=0.462 total time=   0.2s\n",
      "[CV 2/5] END classifier=SVC(), classifier__C=0.8, classifier__coef0=0.0, classifier__gamma=scale, classifier__kernel=linear;, score=0.978 total time=   2.7s\n",
      "[CV 2/5] END classifier=SVC(), classifier__C=0.8, classifier__coef0=-1.0, classifier__gamma=auto, classifier__kernel=linear;, score=0.978 total time=   6.8s\n",
      "[CV 5/5] END classifier=SVC(), classifier__C=0.8, classifier__coef0=-1.0, classifier__gamma=scale, classifier__kernel=linear;, score=0.967 total time=   7.9s\n",
      "[CV 1/5] END classifier=SVC(), classifier__C=0.8, classifier__coef0=0.0, classifier__gamma=scale, classifier__kernel=linear;, score=0.912 total time=   4.1s\n",
      "[CV 1/5] END classifier=SVC(), classifier__C=0.8, classifier__coef0=0.0, classifier__gamma=auto, classifier__kernel=rbf;, score=0.648 total time=   0.0s\n",
      "[CV 2/5] END classifier=SVC(), classifier__C=0.8, classifier__coef0=0.0, classifier__gamma=auto, classifier__kernel=rbf;, score=0.626 total time=   0.0s\n",
      "[CV 3/5] END classifier=SVC(), classifier__C=0.8, classifier__coef0=0.0, classifier__gamma=auto, classifier__kernel=rbf;, score=0.582 total time=   0.0s\n",
      "[CV 4/5] END classifier=SVC(), classifier__C=0.8, classifier__coef0=0.0, classifier__gamma=auto, classifier__kernel=rbf;, score=0.626 total time=   0.0s\n",
      "[CV 5/5] END classifier=SVC(), classifier__C=0.8, classifier__coef0=0.0, classifier__gamma=auto, classifier__kernel=rbf;, score=0.615 total time=   0.0s\n",
      "[CV 1/5] END classifier=SVC(), classifier__C=0.8, classifier__coef0=0.0, classifier__gamma=auto, classifier__kernel=sigmoid;, score=0.648 total time=   0.0s\n",
      "[CV 2/5] END classifier=SVC(), classifier__C=0.8, classifier__coef0=0.0, classifier__gamma=auto, classifier__kernel=sigmoid;, score=0.626 total time=   0.0s\n",
      "[CV 3/5] END classifier=SVC(), classifier__C=0.8, classifier__coef0=0.0, classifier__gamma=auto, classifier__kernel=sigmoid;, score=0.582 total time=   0.1s\n",
      "[CV 4/5] END classifier=SVC(), classifier__C=0.8, classifier__coef0=0.0, classifier__gamma=auto, classifier__kernel=sigmoid;, score=0.626 total time=   0.1s\n",
      "[CV 5/5] END classifier=SVC(), classifier__C=0.8, classifier__coef0=0.0, classifier__gamma=auto, classifier__kernel=sigmoid;, score=0.615 total time=   0.1s\n",
      "[CV 3/5] END classifier=SVC(), classifier__C=0.8, classifier__coef0=0.0, classifier__gamma=auto, classifier__kernel=linear;, score=0.956 total time=   2.9s\n",
      "[CV 5/5] END classifier=SVC(), classifier__C=0.8, classifier__coef0=-1.0, classifier__gamma=auto, classifier__kernel=linear;, score=0.967 total time=   7.2s\n",
      "[CV 5/5] END classifier=SVC(), classifier__C=0.8, classifier__coef0=0.0, classifier__gamma=scale, classifier__kernel=linear;, score=0.967 total time=   4.6s\n",
      "[CV 4/5] END classifier=SVC(), classifier__C=0.8, classifier__coef0=0.0, classifier__gamma=auto, classifier__kernel=linear;, score=0.967 total time=   2.6s\n",
      "[CV 2/5] END classifier=SVC(), classifier__C=0.8, classifier__coef0=0.0, classifier__gamma=auto, classifier__kernel=linear;, score=0.978 total time=   3.7s\n",
      "[CV 1/5] END classifier=SVC(), classifier__C=0.8, classifier__coef0=0.1, classifier__gamma=scale, classifier__kernel=rbf;, score=0.868 total time=   0.0s\n",
      "[CV 2/5] END classifier=SVC(), classifier__C=0.8, classifier__coef0=0.1, classifier__gamma=scale, classifier__kernel=rbf;, score=0.912 total time=   0.0s\n",
      "[CV 3/5] END classifier=SVC(), classifier__C=0.8, classifier__coef0=0.1, classifier__gamma=scale, classifier__kernel=rbf;, score=0.890 total time=   0.0s\n",
      "[CV 4/5] END classifier=SVC(), classifier__C=0.8, classifier__coef0=0.1, classifier__gamma=scale, classifier__kernel=rbf;, score=0.945 total time=   0.0s\n",
      "[CV 5/5] END classifier=SVC(), classifier__C=0.8, classifier__coef0=0.1, classifier__gamma=scale, classifier__kernel=rbf;, score=0.923 total time=   0.1s\n",
      "[CV 1/5] END classifier=SVC(), classifier__C=0.8, classifier__coef0=0.1, classifier__gamma=scale, classifier__kernel=sigmoid;, score=0.462 total time=   0.1s\n",
      "[CV 2/5] END classifier=SVC(), classifier__C=0.8, classifier__coef0=0.1, classifier__gamma=scale, classifier__kernel=sigmoid;, score=0.637 total time=   0.1s\n",
      "[CV 3/5] END classifier=SVC(), classifier__C=0.8, classifier__coef0=0.1, classifier__gamma=scale, classifier__kernel=sigmoid;, score=0.593 total time=   0.1s\n",
      "[CV 4/5] END classifier=SVC(), classifier__C=0.8, classifier__coef0=0.1, classifier__gamma=scale, classifier__kernel=sigmoid;, score=0.495 total time=   0.1s\n",
      "[CV 1/5] END classifier=SVC(), classifier__C=0.8, classifier__coef0=0.0, classifier__gamma=auto, classifier__kernel=linear;, score=0.912 total time=   4.6s\n",
      "[CV 5/5] END classifier=SVC(), classifier__C=0.8, classifier__coef0=0.1, classifier__gamma=scale, classifier__kernel=sigmoid;, score=0.615 total time=   0.2s\n",
      "[CV 3/5] END classifier=SVC(), classifier__C=0.8, classifier__coef0=0.1, classifier__gamma=scale, classifier__kernel=linear;, score=0.956 total time=   1.6s\n",
      "[CV 4/5] END classifier=SVC(), classifier__C=0.8, classifier__coef0=0.1, classifier__gamma=scale, classifier__kernel=linear;, score=0.967 total time=   1.8s\n",
      "[CV 3/5] END classifier=SVC(), classifier__C=0.8, classifier__coef0=0.1, classifier__gamma=auto, classifier__kernel=linear;, score=0.956 total time=   1.4s\n",
      "[CV 5/5] END classifier=SVC(), classifier__C=0.8, classifier__coef0=0.0, classifier__gamma=auto, classifier__kernel=linear;, score=0.967 total time=   5.4s\n",
      "[CV 1/5] END classifier=SVC(), classifier__C=0.8, classifier__coef0=0.1, classifier__gamma=auto, classifier__kernel=rbf;, score=0.648 total time=   0.1s\n",
      "[CV 2/5] END classifier=SVC(), classifier__C=0.8, classifier__coef0=0.1, classifier__gamma=scale, classifier__kernel=linear;, score=0.978 total time=   3.8s\n",
      "[CV 2/5] END classifier=SVC(), classifier__C=0.8, classifier__coef0=0.1, classifier__gamma=auto, classifier__kernel=rbf;, score=0.626 total time=   0.0s\n",
      "[CV 4/5] END classifier=SVC(), classifier__C=0.8, classifier__coef0=0.1, classifier__gamma=auto, classifier__kernel=rbf;, score=0.626 total time=   0.0s\n",
      "[CV 5/5] END classifier=SVC(), classifier__C=0.8, classifier__coef0=0.1, classifier__gamma=auto, classifier__kernel=rbf;, score=0.615 total time=   0.0s\n",
      "[CV 3/5] END classifier=SVC(), classifier__C=0.8, classifier__coef0=0.1, classifier__gamma=auto, classifier__kernel=rbf;, score=0.582 total time=   0.1s\n",
      "[CV 1/5] END classifier=SVC(), classifier__C=0.8, classifier__coef0=0.1, classifier__gamma=auto, classifier__kernel=sigmoid;, score=0.648 total time=   0.0s\n",
      "[CV 3/5] END classifier=SVC(), classifier__C=0.8, classifier__coef0=0.1, classifier__gamma=auto, classifier__kernel=sigmoid;, score=0.582 total time=   0.0s\n",
      "[CV 4/5] END classifier=SVC(), classifier__C=0.8, classifier__coef0=0.1, classifier__gamma=auto, classifier__kernel=sigmoid;, score=0.626 total time=   0.0s\n",
      "[CV 2/5] END classifier=SVC(), classifier__C=0.8, classifier__coef0=0.1, classifier__gamma=auto, classifier__kernel=sigmoid;, score=0.626 total time=   0.1s\n",
      "[CV 1/5] END classifier=SVC(), classifier__C=0.8, classifier__coef0=0.1, classifier__gamma=scale, classifier__kernel=linear;, score=0.912 total time=   5.0s\n",
      "[CV 5/5] END classifier=SVC(), classifier__C=0.8, classifier__coef0=0.1, classifier__gamma=auto, classifier__kernel=sigmoid;, score=0.615 total time=   0.0s\n",
      "[CV 1/5] END classifier=SVC(), classifier__C=0.8, classifier__coef0=0.1, classifier__gamma=auto, classifier__kernel=linear;, score=0.912 total time=   2.8s\n",
      "[CV 5/5] END classifier=SVC(), classifier__C=0.8, classifier__coef0=0.1, classifier__gamma=scale, classifier__kernel=linear;, score=0.967 total time=   3.9s\n",
      "[CV 4/5] END classifier=SVC(), classifier__C=0.8, classifier__coef0=0.1, classifier__gamma=auto, classifier__kernel=linear;, score=0.967 total time=   2.5s\n",
      "[CV 1/5] END classifier=SVC(), classifier__C=0.8, classifier__coef0=0.5, classifier__gamma=scale, classifier__kernel=rbf;, score=0.868 total time=   0.0s\n",
      "[CV 2/5] END classifier=SVC(), classifier__C=0.8, classifier__coef0=0.5, classifier__gamma=scale, classifier__kernel=rbf;, score=0.912 total time=   0.0s\n",
      "[CV 3/5] END classifier=SVC(), classifier__C=0.8, classifier__coef0=0.5, classifier__gamma=scale, classifier__kernel=rbf;, score=0.890 total time=   0.0s\n",
      "[CV 4/5] END classifier=SVC(), classifier__C=0.8, classifier__coef0=0.5, classifier__gamma=scale, classifier__kernel=rbf;, score=0.945 total time=   0.0s\n",
      "[CV 5/5] END classifier=SVC(), classifier__C=0.8, classifier__coef0=0.5, classifier__gamma=scale, classifier__kernel=rbf;, score=0.923 total time=   0.1s\n",
      "[CV 1/5] END classifier=SVC(), classifier__C=0.8, classifier__coef0=0.5, classifier__gamma=scale, classifier__kernel=sigmoid;, score=0.648 total time=   0.1s\n",
      "[CV 2/5] END classifier=SVC(), classifier__C=0.8, classifier__coef0=0.5, classifier__gamma=scale, classifier__kernel=sigmoid;, score=0.626 total time=   0.1s\n",
      "[CV 3/5] END classifier=SVC(), classifier__C=0.8, classifier__coef0=0.5, classifier__gamma=scale, classifier__kernel=sigmoid;, score=0.582 total time=   0.1s\n",
      "[CV 3/5] END classifier=SVC(), classifier__C=0.8, classifier__coef0=0.5, classifier__gamma=scale, classifier__kernel=linear;, score=0.956 total time=   1.5s\n",
      "[CV 4/5] END classifier=SVC(), classifier__C=0.8, classifier__coef0=0.5, classifier__gamma=scale, classifier__kernel=sigmoid;, score=0.626 total time=   0.1s\n",
      "[CV 5/5] END classifier=SVC(), classifier__C=0.8, classifier__coef0=0.5, classifier__gamma=scale, classifier__kernel=sigmoid;, score=0.615 total time=   0.1s\n",
      "[CV 4/5] END classifier=SVC(), classifier__C=0.8, classifier__coef0=0.5, classifier__gamma=scale, classifier__kernel=linear;, score=0.967 total time=   1.5s\n",
      "[CV 2/5] END classifier=SVC(), classifier__C=0.8, classifier__coef0=0.1, classifier__gamma=auto, classifier__kernel=linear;, score=0.978 total time=   4.2s\n",
      "[CV 3/5] END classifier=SVC(), classifier__C=0.8, classifier__coef0=0.5, classifier__gamma=auto, classifier__kernel=linear;, score=0.956 total time=   0.8s\n",
      "[CV 2/5] END classifier=SVC(), classifier__C=0.8, classifier__coef0=0.5, classifier__gamma=scale, classifier__kernel=linear;, score=0.978 total time=   3.8s\n",
      "[CV 1/5] END classifier=SVC(), classifier__C=0.8, classifier__coef0=0.5, classifier__gamma=auto, classifier__kernel=rbf;, score=0.648 total time=   0.1s\n",
      "[CV 2/5] END classifier=SVC(), classifier__C=0.8, classifier__coef0=0.5, classifier__gamma=auto, classifier__kernel=rbf;, score=0.626 total time=   0.1s\n",
      "[CV 3/5] END classifier=SVC(), classifier__C=0.8, classifier__coef0=0.5, classifier__gamma=auto, classifier__kernel=rbf;, score=0.582 total time=   0.1s\n",
      "[CV 4/5] END classifier=SVC(), classifier__C=0.8, classifier__coef0=0.5, classifier__gamma=auto, classifier__kernel=linear;, score=0.967 total time=   2.3s\n",
      "[CV 2/5] END classifier=SVC(), classifier__C=0.8, classifier__coef0=0.5, classifier__gamma=auto, classifier__kernel=linear;, score=0.978 total time=   2.5s\n",
      "[CV 4/5] END classifier=SVC(), classifier__C=0.8, classifier__coef0=0.5, classifier__gamma=auto, classifier__kernel=rbf;, score=0.626 total time=   0.1s[CV 1/5] END classifier=SVC(), classifier__C=0.8, classifier__coef0=0.5, classifier__gamma=auto, classifier__kernel=sigmoid;, score=0.648 total time=   0.0s\n",
      "\n",
      "[CV 2/5] END classifier=SVC(), classifier__C=0.8, classifier__coef0=0.5, classifier__gamma=auto, classifier__kernel=sigmoid;, score=0.626 total time=   0.0s\n",
      "[CV 5/5] END classifier=SVC(), classifier__C=0.8, classifier__coef0=0.5, classifier__gamma=auto, classifier__kernel=rbf;, score=0.615 total time=   0.1s\n",
      "[CV 4/5] END classifier=SVC(), classifier__C=0.8, classifier__coef0=0.5, classifier__gamma=auto, classifier__kernel=sigmoid;, score=0.626 total time=   0.0s\n",
      "[CV 3/5] END classifier=SVC(), classifier__C=0.8, classifier__coef0=0.5, classifier__gamma=auto, classifier__kernel=sigmoid;, score=0.582 total time=   0.1s\n",
      "[CV 5/5] END classifier=SVC(), classifier__C=0.8, classifier__coef0=0.5, classifier__gamma=auto, classifier__kernel=sigmoid;, score=0.615 total time=   0.1s\n",
      "[CV 5/5] END classifier=SVC(), classifier__C=0.8, classifier__coef0=0.1, classifier__gamma=auto, classifier__kernel=linear;, score=0.967 total time=   5.3s\n",
      "[CV 5/5] END classifier=SVC(), classifier__C=0.8, classifier__coef0=0.5, classifier__gamma=scale, classifier__kernel=linear;, score=0.967 total time=   4.6s\n",
      "[CV 3/5] END classifier=SVC(), classifier__C=0.8, classifier__coef0=1, classifier__gamma=scale, classifier__kernel=linear;, score=0.956 total time=   0.8s\n",
      "[CV 1/5] END classifier=SVC(), classifier__C=0.8, classifier__coef0=1, classifier__gamma=scale, classifier__kernel=rbf;, score=0.868 total time=   0.0s\n",
      "[CV 1/5] END classifier=SVC(), classifier__C=0.8, classifier__coef0=0.5, classifier__gamma=scale, classifier__kernel=linear;, score=0.912 total time=   5.2s\n",
      "[CV 2/5] END classifier=SVC(), classifier__C=0.8, classifier__coef0=1, classifier__gamma=scale, classifier__kernel=rbf;, score=0.912 total time=   0.0s\n",
      "[CV 3/5] END classifier=SVC(), classifier__C=0.8, classifier__coef0=1, classifier__gamma=scale, classifier__kernel=rbf;, score=0.890 total time=   0.0s\n",
      "[CV 4/5] END classifier=SVC(), classifier__C=0.8, classifier__coef0=1, classifier__gamma=scale, classifier__kernel=rbf;, score=0.945 total time=   0.0s\n",
      "[CV 5/5] END classifier=SVC(), classifier__C=0.8, classifier__coef0=1, classifier__gamma=scale, classifier__kernel=rbf;, score=0.923 total time=   0.0s\n",
      "[CV 1/5] END classifier=SVC(), classifier__C=0.8, classifier__coef0=1, classifier__gamma=scale, classifier__kernel=sigmoid;, score=0.648 total time=   0.1s\n",
      "[CV 2/5] END classifier=SVC(), classifier__C=0.8, classifier__coef0=1, classifier__gamma=scale, classifier__kernel=sigmoid;, score=0.626 total time=   0.1s\n",
      "[CV 3/5] END classifier=SVC(), classifier__C=0.8, classifier__coef0=1, classifier__gamma=scale, classifier__kernel=sigmoid;, score=0.582 total time=   0.1s\n",
      "[CV 4/5] END classifier=SVC(), classifier__C=0.8, classifier__coef0=1, classifier__gamma=scale, classifier__kernel=sigmoid;, score=0.626 total time=   0.0s\n",
      "[CV 5/5] END classifier=SVC(), classifier__C=0.8, classifier__coef0=1, classifier__gamma=scale, classifier__kernel=sigmoid;, score=0.615 total time=   0.0s\n",
      "[CV 4/5] END classifier=SVC(), classifier__C=0.8, classifier__coef0=1, classifier__gamma=scale, classifier__kernel=linear;, score=0.967 total time=   1.7s\n",
      "[CV 1/5] END classifier=SVC(), classifier__C=0.8, classifier__coef0=0.5, classifier__gamma=auto, classifier__kernel=linear;, score=0.912 total time=   5.1s\n",
      "[CV 5/5] END classifier=SVC(), classifier__C=0.8, classifier__coef0=0.5, classifier__gamma=auto, classifier__kernel=linear;, score=0.967 total time=   4.5s\n",
      "[CV 3/5] END classifier=SVC(), classifier__C=0.8, classifier__coef0=1, classifier__gamma=auto, classifier__kernel=linear;, score=0.956 total time=   1.2s\n",
      "[CV 2/5] END classifier=SVC(), classifier__C=0.8, classifier__coef0=1, classifier__gamma=auto, classifier__kernel=linear;, score=0.978 total time=   2.0s\n",
      "[CV 1/5] END classifier=SVC(), classifier__C=0.8, classifier__coef0=1, classifier__gamma=auto, classifier__kernel=rbf;, score=0.648 total time=   0.1s\n",
      "[CV 2/5] END classifier=SVC(), classifier__C=0.8, classifier__coef0=1, classifier__gamma=auto, classifier__kernel=rbf;, score=0.626 total time=   0.1s\n",
      "[CV 3/5] END classifier=SVC(), classifier__C=0.8, classifier__coef0=1, classifier__gamma=auto, classifier__kernel=rbf;, score=0.582 total time=   0.1s\n",
      "[CV 4/5] END classifier=SVC(), classifier__C=0.8, classifier__coef0=1, classifier__gamma=auto, classifier__kernel=rbf;, score=0.626 total time=   0.1s[CV 5/5] END classifier=SVC(), classifier__C=0.8, classifier__coef0=1, classifier__gamma=auto, classifier__kernel=rbf;, score=0.615 total time=   0.1s\n",
      "\n",
      "[CV 1/5] END classifier=SVC(), classifier__C=0.8, classifier__coef0=1, classifier__gamma=auto, classifier__kernel=sigmoid;, score=0.648 total time=   0.0s\n",
      "[CV 2/5] END classifier=SVC(), classifier__C=0.8, classifier__coef0=1, classifier__gamma=auto, classifier__kernel=sigmoid;, score=0.626 total time=   0.1s\n",
      "[CV 3/5] END classifier=SVC(), classifier__C=0.8, classifier__coef0=1, classifier__gamma=auto, classifier__kernel=sigmoid;, score=0.582 total time=   0.0s\n",
      "[CV 4/5] END classifier=SVC(), classifier__C=0.8, classifier__coef0=1, classifier__gamma=auto, classifier__kernel=sigmoid;, score=0.626 total time=   0.1s\n",
      "[CV 5/5] END classifier=SVC(), classifier__C=0.8, classifier__coef0=1, classifier__gamma=auto, classifier__kernel=sigmoid;, score=0.615 total time=   0.0s\n",
      "[CV 2/5] END classifier=SVC(), classifier__C=0.8, classifier__coef0=1, classifier__gamma=scale, classifier__kernel=linear;, score=0.978 total time=   3.8s\n",
      "[CV 4/5] END classifier=SVC(), classifier__C=0.8, classifier__coef0=1, classifier__gamma=auto, classifier__kernel=linear;, score=0.967 total time=   1.5s\n",
      "[CV 1/5] END classifier=SVC(), classifier__C=0.8, classifier__coef0=1, classifier__gamma=scale, classifier__kernel=linear;, score=0.912 total time=   4.5s\n",
      "[CV 3/5] END classifier=SVC(), classifier__C=0.8, classifier__coef0=10, classifier__gamma=scale, classifier__kernel=linear;, score=0.956 total time=   1.0s\n",
      "[CV 1/5] END classifier=SVC(), classifier__C=0.8, classifier__coef0=10, classifier__gamma=scale, classifier__kernel=rbf;, score=0.868 total time=   0.0s\n",
      "[CV 2/5] END classifier=SVC(), classifier__C=0.8, classifier__coef0=10, classifier__gamma=scale, classifier__kernel=rbf;, score=0.912 total time=   0.0s\n",
      "[CV 3/5] END classifier=SVC(), classifier__C=0.8, classifier__coef0=10, classifier__gamma=scale, classifier__kernel=rbf;, score=0.890 total time=   0.0s\n",
      "[CV 4/5] END classifier=SVC(), classifier__C=0.8, classifier__coef0=10, classifier__gamma=scale, classifier__kernel=rbf;, score=0.945 total time=   0.0s\n",
      "[CV 5/5] END classifier=SVC(), classifier__C=0.8, classifier__coef0=10, classifier__gamma=scale, classifier__kernel=rbf;, score=0.923 total time=   0.0s\n",
      "[CV 1/5] END classifier=SVC(), classifier__C=0.8, classifier__coef0=10, classifier__gamma=scale, classifier__kernel=sigmoid;, score=0.648 total time=   0.1s\n",
      "[CV 2/5] END classifier=SVC(), classifier__C=0.8, classifier__coef0=10, classifier__gamma=scale, classifier__kernel=sigmoid;, score=0.626 total time=   0.1s\n",
      "[CV 3/5] END classifier=SVC(), classifier__C=0.8, classifier__coef0=10, classifier__gamma=scale, classifier__kernel=sigmoid;, score=0.582 total time=   0.0s\n",
      "[CV 4/5] END classifier=SVC(), classifier__C=0.8, classifier__coef0=10, classifier__gamma=scale, classifier__kernel=linear;, score=0.967 total time=   1.3s\n",
      "[CV 4/5] END classifier=SVC(), classifier__C=0.8, classifier__coef0=10, classifier__gamma=scale, classifier__kernel=sigmoid;, score=0.626 total time=   0.1s\n",
      "[CV 5/5] END classifier=SVC(), classifier__C=0.8, classifier__coef0=10, classifier__gamma=scale, classifier__kernel=sigmoid;, score=0.615 total time=   0.0s\n",
      "[CV 5/5] END classifier=SVC(), classifier__C=0.8, classifier__coef0=1, classifier__gamma=scale, classifier__kernel=linear;, score=0.967 total time=   5.0s\n",
      "[CV 1/5] END classifier=SVC(), classifier__C=0.8, classifier__coef0=1, classifier__gamma=auto, classifier__kernel=linear;, score=0.912 total time=   5.0s\n",
      "[CV 2/5] END classifier=SVC(), classifier__C=0.8, classifier__coef0=10, classifier__gamma=scale, classifier__kernel=linear;, score=0.978 total time=   3.3s\n",
      "[CV 2/5] END classifier=SVC(), classifier__C=0.8, classifier__coef0=10, classifier__gamma=auto, classifier__kernel=linear;, score=0.978 total time=   2.4s\n",
      "[CV 1/5] END classifier=SVC(), classifier__C=0.8, classifier__coef0=10, classifier__gamma=auto, classifier__kernel=rbf;, score=0.648 total time=   0.0s\n",
      "[CV 2/5] END classifier=SVC(), classifier__C=0.8, classifier__coef0=10, classifier__gamma=auto, classifier__kernel=rbf;, score=0.626 total time=   0.0s\n",
      "[CV 5/5] END classifier=SVC(), classifier__C=0.8, classifier__coef0=1, classifier__gamma=auto, classifier__kernel=linear;, score=0.967 total time=   5.0s\n",
      "[CV 3/5] END classifier=SVC(), classifier__C=0.8, classifier__coef0=10, classifier__gamma=auto, classifier__kernel=rbf;, score=0.582 total time=   0.0s\n",
      "[CV 5/5] END classifier=SVC(), classifier__C=0.8, classifier__coef0=10, classifier__gamma=auto, classifier__kernel=rbf;, score=0.615 total time=   0.0s\n",
      "[CV 4/5] END classifier=SVC(), classifier__C=0.8, classifier__coef0=10, classifier__gamma=auto, classifier__kernel=rbf;, score=0.626 total time=   0.1s\n",
      "[CV 1/5] END classifier=SVC(), classifier__C=0.8, classifier__coef0=10, classifier__gamma=auto, classifier__kernel=sigmoid;, score=0.648 total time=   0.0s\n",
      "[CV 3/5] END classifier=SVC(), classifier__C=0.8, classifier__coef0=10, classifier__gamma=auto, classifier__kernel=sigmoid;, score=0.582 total time=   0.0s\n",
      "[CV 2/5] END classifier=SVC(), classifier__C=0.8, classifier__coef0=10, classifier__gamma=auto, classifier__kernel=sigmoid;, score=0.626 total time=   0.0s\n",
      "[CV 4/5] END classifier=SVC(), classifier__C=0.8, classifier__coef0=10, classifier__gamma=auto, classifier__kernel=sigmoid;, score=0.626 total time=   0.0s\n",
      "[CV 5/5] END classifier=SVC(), classifier__C=0.8, classifier__coef0=10, classifier__gamma=auto, classifier__kernel=sigmoid;, score=0.615 total time=   0.0s\n",
      "[CV 3/5] END classifier=SVC(), classifier__C=0.8, classifier__coef0=10, classifier__gamma=auto, classifier__kernel=linear;, score=0.956 total time=   2.1s\n",
      "[CV 1/5] END classifier=SVC(), classifier__C=0.8, classifier__coef0=10, classifier__gamma=scale, classifier__kernel=linear;, score=0.912 total time=   5.0s\n",
      "[CV 3/5] END classifier=SVC(), classifier__C=0.8, classifier__coef0=100, classifier__gamma=scale, classifier__kernel=linear;, score=0.956 total time=   1.4s\n",
      "[CV 4/5] END classifier=SVC(), classifier__C=0.8, classifier__coef0=10, classifier__gamma=auto, classifier__kernel=linear;, score=0.967 total time=   3.4s\n",
      "[CV 1/5] END classifier=SVC(), classifier__C=0.8, classifier__coef0=100, classifier__gamma=scale, classifier__kernel=rbf;, score=0.868 total time=   0.1s\n",
      "[CV 2/5] END classifier=SVC(), classifier__C=0.8, classifier__coef0=100, classifier__gamma=scale, classifier__kernel=rbf;, score=0.912 total time=   0.1s\n",
      "[CV 3/5] END classifier=SVC(), classifier__C=0.8, classifier__coef0=100, classifier__gamma=scale, classifier__kernel=rbf;, score=0.890 total time=   0.1s\n",
      "[CV 4/5] END classifier=SVC(), classifier__C=0.8, classifier__coef0=100, classifier__gamma=scale, classifier__kernel=rbf;, score=0.945 total time=   0.1s\n",
      "[CV 5/5] END classifier=SVC(), classifier__C=0.8, classifier__coef0=100, classifier__gamma=scale, classifier__kernel=rbf;, score=0.923 total time=   0.0s\n",
      "[CV 1/5] END classifier=SVC(), classifier__C=0.8, classifier__coef0=100, classifier__gamma=scale, classifier__kernel=sigmoid;, score=0.648 total time=   0.0s\n",
      "[CV 2/5] END classifier=SVC(), classifier__C=0.8, classifier__coef0=100, classifier__gamma=scale, classifier__kernel=sigmoid;, score=0.626 total time=   0.0s\n",
      "[CV 3/5] END classifier=SVC(), classifier__C=0.8, classifier__coef0=100, classifier__gamma=scale, classifier__kernel=sigmoid;, score=0.582 total time=   0.0s\n",
      "[CV 4/5] END classifier=SVC(), classifier__C=0.8, classifier__coef0=100, classifier__gamma=scale, classifier__kernel=sigmoid;, score=0.626 total time=   0.0s\n",
      "[CV 5/5] END classifier=SVC(), classifier__C=0.8, classifier__coef0=100, classifier__gamma=scale, classifier__kernel=sigmoid;, score=0.615 total time=   0.0s\n",
      "[CV 5/5] END classifier=SVC(), classifier__C=0.8, classifier__coef0=10, classifier__gamma=auto, classifier__kernel=linear;, score=0.967 total time=   3.4s\n",
      "[CV 5/5] END classifier=SVC(), classifier__C=0.8, classifier__coef0=10, classifier__gamma=scale, classifier__kernel=linear;, score=0.967 total time=   6.5s\n",
      "[CV 1/5] END classifier=SVC(), classifier__C=0.8, classifier__coef0=10, classifier__gamma=auto, classifier__kernel=linear;, score=0.912 total time=   6.1s\n",
      "[CV 4/5] END classifier=SVC(), classifier__C=0.8, classifier__coef0=100, classifier__gamma=scale, classifier__kernel=linear;, score=0.967 total time=   2.8s\n",
      "[CV 2/5] END classifier=SVC(), classifier__C=0.8, classifier__coef0=100, classifier__gamma=scale, classifier__kernel=linear;, score=0.978 total time=   4.5s\n",
      "[CV 1/5] END classifier=SVC(), classifier__C=0.8, classifier__coef0=100, classifier__gamma=scale, classifier__kernel=linear;, score=0.912 total time=   4.6s\n",
      "[CV 1/5] END classifier=SVC(), classifier__C=0.8, classifier__coef0=100, classifier__gamma=auto, classifier__kernel=rbf;, score=0.648 total time=   0.0s\n",
      "[CV 3/5] END classifier=SVC(), classifier__C=0.8, classifier__coef0=100, classifier__gamma=auto, classifier__kernel=rbf;, score=0.582 total time=   0.0s\n",
      "[CV 4/5] END classifier=SVC(), classifier__C=0.8, classifier__coef0=100, classifier__gamma=auto, classifier__kernel=rbf;, score=0.626 total time=   0.0s\n",
      "[CV 5/5] END classifier=SVC(), classifier__C=0.8, classifier__coef0=100, classifier__gamma=auto, classifier__kernel=rbf;, score=0.615 total time=   0.0s\n",
      "[CV 2/5] END classifier=SVC(), classifier__C=0.8, classifier__coef0=100, classifier__gamma=auto, classifier__kernel=rbf;, score=0.626 total time=   0.2s\n",
      "[CV 1/5] END classifier=SVC(), classifier__C=0.8, classifier__coef0=100, classifier__gamma=auto, classifier__kernel=sigmoid;, score=0.648 total time=   0.0s\n",
      "[CV 3/5] END classifier=SVC(), classifier__C=0.8, classifier__coef0=100, classifier__gamma=auto, classifier__kernel=sigmoid;, score=0.582 total time=   0.1s\n",
      "[CV 2/5] END classifier=SVC(), classifier__C=0.8, classifier__coef0=100, classifier__gamma=auto, classifier__kernel=sigmoid;, score=0.626 total time=   0.1s\n",
      "[CV 4/5] END classifier=SVC(), classifier__C=0.8, classifier__coef0=100, classifier__gamma=auto, classifier__kernel=sigmoid;, score=0.626 total time=   0.1s\n",
      "[CV 5/5] END classifier=SVC(), classifier__C=0.8, classifier__coef0=100, classifier__gamma=auto, classifier__kernel=sigmoid;, score=0.615 total time=   0.1s\n",
      "[CV 3/5] END classifier=SVC(), classifier__C=0.8, classifier__coef0=100, classifier__gamma=auto, classifier__kernel=linear;, score=0.956 total time=   2.4s\n",
      "[CV 3/5] END classifier=SVC(), classifier__C=0.9, classifier__coef0=-10.0, classifier__gamma=scale, classifier__kernel=linear;, score=0.956 total time=   0.9s\n",
      "[CV 1/5] END classifier=SVC(), classifier__C=0.9, classifier__coef0=-10.0, classifier__gamma=scale, classifier__kernel=linear;, score=0.912 total time=   1.7s\n",
      "[CV 4/5] END classifier=SVC(), classifier__C=0.8, classifier__coef0=100, classifier__gamma=auto, classifier__kernel=linear;, score=0.967 total time=   3.4s\n",
      "[CV 1/5] END classifier=SVC(), classifier__C=0.9, classifier__coef0=-10.0, classifier__gamma=scale, classifier__kernel=rbf;, score=0.857 total time=   0.0s\n",
      "[CV 2/5] END classifier=SVC(), classifier__C=0.9, classifier__coef0=-10.0, classifier__gamma=scale, classifier__kernel=rbf;, score=0.923 total time=   0.0s\n",
      "[CV 3/5] END classifier=SVC(), classifier__C=0.9, classifier__coef0=-10.0, classifier__gamma=scale, classifier__kernel=rbf;, score=0.901 total time=   0.0s\n",
      "[CV 4/5] END classifier=SVC(), classifier__C=0.9, classifier__coef0=-10.0, classifier__gamma=scale, classifier__kernel=rbf;, score=0.945 total time=   0.0s\n",
      "[CV 5/5] END classifier=SVC(), classifier__C=0.9, classifier__coef0=-10.0, classifier__gamma=scale, classifier__kernel=rbf;, score=0.923 total time=   0.0s\n",
      "[CV 1/5] END classifier=SVC(), classifier__C=0.9, classifier__coef0=-10.0, classifier__gamma=scale, classifier__kernel=sigmoid;, score=0.648 total time=   0.0s\n",
      "[CV 2/5] END classifier=SVC(), classifier__C=0.9, classifier__coef0=-10.0, classifier__gamma=scale, classifier__kernel=sigmoid;, score=0.626 total time=   0.0s\n",
      "[CV 3/5] END classifier=SVC(), classifier__C=0.9, classifier__coef0=-10.0, classifier__gamma=scale, classifier__kernel=sigmoid;, score=0.582 total time=   0.0s\n",
      "[CV 4/5] END classifier=SVC(), classifier__C=0.9, classifier__coef0=-10.0, classifier__gamma=scale, classifier__kernel=sigmoid;, score=0.626 total time=   0.0s\n",
      "[CV 5/5] END classifier=SVC(), classifier__C=0.9, classifier__coef0=-10.0, classifier__gamma=scale, classifier__kernel=sigmoid;, score=0.615 total time=   0.0s\n",
      "[CV 2/5] END classifier=SVC(), classifier__C=0.8, classifier__coef0=100, classifier__gamma=auto, classifier__kernel=linear;, score=0.978 total time=   5.7s\n",
      "[CV 5/5] END classifier=SVC(), classifier__C=0.9, classifier__coef0=-10.0, classifier__gamma=scale, classifier__kernel=linear;, score=0.967 total time=   1.4s\n",
      "[CV 1/5] END classifier=SVC(), classifier__C=0.8, classifier__coef0=100, classifier__gamma=auto, classifier__kernel=linear;, score=0.912 total time=   6.3s\n",
      "[CV 3/5] END classifier=SVC(), classifier__C=0.9, classifier__coef0=-10.0, classifier__gamma=auto, classifier__kernel=linear;, score=0.956 total time=   0.8s\n",
      "[CV 4/5] END classifier=SVC(), classifier__C=0.9, classifier__coef0=-10.0, classifier__gamma=scale, classifier__kernel=linear;, score=0.967 total time=   3.5s\n",
      "[CV 1/5] END classifier=SVC(), classifier__C=0.9, classifier__coef0=-10.0, classifier__gamma=auto, classifier__kernel=rbf;, score=0.648 total time=   0.1s\n",
      "[CV 2/5] END classifier=SVC(), classifier__C=0.9, classifier__coef0=-10.0, classifier__gamma=auto, classifier__kernel=rbf;, score=0.626 total time=   0.0s\n",
      "[CV 3/5] END classifier=SVC(), classifier__C=0.9, classifier__coef0=-10.0, classifier__gamma=auto, classifier__kernel=rbf;, score=0.582 total time=   0.2s\n",
      "[CV 1/5] END classifier=SVC(), classifier__C=0.9, classifier__coef0=-10.0, classifier__gamma=auto, classifier__kernel=linear;, score=0.912 total time=   3.1s\n",
      "[CV 4/5] END classifier=SVC(), classifier__C=0.9, classifier__coef0=-10.0, classifier__gamma=auto, classifier__kernel=rbf;, score=0.626 total time=   0.2s\n",
      "[CV 5/5] END classifier=SVC(), classifier__C=0.9, classifier__coef0=-10.0, classifier__gamma=auto, classifier__kernel=linear;, score=0.967 total time=   1.5s\n",
      "[CV 2/5] END classifier=SVC(), classifier__C=0.9, classifier__coef0=-10.0, classifier__gamma=auto, classifier__kernel=sigmoid;, score=0.626 total time=   0.1s\n",
      "[CV 1/5] END classifier=SVC(), classifier__C=0.9, classifier__coef0=-10.0, classifier__gamma=auto, classifier__kernel=sigmoid;, score=0.648 total time=   0.1s\n",
      "[CV 5/5] END classifier=SVC(), classifier__C=0.9, classifier__coef0=-10.0, classifier__gamma=auto, classifier__kernel=rbf;, score=0.615 total time=   0.2s\n",
      "[CV 5/5] END classifier=SVC(), classifier__C=0.8, classifier__coef0=100, classifier__gamma=scale, classifier__kernel=linear;, score=0.967 total time=   9.2s\n",
      "[CV 3/5] END classifier=SVC(), classifier__C=0.9, classifier__coef0=-10.0, classifier__gamma=auto, classifier__kernel=sigmoid;, score=0.582 total time=   0.2s\n",
      "[CV 5/5] END classifier=SVC(), classifier__C=0.9, classifier__coef0=-10.0, classifier__gamma=auto, classifier__kernel=sigmoid;, score=0.615 total time=   0.1s\n",
      "[CV 4/5] END classifier=SVC(), classifier__C=0.9, classifier__coef0=-10.0, classifier__gamma=auto, classifier__kernel=sigmoid;, score=0.626 total time=   0.2s\n",
      "[CV 5/5] END classifier=SVC(), classifier__C=0.8, classifier__coef0=100, classifier__gamma=auto, classifier__kernel=linear;, score=0.967 total time=   7.4s\n",
      "[CV 2/5] END classifier=SVC(), classifier__C=0.9, classifier__coef0=-10.0, classifier__gamma=scale, classifier__kernel=linear;, score=0.978 total time=   5.8s\n",
      "[CV 1/5] END classifier=SVC(), classifier__C=0.9, classifier__coef0=-1.0, classifier__gamma=scale, classifier__kernel=rbf;, score=0.857 total time=   0.0s\n",
      "[CV 2/5] END classifier=SVC(), classifier__C=0.9, classifier__coef0=-1.0, classifier__gamma=scale, classifier__kernel=rbf;, score=0.923 total time=   0.1s\n",
      "[CV 3/5] END classifier=SVC(), classifier__C=0.9, classifier__coef0=-1.0, classifier__gamma=scale, classifier__kernel=rbf;, score=0.901 total time=   0.1s\n",
      "[CV 4/5] END classifier=SVC(), classifier__C=0.9, classifier__coef0=-1.0, classifier__gamma=scale, classifier__kernel=rbf;, score=0.945 total time=   0.1s\n",
      "[CV 5/5] END classifier=SVC(), classifier__C=0.9, classifier__coef0=-1.0, classifier__gamma=scale, classifier__kernel=rbf;, score=0.923 total time=   0.1s\n",
      "[CV 1/5] END classifier=SVC(), classifier__C=0.9, classifier__coef0=-1.0, classifier__gamma=scale, classifier__kernel=sigmoid;, score=0.703 total time=   0.1s\n",
      "[CV 2/5] END classifier=SVC(), classifier__C=0.9, classifier__coef0=-1.0, classifier__gamma=scale, classifier__kernel=sigmoid;, score=0.582 total time=   0.1s\n",
      "[CV 3/5] END classifier=SVC(), classifier__C=0.9, classifier__coef0=-1.0, classifier__gamma=scale, classifier__kernel=sigmoid;, score=0.703 total time=   0.1s\n",
      "[CV 4/5] END classifier=SVC(), classifier__C=0.9, classifier__coef0=-1.0, classifier__gamma=scale, classifier__kernel=sigmoid;, score=0.692 total time=   0.1s\n",
      "[CV 5/5] END classifier=SVC(), classifier__C=0.9, classifier__coef0=-1.0, classifier__gamma=scale, classifier__kernel=sigmoid;, score=0.758 total time=   0.1s\n",
      "[CV 5/5] END classifier=SVC(), classifier__C=0.9, classifier__coef0=-1.0, classifier__gamma=scale, classifier__kernel=linear;, score=0.967 total time=   1.3s\n",
      "[CV 3/5] END classifier=SVC(), classifier__C=0.9, classifier__coef0=-1.0, classifier__gamma=scale, classifier__kernel=linear;, score=0.956 total time=   2.1s\n",
      "[CV 4/5] END classifier=SVC(), classifier__C=0.9, classifier__coef0=-10.0, classifier__gamma=auto, classifier__kernel=linear;, score=0.967 total time=   4.7s\n",
      "[CV 4/5] END classifier=SVC(), classifier__C=0.9, classifier__coef0=-1.0, classifier__gamma=scale, classifier__kernel=linear;, score=0.967 total time=   2.6s\n",
      "[CV 1/5] END classifier=SVC(), classifier__C=0.9, classifier__coef0=-1.0, classifier__gamma=scale, classifier__kernel=linear;, score=0.912 total time=   4.1s\n",
      "[CV 1/5] END classifier=SVC(), classifier__C=0.9, classifier__coef0=-1.0, classifier__gamma=auto, classifier__kernel=rbf;, score=0.648 total time=   0.1s\n",
      "[CV 1/5] END classifier=SVC(), classifier__C=0.9, classifier__coef0=-1.0, classifier__gamma=auto, classifier__kernel=linear;, score=0.912 total time=   3.0s\n",
      "[CV 4/5] END classifier=SVC(), classifier__C=0.9, classifier__coef0=-1.0, classifier__gamma=auto, classifier__kernel=linear;, score=0.967 total time=   1.9s\n",
      "[CV 3/5] END classifier=SVC(), classifier__C=0.9, classifier__coef0=-1.0, classifier__gamma=auto, classifier__kernel=rbf;, score=0.582 total time=   0.0s\n",
      "[CV 4/5] END classifier=SVC(), classifier__C=0.9, classifier__coef0=-1.0, classifier__gamma=auto, classifier__kernel=rbf;, score=0.626 total time=   0.0s\n",
      "[CV 2/5] END classifier=SVC(), classifier__C=0.9, classifier__coef0=-1.0, classifier__gamma=auto, classifier__kernel=rbf;, score=0.626 total time=   0.3s\n",
      "[CV 1/5] END classifier=SVC(), classifier__C=0.9, classifier__coef0=-1.0, classifier__gamma=auto, classifier__kernel=sigmoid;, score=0.648 total time=   0.1s\n",
      "[CV 3/5] END classifier=SVC(), classifier__C=0.9, classifier__coef0=-1.0, classifier__gamma=auto, classifier__kernel=sigmoid;, score=0.582 total time=   0.0s\n",
      "[CV 5/5] END classifier=SVC(), classifier__C=0.9, classifier__coef0=-1.0, classifier__gamma=auto, classifier__kernel=rbf;, score=0.615 total time=   0.1s\n",
      "[CV 4/5] END classifier=SVC(), classifier__C=0.9, classifier__coef0=-1.0, classifier__gamma=auto, classifier__kernel=sigmoid;, score=0.626 total time=   0.0s\n",
      "[CV 5/5] END classifier=SVC(), classifier__C=0.9, classifier__coef0=-1.0, classifier__gamma=auto, classifier__kernel=sigmoid;, score=0.615 total time=   0.1s\n",
      "[CV 2/5] END classifier=SVC(), classifier__C=0.9, classifier__coef0=-1.0, classifier__gamma=auto, classifier__kernel=sigmoid;, score=0.626 total time=   0.2s\n",
      "[CV 3/5] END classifier=SVC(), classifier__C=0.9, classifier__coef0=-1.0, classifier__gamma=auto, classifier__kernel=linear;, score=0.956 total time=   2.7s\n",
      "[CV 2/5] END classifier=SVC(), classifier__C=0.9, classifier__coef0=-10.0, classifier__gamma=auto, classifier__kernel=linear;, score=0.978 total time=   7.8s\n",
      "[CV 5/5] END classifier=SVC(), classifier__C=0.9, classifier__coef0=-1.0, classifier__gamma=auto, classifier__kernel=linear;, score=0.967 total time=   2.6s\n",
      "[CV 1/5] END classifier=SVC(), classifier__C=0.9, classifier__coef0=0.0, classifier__gamma=scale, classifier__kernel=rbf;, score=0.857 total time=   0.1s\n",
      "[CV 2/5] END classifier=SVC(), classifier__C=0.9, classifier__coef0=0.0, classifier__gamma=scale, classifier__kernel=rbf;, score=0.923 total time=   0.0s\n",
      "[CV 3/5] END classifier=SVC(), classifier__C=0.9, classifier__coef0=0.0, classifier__gamma=scale, classifier__kernel=rbf;, score=0.901 total time=   0.0s\n",
      "[CV 4/5] END classifier=SVC(), classifier__C=0.9, classifier__coef0=0.0, classifier__gamma=scale, classifier__kernel=rbf;, score=0.945 total time=   0.0s\n",
      "[CV 5/5] END classifier=SVC(), classifier__C=0.9, classifier__coef0=0.0, classifier__gamma=scale, classifier__kernel=rbf;, score=0.923 total time=   0.1s\n",
      "[CV 2/5] END classifier=SVC(), classifier__C=0.9, classifier__coef0=-1.0, classifier__gamma=scale, classifier__kernel=linear;, score=0.978 total time=   5.5s\n",
      "[CV 2/5] END classifier=SVC(), classifier__C=0.9, classifier__coef0=0.0, classifier__gamma=scale, classifier__kernel=sigmoid;, score=0.484 total time=   0.0s\n",
      "[CV 3/5] END classifier=SVC(), classifier__C=0.9, classifier__coef0=0.0, classifier__gamma=scale, classifier__kernel=sigmoid;, score=0.495 total time=   0.0s\n",
      "[CV 1/5] END classifier=SVC(), classifier__C=0.9, classifier__coef0=0.0, classifier__gamma=scale, classifier__kernel=sigmoid;, score=0.451 total time=   0.1s\n",
      "[CV 4/5] END classifier=SVC(), classifier__C=0.9, classifier__coef0=0.0, classifier__gamma=scale, classifier__kernel=sigmoid;, score=0.407 total time=   0.0s\n",
      "[CV 5/5] END classifier=SVC(), classifier__C=0.9, classifier__coef0=0.0, classifier__gamma=scale, classifier__kernel=sigmoid;, score=0.451 total time=   0.1s\n",
      "[CV 3/5] END classifier=SVC(), classifier__C=0.9, classifier__coef0=0.0, classifier__gamma=scale, classifier__kernel=linear;, score=0.956 total time=   2.6s\n"
     ]
    },
    {
     "ename": "KeyboardInterrupt",
     "evalue": "",
     "output_type": "error",
     "traceback": [
      "\u001b[0;31m---------------------------------------------------------------------------\u001b[0m",
      "\u001b[0;31mKeyboardInterrupt\u001b[0m                         Traceback (most recent call last)",
      "File \u001b[0;32m<timed exec>:10\u001b[0m, in \u001b[0;36m<module>\u001b[0;34m\u001b[0m\n",
      "File \u001b[0;32m~/.local/lib/python3.10/site-packages/sklearn/model_selection/_search.py:875\u001b[0m, in \u001b[0;36mBaseSearchCV.fit\u001b[0;34m(self, X, y, groups, **fit_params)\u001b[0m\n\u001b[1;32m    869\u001b[0m     results \u001b[39m=\u001b[39m \u001b[39mself\u001b[39m\u001b[39m.\u001b[39m_format_results(\n\u001b[1;32m    870\u001b[0m         all_candidate_params, n_splits, all_out, all_more_results\n\u001b[1;32m    871\u001b[0m     )\n\u001b[1;32m    873\u001b[0m     \u001b[39mreturn\u001b[39;00m results\n\u001b[0;32m--> 875\u001b[0m \u001b[39mself\u001b[39;49m\u001b[39m.\u001b[39;49m_run_search(evaluate_candidates)\n\u001b[1;32m    877\u001b[0m \u001b[39m# multimetric is determined here because in the case of a callable\u001b[39;00m\n\u001b[1;32m    878\u001b[0m \u001b[39m# self.scoring the return type is only known after calling\u001b[39;00m\n\u001b[1;32m    879\u001b[0m first_test_score \u001b[39m=\u001b[39m all_out[\u001b[39m0\u001b[39m][\u001b[39m\"\u001b[39m\u001b[39mtest_scores\u001b[39m\u001b[39m\"\u001b[39m]\n",
      "File \u001b[0;32m~/.local/lib/python3.10/site-packages/sklearn/model_selection/_search.py:1379\u001b[0m, in \u001b[0;36mGridSearchCV._run_search\u001b[0;34m(self, evaluate_candidates)\u001b[0m\n\u001b[1;32m   1377\u001b[0m \u001b[39mdef\u001b[39;00m \u001b[39m_run_search\u001b[39m(\u001b[39mself\u001b[39m, evaluate_candidates):\n\u001b[1;32m   1378\u001b[0m     \u001b[39m\"\"\"Search all candidates in param_grid\"\"\"\u001b[39;00m\n\u001b[0;32m-> 1379\u001b[0m     evaluate_candidates(ParameterGrid(\u001b[39mself\u001b[39;49m\u001b[39m.\u001b[39;49mparam_grid))\n",
      "File \u001b[0;32m~/.local/lib/python3.10/site-packages/sklearn/model_selection/_search.py:822\u001b[0m, in \u001b[0;36mBaseSearchCV.fit.<locals>.evaluate_candidates\u001b[0;34m(candidate_params, cv, more_results)\u001b[0m\n\u001b[1;32m    814\u001b[0m \u001b[39mif\u001b[39;00m \u001b[39mself\u001b[39m\u001b[39m.\u001b[39mverbose \u001b[39m>\u001b[39m \u001b[39m0\u001b[39m:\n\u001b[1;32m    815\u001b[0m     \u001b[39mprint\u001b[39m(\n\u001b[1;32m    816\u001b[0m         \u001b[39m\"\u001b[39m\u001b[39mFitting \u001b[39m\u001b[39m{0}\u001b[39;00m\u001b[39m folds for each of \u001b[39m\u001b[39m{1}\u001b[39;00m\u001b[39m candidates,\u001b[39m\u001b[39m\"\u001b[39m\n\u001b[1;32m    817\u001b[0m         \u001b[39m\"\u001b[39m\u001b[39m totalling \u001b[39m\u001b[39m{2}\u001b[39;00m\u001b[39m fits\u001b[39m\u001b[39m\"\u001b[39m\u001b[39m.\u001b[39mformat(\n\u001b[1;32m    818\u001b[0m             n_splits, n_candidates, n_candidates \u001b[39m*\u001b[39m n_splits\n\u001b[1;32m    819\u001b[0m         )\n\u001b[1;32m    820\u001b[0m     )\n\u001b[0;32m--> 822\u001b[0m out \u001b[39m=\u001b[39m parallel(\n\u001b[1;32m    823\u001b[0m     delayed(_fit_and_score)(\n\u001b[1;32m    824\u001b[0m         clone(base_estimator),\n\u001b[1;32m    825\u001b[0m         X,\n\u001b[1;32m    826\u001b[0m         y,\n\u001b[1;32m    827\u001b[0m         train\u001b[39m=\u001b[39;49mtrain,\n\u001b[1;32m    828\u001b[0m         test\u001b[39m=\u001b[39;49mtest,\n\u001b[1;32m    829\u001b[0m         parameters\u001b[39m=\u001b[39;49mparameters,\n\u001b[1;32m    830\u001b[0m         split_progress\u001b[39m=\u001b[39;49m(split_idx, n_splits),\n\u001b[1;32m    831\u001b[0m         candidate_progress\u001b[39m=\u001b[39;49m(cand_idx, n_candidates),\n\u001b[1;32m    832\u001b[0m         \u001b[39m*\u001b[39;49m\u001b[39m*\u001b[39;49mfit_and_score_kwargs,\n\u001b[1;32m    833\u001b[0m     )\n\u001b[1;32m    834\u001b[0m     \u001b[39mfor\u001b[39;49;00m (cand_idx, parameters), (split_idx, (train, test)) \u001b[39min\u001b[39;49;00m product(\n\u001b[1;32m    835\u001b[0m         \u001b[39menumerate\u001b[39;49m(candidate_params), \u001b[39menumerate\u001b[39;49m(cv\u001b[39m.\u001b[39;49msplit(X, y, groups))\n\u001b[1;32m    836\u001b[0m     )\n\u001b[1;32m    837\u001b[0m )\n\u001b[1;32m    839\u001b[0m \u001b[39mif\u001b[39;00m \u001b[39mlen\u001b[39m(out) \u001b[39m<\u001b[39m \u001b[39m1\u001b[39m:\n\u001b[1;32m    840\u001b[0m     \u001b[39mraise\u001b[39;00m \u001b[39mValueError\u001b[39;00m(\n\u001b[1;32m    841\u001b[0m         \u001b[39m\"\u001b[39m\u001b[39mNo fits were performed. \u001b[39m\u001b[39m\"\u001b[39m\n\u001b[1;32m    842\u001b[0m         \u001b[39m\"\u001b[39m\u001b[39mWas the CV iterator empty? \u001b[39m\u001b[39m\"\u001b[39m\n\u001b[1;32m    843\u001b[0m         \u001b[39m\"\u001b[39m\u001b[39mWere there no candidates?\u001b[39m\u001b[39m\"\u001b[39m\n\u001b[1;32m    844\u001b[0m     )\n",
      "File \u001b[0;32m~/.local/lib/python3.10/site-packages/joblib/parallel.py:1056\u001b[0m, in \u001b[0;36mParallel.__call__\u001b[0;34m(self, iterable)\u001b[0m\n\u001b[1;32m   1053\u001b[0m     \u001b[39mself\u001b[39m\u001b[39m.\u001b[39m_iterating \u001b[39m=\u001b[39m \u001b[39mFalse\u001b[39;00m\n\u001b[1;32m   1055\u001b[0m \u001b[39mwith\u001b[39;00m \u001b[39mself\u001b[39m\u001b[39m.\u001b[39m_backend\u001b[39m.\u001b[39mretrieval_context():\n\u001b[0;32m-> 1056\u001b[0m     \u001b[39mself\u001b[39;49m\u001b[39m.\u001b[39;49mretrieve()\n\u001b[1;32m   1057\u001b[0m \u001b[39m# Make sure that we get a last message telling us we are done\u001b[39;00m\n\u001b[1;32m   1058\u001b[0m elapsed_time \u001b[39m=\u001b[39m time\u001b[39m.\u001b[39mtime() \u001b[39m-\u001b[39m \u001b[39mself\u001b[39m\u001b[39m.\u001b[39m_start_time\n",
      "File \u001b[0;32m~/.local/lib/python3.10/site-packages/joblib/parallel.py:935\u001b[0m, in \u001b[0;36mParallel.retrieve\u001b[0;34m(self)\u001b[0m\n\u001b[1;32m    933\u001b[0m \u001b[39mtry\u001b[39;00m:\n\u001b[1;32m    934\u001b[0m     \u001b[39mif\u001b[39;00m \u001b[39mgetattr\u001b[39m(\u001b[39mself\u001b[39m\u001b[39m.\u001b[39m_backend, \u001b[39m'\u001b[39m\u001b[39msupports_timeout\u001b[39m\u001b[39m'\u001b[39m, \u001b[39mFalse\u001b[39;00m):\n\u001b[0;32m--> 935\u001b[0m         \u001b[39mself\u001b[39m\u001b[39m.\u001b[39m_output\u001b[39m.\u001b[39mextend(job\u001b[39m.\u001b[39;49mget(timeout\u001b[39m=\u001b[39;49m\u001b[39mself\u001b[39;49m\u001b[39m.\u001b[39;49mtimeout))\n\u001b[1;32m    936\u001b[0m     \u001b[39melse\u001b[39;00m:\n\u001b[1;32m    937\u001b[0m         \u001b[39mself\u001b[39m\u001b[39m.\u001b[39m_output\u001b[39m.\u001b[39mextend(job\u001b[39m.\u001b[39mget())\n",
      "File \u001b[0;32m~/.local/lib/python3.10/site-packages/joblib/_parallel_backends.py:542\u001b[0m, in \u001b[0;36mLokyBackend.wrap_future_result\u001b[0;34m(future, timeout)\u001b[0m\n\u001b[1;32m    539\u001b[0m \u001b[39m\"\"\"Wrapper for Future.result to implement the same behaviour as\u001b[39;00m\n\u001b[1;32m    540\u001b[0m \u001b[39mAsyncResults.get from multiprocessing.\"\"\"\u001b[39;00m\n\u001b[1;32m    541\u001b[0m \u001b[39mtry\u001b[39;00m:\n\u001b[0;32m--> 542\u001b[0m     \u001b[39mreturn\u001b[39;00m future\u001b[39m.\u001b[39;49mresult(timeout\u001b[39m=\u001b[39;49mtimeout)\n\u001b[1;32m    543\u001b[0m \u001b[39mexcept\u001b[39;00m CfTimeoutError \u001b[39mas\u001b[39;00m e:\n\u001b[1;32m    544\u001b[0m     \u001b[39mraise\u001b[39;00m \u001b[39mTimeoutError\u001b[39;00m \u001b[39mfrom\u001b[39;00m \u001b[39me\u001b[39;00m\n",
      "File \u001b[0;32m/usr/lib/python3.10/concurrent/futures/_base.py:441\u001b[0m, in \u001b[0;36mFuture.result\u001b[0;34m(self, timeout)\u001b[0m\n\u001b[1;32m    438\u001b[0m \u001b[39melif\u001b[39;00m \u001b[39mself\u001b[39m\u001b[39m.\u001b[39m_state \u001b[39m==\u001b[39m FINISHED:\n\u001b[1;32m    439\u001b[0m     \u001b[39mreturn\u001b[39;00m \u001b[39mself\u001b[39m\u001b[39m.\u001b[39m__get_result()\n\u001b[0;32m--> 441\u001b[0m \u001b[39mself\u001b[39;49m\u001b[39m.\u001b[39;49m_condition\u001b[39m.\u001b[39;49mwait(timeout)\n\u001b[1;32m    443\u001b[0m \u001b[39mif\u001b[39;00m \u001b[39mself\u001b[39m\u001b[39m.\u001b[39m_state \u001b[39min\u001b[39;00m [CANCELLED, CANCELLED_AND_NOTIFIED]:\n\u001b[1;32m    444\u001b[0m     \u001b[39mraise\u001b[39;00m CancelledError()\n",
      "File \u001b[0;32m/usr/lib/python3.10/threading.py:320\u001b[0m, in \u001b[0;36mCondition.wait\u001b[0;34m(self, timeout)\u001b[0m\n\u001b[1;32m    318\u001b[0m \u001b[39mtry\u001b[39;00m:    \u001b[39m# restore state no matter what (e.g., KeyboardInterrupt)\u001b[39;00m\n\u001b[1;32m    319\u001b[0m     \u001b[39mif\u001b[39;00m timeout \u001b[39mis\u001b[39;00m \u001b[39mNone\u001b[39;00m:\n\u001b[0;32m--> 320\u001b[0m         waiter\u001b[39m.\u001b[39;49macquire()\n\u001b[1;32m    321\u001b[0m         gotit \u001b[39m=\u001b[39m \u001b[39mTrue\u001b[39;00m\n\u001b[1;32m    322\u001b[0m     \u001b[39melse\u001b[39;00m:\n",
      "\u001b[0;31mKeyboardInterrupt\u001b[0m: "
     ]
    }
   ],
   "source": [
    "%%time\n",
    "cv = RepeatedKFold(n_splits = 5, n_repeats = 1, random_state = 42)\n",
    "\n",
    "# Create grid search \n",
    "clf = GridSearchCV(\n",
    "    estimator = pipe, \n",
    "    param_grid = search_space, \n",
    "    cv = cv, verbose = 4, n_jobs = -1)\n",
    "\n",
    "# Fit grid search\n",
    "best_model = clf.fit(X_train, y_train)\n",
    "# View best model\n",
    "separator = \"\\n############################\\n\"\n",
    "print(separator)\n",
    "print(\"best estimator:\", best_model.best_estimator_.get_params()['classifier'])\n",
    "print(separator)\n",
    "print(\"clf.best_params_\", clf.best_params_)\n",
    "print(separator)\n",
    "# Mean cross-validated score of the best_estimator\n",
    "print(\"clf.best_score\", clf.best_score_)\n",
    "#SAVE MODEL\n",
    "# save the model to disk\n",
    "filename = 'finished_model.sav'\n",
    "pickle.dump(best_model, open(filename, 'wb'))"
   ]
  },
  {
   "cell_type": "code",
   "execution_count": null,
   "metadata": {
    "colab": {
     "base_uri": "https://localhost:8080/",
     "height": 166
    },
    "colab_type": "code",
    "executionInfo": {
     "elapsed": 729,
     "status": "error",
     "timestamp": 1600161184718,
     "user": {
      "displayName": "Clara Piniella",
      "photoUrl": "https://lh3.googleusercontent.com/a-/AOh14GjZPvtfXzLnQ9Q1a_2oR-Aa6UCX0_HyTfsCraMd=s64",
      "userId": "06217688725952462825"
     },
     "user_tz": -120
    },
    "id": "n1fA2gqs__Pm",
    "outputId": "6379df6f-1d7a-46dc-d473-c625da90e50a"
   },
   "outputs": [],
   "source": [
    "with open(\"finished_model.sav\",\"rb\") as f:\n",
    "    loaded_model = pickle.load(f)"
   ]
  },
  {
   "cell_type": "code",
   "execution_count": null,
   "metadata": {},
   "outputs": [
    {
     "ename": "NameError",
     "evalue": "name 'best_model' is not defined",
     "output_type": "error",
     "traceback": [
      "\u001b[0;31m---------------------------------------------------------------------------\u001b[0m",
      "\u001b[0;31mNameError\u001b[0m                                 Traceback (most recent call last)",
      "\u001b[1;32m/home/personal/Repositories/data-science-the-bridge/3-machine-learning/1-Supervisado/8-GridSearch & Pipelines/ejercicios/Breast_cancer_resolved.ipynb Cell 31\u001b[0m in \u001b[0;36m<cell line: 1>\u001b[0;34m()\u001b[0m\n\u001b[0;32m----> <a href='vscode-notebook-cell:/home/personal/Repositories/data-science-the-bridge/3-machine-learning/1-Supervisado/8-GridSearch%20%26%20Pipelines/ejercicios/Breast_cancer_resolved.ipynb#X35sZmlsZQ%3D%3D?line=0'>1</a>\u001b[0m best_model\u001b[39m.\u001b[39mscore(X_test, y_test) \u001b[39m*\u001b[39m \u001b[39m100\u001b[39m\n",
      "\u001b[0;31mNameError\u001b[0m: name 'best_model' is not defined"
     ]
    }
   ],
   "source": [
    "best_model.score(X_test, y_test) * 100"
   ]
  },
  {
   "cell_type": "code",
   "execution_count": null,
   "metadata": {},
   "outputs": [],
   "source": []
  }
 ],
 "metadata": {
  "accelerator": "TPU",
  "colab": {
   "collapsed_sections": [],
   "name": "3.breast_cancer_sol.ipynb",
   "provenance": []
  },
  "kernelspec": {
   "display_name": "Python 3.10.4 64-bit",
   "language": "python",
   "name": "python3"
  },
  "language_info": {
   "codemirror_mode": {
    "name": "ipython",
    "version": 3
   },
   "file_extension": ".py",
   "mimetype": "text/x-python",
   "name": "python",
   "nbconvert_exporter": "python",
   "pygments_lexer": "ipython3",
   "version": "3.10.4"
  },
  "vscode": {
   "interpreter": {
    "hash": "916dbcbb3f70747c44a77c7bcd40155683ae19c65e1c03b4aa3499c5328201f1"
   }
  }
 },
 "nbformat": 4,
 "nbformat_minor": 4
}
