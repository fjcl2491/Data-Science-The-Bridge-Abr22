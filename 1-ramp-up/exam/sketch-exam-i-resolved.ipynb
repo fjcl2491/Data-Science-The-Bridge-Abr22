{
 "metadata": {
  "language_info": {
   "codemirror_mode": {
    "name": "ipython",
    "version": 3
   },
   "file_extension": ".py",
   "mimetype": "text/x-python",
   "name": "python",
   "nbconvert_exporter": "python",
   "pygments_lexer": "ipython3",
   "version": "3.7.4-final"
  },
  "orig_nbformat": 2,
  "kernelspec": {
   "name": "python3",
   "display_name": "Python 3"
  }
 },
 "nbformat": 4,
 "nbformat_minor": 2,
 "cells": [
  {
   "source": [
    "# Test DS-FT Nov 2020\n",
    "\n"
   ],
   "cell_type": "markdown",
   "metadata": {}
  },
  {
   "source": [
    "## Primera parte:\n",
    "\n",
    "https://forms.gle/k1eyHnAXiQFyjk6X7"
   ],
   "cell_type": "markdown",
   "metadata": {}
  },
  {
   "source": [
    "-----------------"
   ],
   "cell_type": "markdown",
   "metadata": {}
  },
  {
   "source": [
    "## Segunda parte, ejercicios prácticos:"
   ],
   "cell_type": "markdown",
   "metadata": {}
  },
  {
   "source": [
    "#### Notas y pruebas de apoyo para contestar las preguntas tipo test\n",
    "Esto no es necesario usarlo, aunque verlo aquí te puede dar la respuesta a alguna de las preguntas tipo test.\n",
    "\n",
    "Cualquier código aunque no esté correcto, nos dirá más de ti, que no escribir nada. "
   ],
   "cell_type": "markdown",
   "metadata": {}
  },
  {
   "cell_type": "code",
   "execution_count": null,
   "metadata": {},
   "outputs": [],
   "source": [
    "# Ejemplo de como queremos ver el código para más de un intento:\n",
    "\n",
    "# intento 1\n",
    "your code\n",
    "# intento 2\n",
    "your code"
   ]
  },
  {
   "cell_type": "code",
   "execution_count": null,
   "metadata": {},
   "outputs": [],
   "source": [
    "# crea todas las celdas que necesites"
   ]
  },
  {
   "source": [
    "## Ejercicios prácticos"
   ],
   "cell_type": "markdown",
   "metadata": {}
  },
  {
   "source": [
    "#### Ejercicio 1.\n",
    "En este ejercicio se va a crear una lista con los siguientes elementos. Primero, crearemos las variables que luego añadiremos a la lista. Las variables son las siguientes:\n",
    "\n",
    "1. Crea una variable llamada `num_dni` de tipo Integer que represente el primer número de tu DNI. \n",
    "2. Crea una variable llamada `let_dni` de tipo String y que represente la letra de vuestro DNI.\n",
    "3. Crea una variable llamada `tip_ord` de tipo Boolean True si usas Windows y False si usas Mac.\n",
    "4. Crea una variable llamada `nada` de tipo None cuyo valor sea None.\n",
    "5. Crea una variable llamada `lista_deseo` de tipo List que contenga los cuatro objetos que te llevarías a una isla desierta. Cada elemento ha de ser de tipo String y el tamaño de la lista ha de ser 4.\n",
    "6. Crea una variable llamada `tupla_ropa` de tipo Tuple con la marca de la prenda superior, inferior y calzado que llevas puesto.\n",
    "7. Crea una variable llamada `dict_info` con dos keys y dos values. Una key es 'nombre', teniendo como value vuestro nombre. Otra key es 'edad', teniendo como value vuestra edad.\n",
    "8. Crea una variable llamada `flo_hor` con la hora actual separada por punto en vez de dos puntos. Ejemplo: si son las 10:06, el valor de la variable sería 10.06.\n",
    "\n",
    "Añade todos estos elementos en una lista llamada `lista_examen` en el orden de aparición."
   ],
   "cell_type": "markdown",
   "metadata": {}
  },
  {
   "cell_type": "code",
   "execution_count": 1,
   "metadata": {},
   "outputs": [
    {
     "output_type": "stream",
     "name": "stdout",
     "text": [
      "[5, 'C', True, ['cerveza', 'nevera', 'música', 'cuaderno'], ('camiseta', 'chandal', 'descalzo'), {'nombre': 'dio', 'edad': 27}, 16.28]\n"
     ]
    }
   ],
   "source": [
    " # tu respuesta aquí\n",
    " num_dni = 5\n",
    " let_dni = 'C'\n",
    " tip_ord = True\n",
    " nada = None\n",
    " lista_deseo = ['cerveza', 'nevera', 'música', 'cuaderno']\n",
    " tupla_ropa = ('camiseta', 'chandal', 'descalzo')\n",
    " dict_info = {'nombre': 'dio', 'edad': 27}\n",
    " flo_hor = 16.28\n",
    "\n",
    " lista_examen = [num_dni, let_dni, tip_ord, lista_deseo, tupla_ropa, dict_info, flo_hor]\n",
    " print(lista_examen)"
   ]
  },
  {
   "source": [
    "#### Ejercicio 2. \n",
    "\n",
    "Para resolver este ejercicio necesitarás la lista del ejercicio anterior (`lista_examen`). Se recomeinda leer cada punto hasta el final antes de resolver el ejercicio.\n",
    "\n",
    "Se repite para que quede aún más claro: **SOLO USAR LA VARIABLE** `lista_examen`. Usar las demás variables se calificará como error.  \n",
    "\n",
    "1. Mostrar por pantalla, sin uso de funciones ni bucles: \n",
    "    - El segundo elemento de `lista_deseo` desde `lista_examen`.\n",
    "    - El calzado que llevas puesto.\n",
    "    - Vuestro nombre.\n",
    "    - La hora almacenada concatenada con vuestra edad y el número de vuestro de DNI. No debe haber espacios entre la concatenación.\n",
    "    - Si tenéis más de 20 años, el primer número de vuestro DNI es mayor a 7 y usas Mac, mostrar la posición 5 de `lista_examen`.\n",
    "    "
   ],
   "cell_type": "markdown",
   "metadata": {}
  },
  {
   "cell_type": "code",
   "execution_count": 2,
   "metadata": {},
   "outputs": [
    {
     "output_type": "stream",
     "name": "stdout",
     "text": [
      "1.- nevera\n\n2.- descalzo\n\n3.- dio\n\n4.- 16.28275\n\n5.- PC Power Supreme!\n\n"
     ]
    }
   ],
   "source": [
    "# tu respuesta aquí\n",
    "\n",
    "one = lista_examen[3][1]\n",
    "two = lista_examen[4][-1]\n",
    "three = lista_examen[5]['nombre']\n",
    "four = str(lista_examen[-1]) + str(lista_examen[5]['edad']) + str(lista_examen[0])\n",
    "\n",
    "if (lista_examen[5]['edad'] > 20) and (lista_examen[0] > 7) and (lista_examen[2] == True):\n",
    "    five = lista_examen[5]\n",
    "\n",
    "else:\n",
    "    five = 'PC Power Supreme!'\n",
    "    \n",
    "print(f'1.- {one}\\n')\n",
    "print(f'2.- {two}\\n')\n",
    "print(f'3.- {three}\\n')\n",
    "print(f'4.- {four}\\n')\n",
    "print(f'5.- {five}\\n')\n",
    "\n",
    "\n"
   ]
  },
  {
   "source": [
    "2. Mostrar por pantalla, con uso de un bucle `for`:\n",
    "    - Todos los elementos de `lista_examen`.\n",
    "    - Todos los elementos de `lista_deseo` desde `lista_examen`.\n",
    "    - Todos los elementos que ocupen una posición menor a 4 en `lista_examen`.\n"
   ],
   "cell_type": "markdown",
   "metadata": {}
  },
  {
   "cell_type": "code",
   "execution_count": 3,
   "metadata": {},
   "outputs": [
    {
     "output_type": "stream",
     "name": "stdout",
     "text": [
      "1:\n\n5\nC\nTrue\n['cerveza', 'nevera', 'música', 'cuaderno']\n('camiseta', 'chandal', 'descalzo')\n{'nombre': 'dio', 'edad': 27}\n16.28\n2:\n\ncerveza\nnevera\nmúsica\ncuaderno\n3:\n\n5\nC\nTrue\n"
     ]
    }
   ],
   "source": [
    "# tu respuesta aquí\n",
    "\n",
    "print('1:\\n')\n",
    "for e in lista_examen:\n",
    "    print(e)\n",
    "\n",
    "\n",
    "print('2:\\n')\n",
    "for e in lista_examen[3]:\n",
    "    print (e)\n",
    "\n",
    "\n",
    "print('3:\\n')\n",
    "for e in range(3):\n",
    "    print(lista_examen[e])"
   ]
  },
  {
   "source": [
    "3. Mostrar por pantalla, con uso de un bucle while: \n",
    "    - Todos los elementos de `tupla_ropa` seguido de la cadena `\"-->\"` y la `posición` (int) que ocupa en la tupla accediendo desde `lista_examen`. Se aconseja utilizar *`enumerate`*.\n",
    "    - Cada key de `dict_info` seguido de la cadena \":\" seguido de su value desde `lista_examen`."
   ],
   "cell_type": "markdown",
   "metadata": {}
  },
  {
   "cell_type": "code",
   "execution_count": 4,
   "metadata": {
    "tags": []
   },
   "outputs": [
    {
     "output_type": "stream",
     "name": "stdout",
     "text": [
      "1:\n\ncamiseta --> 0\nchandal --> 1\ndescalzo --> 2\n2:\n\nnombre: dio\nedad: 27\n"
     ]
    }
   ],
   "source": [
    "# tu respuesta aquí\n",
    "print('1:\\n')\n",
    "a = 0\n",
    "while a < len(lista_examen[4]):\n",
    "    print(f'{lista_examen[4][a]} --> {a}')\n",
    "    a += 1\n",
    "\n",
    "print('2:\\n')\n",
    "the_dict = lista_examen[5]\n",
    "a = 0\n",
    "while a < len(the_dict):\n",
    "    print(f'{list(the_dict.keys())[a]}: {list(the_dict.values())[a]}')\n",
    "    a += 1"
   ]
  },
  {
   "source": [
    "#### Ejercicio 3. \n",
    "\n",
    "Crea una clase \"Humano\" que tenga 3 atributos: \"edad\", \"altura\" y \"nombre\". Además, debe contar con dos funciones: \n",
    "\n",
    "- `cumplir_edad`: al llamar a esta función se debe sumar 1 a la edad actual del humano. \n",
    "- `registro_nombre` que recibe parametro \"nuevo_nombre\": al llamar a esta función con un parámetro de entrada, esta función debe cambiar el nombre del humano por el \"nuevo_nombre\"\n",
    "\n",
    "Crea un humano llamado \"Wolfram\" que tiene 23 años de edad y mide 173 centímetros. A \"Wolfram\" nunca le gustó su nombre. Por eso, usa la función correspondiente para cambiarle su nombre por \"Benacio\". Además, hoy es su cumpleaños por lo que usa la función para aumentar su edad. \n",
    "\n",
    "Muestra por pantalla el nombre del humano antes y después de cambiarse de nombre. Muestra también la edad de Benacio antes y después de cumplir años."
   ],
   "cell_type": "markdown",
   "metadata": {}
  },
  {
   "cell_type": "code",
   "execution_count": 5,
   "metadata": {},
   "outputs": [],
   "source": [
    "# tu respuesta aquí\n",
    "class Humano:\n",
    "    def __init__(self, nombre, edad, altura):\n",
    "        self.nombre = nombre\n",
    "        self.edad = edad\n",
    "        self.altura = altura\n",
    "\n",
    "    def registro_nombre(self, nuevo_nombre):\n",
    "        print(f'¿No te gusta {self.nombre}?...')\n",
    "\n",
    "        self.nombre = nuevo_nombre\n",
    "        print(f'¿Y quieres cambiar a {self.nombre}? Ok!')\n",
    "\n",
    "    def cumplir_edad(self):\n",
    "        self.edad += 1\n",
    "        print('¡Feliz cumpleaños!')        "
   ]
  },
  {
   "cell_type": "code",
   "execution_count": 6,
   "metadata": {},
   "outputs": [],
   "source": [
    "wolfram = Humano(nombre= 'Wolfram', edad= 23, altura= 173)"
   ]
  },
  {
   "cell_type": "code",
   "execution_count": 7,
   "metadata": {},
   "outputs": [
    {
     "output_type": "stream",
     "name": "stdout",
     "text": [
      "¿No te gusta Wolfram?...\n¿Y quieres cambiar a Benancio? Ok!\n¡Feliz cumpleaños!\n\nDe 23 a 24 ¡Cómo creces!\n"
     ]
    }
   ],
   "source": [
    "edad_1 = wolfram.edad\n",
    "wolfram.registro_nombre('Benancio')\n",
    "wolfram.cumplir_edad()\n",
    "\n",
    "print(f'\\nDe {edad_1} a {wolfram.edad} ¡Cómo creces!')"
   ]
  },
  {
   "source": [
    "#### Ejercicio 4. \n",
    "\n",
    "Escribe una función `reverse_number` que reciba dos parámetros. Los parámetros son `cadena` y `n`. `cadena` será un string y `n` un entero. La función debe retornar un string que sea el string `cadena` al revés y que tenga concatenado el número `n` por cada caracter de `cadena`.  \n",
    "\n",
    "*No se permite usar la función built-in `reverse` ni pasar el string `cadena` a otro tipo de variable (como list)* \n",
    "\n",
    "Ejemplos de llamada a la función y lo que devuelve la función:\n",
    "\n",
    "--------\n",
    "\n",
    ">> print(reverse_number(cadena=\"aloh\", n=3))\n",
    "\n",
    ">>> h3o3l3a3\n",
    "\n",
    "--------\n",
    "\n",
    ">> print(reverse_number(cadena=\"otipep\", n=85))\n",
    "\n",
    ">>> p85e85p85i85t85o85\n",
    "\n",
    "\n",
    "\n"
   ],
   "cell_type": "markdown",
   "metadata": {}
  },
  {
   "cell_type": "code",
   "execution_count": 8,
   "metadata": {},
   "outputs": [],
   "source": [
    "def reverse_number(cadena, n_cadena):\n",
    "    \"\"\"\n",
    "    Esta función cambia de orden una cadena de string, haciendo del último elemento el primero. Además inserta un caracter numérico entero (int) por cada caracter de cadena. Esta función retorna el resultado (result). Es super útil.\n",
    "    \"\"\"\n",
    "    cadena = cadena [::-1]\n",
    "    n_cadena = str(n_cadena)\n",
    "    result = ''\n",
    "    \n",
    "    for e in range(len(cadena)):\n",
    "        result += cadena[e]+n_cadena\n",
    "    \n",
    "    return result"
   ]
  },
  {
   "cell_type": "code",
   "execution_count": 9,
   "metadata": {},
   "outputs": [
    {
     "output_type": "execute_result",
     "data": {
      "text/plain": [
       "'19v9 9t9e9e9h9s9t9a9e9h9C9 9r9e9d9n9e9l9B9'"
      ]
     },
     "metadata": {},
     "execution_count": 9
    }
   ],
   "source": [
    "my_string_reversed = reverse_number(cadena = 'Blender Cheatsheet v1', n_cadena = 9)\n",
    "my_string_reversed"
   ]
  },
  {
   "cell_type": "code",
   "execution_count": 10,
   "metadata": {},
   "outputs": [
    {
     "output_type": "execute_result",
     "data": {
      "text/plain": [
       "'p85e85p85i85t85o85'"
      ]
     },
     "metadata": {},
     "execution_count": 10
    }
   ],
   "source": [
    "my_string_reversed = reverse_number(cadena=\"otipep\", n_cadena=85)\n",
    "my_string_reversed"
   ]
  }
 ]
}