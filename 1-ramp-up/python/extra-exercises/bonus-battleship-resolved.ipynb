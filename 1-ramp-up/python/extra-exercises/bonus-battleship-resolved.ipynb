{
 "cells": [
  {
   "cell_type": "markdown",
   "metadata": {},
   "source": [
    "# Ejercicio Hundir La Flota | Challenge yourself | Week 2\n",
    "## Precurso DSNov20 - The Bridge\n",
    "\n",
    "Se mantiene en español para que no se os olvide leer en español. \n",
    "Disculpen las molestias que esto pudiera ocasionarle como estudiante. "
   ]
  },
  {
   "cell_type": "markdown",
   "metadata": {},
   "source": [
    "En este ejercicio deberás programar el juego **hundir la flota** o [**batalla naval**](https://es.wikipedia.org/wiki/Batalla_naval_(juego)) "
   ]
  },
  {
   "cell_type": "markdown",
   "metadata": {},
   "source": [
    "El tablero de este juego será una matriz de 10x10 dimensiones, matriz sobre la que plamaremos el estado de cada turno. Cada matriz de información continente del estado en cada momento, se mostrará por pantalla."
   ]
  },
  {
   "cell_type": "markdown",
   "metadata": {},
   "source": [
    "![tablero](https://i.pinimg.com/474x/1c/66/ca/1c66ca8d767428dcd1c39285643f3987--yahoo-search.jpg)"
   ]
  },
  {
   "cell_type": "markdown",
   "metadata": {},
   "source": [
    "**Las reglas son las siguientes:**\n",
    "\n",
    "- Cada jugador deberá colocar en su tablero:\n",
    "    - 4 barcos tamaño 2x1. \n",
    "\n",
    "    - 3 barcos tamaño 3x1.\n",
    "\n",
    "    - 2 barcos tamaño 4x1.\n",
    "    \n",
    "    - 1 barco tamaño 5x1. \n",
    "    \n",
    "\n",
    "- En cada turno, el jugador correspondiente debe elegir una casilla de la matriz (10x10) y ambos jugadores marcarán la casilla en la matriz.\n",
    "- Si la casilla que se ha elegido es agua, será marcada como un una \"**o**\" y si la casilla que ha marcado es uno de los barcos, la casilla será marcada con una \"**x**\". \n",
    "- Los barcos han de ser mostrados con un \"__*__\" en la matriz. \n",
    "- Los espacios con agua serán mostrados como \"**~**\".\n",
    "\n",
    "Antes de que comience la partida, cada jugador deberá crear su estado inicial. El estado inicial es una configuración de la matriz con todos los barcos colocados. Para ello, el programa debería preguntar, uno a uno, dónde se quiere colocar cada barco. El estilo de pregunta, ha de ser: \n",
    "\n",
    "- Inserte la posición del barco 1 (2x1). El usuario ha de escribir si se quiere insertar en la 4a fila, en horizontal y ocupando las últimas dos columnas: `4h9:10`.\n",
    "- Inserte la posición del barco 2 (2x1). El usuario ha de escribir si se quiere insertar en la 8a fila, en horizontal y ocupando las dos primeras columnas: `8h1:2`.\n",
    "- Inserte la posición del barco 3 (5x1). Si se quiere colocar en vertical empezando por la fila 1 a la 5 y columna 8: `8v1:5`.\n",
    "\n",
    "También tendrás la opción de cargar una partida anteriormente definida en formato [JSON](https://www.w3schools.com/python/python_json.asp).\n",
    "\n",
    "Para saber quien empieza a jugar, los jugadores deberán ponerse de acuerdo para que uno de ellos sea el que llame a una función que devuelva dos valores random del 1 al 6, de tipo entero. El primer valor que se muestre por pantalla será el correspondiente al jugador que llama a la función, el segundo será el del contrincante. Quien saque un valor más alto, empieza. \n",
    "\n",
    "Además, el programa guardará el nombre de los jugadores y el histórico, es decir, todos los estados de la partida. Para ello se utilizará el formato JSON.\n",
    "\n",
    "Cuando un jugador haya creado su estado inicial, este estado también deberá ser guardado en formato JSON. Antes de que se inicie la partida, el otro jugador deberá cargar tu estado inicial y tú el suyo. El estado inicial del enemigo es el que usará tu programa para comprobar si las coordenadas que has utilizado han acertado en el blanco o no. \n",
    "\n",
    "El formato de preguntas por turno es: \n",
    "\n",
    "- `Inserte coordenadas a atacar:`. La respuesta válida será `0x8` --> fila 0, columna 8. \n",
    "\n",
    "Una vez insertada las coordenadas, deberá resultar en que aparezcan tu matriz y la matriz de estado de tu enemigo, esta última con la nueva coordenada marcada sin la flota excepto si el torpedo hubiera dado en el blanco. "
   ]
  },
  {
   "cell_type": "markdown",
   "metadata": {},
   "source": [
    "**A modo de resumen:**\n",
    "\n",
    "1. Se eligen los nombres de jugador. ¡Recuerda no dejar espacios!\n",
    "\n",
    "2. Se pregunta sobre las posiciones de tu flota. Una vez que se haya definido, el sistema debe guardar en JSON el estado de tu flota. OPCIONAL: Puedes cargar una partida a partir de un fichero JSON.\n",
    "\n",
    "3. Se carga el estado inicial de tu enemigo a partir de un fichero JSON que te habrá definido previamente. El fichero estará en una carpeta llamada \"Partidas_Batalla_Naval\". Para cargar el fichero se debe introducir la ruta o nombre del fichero. \n",
    "\n",
    "4. Cuando ambos estéis en el mismo punto y se sepa quien es el primero, se debe escribir *primero* o *segundo*. Si eres primero, el sistema empezará preguntándote las coordenadas. Si eres segundo, el sistema preguntará por las coordenadas del rival. \n",
    "\n",
    "5. Se debe mostrar por pantalla dos matrices: una matriz 10x10 que representa los puntos que has ido marcando, que no mostrará la flota del enemigo excepto si algún barco ha sido dañado, y otra a la derecha que muestre tu flota con los puntos que hayan sido atacados por parte del contrincante. \n",
    "\n",
    "6. Cuando toda la flota de uno de los dos jugadores haya sido exterminada, se mostrará el ganador de la partida. Que si has sido tú el que ha programado este juego, ya habrás ganado incluso antes de empezar a jugar. "
   ]
  },
  {
   "cell_type": "code",
   "execution_count": 13,
   "metadata": {},
   "outputs": [],
   "source": [
    "# pprint to see the things prettier\n",
    "import pprint as pp\n",
    "import random"
   ]
  },
  {
   "cell_type": "markdown",
   "metadata": {},
   "source": [
    " Ten en cuenta que lo ideal será que programes este juego en `.py` de modo que puedas ejecutar dicho programa por la terminal. "
   ]
  },
  {
   "cell_type": "code",
   "execution_count": 14,
   "metadata": {},
   "outputs": [],
   "source": [
    "# Number of players in the game\n",
    "NUM_PLAYERS = 2\n",
    "\n",
    "# CELL Vars\n",
    "WATER_CELL = \"~\"\n",
    "BOAT_CELL = \"*\"\n",
    "# REQUEST Vars\n",
    "WATER_REQ = \"o\"\n",
    "BOAT_REQ = \"x\"\n",
    "\n",
    "table_lst = []\n",
    "for n in range(10):\n",
    "    target_table_lst = []\n",
    "    for i in range(10):\n",
    "        target_table_lst.append(WATER_CELL)\n",
    "    #print(target_table_lst)\n",
    "    table_lst.append(target_table_lst)\n",
    "\n",
    "# Create the initial table with all water\n",
    "INIT_TABLE = table_lst\n",
    "#pp.pprint(table_lst)\n",
    "#print()\n",
    "#for i in range(3):\n",
    "#    table_lst[i][3] = \"X\"\n",
    "#pp.pprint(table_lst)\n",
    "\n",
    "#INIT_TABLE = [[WATER_CELL] for i in range(10) for n in range(10)]\n",
    "#pp.pprint(INIT_TABLE)\n",
    "\n",
    "# Dict with the boat and characteristics\n",
    "# The key is the name of the size, \n",
    "# the first value in the list is the number of cells,\n",
    "# the second value in the list is the number of boats of this type\n",
    "BOATS_MASTER_DICT = {\n",
    "# NAME: [NUMBER OF CELLS, NUMBER OF BOATS]\n",
    "    \"S\": [2, 4],\n",
    "    \"M\": [3, 3],\n",
    "    \"L\": [4, 2],\n",
    "    \"XL\": [5, 1], \n",
    "}\n",
    "\n",
    "# Dict with the orientation and name based in orientation string\n",
    "ORIENTATIONS_DICT = {\n",
    "# ORIENTATION_STR: [ORIENTATION, NAME]    \n",
    "    \"v\": [\"VERTICAL\", \"COLUMNA\"],\n",
    "    \"h\": [\"HORIZONTAL\", \"FILA\"],\n",
    "}"
   ]
  },
  {
   "cell_type": "code",
   "execution_count": 15,
   "metadata": {},
   "outputs": [],
   "source": [
    "class Player():\n",
    "    \n",
    "    # Init value to know the order in the first round\n",
    "    init_value = 0\n",
    "\n",
    "    # Function to generate a random int number between 1 and 6\n",
    "    # needed to start the game\n",
    "    @classmethod\n",
    "    def random_number(self):\n",
    "        self.init_value = random.randint(1, 6)\n",
    "        return self.init_value\n",
    "\n",
    "    # Function tu update the Player table\n",
    "    @classmethod\n",
    "    def update_table(self, rows_cols_code):\n",
    "        self.table = random.randint(1, 6)\n",
    "        return self.init_value        \n",
    "\n",
    "    def __init__(self, name):\n",
    "        self.name = name\n",
    "        self.table = INIT_TABLE\n",
    "\n",
    "class Boat():\n",
    "    \n",
    "    # Dict to cluster all the boats\n",
    "    sizes_dict = {\n",
    "        2: \"S\",\n",
    "        3: \"M\",\n",
    "        4: \"L\",\n",
    "        5: \"XL\",\n",
    "    }\n",
    "    \n",
    "    # Function to understand the orientation of the boat\n",
    "    def get_orientation(self, pos):\n",
    "        if \"v\" in pos.lower():\n",
    "            return ORIENTATIONS_DICT[\"v\"][0]\n",
    "        elif \"h\" in pos.lower():\n",
    "            return ORIENTATIONS_DICT[\"h\"][0]\n",
    "        else:\n",
    "            return \"ERROR\"\n",
    "\n",
    "    def __init__(self, player, size_num, pos):\n",
    "        self.player = player\n",
    "        self.size_num = size_num\n",
    "        self.pos = pos\n",
    "        self.size = self.sizes_dict[size_num]\n",
    "        self.orientation = self.get_orientation(pos) "
   ]
  },
  {
   "cell_type": "code",
   "execution_count": 16,
   "metadata": {},
   "outputs": [
    {
     "name": "stdout",
     "output_type": "stream",
     "text": [
      "Bienvenido al juego HuevoFrito\n",
      "Bienvenido al juego PatataFrita\n"
     ]
    }
   ],
   "source": [
    "# Create a list to save the players\n",
    "player_lst = []\n",
    "\n",
    "# Iterate to create the players\n",
    "for i in range(NUM_PLAYERS):\n",
    "    name = \"\"\n",
    "    # While the inserted value is not a correct name\n",
    "    # repeat the input function\n",
    "    while name.isdigit() or name is None or name == \"\":\n",
    "        name = input(\"\"\"\n",
    "             Inserte el nombre del {0}º jugador y pulse enter.\\n\n",
    "             Recuerda no dejar espacios o se eliminaran\"\"\" \\\n",
    "            .format(i + 1))\n",
    "        # Split the name and join the splitted to delete spaces\n",
    "        name_splitted = name.split(\" \")\n",
    "        valid_name = \"\".join([ns.title() for ns in name_splitted])\n",
    "        # Create the Players\n",
    "        player = Player(valid_name)\n",
    "        # Add the players to one list\n",
    "        player_lst.append(player)\n",
    "        # Print a welcome string for all the players\n",
    "        welcome_str = \"Bienvenido al juego {0}\".format(player.name)\n",
    "        print(welcome_str)\n",
    "\n",
    "#[print(n.name) for n in player_lst]"
   ]
  },
  {
   "cell_type": "code",
   "execution_count": 21,
   "metadata": {},
   "outputs": [
    {
     "data": {
      "text/plain": [
       "[<__main__.Player at 0x7f136655ed90>, <__main__.Player at 0x7f137fa2c070>]"
      ]
     },
     "execution_count": 21,
     "metadata": {},
     "output_type": "execute_result"
    }
   ],
   "source": [
    "player_lst"
   ]
  },
  {
   "cell_type": "code",
   "execution_count": 25,
   "metadata": {},
   "outputs": [
    {
     "name": "stdout",
     "output_type": "stream",
     "text": [
      "Te toca elegir donde quieres poner tus barcos HuevoFrito\n",
      "Tienes 4 barcos de tipo S\n",
      "Donde quieres poner el 1º barco de tipo S.\n",
      "4 S 1 VERTICAL 5v5:7\n",
      "Donde quieres poner el 2º barco de tipo S.\n",
      "4 S 2 HORIZONTAL 3h7:9\n",
      "Donde quieres poner el 3º barco de tipo S.\n"
     ]
    },
    {
     "ename": "KeyboardInterrupt",
     "evalue": "Interrupted by user",
     "output_type": "error",
     "traceback": [
      "\u001b[0;31m---------------------------------------------------------------------------\u001b[0m",
      "\u001b[0;31mKeyboardInterrupt\u001b[0m                         Traceback (most recent call last)",
      "\u001b[1;32m/home/gustavo/Documents/bonus-battleship-resolved.ipynb Cell 13'\u001b[0m in \u001b[0;36m<cell line: 37>\u001b[0;34m()\u001b[0m\n\u001b[1;32m     <a href='vscode-notebook-cell:/home/gustavo/Documents/bonus-battleship-resolved.ipynb#ch0000011?line=42'>43</a>\u001b[0m \u001b[39mfor\u001b[39;00m n \u001b[39min\u001b[39;00m \u001b[39mrange\u001b[39m(\u001b[39m1\u001b[39m, num_boats \u001b[39m+\u001b[39m \u001b[39m1\u001b[39m):\n\u001b[1;32m     <a href='vscode-notebook-cell:/home/gustavo/Documents/bonus-battleship-resolved.ipynb#ch0000011?line=43'>44</a>\u001b[0m     \u001b[39mprint\u001b[39m(\u001b[39m\"\u001b[39m\u001b[39mDonde quieres poner el \u001b[39m\u001b[39m{0}\u001b[39;00m\u001b[39mº barco de tipo \u001b[39m\u001b[39m{1}\u001b[39;00m\u001b[39m.\u001b[39m\u001b[39m\"\u001b[39m\u001b[39m.\u001b[39mformat(n, boat_type))\n\u001b[0;32m---> <a href='vscode-notebook-cell:/home/gustavo/Documents/bonus-battleship-resolved.ipynb#ch0000011?line=44'>45</a>\u001b[0m     orientation \u001b[39m=\u001b[39m question_orientation()\n\u001b[1;32m     <a href='vscode-notebook-cell:/home/gustavo/Documents/bonus-battleship-resolved.ipynb#ch0000011?line=45'>46</a>\u001b[0m     rows_cols_code \u001b[39m=\u001b[39m question_rows_cols(orientation, size)\n\u001b[1;32m     <a href='vscode-notebook-cell:/home/gustavo/Documents/bonus-battleship-resolved.ipynb#ch0000011?line=46'>47</a>\u001b[0m     \u001b[39mprint\u001b[39m(num_boats, boat_type, n, ORIENTATIONS_DICT[orientation][\u001b[39m0\u001b[39m], rows_cols_code)\n",
      "\u001b[1;32m/home/gustavo/Documents/bonus-battleship-resolved.ipynb Cell 13'\u001b[0m in \u001b[0;36mquestion_orientation\u001b[0;34m(resp)\u001b[0m\n\u001b[1;32m      <a href='vscode-notebook-cell:/home/gustavo/Documents/bonus-battleship-resolved.ipynb#ch0000011?line=1'>2</a>\u001b[0m \u001b[39mdef\u001b[39;00m \u001b[39mquestion_orientation\u001b[39m(resp \u001b[39m=\u001b[39m \u001b[39m\"\u001b[39m\u001b[39m\"\u001b[39m):\n\u001b[1;32m      <a href='vscode-notebook-cell:/home/gustavo/Documents/bonus-battleship-resolved.ipynb#ch0000011?line=2'>3</a>\u001b[0m     question_str \u001b[39m=\u001b[39m \u001b[39m\"\"\"\u001b[39m\n\u001b[1;32m      <a href='vscode-notebook-cell:/home/gustavo/Documents/bonus-battleship-resolved.ipynb#ch0000011?line=3'>4</a>\u001b[0m \u001b[39m        Quieres ponerlo en VERTICAL u HORIZONTAL?\u001b[39m\n\u001b[1;32m      <a href='vscode-notebook-cell:/home/gustavo/Documents/bonus-battleship-resolved.ipynb#ch0000011?line=4'>5</a>\u001b[0m \u001b[39m        \u001b[39m\u001b[39m\"\"\"\u001b[39m\n\u001b[0;32m----> <a href='vscode-notebook-cell:/home/gustavo/Documents/bonus-battleship-resolved.ipynb#ch0000011?line=5'>6</a>\u001b[0m     orientation_input \u001b[39m=\u001b[39m \u001b[39minput\u001b[39;49m(question_str)\n\u001b[1;32m      <a href='vscode-notebook-cell:/home/gustavo/Documents/bonus-battleship-resolved.ipynb#ch0000011?line=6'>7</a>\u001b[0m     \u001b[39mwhile\u001b[39;00m \u001b[39mnot\u001b[39;00m (\u001b[39m\"\u001b[39m\u001b[39mv\u001b[39m\u001b[39m\"\u001b[39m \u001b[39min\u001b[39;00m orientation_input\u001b[39m.\u001b[39mlower() \u001b[39mor\u001b[39;00m \u001b[39m\"\u001b[39m\u001b[39mh\u001b[39m\u001b[39m\"\u001b[39m \u001b[39min\u001b[39;00m orientation_input\u001b[39m.\u001b[39mlower()):\n\u001b[1;32m      <a href='vscode-notebook-cell:/home/gustavo/Documents/bonus-battleship-resolved.ipynb#ch0000011?line=7'>8</a>\u001b[0m         \u001b[39mreturn\u001b[39;00m(question_orientation())\n",
      "File \u001b[0;32m~/.local/lib/python3.8/site-packages/ipykernel/kernelbase.py:1161\u001b[0m, in \u001b[0;36mKernel.raw_input\u001b[0;34m(self, prompt)\u001b[0m\n\u001b[1;32m   <a href='file:///home/personal/.local/lib/python3.8/site-packages/ipykernel/kernelbase.py?line=1156'>1157</a>\u001b[0m \u001b[39mif\u001b[39;00m \u001b[39mnot\u001b[39;00m \u001b[39mself\u001b[39m\u001b[39m.\u001b[39m_allow_stdin:\n\u001b[1;32m   <a href='file:///home/personal/.local/lib/python3.8/site-packages/ipykernel/kernelbase.py?line=1157'>1158</a>\u001b[0m     \u001b[39mraise\u001b[39;00m StdinNotImplementedError(\n\u001b[1;32m   <a href='file:///home/personal/.local/lib/python3.8/site-packages/ipykernel/kernelbase.py?line=1158'>1159</a>\u001b[0m         \u001b[39m\"\u001b[39m\u001b[39mraw_input was called, but this frontend does not support input requests.\u001b[39m\u001b[39m\"\u001b[39m\n\u001b[1;32m   <a href='file:///home/personal/.local/lib/python3.8/site-packages/ipykernel/kernelbase.py?line=1159'>1160</a>\u001b[0m     )\n\u001b[0;32m-> <a href='file:///home/personal/.local/lib/python3.8/site-packages/ipykernel/kernelbase.py?line=1160'>1161</a>\u001b[0m \u001b[39mreturn\u001b[39;00m \u001b[39mself\u001b[39;49m\u001b[39m.\u001b[39;49m_input_request(\n\u001b[1;32m   <a href='file:///home/personal/.local/lib/python3.8/site-packages/ipykernel/kernelbase.py?line=1161'>1162</a>\u001b[0m     \u001b[39mstr\u001b[39;49m(prompt),\n\u001b[1;32m   <a href='file:///home/personal/.local/lib/python3.8/site-packages/ipykernel/kernelbase.py?line=1162'>1163</a>\u001b[0m     \u001b[39mself\u001b[39;49m\u001b[39m.\u001b[39;49m_parent_ident[\u001b[39m\"\u001b[39;49m\u001b[39mshell\u001b[39;49m\u001b[39m\"\u001b[39;49m],\n\u001b[1;32m   <a href='file:///home/personal/.local/lib/python3.8/site-packages/ipykernel/kernelbase.py?line=1163'>1164</a>\u001b[0m     \u001b[39mself\u001b[39;49m\u001b[39m.\u001b[39;49mget_parent(\u001b[39m\"\u001b[39;49m\u001b[39mshell\u001b[39;49m\u001b[39m\"\u001b[39;49m),\n\u001b[1;32m   <a href='file:///home/personal/.local/lib/python3.8/site-packages/ipykernel/kernelbase.py?line=1164'>1165</a>\u001b[0m     password\u001b[39m=\u001b[39;49m\u001b[39mFalse\u001b[39;49;00m,\n\u001b[1;32m   <a href='file:///home/personal/.local/lib/python3.8/site-packages/ipykernel/kernelbase.py?line=1165'>1166</a>\u001b[0m )\n",
      "File \u001b[0;32m~/.local/lib/python3.8/site-packages/ipykernel/kernelbase.py:1205\u001b[0m, in \u001b[0;36mKernel._input_request\u001b[0;34m(self, prompt, ident, parent, password)\u001b[0m\n\u001b[1;32m   <a href='file:///home/personal/.local/lib/python3.8/site-packages/ipykernel/kernelbase.py?line=1201'>1202</a>\u001b[0m             \u001b[39mbreak\u001b[39;00m\n\u001b[1;32m   <a href='file:///home/personal/.local/lib/python3.8/site-packages/ipykernel/kernelbase.py?line=1202'>1203</a>\u001b[0m \u001b[39mexcept\u001b[39;00m \u001b[39mKeyboardInterrupt\u001b[39;00m:\n\u001b[1;32m   <a href='file:///home/personal/.local/lib/python3.8/site-packages/ipykernel/kernelbase.py?line=1203'>1204</a>\u001b[0m     \u001b[39m# re-raise KeyboardInterrupt, to truncate traceback\u001b[39;00m\n\u001b[0;32m-> <a href='file:///home/personal/.local/lib/python3.8/site-packages/ipykernel/kernelbase.py?line=1204'>1205</a>\u001b[0m     \u001b[39mraise\u001b[39;00m \u001b[39mKeyboardInterrupt\u001b[39;00m(\u001b[39m\"\u001b[39m\u001b[39mInterrupted by user\u001b[39m\u001b[39m\"\u001b[39m) \u001b[39mfrom\u001b[39;00m \u001b[39mNone\u001b[39m\n\u001b[1;32m   <a href='file:///home/personal/.local/lib/python3.8/site-packages/ipykernel/kernelbase.py?line=1205'>1206</a>\u001b[0m \u001b[39mexcept\u001b[39;00m \u001b[39mException\u001b[39;00m:\n\u001b[1;32m   <a href='file:///home/personal/.local/lib/python3.8/site-packages/ipykernel/kernelbase.py?line=1206'>1207</a>\u001b[0m     \u001b[39mself\u001b[39m\u001b[39m.\u001b[39mlog\u001b[39m.\u001b[39mwarning(\u001b[39m\"\u001b[39m\u001b[39mInvalid Message:\u001b[39m\u001b[39m\"\u001b[39m, exc_info\u001b[39m=\u001b[39m\u001b[39mTrue\u001b[39;00m)\n",
      "\u001b[0;31mKeyboardInterrupt\u001b[0m: Interrupted by user"
     ]
    }
   ],
   "source": [
    "# Define a function to question and validate the orientation input\n",
    "def question_orientation(resp = \"\"):\n",
    "    question_str = \"\"\"\n",
    "        Quieres ponerlo en VERTICAL u HORIZONTAL?\n",
    "        \"\"\"\n",
    "    orientation_input = input(question_str)\n",
    "    while not (\"v\" in orientation_input.lower() or \"h\" in orientation_input.lower()):\n",
    "        return(question_orientation())\n",
    "    return orientation_input\n",
    "\n",
    "# Define a function to question and validate the orientation input\n",
    "def question_rows_cols(orientation, size, resp = \"\"):\n",
    "    main_rows_cols_str = ORIENTATIONS_DICT[orientation][1]\n",
    "    inverted_orientation = [k for k in ORIENTATIONS_DICT.keys() if k != orientation][0]\n",
    "    sec_rows_cols_str = ORIENTATIONS_DICT[inverted_orientation][1]\n",
    "    main_question_str = \"\"\"\n",
    "        En que {0} quieres que este el barco?\n",
    "        \"\"\".format(main_rows_cols_str)\n",
    "    main_rows_cols_input = int(input(main_question_str))\n",
    "    sec_question_str = \"\"\"\n",
    "        En que {0} quieres que empiece el barco? \n",
    "        Recuerda que comprende {1} celdas.\n",
    "        \"\"\".format(sec_rows_cols_str, size)\n",
    "    sec_rows_cols_input = int(input(sec_question_str))    \n",
    "    sec_rows_cols_start = sec_rows_cols_input\n",
    "    sec_rows_cols_end = sec_rows_cols_input + size\n",
    "    rows_cols_code = \"{0}{1}{2}:{3}\".format(main_rows_cols_input, \\\n",
    "        orientation, sec_rows_cols_start, sec_rows_cols_end)\n",
    "    return rows_cols_code  \n",
    "\n",
    "#def validate_movement(player, rows_cols_code):\n",
    "#    pp.pprint(p.table)\n",
    "\n",
    "# Iter over the players to save their boats\n",
    "boat_lst = []\n",
    "\n",
    "for p in player_lst:\n",
    "    select_str = \"Te toca elegir donde quieres poner tus barcos {0}\".format(p.name)\n",
    "    print(select_str)  \n",
    "    for boat_type, [size, num_boats] in BOATS_MASTER_DICT.items():\n",
    "        boat_num_str = \"Tienes {0} barcos de tipo {1}\".format(num_boats, boat_type)\n",
    "        print(boat_num_str)  \n",
    "        for n in range(1, num_boats + 1):\n",
    "            print(\"Donde quieres poner el {0}º barco de tipo {1}.\".format(n, boat_type))\n",
    "            orientation = question_orientation()\n",
    "            rows_cols_code = question_rows_cols(orientation, size)\n",
    "            print(num_boats, boat_type, n, ORIENTATIONS_DICT[orientation][0], rows_cols_code)\n",
    "            boat = Boat(p, size, rows_cols_code)\n",
    "            #movement_right = validate_movement(p, rows_cols_code)\n",
    "            #if movement_right:\n",
    "            #    boat = Boat(p, size, rows_cols_code)\n",
    "            #    boat_lst.append(boat)\n",
    "            #else:\n",
    "            #    pass\n",
    "            #INIT_TABLE = [[WATER_CELL] * 10 for i in range(10)] "
   ]
  }
 ],
 "metadata": {
  "file_extension": ".py",
  "kernelspec": {
   "display_name": "Python 3",
   "language": "python",
   "name": "python3"
  },
  "language_info": {
   "codemirror_mode": {
    "name": "ipython",
    "version": 3
   },
   "file_extension": ".py",
   "mimetype": "text/x-python",
   "name": "python",
   "nbconvert_exporter": "python",
   "pygments_lexer": "ipython3",
   "version": "3.8.10"
  },
  "mimetype": "text/x-python",
  "name": "python",
  "npconvert_exporter": "python",
  "pygments_lexer": "ipython3",
  "version": 3
 },
 "nbformat": 4,
 "nbformat_minor": 4
}
